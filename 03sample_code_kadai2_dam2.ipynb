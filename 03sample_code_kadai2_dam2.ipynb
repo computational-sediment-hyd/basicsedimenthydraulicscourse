{
 "cells": [
  {
   "cell_type": "markdown",
   "id": "a15eec5c",
   "metadata": {},
   "source": [
    "1. ダム堆砂の計算\n",
    "単位幅流量：5.0 $\\mathrm{m^2/s}$、マニングの粗度係数：0.02、河床勾配：1/700、延長10kmの水路において、下流端の***水位***を12mとして以下について検討せよ。\n",
    "\n",
    "   2. 粒径：0.02 $\\mathrm{mm}$として1時間平衡流砂を続けた場合の河床変動を計算せよ。(下流端条件について留意)\n",
    "\n",
    "\n",
    "   ⇒ 下流端でも河床変動が生じるため、下流端水深を12-河床高と設定する。"
   ]
  },
  {
   "cell_type": "code",
   "execution_count": 1,
   "id": "705b44d1",
   "metadata": {},
   "outputs": [
    {
     "data": {
      "application/javascript": "(function(root) {\n  function now() {\n    return new Date();\n  }\n\n  var force = true;\n  var py_version = '3.4.1'.replace('rc', '-rc.').replace('.dev', '-dev.');\n  var reloading = false;\n  var Bokeh = root.Bokeh;\n\n  if (typeof (root._bokeh_timeout) === \"undefined\" || force) {\n    root._bokeh_timeout = Date.now() + 5000;\n    root._bokeh_failed_load = false;\n  }\n\n  function run_callbacks() {\n    try {\n      root._bokeh_onload_callbacks.forEach(function(callback) {\n        if (callback != null)\n          callback();\n      });\n    } finally {\n      delete root._bokeh_onload_callbacks;\n    }\n    console.debug(\"Bokeh: all callbacks have finished\");\n  }\n\n  function load_libs(css_urls, js_urls, js_modules, js_exports, callback) {\n    if (css_urls == null) css_urls = [];\n    if (js_urls == null) js_urls = [];\n    if (js_modules == null) js_modules = [];\n    if (js_exports == null) js_exports = {};\n\n    root._bokeh_onload_callbacks.push(callback);\n\n    if (root._bokeh_is_loading > 0) {\n      console.debug(\"Bokeh: BokehJS is being loaded, scheduling callback at\", now());\n      return null;\n    }\n    if (js_urls.length === 0 && js_modules.length === 0 && Object.keys(js_exports).length === 0) {\n      run_callbacks();\n      return null;\n    }\n    if (!reloading) {\n      console.debug(\"Bokeh: BokehJS not loaded, scheduling load and callback at\", now());\n    }\n\n    function on_load() {\n      root._bokeh_is_loading--;\n      if (root._bokeh_is_loading === 0) {\n        console.debug(\"Bokeh: all BokehJS libraries/stylesheets loaded\");\n        run_callbacks()\n      }\n    }\n    window._bokeh_on_load = on_load\n\n    function on_error() {\n      console.error(\"failed to load \" + url);\n    }\n\n    var skip = [];\n    if (window.requirejs) {\n      window.requirejs.config({'packages': {}, 'paths': {}, 'shim': {}});\n      root._bokeh_is_loading = css_urls.length + 0;\n    } else {\n      root._bokeh_is_loading = css_urls.length + js_urls.length + js_modules.length + Object.keys(js_exports).length;\n    }\n\n    var existing_stylesheets = []\n    var links = document.getElementsByTagName('link')\n    for (var i = 0; i < links.length; i++) {\n      var link = links[i]\n      if (link.href != null) {\n\texisting_stylesheets.push(link.href)\n      }\n    }\n    for (var i = 0; i < css_urls.length; i++) {\n      var url = css_urls[i];\n      if (existing_stylesheets.indexOf(url) !== -1) {\n\ton_load()\n\tcontinue;\n      }\n      const element = document.createElement(\"link\");\n      element.onload = on_load;\n      element.onerror = on_error;\n      element.rel = \"stylesheet\";\n      element.type = \"text/css\";\n      element.href = url;\n      console.debug(\"Bokeh: injecting link tag for BokehJS stylesheet: \", url);\n      document.body.appendChild(element);\n    }    var existing_scripts = []\n    var scripts = document.getElementsByTagName('script')\n    for (var i = 0; i < scripts.length; i++) {\n      var script = scripts[i]\n      if (script.src != null) {\n\texisting_scripts.push(script.src)\n      }\n    }\n    for (var i = 0; i < js_urls.length; i++) {\n      var url = js_urls[i];\n      if (skip.indexOf(url) !== -1 || existing_scripts.indexOf(url) !== -1) {\n\tif (!window.requirejs) {\n\t  on_load();\n\t}\n\tcontinue;\n      }\n      var element = document.createElement('script');\n      element.onload = on_load;\n      element.onerror = on_error;\n      element.async = false;\n      element.src = url;\n      console.debug(\"Bokeh: injecting script tag for BokehJS library: \", url);\n      document.head.appendChild(element);\n    }\n    for (var i = 0; i < js_modules.length; i++) {\n      var url = js_modules[i];\n      if (skip.indexOf(url) !== -1 || existing_scripts.indexOf(url) !== -1) {\n\tif (!window.requirejs) {\n\t  on_load();\n\t}\n\tcontinue;\n      }\n      var element = document.createElement('script');\n      element.onload = on_load;\n      element.onerror = on_error;\n      element.async = false;\n      element.src = url;\n      element.type = \"module\";\n      console.debug(\"Bokeh: injecting script tag for BokehJS library: \", url);\n      document.head.appendChild(element);\n    }\n    for (const name in js_exports) {\n      var url = js_exports[name];\n      if (skip.indexOf(url) >= 0 || root[name] != null) {\n\tif (!window.requirejs) {\n\t  on_load();\n\t}\n\tcontinue;\n      }\n      var element = document.createElement('script');\n      element.onerror = on_error;\n      element.async = false;\n      element.type = \"module\";\n      console.debug(\"Bokeh: injecting script tag for BokehJS library: \", url);\n      element.textContent = `\n      import ${name} from \"${url}\"\n      window.${name} = ${name}\n      window._bokeh_on_load()\n      `\n      document.head.appendChild(element);\n    }\n    if (!js_urls.length && !js_modules.length) {\n      on_load()\n    }\n  };\n\n  function inject_raw_css(css) {\n    const element = document.createElement(\"style\");\n    element.appendChild(document.createTextNode(css));\n    document.body.appendChild(element);\n  }\n\n  var js_urls = [\"https://cdn.bokeh.org/bokeh/release/bokeh-3.4.1.min.js\", \"https://cdn.bokeh.org/bokeh/release/bokeh-gl-3.4.1.min.js\", \"https://cdn.bokeh.org/bokeh/release/bokeh-widgets-3.4.1.min.js\", \"https://cdn.bokeh.org/bokeh/release/bokeh-tables-3.4.1.min.js\", \"https://cdn.holoviz.org/panel/1.4.4/dist/panel.min.js\"];\n  var js_modules = [];\n  var js_exports = {};\n  var css_urls = [];\n  var inline_js = [    function(Bokeh) {\n      Bokeh.set_log_level(\"info\");\n    },\nfunction(Bokeh) {} // ensure no trailing comma for IE\n  ];\n\n  function run_inline_js() {\n    if ((root.Bokeh !== undefined) || (force === true)) {\n      for (var i = 0; i < inline_js.length; i++) {\n\ttry {\n          inline_js[i].call(root, root.Bokeh);\n\t} catch(e) {\n\t  if (!reloading) {\n\t    throw e;\n\t  }\n\t}\n      }\n      // Cache old bokeh versions\n      if (Bokeh != undefined && !reloading) {\n\tvar NewBokeh = root.Bokeh;\n\tif (Bokeh.versions === undefined) {\n\t  Bokeh.versions = new Map();\n\t}\n\tif (NewBokeh.version !== Bokeh.version) {\n\t  Bokeh.versions.set(NewBokeh.version, NewBokeh)\n\t}\n\troot.Bokeh = Bokeh;\n      }} else if (Date.now() < root._bokeh_timeout) {\n      setTimeout(run_inline_js, 100);\n    } else if (!root._bokeh_failed_load) {\n      console.log(\"Bokeh: BokehJS failed to load within specified timeout.\");\n      root._bokeh_failed_load = true;\n    }\n    root._bokeh_is_initializing = false\n  }\n\n  function load_or_wait() {\n    // Implement a backoff loop that tries to ensure we do not load multiple\n    // versions of Bokeh and its dependencies at the same time.\n    // In recent versions we use the root._bokeh_is_initializing flag\n    // to determine whether there is an ongoing attempt to initialize\n    // bokeh, however for backward compatibility we also try to ensure\n    // that we do not start loading a newer (Panel>=1.0 and Bokeh>3) version\n    // before older versions are fully initialized.\n    if (root._bokeh_is_initializing && Date.now() > root._bokeh_timeout) {\n      root._bokeh_is_initializing = false;\n      root._bokeh_onload_callbacks = undefined;\n      console.log(\"Bokeh: BokehJS was loaded multiple times but one version failed to initialize.\");\n      load_or_wait();\n    } else if (root._bokeh_is_initializing || (typeof root._bokeh_is_initializing === \"undefined\" && root._bokeh_onload_callbacks !== undefined)) {\n      setTimeout(load_or_wait, 100);\n    } else {\n      root._bokeh_is_initializing = true\n      root._bokeh_onload_callbacks = []\n      var bokeh_loaded = Bokeh != null && (Bokeh.version === py_version || (Bokeh.versions !== undefined && Bokeh.versions.has(py_version)));\n      if (!reloading && !bokeh_loaded) {\n\troot.Bokeh = undefined;\n      }\n      load_libs(css_urls, js_urls, js_modules, js_exports, function() {\n\tconsole.debug(\"Bokeh: BokehJS plotting callback run at\", now());\n\trun_inline_js();\n      });\n    }\n  }\n  // Give older versions of the autoload script a head-start to ensure\n  // they initialize before we start loading newer version.\n  setTimeout(load_or_wait, 100)\n}(window));",
      "application/vnd.holoviews_load.v0+json": ""
     },
     "metadata": {},
     "output_type": "display_data"
    },
    {
     "data": {
      "application/javascript": "\nif ((window.PyViz === undefined) || (window.PyViz instanceof HTMLElement)) {\n  window.PyViz = {comms: {}, comm_status:{}, kernels:{}, receivers: {}, plot_index: []}\n}\n\n\n    function JupyterCommManager() {\n    }\n\n    JupyterCommManager.prototype.register_target = function(plot_id, comm_id, msg_handler) {\n      if (window.comm_manager || ((window.Jupyter !== undefined) && (Jupyter.notebook.kernel != null))) {\n        var comm_manager = window.comm_manager || Jupyter.notebook.kernel.comm_manager;\n        comm_manager.register_target(comm_id, function(comm) {\n          comm.on_msg(msg_handler);\n        });\n      } else if ((plot_id in window.PyViz.kernels) && (window.PyViz.kernels[plot_id])) {\n        window.PyViz.kernels[plot_id].registerCommTarget(comm_id, function(comm) {\n          comm.onMsg = msg_handler;\n        });\n      } else if (typeof google != 'undefined' && google.colab.kernel != null) {\n        google.colab.kernel.comms.registerTarget(comm_id, (comm) => {\n          var messages = comm.messages[Symbol.asyncIterator]();\n          function processIteratorResult(result) {\n            var message = result.value;\n            console.log(message)\n            var content = {data: message.data, comm_id};\n            var buffers = []\n            for (var buffer of message.buffers || []) {\n              buffers.push(new DataView(buffer))\n            }\n            var metadata = message.metadata || {};\n            var msg = {content, buffers, metadata}\n            msg_handler(msg);\n            return messages.next().then(processIteratorResult);\n          }\n          return messages.next().then(processIteratorResult);\n        })\n      }\n    }\n\n    JupyterCommManager.prototype.get_client_comm = function(plot_id, comm_id, msg_handler) {\n      if (comm_id in window.PyViz.comms) {\n        return window.PyViz.comms[comm_id];\n      } else if (window.comm_manager || ((window.Jupyter !== undefined) && (Jupyter.notebook.kernel != null))) {\n        var comm_manager = window.comm_manager || Jupyter.notebook.kernel.comm_manager;\n        var comm = comm_manager.new_comm(comm_id, {}, {}, {}, comm_id);\n        if (msg_handler) {\n          comm.on_msg(msg_handler);\n        }\n      } else if ((plot_id in window.PyViz.kernels) && (window.PyViz.kernels[plot_id])) {\n        var comm = window.PyViz.kernels[plot_id].connectToComm(comm_id);\n        comm.open();\n        if (msg_handler) {\n          comm.onMsg = msg_handler;\n        }\n      } else if (typeof google != 'undefined' && google.colab.kernel != null) {\n        var comm_promise = google.colab.kernel.comms.open(comm_id)\n        comm_promise.then((comm) => {\n          window.PyViz.comms[comm_id] = comm;\n          if (msg_handler) {\n            var messages = comm.messages[Symbol.asyncIterator]();\n            function processIteratorResult(result) {\n              var message = result.value;\n              var content = {data: message.data};\n              var metadata = message.metadata || {comm_id};\n              var msg = {content, metadata}\n              msg_handler(msg);\n              return messages.next().then(processIteratorResult);\n            }\n            return messages.next().then(processIteratorResult);\n          }\n        }) \n        var sendClosure = (data, metadata, buffers, disposeOnDone) => {\n          return comm_promise.then((comm) => {\n            comm.send(data, metadata, buffers, disposeOnDone);\n          });\n        };\n        var comm = {\n          send: sendClosure\n        };\n      }\n      window.PyViz.comms[comm_id] = comm;\n      return comm;\n    }\n    window.PyViz.comm_manager = new JupyterCommManager();\n    \n\n\nvar JS_MIME_TYPE = 'application/javascript';\nvar HTML_MIME_TYPE = 'text/html';\nvar EXEC_MIME_TYPE = 'application/vnd.holoviews_exec.v0+json';\nvar CLASS_NAME = 'output';\n\n/**\n * Render data to the DOM node\n */\nfunction render(props, node) {\n  var div = document.createElement(\"div\");\n  var script = document.createElement(\"script\");\n  node.appendChild(div);\n  node.appendChild(script);\n}\n\n/**\n * Handle when a new output is added\n */\nfunction handle_add_output(event, handle) {\n  var output_area = handle.output_area;\n  var output = handle.output;\n  if ((output.data == undefined) || (!output.data.hasOwnProperty(EXEC_MIME_TYPE))) {\n    return\n  }\n  var id = output.metadata[EXEC_MIME_TYPE][\"id\"];\n  var toinsert = output_area.element.find(\".\" + CLASS_NAME.split(' ')[0]);\n  if (id !== undefined) {\n    var nchildren = toinsert.length;\n    var html_node = toinsert[nchildren-1].children[0];\n    html_node.innerHTML = output.data[HTML_MIME_TYPE];\n    var scripts = [];\n    var nodelist = html_node.querySelectorAll(\"script\");\n    for (var i in nodelist) {\n      if (nodelist.hasOwnProperty(i)) {\n        scripts.push(nodelist[i])\n      }\n    }\n\n    scripts.forEach( function (oldScript) {\n      var newScript = document.createElement(\"script\");\n      var attrs = [];\n      var nodemap = oldScript.attributes;\n      for (var j in nodemap) {\n        if (nodemap.hasOwnProperty(j)) {\n          attrs.push(nodemap[j])\n        }\n      }\n      attrs.forEach(function(attr) { newScript.setAttribute(attr.name, attr.value) });\n      newScript.appendChild(document.createTextNode(oldScript.innerHTML));\n      oldScript.parentNode.replaceChild(newScript, oldScript);\n    });\n    if (JS_MIME_TYPE in output.data) {\n      toinsert[nchildren-1].children[1].textContent = output.data[JS_MIME_TYPE];\n    }\n    output_area._hv_plot_id = id;\n    if ((window.Bokeh !== undefined) && (id in Bokeh.index)) {\n      window.PyViz.plot_index[id] = Bokeh.index[id];\n    } else {\n      window.PyViz.plot_index[id] = null;\n    }\n  } else if (output.metadata[EXEC_MIME_TYPE][\"server_id\"] !== undefined) {\n    var bk_div = document.createElement(\"div\");\n    bk_div.innerHTML = output.data[HTML_MIME_TYPE];\n    var script_attrs = bk_div.children[0].attributes;\n    for (var i = 0; i < script_attrs.length; i++) {\n      toinsert[toinsert.length - 1].childNodes[1].setAttribute(script_attrs[i].name, script_attrs[i].value);\n    }\n    // store reference to server id on output_area\n    output_area._bokeh_server_id = output.metadata[EXEC_MIME_TYPE][\"server_id\"];\n  }\n}\n\n/**\n * Handle when an output is cleared or removed\n */\nfunction handle_clear_output(event, handle) {\n  var id = handle.cell.output_area._hv_plot_id;\n  var server_id = handle.cell.output_area._bokeh_server_id;\n  if (((id === undefined) || !(id in PyViz.plot_index)) && (server_id !== undefined)) { return; }\n  var comm = window.PyViz.comm_manager.get_client_comm(\"hv-extension-comm\", \"hv-extension-comm\", function () {});\n  if (server_id !== null) {\n    comm.send({event_type: 'server_delete', 'id': server_id});\n    return;\n  } else if (comm !== null) {\n    comm.send({event_type: 'delete', 'id': id});\n  }\n  delete PyViz.plot_index[id];\n  if ((window.Bokeh !== undefined) & (id in window.Bokeh.index)) {\n    var doc = window.Bokeh.index[id].model.document\n    doc.clear();\n    const i = window.Bokeh.documents.indexOf(doc);\n    if (i > -1) {\n      window.Bokeh.documents.splice(i, 1);\n    }\n  }\n}\n\n/**\n * Handle kernel restart event\n */\nfunction handle_kernel_cleanup(event, handle) {\n  delete PyViz.comms[\"hv-extension-comm\"];\n  window.PyViz.plot_index = {}\n}\n\n/**\n * Handle update_display_data messages\n */\nfunction handle_update_output(event, handle) {\n  handle_clear_output(event, {cell: {output_area: handle.output_area}})\n  handle_add_output(event, handle)\n}\n\nfunction register_renderer(events, OutputArea) {\n  function append_mime(data, metadata, element) {\n    // create a DOM node to render to\n    var toinsert = this.create_output_subarea(\n    metadata,\n    CLASS_NAME,\n    EXEC_MIME_TYPE\n    );\n    this.keyboard_manager.register_events(toinsert);\n    // Render to node\n    var props = {data: data, metadata: metadata[EXEC_MIME_TYPE]};\n    render(props, toinsert[0]);\n    element.append(toinsert);\n    return toinsert\n  }\n\n  events.on('output_added.OutputArea', handle_add_output);\n  events.on('output_updated.OutputArea', handle_update_output);\n  events.on('clear_output.CodeCell', handle_clear_output);\n  events.on('delete.Cell', handle_clear_output);\n  events.on('kernel_ready.Kernel', handle_kernel_cleanup);\n\n  OutputArea.prototype.register_mime_type(EXEC_MIME_TYPE, append_mime, {\n    safe: true,\n    index: 0\n  });\n}\n\nif (window.Jupyter !== undefined) {\n  try {\n    var events = require('base/js/events');\n    var OutputArea = require('notebook/js/outputarea').OutputArea;\n    if (OutputArea.prototype.mime_types().indexOf(EXEC_MIME_TYPE) == -1) {\n      register_renderer(events, OutputArea);\n    }\n  } catch(err) {\n  }\n}\n",
      "application/vnd.holoviews_load.v0+json": ""
     },
     "metadata": {},
     "output_type": "display_data"
    },
    {
     "data": {
      "text/html": [
       "<style>*[data-root-id],\n",
       "*[data-root-id] > * {\n",
       "  box-sizing: border-box;\n",
       "  font-family: var(--jp-ui-font-family);\n",
       "  font-size: var(--jp-ui-font-size1);\n",
       "  color: var(--vscode-editor-foreground, var(--jp-ui-font-color1));\n",
       "}\n",
       "\n",
       "/* Override VSCode background color */\n",
       ".cell-output-ipywidget-background:has(\n",
       "    > .cell-output-ipywidget-background > .lm-Widget > *[data-root-id]\n",
       "  ),\n",
       ".cell-output-ipywidget-background:has(> .lm-Widget > *[data-root-id]) {\n",
       "  background-color: transparent !important;\n",
       "}\n",
       "</style>"
      ]
     },
     "metadata": {},
     "output_type": "display_data"
    },
    {
     "data": {
      "application/vnd.holoviews_exec.v0+json": "",
      "text/html": [
       "<div id='p1002'>\n",
       "  <div id=\"e831d104-468c-4e35-92cc-7c902862f4e3\" data-root-id=\"p1002\" style=\"display: contents;\"></div>\n",
       "</div>\n",
       "<script type=\"application/javascript\">(function(root) {\n",
       "  var docs_json = {\"a622f291-a90b-49cc-a6ed-2f459e253d4d\":{\"version\":\"3.4.1\",\"title\":\"Bokeh Application\",\"roots\":[{\"type\":\"object\",\"name\":\"panel.models.browser.BrowserInfo\",\"id\":\"p1002\"},{\"type\":\"object\",\"name\":\"panel.models.comm_manager.CommManager\",\"id\":\"p1003\",\"attributes\":{\"plot_id\":\"p1002\",\"comm_id\":\"35c7592702ec45159ca5667fb19d2020\",\"client_comm_id\":\"11b486d6ca6f41e882caa8d7af8759a2\"}}],\"defs\":[{\"type\":\"model\",\"name\":\"ReactiveHTML1\"},{\"type\":\"model\",\"name\":\"FlexBox1\",\"properties\":[{\"name\":\"align_content\",\"kind\":\"Any\",\"default\":\"flex-start\"},{\"name\":\"align_items\",\"kind\":\"Any\",\"default\":\"flex-start\"},{\"name\":\"flex_direction\",\"kind\":\"Any\",\"default\":\"row\"},{\"name\":\"flex_wrap\",\"kind\":\"Any\",\"default\":\"wrap\"},{\"name\":\"gap\",\"kind\":\"Any\",\"default\":\"\"},{\"name\":\"justify_content\",\"kind\":\"Any\",\"default\":\"flex-start\"}]},{\"type\":\"model\",\"name\":\"FloatPanel1\",\"properties\":[{\"name\":\"config\",\"kind\":\"Any\",\"default\":{\"type\":\"map\"}},{\"name\":\"contained\",\"kind\":\"Any\",\"default\":true},{\"name\":\"position\",\"kind\":\"Any\",\"default\":\"right-top\"},{\"name\":\"offsetx\",\"kind\":\"Any\",\"default\":null},{\"name\":\"offsety\",\"kind\":\"Any\",\"default\":null},{\"name\":\"theme\",\"kind\":\"Any\",\"default\":\"primary\"},{\"name\":\"status\",\"kind\":\"Any\",\"default\":\"normalized\"}]},{\"type\":\"model\",\"name\":\"GridStack1\",\"properties\":[{\"name\":\"mode\",\"kind\":\"Any\",\"default\":\"warn\"},{\"name\":\"ncols\",\"kind\":\"Any\",\"default\":null},{\"name\":\"nrows\",\"kind\":\"Any\",\"default\":null},{\"name\":\"allow_resize\",\"kind\":\"Any\",\"default\":true},{\"name\":\"allow_drag\",\"kind\":\"Any\",\"default\":true},{\"name\":\"state\",\"kind\":\"Any\",\"default\":[]}]},{\"type\":\"model\",\"name\":\"drag1\",\"properties\":[{\"name\":\"slider_width\",\"kind\":\"Any\",\"default\":5},{\"name\":\"slider_color\",\"kind\":\"Any\",\"default\":\"black\"},{\"name\":\"value\",\"kind\":\"Any\",\"default\":50}]},{\"type\":\"model\",\"name\":\"click1\",\"properties\":[{\"name\":\"terminal_output\",\"kind\":\"Any\",\"default\":\"\"},{\"name\":\"debug_name\",\"kind\":\"Any\",\"default\":\"\"},{\"name\":\"clears\",\"kind\":\"Any\",\"default\":0}]},{\"type\":\"model\",\"name\":\"FastWrapper1\",\"properties\":[{\"name\":\"object\",\"kind\":\"Any\",\"default\":null},{\"name\":\"style\",\"kind\":\"Any\",\"default\":null}]},{\"type\":\"model\",\"name\":\"NotificationAreaBase1\",\"properties\":[{\"name\":\"js_events\",\"kind\":\"Any\",\"default\":{\"type\":\"map\"}},{\"name\":\"position\",\"kind\":\"Any\",\"default\":\"bottom-right\"},{\"name\":\"_clear\",\"kind\":\"Any\",\"default\":0}]},{\"type\":\"model\",\"name\":\"NotificationArea1\",\"properties\":[{\"name\":\"js_events\",\"kind\":\"Any\",\"default\":{\"type\":\"map\"}},{\"name\":\"notifications\",\"kind\":\"Any\",\"default\":[]},{\"name\":\"position\",\"kind\":\"Any\",\"default\":\"bottom-right\"},{\"name\":\"_clear\",\"kind\":\"Any\",\"default\":0},{\"name\":\"types\",\"kind\":\"Any\",\"default\":[{\"type\":\"map\",\"entries\":[[\"type\",\"warning\"],[\"background\",\"#ffc107\"],[\"icon\",{\"type\":\"map\",\"entries\":[[\"className\",\"fas fa-exclamation-triangle\"],[\"tagName\",\"i\"],[\"color\",\"white\"]]}]]},{\"type\":\"map\",\"entries\":[[\"type\",\"info\"],[\"background\",\"#007bff\"],[\"icon\",{\"type\":\"map\",\"entries\":[[\"className\",\"fas fa-info-circle\"],[\"tagName\",\"i\"],[\"color\",\"white\"]]}]]}]}]},{\"type\":\"model\",\"name\":\"Notification\",\"properties\":[{\"name\":\"background\",\"kind\":\"Any\",\"default\":null},{\"name\":\"duration\",\"kind\":\"Any\",\"default\":3000},{\"name\":\"icon\",\"kind\":\"Any\",\"default\":null},{\"name\":\"message\",\"kind\":\"Any\",\"default\":\"\"},{\"name\":\"notification_type\",\"kind\":\"Any\",\"default\":null},{\"name\":\"_destroyed\",\"kind\":\"Any\",\"default\":false}]},{\"type\":\"model\",\"name\":\"TemplateActions1\",\"properties\":[{\"name\":\"open_modal\",\"kind\":\"Any\",\"default\":0},{\"name\":\"close_modal\",\"kind\":\"Any\",\"default\":0}]},{\"type\":\"model\",\"name\":\"BootstrapTemplateActions1\",\"properties\":[{\"name\":\"open_modal\",\"kind\":\"Any\",\"default\":0},{\"name\":\"close_modal\",\"kind\":\"Any\",\"default\":0}]},{\"type\":\"model\",\"name\":\"TemplateEditor1\",\"properties\":[{\"name\":\"layout\",\"kind\":\"Any\",\"default\":[]}]},{\"type\":\"model\",\"name\":\"MaterialTemplateActions1\",\"properties\":[{\"name\":\"open_modal\",\"kind\":\"Any\",\"default\":0},{\"name\":\"close_modal\",\"kind\":\"Any\",\"default\":0}]},{\"type\":\"model\",\"name\":\"copy_to_clipboard1\",\"properties\":[{\"name\":\"fill\",\"kind\":\"Any\",\"default\":\"none\"},{\"name\":\"value\",\"kind\":\"Any\",\"default\":null}]}]}};\n",
       "  var render_items = [{\"docid\":\"a622f291-a90b-49cc-a6ed-2f459e253d4d\",\"roots\":{\"p1002\":\"e831d104-468c-4e35-92cc-7c902862f4e3\"},\"root_ids\":[\"p1002\"]}];\n",
       "  var docs = Object.values(docs_json)\n",
       "  if (!docs) {\n",
       "    return\n",
       "  }\n",
       "  const py_version = docs[0].version.replace('rc', '-rc.').replace('.dev', '-dev.')\n",
       "  async function embed_document(root) {\n",
       "    var Bokeh = get_bokeh(root)\n",
       "    await Bokeh.embed.embed_items_notebook(docs_json, render_items);\n",
       "    for (const render_item of render_items) {\n",
       "      for (const root_id of render_item.root_ids) {\n",
       "\tconst id_el = document.getElementById(root_id)\n",
       "\tif (id_el.children.length && id_el.children[0].hasAttribute('data-root-id')) {\n",
       "\t  const root_el = id_el.children[0]\n",
       "\t  root_el.id = root_el.id + '-rendered'\n",
       "\t  for (const child of root_el.children) {\n",
       "            // Ensure JupyterLab does not capture keyboard shortcuts\n",
       "            // see: https://jupyterlab.readthedocs.io/en/4.1.x/extension/notebook.html#keyboard-interaction-model\n",
       "\t    child.setAttribute('data-lm-suppress-shortcuts', 'true')\n",
       "\t  }\n",
       "\t}\n",
       "      }\n",
       "    }\n",
       "  }\n",
       "  function get_bokeh(root) {\n",
       "    if (root.Bokeh === undefined) {\n",
       "      return null\n",
       "    } else if (root.Bokeh.version !== py_version) {\n",
       "      if (root.Bokeh.versions === undefined || !root.Bokeh.versions.has(py_version)) {\n",
       "\treturn null\n",
       "      }\n",
       "      return root.Bokeh.versions.get(py_version);\n",
       "    } else if (root.Bokeh.version === py_version) {\n",
       "      return root.Bokeh\n",
       "    }\n",
       "    return null\n",
       "  }\n",
       "  function is_loaded(root) {\n",
       "    var Bokeh = get_bokeh(root)\n",
       "    return (Bokeh != null && Bokeh.Panel !== undefined)\n",
       "  }\n",
       "  if (is_loaded(root)) {\n",
       "    embed_document(root);\n",
       "  } else {\n",
       "    var attempts = 0;\n",
       "    var timer = setInterval(function(root) {\n",
       "      if (is_loaded(root)) {\n",
       "        clearInterval(timer);\n",
       "        embed_document(root);\n",
       "      } else if (document.readyState == \"complete\") {\n",
       "        attempts++;\n",
       "        if (attempts > 200) {\n",
       "          clearInterval(timer);\n",
       "\t  var Bokeh = get_bokeh(root)\n",
       "\t  if (Bokeh == null || Bokeh.Panel == null) {\n",
       "            console.warn(\"Panel: ERROR: Unable to run Panel code because Bokeh or Panel library is missing\");\n",
       "\t  } else {\n",
       "\t    console.warn(\"Panel: WARNING: Attempting to render but not all required libraries could be resolved.\")\n",
       "\t    embed_document(root)\n",
       "\t  }\n",
       "        }\n",
       "      }\n",
       "    }, 25, root)\n",
       "  }\n",
       "})(window);</script>"
      ]
     },
     "metadata": {
      "application/vnd.holoviews_exec.v0+json": {
       "id": "p1002"
      }
     },
     "output_type": "display_data"
    },
    {
     "data": {
      "text/html": [
       "\n",
       "<div class=\"logo-block\">\n",
       "<img src='data:image/png;base64,iVBORw0KGgoAAAANSUhEUgAAAEAAAABACAYAAACqaXHeAAAABHNCSVQICAgIfAhkiAAAAAlwSFlz\n",
       "AAAB+wAAAfsBxc2miwAAABl0RVh0U29mdHdhcmUAd3d3Lmlua3NjYXBlLm9yZ5vuPBoAAA6zSURB\n",
       "VHic7ZtpeFRVmsf/5966taWqUlUJ2UioBBJiIBAwCZtog9IOgjqACsogKtqirT2ttt069nQ/zDzt\n",
       "tI4+CrJIREFaFgWhBXpUNhHZQoKBkIUASchWla1S+3ar7r1nPkDaCAnZKoQP/D7mnPOe9/xy76n3\n",
       "nFSAW9ziFoPFNED2LLK5wcyBDObkb8ZkxuaoSYlI6ZcOKq1eWFdedqNzGHQBk9RMEwFAASkk0Xw3\n",
       "ETacDNi2vtvc7L0ROdw0AjoSotQVkKSvHQz/wRO1lScGModBFbDMaNRN1A4tUBCS3lk7BWhQkgpD\n",
       "lG4852/+7DWr1R3uHAZVQDsbh6ZPN7CyxUrCzJMRouusj0ipRwD2uKm0Zn5d2dFwzX1TCGhnmdGo\n",
       "G62Nna+isiUqhkzuKrkQaJlPEv5mFl2fvGg2t/VnzkEV8F5ioioOEWkLG86fvbpthynjdhXYZziQ\n",
       "x1hC9J2NFyi8vCTt91Fh04KGip0AaG9zuCk2wQCVyoNU3Hjezee9bq92duzzTmxsRJoy+jEZZZYo\n",
       "GTKJ6SJngdJqAfRzpze0+jHreUtPc7gpBLQnIYK6BYp/uGhw9YK688eu7v95ysgshcg9qSLMo3JC\n",
       "4jqLKQFBgdKDPoQ+Pltb8dUyQLpeDjeVgI6EgLIQFT5tEl3rn2losHVsexbZ3EyT9wE1uGdkIPcy\n",
       "BGxn8QUq1QrA5nqW5i2tLqvrrM9NK6AdkVIvL9E9bZL/oyfMVd/jqvc8LylzRBKDJSzIExwhQzuL\n",
       "QYGQj4rHfFTc8mUdu3E7yoLtbTe9gI4EqVgVkug2i5+uXGo919ixbRog+3fTbQ8qJe4ZOYNfMoTI\n",
       "OoshUNosgO60AisX15aeI2PSIp5KiFLI9ubb1vV3Qb2ltwLakUCDAkWX7/nHKRmmGIl9VgYsUhJm\n",
       "2NXjKYADtM1ygne9QQDIXlk49FBstMKx66D1v4+XuQr7vqTe0VcBHQlRWiOCbmmSYe2SqtL6q5rJ\n",
       "zsTb7lKx3FKOYC4DoqyS/B5bvLPxvD9Qtf6saxYLQGJErmDOdOMr/zo96km1nElr8bmPOBwI9COv\n",
       "HnFPRIwmkSOv9kcAS4heRsidOkpeWBgZM+UBrTFAXNYL5Vf2ii9c1trNzpYdaoVil3WIc+wdk+gQ\n",
       "noie3ecCcxt9ITcLAPWt/laGEO/9U6PmzZkenTtsSMQ8uYywJVW+grCstAvCIaAdArAsIWkRDDs/\n",
       "KzLm2YcjY1Lv0UdW73HabE9n6V66cxSzfEmuJssTpKGVp+0vHq73FwL46eOjpMpbRAnNmJFrGJNu\n",
       "Ukf9Yrz+3rghiumCKNXXWPhLYcjxGsIpoCMsIRoFITkW8AuyM8jC1+/QLx4bozCEJIq38+1rtpR6\n",
       "V/yzb8eBlRb3fo5l783N0CWolAzJHaVNzkrTzlEp2bQ2q3TC5gn6wpnoQAmwSiGh2GitnTmVMc5O\n",
       "UyfKWUKCIsU7+fZDKwqdT6DDpvkzAX4/+AMFjk0tDp5GRXLpQ2MUmhgDp5gxQT8+Y7hyPsMi8uxF\n",
       "71H0oebujHALECjFKaW9Lm68n18wXp2kVzIcABytD5iXFzg+WVXkegpAsOOYziqo0OkK76GyquC3\n",
       "ltZAzMhhqlSNmmWTE5T6e3IN05ITFLM4GdN0vtZ3ob8Jh1NAKXFbm5PtLU/eqTSlGjkNAJjdgn/N\n",
       "aedXa0tdi7+t9G0FIF49rtMSEgAs1kDLkTPO7ebm4IUWeyh1bKomXqlgMG6kJmHcSM0clYLJ8XtR\n",
       "1GTnbV3F6I5wCGikAb402npp1h1s7LQUZZSMIfALFOuL3UUrfnS8+rez7v9qcold5tilgHbO1fjK\n",
       "9ubb17u9oshxzMiUBKXWqJNxd+fqb0tLVs4lILFnK71H0Ind7uiPgACVcFJlrb0tV6DzxqqTIhUM\n",
       "CwDf1/rrVhTa33/3pGPxJYdQ2l2cbgVcQSosdx8uqnDtbGjh9SlDVSMNWhlnilfqZk42Th2ZpLpf\n",
       "xrHec5e815zrr0dfBZSwzkZfqsv+1FS1KUknUwPARVvItfKUY+cn57yP7qv07UE3p8B2uhUwLk09\n",
       "e0SCOrK+hbdYHYLjRIl71wWzv9jpEoeOHhGRrJAzyEyNiJuUqX0g2sBN5kGK6y2Blp5M3lsB9Qh4\n",
       "y2Ja6x6+i0ucmKgwMATwhSjdUu49tKrQ/pvN5d53ml2CGwCmJipmKjgmyuaXzNeL2a0AkQ01Th5j\n",
       "2DktO3Jyk8f9vcOBQHV94OK+fPumJmvQHxJoWkaKWq9Vs+yUsbq0zGT1I4RgeH2b5wef7+c7bl8F\n",
       "eKgoHVVZa8ZPEORzR6sT1BzDUAD/d9F78e2Tzv99v8D+fLVTqAKAsbGamKey1Mt9Ann4eH3gTXTz\n",
       "idWtAJ8PQWOk7NzSeQn/OTHDuEikVF1R4z8BQCy+6D1aWRfY0tTGG2OM8rRoPaeIj5ZHzJxszElN\n",
       "VM8K8JS5WOfv8mzRnQAKoEhmt8gyPM4lU9SmBK1MCQBnW4KONT86v1hZ1PbwSXPw4JWussVjtH9Y\n",
       "NCoiL9UoH/6PSu8jFrfY2t36erQHXLIEakMi1SydmzB31h3GGXFDFNPaK8Rme9B79Ixrd0WN+1ij\n",
       "NRQ/doRmuFLBkHSTOm5GruG+pFjFdAmorG4IXH1Qua6ASniclfFtDYt+oUjKipPrCQB7QBQ2lrgP\n",
       "fFzm+9XWUtcqJ3/5vDLDpJ79XHZk3u8nGZ42qlj1+ydtbxysCezrydp6ugmipNJ7WBPB5tydY0jP\n",
       "HaVNzs3QzeE4ZpTbI+ZbnSFPbVOw9vsfnVvqWnirPyCNGD08IlqtYkh2hjZ5dErEQzoNm+6ykyOt\n",
       "Lt5/PQEuSRRKo22VkydK+vvS1XEKlhCJAnsqvcVvH7f/ZU2R67eXbMEGAMiIV5oWZWiWvz5Fv2xG\n",
       "sjqNJQRvn3Rs2lji/lNP19VjAQDgD7FHhujZB9OGqYxRkZxixgRDVlqS6uEOFaJUVu0rPFzctrnF\n",
       "JqijImVp8dEKVWyUXDk92zAuMZ6bFwpBU1HrOw6AdhQgUooChb0+ItMbWJitSo5Ws3IAOGEOtL53\n",
       "0vHZih9sC4vtofZ7Qu6523V/fmGcds1TY3V36pUsBwAbSlxnVh2xLfAD/IAIMDf7XYIkNmXfpp2l\n",
       "18rkAJAy9HKFaIr/qULkeQQKy9zf1JgDB2uaeFNGijo5QsUyacNUUTOnGO42xSnv4oOwpDi1zYkc\n",
       "efUc3I5Gk6PhyTuVKaOGyLUAYPGIoY9Pu/atL/L92+4q9wbflRJ2Trpm/jPjdBtfnqB/dIThcl8A\n",
       "KG7hbRuKnb8qsQsVvVlTrwQAQMUlf3kwJI24Z4JhPMtcfng5GcH49GsrxJpGvvHIaeem2ma+KSjQ\n",
       "lIwUdYyCY8j4dE1KzijNnIP2llF2wcXNnsoapw9XxsgYAl6k+KzUXbi2yP3KR2ecf6z3BFsBICdW\n",
       "nvnIaG3eHybqX7vbpEqUMT+9OL4Qpe8VON7dXuFd39v19FoAABRVePbGGuXTszO0P7tu6lghUonE\n",
       "llRdrhArLvmKdh9u29jcFiRRkfLUxBiFNiqSU9icoZQHo5mYBI1MBgBH6wMNb+U7Pnw337H4gi1Y\n",
       "ciWs+uks3Z9fztUvfzxTm9Ne8XXkvQLHNytOOZeiD4e0PgkAIAYCYknKUNUDSXEKzdWNpnil7r4p\n",
       "xqkjTarZMtk/K8TQ6Qve78qqvXurGwIJqcOUKfUWHsm8KGvxSP68YudXq4pcj39X49uOK2X142O0\n",
       "Tz5/u/7TVybqH0rSya6ZBwD21/gubbrgWdDgEOx9WUhfBaC2ibcEBYm7a7x+ukrBMNcEZggyR0TE\n",
       "T8zUPjikQ4VosQZbTpS4vqizBKvqmvjsqnpfzaZyx9JPiz1/bfGKdgD45XB1zoIMzYbfTdS/NClB\n",
       "Gct0USiY3YL/g0LHy/uq/Ef6uo5+n0R/vyhp17Klpge763f8rMu6YU/zrn2nml+2WtH+Z+5IAAFc\n",
       "2bUTdTDOSNa9+cQY7YLsOIXhevEkCvzph7a8laecz/Un/z4/Ae04XeL3UQb57IwU9ZDr9UuKVajv\n",
       "nxp1+1UVIo/LjztZkKH59fO3G/JemqCfmaCRqbqbd90ZZ8FfjtkfAyD0J/9+C2h1hDwsSxvGjNDc\n",
       "b4zk5NfrSwiQblLHzZhg+Jf4aPlUwpDqkQqa9nimbt1/TDH8OitGMaQnj+RJS6B1fbF7SY1TqO5v\n",
       "/v0WAADl1f7zokgS7s7VT2DZ7pegUjBM7mjtiDZbcN4j0YrHH0rXpCtY0qPX0cVL0rv5jv/ZXend\n",
       "0u/EESYBAFBU4T4Qa5TflZOhTe7pmKpaP8kCVUVw1+yhXfJWvn1P3hnXi33JsTN6PnP3hHZ8Z3/h\n",
       "aLHzmkNPuPj7Bc/F/Q38CwjTpSwQXgE4Vmwry9tpfq/ZFgqFMy4AVDtCvi8rvMvOmv0N4YwbVgEA\n",
       "sPM72/KVnzfspmH7HQGCRLG2yL1+z8XwvPcdCbsAANh+xPzstgMtxeGKt+6MK3/tacfvwhWvIwMi\n",
       "oKEBtm0H7W+UVfkc/Y1V0BhoPlDr/w1w/eu1vjIgAgDg22OtX6/eYfnEz/focrZTHAFR+PSs56/7\n",
       "q32nwpjazxgwAQCwcU/T62t3WL7r6/jVRa6/byp1rei+Z98ZUAEAhEPHPc8fKnTU9nbgtnOe8h0l\n",
       "9hcGIqmODLQAHCy2Xti6v/XNRivf43f4fFvIteu854+VHnR7q9tfBlwAAGz+pnndB9vM26UebAe8\n",
       "SLHujPOTPVW+rwY+sxskAAC2HrA8t2Vvc7ffP1r9o+vwR2dcr92InIAbKKC1FZ5tB1tf+/G8p8sv\n",
       "N/9Q5zd/XR34LYCwV5JdccMEAMDBk45DH243r/X4xGvqxFa/GNpS7n6rwOwNWwHVE26oAADYurf1\n",
       "zx/utOzt+DMKYM0p17YtZZ5VNzqfsB2HewG1WXE8PoZ7gOclbTIvynZf9JV+fqZtfgs/8F/Nu5rB\n",
       "EIBmJ+8QRMmpU7EzGRsf2FzuePqYRbzh/zE26EwdrT10f6r6o8HOYzCJB9Dpff8tbnGLG8L/A/WE\n",
       "roTBs2RqAAAAAElFTkSuQmCC'\n",
       "     style='height:25px; border-radius:12px; display: inline-block; float: left; vertical-align: middle'></img>\n",
       "\n",
       "\n",
       "  <img src='data:image/png;base64,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'\n",
       "       style='height:15px; border-radius:12px; display: inline-block; float: left'></img>\n",
       "  \n",
       "\n",
       "\n",
       "\n",
       "\n",
       "</div>\n"
      ]
     },
     "metadata": {},
     "output_type": "display_data"
    }
   ],
   "source": [
    "import numpy as np\n",
    "from numba import jit #関数の高速化のライブラリ\n",
    "# 図化用のライブラリ matplotlibでも良い\n",
    "import holoviews as hv\n",
    "hv.extension('bokeh')"
   ]
  },
  {
   "cell_type": "markdown",
   "id": "0995d575",
   "metadata": {},
   "source": [
    "## 不等流計算"
   ]
  },
  {
   "cell_type": "code",
   "execution_count": 2,
   "id": "d6458b67",
   "metadata": {},
   "outputs": [],
   "source": [
    "@jit(nopython=True, parallel=False) # 高速化：デバッグ時は使わない方が良い\n",
    "def nonuniformflow(q, hDB, zb, dx, manning, g=float(9.8)):\n",
    "    h = np.zeros_like(zb) #水深の配列\n",
    "    h[0] = hDB #下流端条件\n",
    "\n",
    "    for i in range(1,len(h)):\n",
    "    # newton法による反復計算\n",
    "        # h[i] = h[i-1] + zb[i-1] - zb[i]#収束計算の初期値：一つ下流側の断面の水深\n",
    "        # f = 1.0 #仮値\n",
    "        # dfdh = 1.0 #仮値\n",
    "        # while np.abs(f/dfdh) > 10**(-8): # 反復計算の収束条件\n",
    "        #     f = q**2/2.0/g/h[i]**2 + h[i] + zb[i] \\\n",
    "        #       -(q**2/2.0/g/h[i-1]**2 + h[i-1] + zb[i-1]) \\\n",
    "        #       - 0.5*(q**2*manning**2/h[i]**(10/3) + q**2*manning**2/h[i-1]**(10/3))*dx\n",
    "        #     dfdh = -q**2/g/h[i]**3 + 1 + 5/3*q**2*manning**2/h[i]**(13/3)*dx\n",
    "        #     h[i] -= f/dfdh\n",
    "\n",
    "    # 二分法による反復計算 : hcから徐々に上げていく\n",
    "        hc = (q**2/g)**(1/3) # 限界水深 \n",
    "        hp = hc\n",
    "        E1 = q**2/2.0/g/hp**2 + hp + zb[i]\n",
    "        E2 = + (q**2/2.0/g/h[i-1]**2 + h[i-1] + zb[i-1]) \\\n",
    "              + 0.5*(q**2*manning**2/hp**(10/3) + q**2*manning**2/h[i-1]**(10/3))*dx\n",
    "\n",
    "        if E2 >= E1 : #常流時のみ計算, 射流時は限界水深に置き換え\n",
    "        # 収束計算の初期値は限界水深+hmin:0.0001m\n",
    "            hp += 0.0001\n",
    "            dht = 0.1\n",
    "            for _ in range(1000):\n",
    "                E1 = q**2/2.0/g/hp**2 + hp + zb[i]\n",
    "                E2 = + (q**2/2.0/g/h[i-1]**2 + h[i-1] + zb[i-1]) \\\n",
    "                      + 0.5*(q**2*manning**2/hp**(10/3) + q**2*manning**2/h[i-1]**(10/3))*dx\n",
    "            \n",
    "                if np.abs(E1 - E2) < 10**(-8): \n",
    "                    break\n",
    "                elif E1 > E2 :\n",
    "                    dht *= float(0.5)\n",
    "                    hp -= dht\n",
    "                else:\n",
    "                    hp += dht\n",
    "            else:\n",
    "                print('error : max iteration - nonuniform flow sect No.', i, 'err=', np.abs(E1 - E2))\n",
    "\n",
    "        h[i] = hp\n",
    "        # print(h[i])\n",
    "    return h"
   ]
  },
  {
   "cell_type": "markdown",
   "id": "43fe07ec",
   "metadata": {},
   "source": [
    "## 沈降速度式:rubeyの式"
   ]
  },
  {
   "cell_type": "code",
   "execution_count": 3,
   "id": "e13c683b",
   "metadata": {},
   "outputs": [],
   "source": [
    "def rubeyw0(dd, nu=10**(-6)):\n",
    "    rhosw = 1.65 # Specific gravity in water of sand \n",
    "    g = 9.8 # acceleration of gravity\n",
    "    tmp = 36.0*nu**2/rhosw/g/dd**3\n",
    "    F = np.sqrt(2.0/3.0 + tmp) - np.sqrt(tmp)\n",
    "    \n",
    "    return np.sqrt(rhosw*g*dd)*F"
   ]
  },
  {
   "cell_type": "markdown",
   "id": "6cf3a020",
   "metadata": {},
   "source": [
    "## 移動限界:岩垣の式"
   ]
  },
  {
   "cell_type": "code",
   "execution_count": 4,
   "id": "758e9910",
   "metadata": {},
   "outputs": [],
   "source": [
    "def iwagaki_org(d, g=9.8, Gw=1.65, nu=0.000001):\n",
    "    #d:diameter[m]\n",
    "    t = Gw*g*d**3/nu**2\n",
    "    Rs = np.sqrt(t)\n",
    "    \n",
    "    R1, R2, R3, R4 = 671.0, 162.7, 54.2, 2.14\n",
    "    Y1, Y2, Y3 = 0.05, 0.034, 0.14\n",
    "    alpha1, beta1 = 0.008492171377400728, 0.13636363636363635\n",
    "    alpha2, beta2 = 0.19514831719540923, -0.21875\n",
    "    \n",
    "    if Rs >= R1:\n",
    "        taus = Y1\n",
    "    elif Rs >= R2:\n",
    "        taus = alpha1*t**beta1\n",
    "    elif Rs >= R3:\n",
    "        taus = Y2\n",
    "    elif Rs >= R4:\n",
    "        taus = alpha2*t**beta2\n",
    "    else:\n",
    "        taus = Y3\n",
    "        \n",
    "    return taus #, Rs*np.sqrt(taus)"
   ]
  },
  {
   "cell_type": "markdown",
   "id": "8036699a",
   "metadata": {},
   "source": [
    "## 基準面濃度式：岸・板倉式"
   ]
  },
  {
   "cell_type": "code",
   "execution_count": 5,
   "id": "2938e295",
   "metadata": {},
   "outputs": [],
   "source": [
    "@jit(nopython=True, parallel=False) # 高速化：デバッグ時は使わない方が良い\n",
    "def erfc(xi):\n",
    "    \n",
    "    def erf(xi):\n",
    "        x = np.abs(xi)\n",
    "        \n",
    "        t = 1/(1+0.5*x)\n",
    "        \n",
    "        tt = t*np.exp( -x**2    \n",
    "        -1.26551223*t**0\n",
    "        +1.00002368*t**1\n",
    "        +0.37409196*t**2\n",
    "        +0.09678418*t**3\n",
    "        -0.18628806*t**4\n",
    "        +0.27886807*t**5\n",
    "        -1.13520398*t**6\n",
    "        +1.48851587*t**7\n",
    "        -0.82215223*t**8\n",
    "        +0.17087277*t**9\n",
    "          )\n",
    "        \n",
    "        return  1.0 - tt if xi >= 0.0 else tt-1.0\n",
    "    \n",
    "    return 1.0 - erf(xi)\n",
    "\n",
    "@jit(nopython=True, parallel=False) # 高速化：デバッグ時は使わない方が良い\n",
    "def caKishiKuroki(us, taus, w0, K = 0.0018, rhosw = float(1.65)):\n",
    "    alfa = 0.14\n",
    "    Bs = 0.143\n",
    "    eta = 0.5\n",
    "    \n",
    "    def omega(taus):\n",
    "        aprime = Bs/taus - 1.0/eta\n",
    "        c1 = 0.5 / np.sqrt(np.pi) * np.exp(-aprime**2) \n",
    "        c2 = 0.5 * erfc(aprime)\n",
    "        \n",
    "        if c2 <= 0.0 :\n",
    "            rr = 0.0\n",
    "        else:\n",
    "            rr =taus/Bs*c1/c2+ taus/Bs/eta - 1.0\n",
    "        \n",
    "        return rr \n",
    "    \n",
    "    r = K*( alfa/(rhosw+1)*us/w0*omega(taus)/taus - 1.0 )\n",
    "    \n",
    "    return 0.0 if r < 0.0 else r\n",
    "\n",
    "@jit(nopython=True, parallel=False) # 高速化：デバッグ時は使わない方が良い\n",
    "def qsuca(q, h, manning, dm, w0, tausc, g = float(9.8), rhosw = float(1.65)):\n",
    "    ca = np.zeros_like(h)\n",
    "    for i in range(len(h)):\n",
    "        us = np.sqrt(g)*manning*q/h[i]**(7/6) # 摩擦速度\n",
    "        taus = us**2/rhosw/g/dm # 無次元掃流力\n",
    "        if taus <= tausc :\n",
    "            ca[i] = 0.0\n",
    "        elif us/w0 < 1.0:\n",
    "            ca[i] = 0.0\n",
    "        else:\n",
    "            ca[i] = caKishiKuroki(us, taus, w0)\n",
    "\n",
    "    return ca"
   ]
  },
  {
   "cell_type": "markdown",
   "id": "da446478",
   "metadata": {},
   "source": [
    "## 濃度の質量保存則の計算"
   ]
  },
  {
   "cell_type": "code",
   "execution_count": 6,
   "id": "8447a2d7",
   "metadata": {},
   "outputs": [],
   "source": [
    "@jit(nopython=True, parallel=False) # 高速化：デバッグ時は使わない方が良い\n",
    "def calConcentration(q, h, w0, manning, Erosion, dx, g=float(9.8)):\n",
    "    kappa=0.4 # カルマン定数\n",
    "    # 濃度の連続式を計算\n",
    "    c = np.zeros(len(Erosion)) \n",
    "    Deposition = np.zeros(len(Erosion)) \n",
    "\n",
    "    # 上端端境界 : 平衡状態\n",
    "    i = 0\n",
    "    us = np.sqrt(g)*manning*q/h[i]**(7/6) # 摩擦速度\n",
    "    epsilon = kappa*us*h[i]/6.0\n",
    "    A =  w0*h[i]/epsilon\n",
    "    c[i] = Erosion[i]/w0/A*(1.0-np.exp(-A))\n",
    "    Deposition[i] = Erosion[i]\n",
    "\n",
    "    for i in range(1, len(c)):\n",
    "        us = np.sqrt(g)*manning*q/h[i]**(7/6) # 摩擦速度\n",
    "        epsilon = kappa*us*h[i]/6.0\n",
    "        A =  w0*h[i]/epsilon\n",
    "        c[i] = (q*c[i-1] + dx*Erosion[i])/(q + dx*w0*A/(1.0-np.exp(-A)))\n",
    "        if c[i] < 0.0:print('濃度が負になりました', c[i], 'i=', i)\n",
    "        Deposition[i] = w0*c[i]*A/(1.0-np.exp(-A))\n",
    "\n",
    "    return c, Deposition"
   ]
  },
  {
   "cell_type": "markdown",
   "id": "00dea556",
   "metadata": {},
   "source": [
    "## 河床の連続式の計算"
   ]
  },
  {
   "cell_type": "code",
   "execution_count": 7,
   "id": "0f5c7a25",
   "metadata": {},
   "outputs": [],
   "source": [
    "@jit(nopython=True, parallel=False) # 高速化：デバッグ時は使わない方が良い\n",
    "def calzb(zb, qbhfp, Erosion, Deposition, dx, dt, porosity=0.4):\n",
    "    # 河床の連続式を計算\n",
    "    dzb = np.zeros(len(zb)) \n",
    "    for i in range(len(zb)):\n",
    "        dzb[i] = - dt / (1.0 - porosity) * ( qbhfp[i+1] - qbhfp[i] )/dx \\\n",
    "                 - dt / (1.0 - porosity) * ( Erosion[i] - Deposition[i] )\n",
    "\n",
    "    zb += dzb #zbの更新\n",
    "    return zb, dzb"
   ]
  },
  {
   "cell_type": "markdown",
   "id": "1da17390",
   "metadata": {},
   "source": [
    "## main"
   ]
  },
  {
   "cell_type": "markdown",
   "id": "df32f4bd",
   "metadata": {},
   "source": [
    "### 計算条件の設定"
   ]
  },
  {
   "cell_type": "code",
   "execution_count": 14,
   "id": "e0332f2f",
   "metadata": {},
   "outputs": [],
   "source": [
    "q = 5.0 #単位幅流量[m^2/s]\n",
    "manning = 0.02 #マニングの粗度係数\n",
    "dm = 0.02/1000 #粒径[m]\n",
    "dx = 100.0 #空間刻み[m] \n",
    "dt = 10.0 #時間刻み[s]\n",
    "\n",
    "# 河床高の設定\n",
    "ib = 1.0/700.0\n",
    "L = np.arange(0,10000.01,dx) #追加距離の配列\n",
    "zbr = L*ib #河床高の配列\n",
    "zb  = zbr[::-1]"
   ]
  },
  {
   "cell_type": "markdown",
   "id": "07459075",
   "metadata": {},
   "source": [
    "### 水理量のチェック"
   ]
  },
  {
   "cell_type": "code",
   "execution_count": 15,
   "id": "5dfe5c83",
   "metadata": {},
   "outputs": [
    {
     "name": "stdout",
     "output_type": "stream",
     "text": [
      "下流端条件- 水深： 1.792789962520997 Froude数: 0.6653694374950128 \n",
      " 無次元掃流力: 77.60995508748906 沈降速度: 0.0003591183899699742 移動限界: 0.14\n"
     ]
    }
   ],
   "source": [
    "h0 = (q**2*manning**2/ib)**0.3 #等流水深\n",
    "hc = (q**2/9.8)**(1/3) # 限界水深 \n",
    "fr = q/h0/np.sqrt(9.8*h0)\n",
    "taus = h0*ib/1.65/dm\n",
    "tausc = iwagaki_org(dm)\n",
    "w0 = rubeyw0(dm) # Rubeyの式による臨界流速\n",
    "print('下流端条件-','水深：',h0, 'Froude数:' , fr,'\\n', '無次元掃流力:', taus, '沈降速度:', w0, '移動限界:', tausc)"
   ]
  },
  {
   "cell_type": "code",
   "execution_count": 16,
   "id": "18ed4aa7",
   "metadata": {},
   "outputs": [
    {
     "data": {},
     "metadata": {},
     "output_type": "display_data"
    },
    {
     "data": {
      "application/vnd.holoviews_exec.v0+json": "",
      "text/html": [
       "<div id='p1308'>\n",
       "  <div id=\"d269ae21-f7cd-41e7-96f6-a2d6d94a9f73\" data-root-id=\"p1308\" style=\"display: contents;\"></div>\n",
       "</div>\n",
       "<script type=\"application/javascript\">(function(root) {\n",
       "  var docs_json = {\"26f17eb1-1d15-416e-8ec5-cbc0f37df46e\":{\"version\":\"3.4.1\",\"title\":\"Bokeh Application\",\"roots\":[{\"type\":\"object\",\"name\":\"Row\",\"id\":\"p1308\",\"attributes\":{\"name\":\"Row01236\",\"tags\":[\"embedded\"],\"stylesheets\":[\"\\n:host(.pn-loading):before, .pn-loading:before {\\n  background-color: #c3c3c3;\\n  mask-size: auto calc(min(50%, 400px));\\n  -webkit-mask-size: auto calc(min(50%, 400px));\\n}\",{\"type\":\"object\",\"name\":\"ImportedStyleSheet\",\"id\":\"p1311\",\"attributes\":{\"url\":\"https://cdn.holoviz.org/panel/1.4.4/dist/css/loading.css\"}},{\"type\":\"object\",\"name\":\"ImportedStyleSheet\",\"id\":\"p1366\",\"attributes\":{\"url\":\"https://cdn.holoviz.org/panel/1.4.4/dist/css/listpanel.css\"}},{\"type\":\"object\",\"name\":\"ImportedStyleSheet\",\"id\":\"p1309\",\"attributes\":{\"url\":\"https://cdn.holoviz.org/panel/1.4.4/dist/bundled/theme/default.css\"}},{\"type\":\"object\",\"name\":\"ImportedStyleSheet\",\"id\":\"p1310\",\"attributes\":{\"url\":\"https://cdn.holoviz.org/panel/1.4.4/dist/bundled/theme/native.css\"}}],\"min_width\":600,\"margin\":0,\"sizing_mode\":\"stretch_width\",\"align\":\"start\",\"children\":[{\"type\":\"object\",\"name\":\"Spacer\",\"id\":\"p1312\",\"attributes\":{\"name\":\"HSpacer01241\",\"stylesheets\":[\"\\n:host(.pn-loading):before, .pn-loading:before {\\n  background-color: #c3c3c3;\\n  mask-size: auto calc(min(50%, 400px));\\n  -webkit-mask-size: auto calc(min(50%, 400px));\\n}\",{\"id\":\"p1311\"},{\"id\":\"p1309\"},{\"id\":\"p1310\"}],\"margin\":0,\"sizing_mode\":\"stretch_width\",\"align\":\"start\"}},{\"type\":\"object\",\"name\":\"Figure\",\"id\":\"p1319\",\"attributes\":{\"height\":400,\"margin\":[5,10],\"sizing_mode\":\"fixed\",\"align\":\"start\",\"x_range\":{\"type\":\"object\",\"name\":\"Range1d\",\"id\":\"p1313\",\"attributes\":{\"tags\":[[[\"x\",\"x\",null]],[]],\"end\":10000.0,\"reset_start\":0.0,\"reset_end\":10000.0}},\"y_range\":{\"type\":\"object\",\"name\":\"Range1d\",\"id\":\"p1314\",\"attributes\":{\"tags\":[[[\"y\",\"y\",null]],{\"type\":\"map\",\"entries\":[[\"invert_yaxis\",false],[\"autorange\",false]]}],\"start\":-1.4285714285714288,\"end\":15.714285714285715,\"reset_start\":-1.4285714285714288,\"reset_end\":15.714285714285715}},\"x_scale\":{\"type\":\"object\",\"name\":\"LinearScale\",\"id\":\"p1329\"},\"y_scale\":{\"type\":\"object\",\"name\":\"LinearScale\",\"id\":\"p1330\"},\"title\":{\"type\":\"object\",\"name\":\"Title\",\"id\":\"p1322\",\"attributes\":{\"text\":\"Initial bed elevation\",\"text_color\":\"black\",\"text_font_size\":\"12pt\"}},\"renderers\":[{\"type\":\"object\",\"name\":\"GlyphRenderer\",\"id\":\"p1359\",\"attributes\":{\"data_source\":{\"type\":\"object\",\"name\":\"ColumnDataSource\",\"id\":\"p1350\",\"attributes\":{\"selected\":{\"type\":\"object\",\"name\":\"Selection\",\"id\":\"p1351\",\"attributes\":{\"indices\":[],\"line_indices\":[]}},\"selection_policy\":{\"type\":\"object\",\"name\":\"UnionRenderers\",\"id\":\"p1352\"},\"data\":{\"type\":\"map\",\"entries\":[[\"x\",{\"type\":\"ndarray\",\"array\":{\"type\":\"bytes\",\"data\":\"AAAAAAAAAAAAAAAAAABZQAAAAAAAAGlAAAAAAADAckAAAAAAAAB5QAAAAAAAQH9AAAAAAADAgkAAAAAAAOCFQAAAAAAAAIlAAAAAAAAgjEAAAAAAAECPQAAAAAAAMJFAAAAAAADAkkAAAAAAAFCUQAAAAAAA4JVAAAAAAABwl0AAAAAAAACZQAAAAAAAkJpAAAAAAAAgnEAAAAAAALCdQAAAAAAAQJ9AAAAAAABooEAAAAAAADChQAAAAAAA+KFAAAAAAADAokAAAAAAAIijQAAAAAAAUKRAAAAAAAAYpUAAAAAAAOClQAAAAAAAqKZAAAAAAABwp0AAAAAAADioQAAAAAAAAKlAAAAAAADIqUAAAAAAAJCqQAAAAAAAWKtAAAAAAAAgrEAAAAAAAOisQAAAAAAAsK1AAAAAAAB4rkAAAAAAAECvQAAAAAAABLBAAAAAAABosEAAAAAAAMywQAAAAAAAMLFAAAAAAACUsUAAAAAAAPixQAAAAAAAXLJAAAAAAADAskAAAAAAACSzQAAAAAAAiLNAAAAAAADss0AAAAAAAFC0QAAAAAAAtLRAAAAAAAAYtUAAAAAAAHy1QAAAAAAA4LVAAAAAAABEtkAAAAAAAKi2QAAAAAAADLdAAAAAAABwt0AAAAAAANS3QAAAAAAAOLhAAAAAAACcuEAAAAAAAAC5QAAAAAAAZLlAAAAAAADIuUAAAAAAACy6QAAAAAAAkLpAAAAAAAD0ukAAAAAAAFi7QAAAAAAAvLtAAAAAAAAgvEAAAAAAAIS8QAAAAAAA6LxAAAAAAABMvUAAAAAAALC9QAAAAAAAFL5AAAAAAAB4vkAAAAAAANy+QAAAAAAAQL9AAAAAAACkv0AAAAAAAATAQAAAAAAANsBAAAAAAABowEAAAAAAAJrAQAAAAAAAzMBAAAAAAAD+wEAAAAAAADDBQAAAAAAAYsFAAAAAAACUwUAAAAAAAMbBQAAAAAAA+MFAAAAAAAAqwkAAAAAAAFzCQAAAAAAAjsJAAAAAAADAwkAAAAAAAPLCQAAAAAAAJMNAAAAAAABWw0AAAAAAAIjDQA==\"},\"shape\":[101],\"dtype\":\"float64\",\"order\":\"little\"}],[\"y\",{\"type\":\"ndarray\",\"array\":{\"type\":\"bytes\",\"data\":\"AAAAAAAAAACSJEmSJEnCP5IkSZIkSdI/27Zt27Zt2z+SJEmSJEniP7dt27Zt2+Y/27Zt27Zt6z8AAAAAAADwP5IkSZIkSfI/JUmSJEmS9D+3bdu2bdv2P0mSJEmSJPk/27Zt27Zt+z9u27Zt27b9PwAAAAAAAABASZIkSZIkAUCSJEmSJEkCQNu2bdu2bQNAJUmSJEmSBEBu27Zt27YFQLdt27Zt2wZAAAAAAAAACEBJkiRJkiQJQJIkSZIkSQpA27Zt27ZtC0AlSZIkSZIMQG7btm3btg1At23btm3bDkAAAAAAAAAQQCVJkiRJkhBASZIkSZIkEUBu27Zt27YRQJIkSZIkSRJAt23btm3bEkDbtm3btm0TQAAAAAAAABRAJUmSJEmSFEBJkiRJkiQVQG7btm3bthVAkiRJkiRJFkC3bdu2bdsWQNu2bdu2bRdAAAAAAAAAGEAlSZIkSZIYQEmSJEmSJBlAbtu2bdu2GUCSJEmSJEkaQLdt27Zt2xpA27Zt27ZtG0AAAAAAAAAcQCVJkiRJkhxASZIkSZIkHUBu27Zt27YdQJIkSZIkSR5At23btm3bHkDbtm3btm0fQAAAAAAAACBAkiRJkiRJIEAlSZIkSZIgQLdt27Zt2yBASZIkSZIkIUDbtm3btm0hQG7btm3btiFAAAAAAAAAIkCSJEmSJEkiQCVJkiRJkiJAt23btm3bIkBJkiRJkiQjQNu2bdu2bSNAbtu2bdu2I0AAAAAAAAAkQJIkSZIkSSRAJUmSJEmSJEC3bdu2bdskQEmSJEmSJCVA27Zt27ZtJUBu27Zt27YlQAAAAAAAACZAkiRJkiRJJkAlSZIkSZImQLdt27Zt2yZASZIkSZIkJ0Dbtm3btm0nQG7btm3btidAAAAAAAAAKECSJEmSJEkoQCVJkiRJkihAt23btm3bKEBJkiRJkiQpQNu2bdu2bSlAbtu2bdu2KUAAAAAAAAAqQJIkSZIkSSpAJUmSJEmSKkC3bdu2bdsqQEmSJEmSJCtA27Zt27ZtK0Bu27Zt27YrQAAAAAAAACxAkiRJkiRJLEAlSZIkSZIsQA==\"},\"shape\":[101],\"dtype\":\"float64\",\"order\":\"little\"}]]}}},\"view\":{\"type\":\"object\",\"name\":\"CDSView\",\"id\":\"p1360\",\"attributes\":{\"filter\":{\"type\":\"object\",\"name\":\"AllIndices\",\"id\":\"p1361\"}}},\"glyph\":{\"type\":\"object\",\"name\":\"Line\",\"id\":\"p1356\",\"attributes\":{\"tags\":[\"apply_ranges\"],\"x\":{\"type\":\"field\",\"field\":\"x\"},\"y\":{\"type\":\"field\",\"field\":\"y\"},\"line_color\":\"#000000\",\"line_width\":2}},\"selection_glyph\":{\"type\":\"object\",\"name\":\"Line\",\"id\":\"p1362\",\"attributes\":{\"tags\":[\"apply_ranges\"],\"x\":{\"type\":\"field\",\"field\":\"x\"},\"y\":{\"type\":\"field\",\"field\":\"y\"},\"line_color\":\"#000000\",\"line_width\":2}},\"nonselection_glyph\":{\"type\":\"object\",\"name\":\"Line\",\"id\":\"p1357\",\"attributes\":{\"tags\":[\"apply_ranges\"],\"x\":{\"type\":\"field\",\"field\":\"x\"},\"y\":{\"type\":\"field\",\"field\":\"y\"},\"line_color\":\"#000000\",\"line_alpha\":0.1,\"line_width\":2}},\"muted_glyph\":{\"type\":\"object\",\"name\":\"Line\",\"id\":\"p1358\",\"attributes\":{\"tags\":[\"apply_ranges\"],\"x\":{\"type\":\"field\",\"field\":\"x\"},\"y\":{\"type\":\"field\",\"field\":\"y\"},\"line_color\":\"#000000\",\"line_alpha\":0.2,\"line_width\":2}}}}],\"toolbar\":{\"type\":\"object\",\"name\":\"Toolbar\",\"id\":\"p1328\",\"attributes\":{\"tools\":[{\"type\":\"object\",\"name\":\"WheelZoomTool\",\"id\":\"p1318\",\"attributes\":{\"tags\":[\"hv_created\"],\"renderers\":\"auto\",\"zoom_together\":\"none\"}},{\"type\":\"object\",\"name\":\"SaveTool\",\"id\":\"p1341\"},{\"type\":\"object\",\"name\":\"PanTool\",\"id\":\"p1342\"},{\"type\":\"object\",\"name\":\"BoxZoomTool\",\"id\":\"p1343\",\"attributes\":{\"overlay\":{\"type\":\"object\",\"name\":\"BoxAnnotation\",\"id\":\"p1344\",\"attributes\":{\"syncable\":false,\"level\":\"overlay\",\"visible\":false,\"left\":{\"type\":\"number\",\"value\":\"nan\"},\"right\":{\"type\":\"number\",\"value\":\"nan\"},\"top\":{\"type\":\"number\",\"value\":\"nan\"},\"bottom\":{\"type\":\"number\",\"value\":\"nan\"},\"left_units\":\"canvas\",\"right_units\":\"canvas\",\"top_units\":\"canvas\",\"bottom_units\":\"canvas\",\"line_color\":\"black\",\"line_alpha\":1.0,\"line_width\":2,\"line_dash\":[4,4],\"fill_color\":\"lightgrey\",\"fill_alpha\":0.5}}}},{\"type\":\"object\",\"name\":\"ResetTool\",\"id\":\"p1349\"}],\"active_drag\":{\"id\":\"p1342\"},\"active_scroll\":{\"id\":\"p1318\"}}},\"left\":[{\"type\":\"object\",\"name\":\"LinearAxis\",\"id\":\"p1336\",\"attributes\":{\"ticker\":{\"type\":\"object\",\"name\":\"BasicTicker\",\"id\":\"p1337\",\"attributes\":{\"mantissas\":[1,2,5]}},\"formatter\":{\"type\":\"object\",\"name\":\"BasicTickFormatter\",\"id\":\"p1338\"},\"axis_label\":\"Elevation[m]\",\"major_label_policy\":{\"type\":\"object\",\"name\":\"AllLabels\",\"id\":\"p1339\"}}}],\"below\":[{\"type\":\"object\",\"name\":\"LinearAxis\",\"id\":\"p1331\",\"attributes\":{\"ticker\":{\"type\":\"object\",\"name\":\"BasicTicker\",\"id\":\"p1332\",\"attributes\":{\"mantissas\":[1,2,5]}},\"formatter\":{\"type\":\"object\",\"name\":\"BasicTickFormatter\",\"id\":\"p1333\"},\"axis_label\":\"Distance[m]\",\"major_label_policy\":{\"type\":\"object\",\"name\":\"AllLabels\",\"id\":\"p1334\"}}}],\"center\":[{\"type\":\"object\",\"name\":\"Grid\",\"id\":\"p1335\",\"attributes\":{\"axis\":{\"id\":\"p1331\"},\"ticker\":{\"id\":\"p1332\"}}},{\"type\":\"object\",\"name\":\"Grid\",\"id\":\"p1340\",\"attributes\":{\"dimension\":1,\"axis\":{\"id\":\"p1336\"},\"ticker\":{\"id\":\"p1337\"}}}],\"min_border_top\":10,\"min_border_bottom\":10,\"min_border_left\":10,\"min_border_right\":10,\"output_backend\":\"webgl\"}},{\"type\":\"object\",\"name\":\"Spacer\",\"id\":\"p1364\",\"attributes\":{\"name\":\"HSpacer01242\",\"stylesheets\":[\"\\n:host(.pn-loading):before, .pn-loading:before {\\n  background-color: #c3c3c3;\\n  mask-size: auto calc(min(50%, 400px));\\n  -webkit-mask-size: auto calc(min(50%, 400px));\\n}\",{\"id\":\"p1311\"},{\"id\":\"p1309\"},{\"id\":\"p1310\"}],\"margin\":0,\"sizing_mode\":\"stretch_width\",\"align\":\"start\"}}]}}],\"defs\":[{\"type\":\"model\",\"name\":\"ReactiveHTML1\"},{\"type\":\"model\",\"name\":\"FlexBox1\",\"properties\":[{\"name\":\"align_content\",\"kind\":\"Any\",\"default\":\"flex-start\"},{\"name\":\"align_items\",\"kind\":\"Any\",\"default\":\"flex-start\"},{\"name\":\"flex_direction\",\"kind\":\"Any\",\"default\":\"row\"},{\"name\":\"flex_wrap\",\"kind\":\"Any\",\"default\":\"wrap\"},{\"name\":\"gap\",\"kind\":\"Any\",\"default\":\"\"},{\"name\":\"justify_content\",\"kind\":\"Any\",\"default\":\"flex-start\"}]},{\"type\":\"model\",\"name\":\"FloatPanel1\",\"properties\":[{\"name\":\"config\",\"kind\":\"Any\",\"default\":{\"type\":\"map\"}},{\"name\":\"contained\",\"kind\":\"Any\",\"default\":true},{\"name\":\"position\",\"kind\":\"Any\",\"default\":\"right-top\"},{\"name\":\"offsetx\",\"kind\":\"Any\",\"default\":null},{\"name\":\"offsety\",\"kind\":\"Any\",\"default\":null},{\"name\":\"theme\",\"kind\":\"Any\",\"default\":\"primary\"},{\"name\":\"status\",\"kind\":\"Any\",\"default\":\"normalized\"}]},{\"type\":\"model\",\"name\":\"GridStack1\",\"properties\":[{\"name\":\"mode\",\"kind\":\"Any\",\"default\":\"warn\"},{\"name\":\"ncols\",\"kind\":\"Any\",\"default\":null},{\"name\":\"nrows\",\"kind\":\"Any\",\"default\":null},{\"name\":\"allow_resize\",\"kind\":\"Any\",\"default\":true},{\"name\":\"allow_drag\",\"kind\":\"Any\",\"default\":true},{\"name\":\"state\",\"kind\":\"Any\",\"default\":[]}]},{\"type\":\"model\",\"name\":\"drag1\",\"properties\":[{\"name\":\"slider_width\",\"kind\":\"Any\",\"default\":5},{\"name\":\"slider_color\",\"kind\":\"Any\",\"default\":\"black\"},{\"name\":\"value\",\"kind\":\"Any\",\"default\":50}]},{\"type\":\"model\",\"name\":\"click1\",\"properties\":[{\"name\":\"terminal_output\",\"kind\":\"Any\",\"default\":\"\"},{\"name\":\"debug_name\",\"kind\":\"Any\",\"default\":\"\"},{\"name\":\"clears\",\"kind\":\"Any\",\"default\":0}]},{\"type\":\"model\",\"name\":\"FastWrapper1\",\"properties\":[{\"name\":\"object\",\"kind\":\"Any\",\"default\":null},{\"name\":\"style\",\"kind\":\"Any\",\"default\":null}]},{\"type\":\"model\",\"name\":\"NotificationAreaBase1\",\"properties\":[{\"name\":\"js_events\",\"kind\":\"Any\",\"default\":{\"type\":\"map\"}},{\"name\":\"position\",\"kind\":\"Any\",\"default\":\"bottom-right\"},{\"name\":\"_clear\",\"kind\":\"Any\",\"default\":0}]},{\"type\":\"model\",\"name\":\"NotificationArea1\",\"properties\":[{\"name\":\"js_events\",\"kind\":\"Any\",\"default\":{\"type\":\"map\"}},{\"name\":\"notifications\",\"kind\":\"Any\",\"default\":[]},{\"name\":\"position\",\"kind\":\"Any\",\"default\":\"bottom-right\"},{\"name\":\"_clear\",\"kind\":\"Any\",\"default\":0},{\"name\":\"types\",\"kind\":\"Any\",\"default\":[{\"type\":\"map\",\"entries\":[[\"type\",\"warning\"],[\"background\",\"#ffc107\"],[\"icon\",{\"type\":\"map\",\"entries\":[[\"className\",\"fas fa-exclamation-triangle\"],[\"tagName\",\"i\"],[\"color\",\"white\"]]}]]},{\"type\":\"map\",\"entries\":[[\"type\",\"info\"],[\"background\",\"#007bff\"],[\"icon\",{\"type\":\"map\",\"entries\":[[\"className\",\"fas fa-info-circle\"],[\"tagName\",\"i\"],[\"color\",\"white\"]]}]]}]}]},{\"type\":\"model\",\"name\":\"Notification\",\"properties\":[{\"name\":\"background\",\"kind\":\"Any\",\"default\":null},{\"name\":\"duration\",\"kind\":\"Any\",\"default\":3000},{\"name\":\"icon\",\"kind\":\"Any\",\"default\":null},{\"name\":\"message\",\"kind\":\"Any\",\"default\":\"\"},{\"name\":\"notification_type\",\"kind\":\"Any\",\"default\":null},{\"name\":\"_destroyed\",\"kind\":\"Any\",\"default\":false}]},{\"type\":\"model\",\"name\":\"TemplateActions1\",\"properties\":[{\"name\":\"open_modal\",\"kind\":\"Any\",\"default\":0},{\"name\":\"close_modal\",\"kind\":\"Any\",\"default\":0}]},{\"type\":\"model\",\"name\":\"BootstrapTemplateActions1\",\"properties\":[{\"name\":\"open_modal\",\"kind\":\"Any\",\"default\":0},{\"name\":\"close_modal\",\"kind\":\"Any\",\"default\":0}]},{\"type\":\"model\",\"name\":\"TemplateEditor1\",\"properties\":[{\"name\":\"layout\",\"kind\":\"Any\",\"default\":[]}]},{\"type\":\"model\",\"name\":\"MaterialTemplateActions1\",\"properties\":[{\"name\":\"open_modal\",\"kind\":\"Any\",\"default\":0},{\"name\":\"close_modal\",\"kind\":\"Any\",\"default\":0}]},{\"type\":\"model\",\"name\":\"copy_to_clipboard1\",\"properties\":[{\"name\":\"fill\",\"kind\":\"Any\",\"default\":\"none\"},{\"name\":\"value\",\"kind\":\"Any\",\"default\":null}]}]}};\n",
       "  var render_items = [{\"docid\":\"26f17eb1-1d15-416e-8ec5-cbc0f37df46e\",\"roots\":{\"p1308\":\"d269ae21-f7cd-41e7-96f6-a2d6d94a9f73\"},\"root_ids\":[\"p1308\"]}];\n",
       "  var docs = Object.values(docs_json)\n",
       "  if (!docs) {\n",
       "    return\n",
       "  }\n",
       "  const py_version = docs[0].version.replace('rc', '-rc.').replace('.dev', '-dev.')\n",
       "  async function embed_document(root) {\n",
       "    var Bokeh = get_bokeh(root)\n",
       "    await Bokeh.embed.embed_items_notebook(docs_json, render_items);\n",
       "    for (const render_item of render_items) {\n",
       "      for (const root_id of render_item.root_ids) {\n",
       "\tconst id_el = document.getElementById(root_id)\n",
       "\tif (id_el.children.length && id_el.children[0].hasAttribute('data-root-id')) {\n",
       "\t  const root_el = id_el.children[0]\n",
       "\t  root_el.id = root_el.id + '-rendered'\n",
       "\t  for (const child of root_el.children) {\n",
       "            // Ensure JupyterLab does not capture keyboard shortcuts\n",
       "            // see: https://jupyterlab.readthedocs.io/en/4.1.x/extension/notebook.html#keyboard-interaction-model\n",
       "\t    child.setAttribute('data-lm-suppress-shortcuts', 'true')\n",
       "\t  }\n",
       "\t}\n",
       "      }\n",
       "    }\n",
       "  }\n",
       "  function get_bokeh(root) {\n",
       "    if (root.Bokeh === undefined) {\n",
       "      return null\n",
       "    } else if (root.Bokeh.version !== py_version) {\n",
       "      if (root.Bokeh.versions === undefined || !root.Bokeh.versions.has(py_version)) {\n",
       "\treturn null\n",
       "      }\n",
       "      return root.Bokeh.versions.get(py_version);\n",
       "    } else if (root.Bokeh.version === py_version) {\n",
       "      return root.Bokeh\n",
       "    }\n",
       "    return null\n",
       "  }\n",
       "  function is_loaded(root) {\n",
       "    var Bokeh = get_bokeh(root)\n",
       "    return (Bokeh != null && Bokeh.Panel !== undefined)\n",
       "  }\n",
       "  if (is_loaded(root)) {\n",
       "    embed_document(root);\n",
       "  } else {\n",
       "    var attempts = 0;\n",
       "    var timer = setInterval(function(root) {\n",
       "      if (is_loaded(root)) {\n",
       "        clearInterval(timer);\n",
       "        embed_document(root);\n",
       "      } else if (document.readyState == \"complete\") {\n",
       "        attempts++;\n",
       "        if (attempts > 200) {\n",
       "          clearInterval(timer);\n",
       "\t  var Bokeh = get_bokeh(root)\n",
       "\t  if (Bokeh == null || Bokeh.Panel == null) {\n",
       "            console.warn(\"Panel: ERROR: Unable to run Panel code because Bokeh or Panel library is missing\");\n",
       "\t  } else {\n",
       "\t    console.warn(\"Panel: WARNING: Attempting to render but not all required libraries could be resolved.\")\n",
       "\t    embed_document(root)\n",
       "\t  }\n",
       "        }\n",
       "      }\n",
       "    }, 25, root)\n",
       "  }\n",
       "})(window);</script>"
      ],
      "text/plain": [
       ":Curve   [x]   (y)"
      ]
     },
     "execution_count": 16,
     "metadata": {
      "application/vnd.holoviews_exec.v0+json": {
       "id": "p1308"
      }
     },
     "output_type": "execute_result"
    }
   ],
   "source": [
    "g = hv.Curve((L, zb[::-1]), label='zb').options(\n",
    "    show_grid=True, color='k',xlabel='Distance[m]',ylabel='Elevation[m]'\n",
    "    , width=600, height=400, title='Initial bed elevation')\n",
    "hv.save(g, 'zb.html') #初期河床高の図化\n",
    "g"
   ]
  },
  {
   "cell_type": "markdown",
   "id": "b3c6ca75",
   "metadata": {},
   "source": [
    "### 河床変動計算"
   ]
  },
  {
   "cell_type": "code",
   "execution_count": 17,
   "id": "790feb5f",
   "metadata": {},
   "outputs": [
    {
     "name": "stdout",
     "output_type": "stream",
     "text": [
      "CPU times: total: 31.2 ms\n",
      "Wall time: 220 ms\n"
     ]
    }
   ],
   "source": [
    "%%time\n",
    "istep = int(2*3600.0/dt) #計算時間：ステップ数\n",
    "# istep = 1000\n",
    "\n",
    "itime = [ int(thr*3600/dt) for thr in [0, 0.5, 1, 1.5, 2] ]\n",
    "iexport = iter(itime)\n",
    "iex = next(iexport, None) #初期値\n",
    "\n",
    "zbini = zb.copy() #初期河床高の保存\n",
    "c = np.zeros(len(zb)) #濃度の初期値\n",
    "Erosion = np.zeros(len(zb)) #浸食量の初期値\n",
    "\n",
    "hout, zbout = [], []\n",
    "for itr in range(istep):\n",
    "    # hDB = h0 #下流端の水深\n",
    "    hDB = float(12) - zb[-1] #下流端の水深\n",
    "    zbr = zb[::-1] #不等流計算用に逆順にする\n",
    "    hr = nonuniformflow(q, hDB, zbr, dx, manning) # 不等流計算\n",
    "\n",
    "    h = hr[::-1] #不等流計算結果が逆順になっているので元に戻す\n",
    "    # if itr==0: hini = h.copy() #初期水深の保存\n",
    "    if itr==iex: \n",
    "        hout.append(h.copy())\n",
    "        zbout.append(zb.copy())\n",
    "        iex = next(iexport, None) #初期値\n",
    "\n",
    "    # 流砂量の計算 \n",
    "    qbhf = np.zeros(len(h)+1) # 掃流砂量は0とする。\n",
    "\n",
    "    caE = qsuca(q, h, manning, dm, w0, tausc) #巻き上げ量の基準面濃度の計算\n",
    "    Erosion = w0*caE  # 浮遊砂の巻き上げ量\n",
    "\n",
    "    c, Deposition = calConcentration(q, h, w0, manning, Erosion, dx) #水深平均濃度の計算\n",
    "    zb, d = calzb(zb, qbhf, Erosion, Deposition, dx, dt) #河床高の更新\n",
    "\n",
    "hout.append(h.copy())\n",
    "zbout.append(zb.copy())"
   ]
  },
  {
   "cell_type": "markdown",
   "id": "36ea7cec",
   "metadata": {},
   "source": [
    "## 図化"
   ]
  },
  {
   "cell_type": "code",
   "execution_count": 18,
   "id": "c1629fba",
   "metadata": {},
   "outputs": [],
   "source": [
    "from holoviews.plotting.util import process_cmap\n",
    "cmap_list = process_cmap(\"turbo\")\n",
    "cmap_list2 = [cmap_list[int(ii)] for ii in np.linspace(0, 255, num=len(hout)) ]"
   ]
  },
  {
   "cell_type": "code",
   "execution_count": 20,
   "id": "1c042b6a",
   "metadata": {},
   "outputs": [
    {
     "data": {},
     "metadata": {},
     "output_type": "display_data"
    },
    {
     "data": {
      "application/vnd.holoviews_exec.v0+json": "",
      "text/html": [
       "<div id='p1592'>\n",
       "  <div id=\"e0e6240f-dfa6-45d0-893a-99f919732cf7\" data-root-id=\"p1592\" style=\"display: contents;\"></div>\n",
       "</div>\n",
       "<script type=\"application/javascript\">(function(root) {\n",
       "  var docs_json = {\"60d7855e-a1e3-4894-9692-bc355cb4ef9d\":{\"version\":\"3.4.1\",\"title\":\"Bokeh Application\",\"roots\":[{\"type\":\"object\",\"name\":\"Row\",\"id\":\"p1592\",\"attributes\":{\"name\":\"Row02207\",\"tags\":[\"embedded\"],\"stylesheets\":[\"\\n:host(.pn-loading):before, .pn-loading:before {\\n  background-color: #c3c3c3;\\n  mask-size: auto calc(min(50%, 400px));\\n  -webkit-mask-size: auto calc(min(50%, 400px));\\n}\",{\"type\":\"object\",\"name\":\"ImportedStyleSheet\",\"id\":\"p1595\",\"attributes\":{\"url\":\"https://cdn.holoviz.org/panel/1.4.4/dist/css/loading.css\"}},{\"type\":\"object\",\"name\":\"ImportedStyleSheet\",\"id\":\"p1796\",\"attributes\":{\"url\":\"https://cdn.holoviz.org/panel/1.4.4/dist/css/listpanel.css\"}},{\"type\":\"object\",\"name\":\"ImportedStyleSheet\",\"id\":\"p1593\",\"attributes\":{\"url\":\"https://cdn.holoviz.org/panel/1.4.4/dist/bundled/theme/default.css\"}},{\"type\":\"object\",\"name\":\"ImportedStyleSheet\",\"id\":\"p1594\",\"attributes\":{\"url\":\"https://cdn.holoviz.org/panel/1.4.4/dist/bundled/theme/native.css\"}}],\"min_width\":800,\"margin\":0,\"sizing_mode\":\"stretch_width\",\"align\":\"start\",\"children\":[{\"type\":\"object\",\"name\":\"Spacer\",\"id\":\"p1596\",\"attributes\":{\"name\":\"HSpacer02214\",\"stylesheets\":[\"\\n:host(.pn-loading):before, .pn-loading:before {\\n  background-color: #c3c3c3;\\n  mask-size: auto calc(min(50%, 400px));\\n  -webkit-mask-size: auto calc(min(50%, 400px));\\n}\",{\"id\":\"p1595\"},{\"id\":\"p1593\"},{\"id\":\"p1594\"}],\"margin\":0,\"sizing_mode\":\"stretch_width\",\"align\":\"start\"}},{\"type\":\"object\",\"name\":\"Figure\",\"id\":\"p1621\",\"attributes\":{\"width\":800,\"margin\":[5,10],\"sizing_mode\":\"fixed\",\"align\":\"start\",\"x_range\":{\"type\":\"object\",\"name\":\"Range1d\",\"id\":\"p1597\",\"attributes\":{\"tags\":[[[\"x\",\"x\",null]],[]],\"end\":10000.0,\"reset_start\":0.0,\"reset_end\":10000.0}},\"y_range\":{\"type\":\"object\",\"name\":\"Range1d\",\"id\":\"p1598\",\"attributes\":{\"tags\":[[[\"y\",\"y\",null]],{\"type\":\"map\",\"entries\":[[\"invert_yaxis\",false],[\"autorange\",false]]}],\"start\":-1.6081094015357662,\"end\":17.689203416893427,\"reset_start\":-1.6081094015357662,\"reset_end\":17.689203416893427}},\"x_scale\":{\"type\":\"object\",\"name\":\"LinearScale\",\"id\":\"p1631\"},\"y_scale\":{\"type\":\"object\",\"name\":\"LinearScale\",\"id\":\"p1632\"},\"title\":{\"type\":\"object\",\"name\":\"Title\",\"id\":\"p1624\",\"attributes\":{\"text\":\"bed elevation\",\"text_color\":\"black\",\"text_font_size\":\"12pt\"}},\"renderers\":[{\"type\":\"object\",\"name\":\"GlyphRenderer\",\"id\":\"p1661\",\"attributes\":{\"name\":\"\\u6c34\\u4f4d:0.0\\u6642\\u9593\\u5f8c\",\"data_source\":{\"type\":\"object\",\"name\":\"ColumnDataSource\",\"id\":\"p1652\",\"attributes\":{\"selected\":{\"type\":\"object\",\"name\":\"Selection\",\"id\":\"p1653\",\"attributes\":{\"indices\":[],\"line_indices\":[]}},\"selection_policy\":{\"type\":\"object\",\"name\":\"UnionRenderers\",\"id\":\"p1654\"},\"data\":{\"type\":\"map\",\"entries\":[[\"x\",{\"type\":\"ndarray\",\"array\":{\"type\":\"bytes\",\"data\":\"AAAAAAAAAAAAAAAAAABZQAAAAAAAAGlAAAAAAADAckAAAAAAAAB5QAAAAAAAQH9AAAAAAADAgkAAAAAAAOCFQAAAAAAAAIlAAAAAAAAgjEAAAAAAAECPQAAAAAAAMJFAAAAAAADAkkAAAAAAAFCUQAAAAAAA4JVAAAAAAABwl0AAAAAAAACZQAAAAAAAkJpAAAAAAAAgnEAAAAAAALCdQAAAAAAAQJ9AAAAAAABooEAAAAAAADChQAAAAAAA+KFAAAAAAADAokAAAAAAAIijQAAAAAAAUKRAAAAAAAAYpUAAAAAAAOClQAAAAAAAqKZAAAAAAABwp0AAAAAAADioQAAAAAAAAKlAAAAAAADIqUAAAAAAAJCqQAAAAAAAWKtAAAAAAAAgrEAAAAAAAOisQAAAAAAAsK1AAAAAAAB4rkAAAAAAAECvQAAAAAAABLBAAAAAAABosEAAAAAAAMywQAAAAAAAMLFAAAAAAACUsUAAAAAAAPixQAAAAAAAXLJAAAAAAADAskAAAAAAACSzQAAAAAAAiLNAAAAAAADss0AAAAAAAFC0QAAAAAAAtLRAAAAAAAAYtUAAAAAAAHy1QAAAAAAA4LVAAAAAAABEtkAAAAAAAKi2QAAAAAAADLdAAAAAAABwt0AAAAAAANS3QAAAAAAAOLhAAAAAAACcuEAAAAAAAAC5QAAAAAAAZLlAAAAAAADIuUAAAAAAACy6QAAAAAAAkLpAAAAAAAD0ukAAAAAAAFi7QAAAAAAAvLtAAAAAAAAgvEAAAAAAAIS8QAAAAAAA6LxAAAAAAABMvUAAAAAAALC9QAAAAAAAFL5AAAAAAAB4vkAAAAAAANy+QAAAAAAAQL9AAAAAAACkv0AAAAAAAATAQAAAAAAANsBAAAAAAABowEAAAAAAAJrAQAAAAAAAzMBAAAAAAAD+wEAAAAAAADDBQAAAAAAAYsFAAAAAAACUwUAAAAAAAMbBQAAAAAAA+MFAAAAAAAAqwkAAAAAAAFzCQAAAAAAAjsJAAAAAAADAwkAAAAAAAPLCQAAAAAAAJMNAAAAAAABWw0AAAAAAAIjDQA==\"},\"shape\":[101],\"dtype\":\"float64\",\"order\":\"little\"}],[\"y\",{\"type\":\"ndarray\",\"array\":{\"type\":\"bytes\",\"data\":\"AAAAAAAAKEBb+7yrBQAoQCJTObELAChAGt7oFRIAKEB4z/7gGAAoQKSN4RggAChAoBiRxScAKED9CafuLwAoQPaUVp04AChAvOzS2kEAKEBPERyxSwAoQOA1ZStWAChAclquVWEAKEDUS8Q8bQAoQGVwDe95AChALMiJfIcAKEAkUzn1lQAoQLd3gmulAChA4zVl87UAKEAO9EejxwAoQHDlXZLaAChAZ3AN2+4AKEDGYSOaBAEoQMDs0u4bAShAuHeC+zQBKEB/z/7mTwEoQBL0R9tsAShA2EvEBowBKEBqcA2drQEoQJYu8NbRAShAW4Zs9PgBKEC6d4I7IwIoQBppmPpQAihAelquiYICKEA/sipLuAIoQAYKp6zyAihA/pRWKTIDKEBdhmxMdwMoQLx3grPCAyhA6DVlDxUEKECvjeEobwQoQKgYkeXRBChA1NZzST4FKECaLvB+tQUoQJK5n9s4BihAWBEc6ckGKEC4AjJsagcoQH1arnEcCChAEH/3W+IIKEDW1nPxvgkoQJwu8HK1CihAlLmfs8kLKEDBd4I1AA0oQLoCMlJeDihAso3haOoPKECsGJEZrBEoQD492o+sEyhABJVW4/YVKEDK7NKOmBgoQFwRHA2iGyhAugIynicfKEAZ9EdHQiMoQEWyKh0RKChACwqn6LotKEBp+7w/cDQoQMns0ihuPChAKN7oTQFGKECHz/6wiVEoQEwne4p+XyhArBiRbXFwKECko0DqDoUoQAKVVo0ZnihA/B8G7lq8KEDBd4IXh+AoQFOcy5kTCylAf1quCQ48KUASf/d/B3MpQNfWcx0mrylAnC7whlfvKUAvUzlRijIqQMF3gpPVdypAU5zLiYe+KkAY9EdnIgYrQEWyKotRTitApKNA4t2WK0AClVZVpN8rQMns0tKOKCxAWxEcmY9xLEC6AjIgnrosQOXAFCC1Ay1A30vEWNFMLUA9PdrH8JUtQDbIiTAS3y1AL1M50TQoLkBaERwxWHEuQCBpmAZ8ui5Af1quJaADL0DfS8RwxEwvQHBwDdfolS9Az2EjTg3fL0DL3M/nGBQwQA==\"},\"shape\":[101],\"dtype\":\"float64\",\"order\":\"little\"}]]}}},\"view\":{\"type\":\"object\",\"name\":\"CDSView\",\"id\":\"p1662\",\"attributes\":{\"filter\":{\"type\":\"object\",\"name\":\"AllIndices\",\"id\":\"p1663\"}}},\"glyph\":{\"type\":\"object\",\"name\":\"Line\",\"id\":\"p1658\",\"attributes\":{\"tags\":[\"apply_ranges\"],\"x\":{\"type\":\"field\",\"field\":\"x\"},\"y\":{\"type\":\"field\",\"field\":\"y\"},\"line_color\":\"#30123b\",\"line_width\":2}},\"selection_glyph\":{\"type\":\"object\",\"name\":\"Line\",\"id\":\"p1666\",\"attributes\":{\"tags\":[\"apply_ranges\"],\"x\":{\"type\":\"field\",\"field\":\"x\"},\"y\":{\"type\":\"field\",\"field\":\"y\"},\"line_color\":\"#30123b\",\"line_width\":2}},\"nonselection_glyph\":{\"type\":\"object\",\"name\":\"Line\",\"id\":\"p1659\",\"attributes\":{\"tags\":[\"apply_ranges\"],\"x\":{\"type\":\"field\",\"field\":\"x\"},\"y\":{\"type\":\"field\",\"field\":\"y\"},\"line_color\":\"#30123b\",\"line_alpha\":0.1,\"line_width\":2}},\"muted_glyph\":{\"type\":\"object\",\"name\":\"Line\",\"id\":\"p1660\",\"attributes\":{\"tags\":[\"apply_ranges\"],\"x\":{\"type\":\"field\",\"field\":\"x\"},\"y\":{\"type\":\"field\",\"field\":\"y\"},\"line_color\":\"#30123b\",\"line_alpha\":0.2,\"line_width\":2}}}},{\"type\":\"object\",\"name\":\"GlyphRenderer\",\"id\":\"p1676\",\"attributes\":{\"name\":\"\\u6c34\\u4f4d:0.5\\u6642\\u9593\\u5f8c\",\"data_source\":{\"type\":\"object\",\"name\":\"ColumnDataSource\",\"id\":\"p1667\",\"attributes\":{\"selected\":{\"type\":\"object\",\"name\":\"Selection\",\"id\":\"p1668\",\"attributes\":{\"indices\":[],\"line_indices\":[]}},\"selection_policy\":{\"type\":\"object\",\"name\":\"UnionRenderers\",\"id\":\"p1669\"},\"data\":{\"type\":\"map\",\"entries\":[[\"x\",{\"type\":\"ndarray\",\"array\":{\"type\":\"bytes\",\"data\":\"AAAAAAAAAAAAAAAAAABZQAAAAAAAAGlAAAAAAADAckAAAAAAAAB5QAAAAAAAQH9AAAAAAADAgkAAAAAAAOCFQAAAAAAAAIlAAAAAAAAgjEAAAAAAAECPQAAAAAAAMJFAAAAAAADAkkAAAAAAAFCUQAAAAAAA4JVAAAAAAABwl0AAAAAAAACZQAAAAAAAkJpAAAAAAAAgnEAAAAAAALCdQAAAAAAAQJ9AAAAAAABooEAAAAAAADChQAAAAAAA+KFAAAAAAADAokAAAAAAAIijQAAAAAAAUKRAAAAAAAAYpUAAAAAAAOClQAAAAAAAqKZAAAAAAABwp0AAAAAAADioQAAAAAAAAKlAAAAAAADIqUAAAAAAAJCqQAAAAAAAWKtAAAAAAAAgrEAAAAAAAOisQAAAAAAAsK1AAAAAAAB4rkAAAAAAAECvQAAAAAAABLBAAAAAAABosEAAAAAAAMywQAAAAAAAMLFAAAAAAACUsUAAAAAAAPixQAAAAAAAXLJAAAAAAADAskAAAAAAACSzQAAAAAAAiLNAAAAAAADss0AAAAAAAFC0QAAAAAAAtLRAAAAAAAAYtUAAAAAAAHy1QAAAAAAA4LVAAAAAAABEtkAAAAAAAKi2QAAAAAAADLdAAAAAAABwt0AAAAAAANS3QAAAAAAAOLhAAAAAAACcuEAAAAAAAAC5QAAAAAAAZLlAAAAAAADIuUAAAAAAACy6QAAAAAAAkLpAAAAAAAD0ukAAAAAAAFi7QAAAAAAAvLtAAAAAAAAgvEAAAAAAAIS8QAAAAAAA6LxAAAAAAABMvUAAAAAAALC9QAAAAAAAFL5AAAAAAAB4vkAAAAAAANy+QAAAAAAAQL9AAAAAAACkv0AAAAAAAATAQAAAAAAANsBAAAAAAABowEAAAAAAAJrAQAAAAAAAzMBAAAAAAAD+wEAAAAAAADDBQAAAAAAAYsFAAAAAAACUwUAAAAAAAMbBQAAAAAAA+MFAAAAAAAAqwkAAAAAAAFzCQAAAAAAAjsJAAAAAAADAwkAAAAAAAPLCQAAAAAAAJMNAAAAAAABWw0AAAAAAAIjDQA==\"},\"shape\":[101],\"dtype\":\"float64\",\"order\":\"little\"}],[\"y\",{\"type\":\"ndarray\",\"array\":{\"type\":\"bytes\",\"data\":\"AAAAAAAAKEANl1d1BgAoQAxwXFcNAChAFFEZrRQAKEBgrbx+HAAoQHg1X9UkAChA4xHfui0AKEAikOk4NwAoQPZ4nFtBAChAvFNWL0wAKECHT+nAVwAoQMcoZB9kAChAhjU8WnEAKEBoNwyDfwAoQPTtgKyOAChA0KI/654AKEBMgV9WsAAoQIJx2wXDAChAXs5iFdcAKEBNQrqi7AAoQFi3Es4DAShArn/vuxwBKECOdzOUNwEoQJdDuoJUAShA/Fp8t3MBKEDQPglplQEoQFxfiNK5AShAEYJ0NuEBKEA7VHHeCwIoQIAbPBw6AihA2qy0S2wCKECXcpLTogIoQPzkKSfeAihAYU9Axx4DKEBh8xdFZQMoQM9+TUWyAyhAfpoYgAYEKEDL/B3IYgQoQDBjYwvIBChAKMtgWDcFKEDSj77ksQUoQJ68HxI5BihAhG1Vdc4GKEAjsSPhcwcoQGKjk24rCChA2ogsi/cIKEAD8t4H2wkoQCB2nyrZCihAKXsZxfULKECmwLxPNQ0oQNVJqAmdDihA8Qo+ITMQKECgC63j/hEoQIrpxPYIFChAF/MxolsWKEDXIbIlAxkoQAZYSyIOHChAlI0YGo4fKECLt6YJmCMoQMilPBtFKChA5HrbeLMtKEAkjgA4BzQoQByohVhrOyhAGJBbwhJEKEDs/P4eOU4oQPnaU10jWihAYOjYgh9oKECrfwZvg3goQEC8IxiqiyhAHZb1++6hKEBkRpzop7soQKR3BOId2ShA9fjJpob6KEDowDKdACApQLaUXDWSSSlAJ9GHPix3KUCWkmgZragpQA1Q2Lji3SlAuMApB4sWKkCbUXpaVFIqQPCuP/PfkCpAqmvcMsfRKkB5YFmAohQrQNFd0fQPWStAfnSWVLieK0AsXKmwUeUrQKTm9uqfLCxAyfkWvnN0LECFdur1qLwsQMZjpW8kBS1AbPFGKNJNLUB8Q4SOo5YtQET5LSSO3y1AExjwaoooLkALZfESk3EuQAqQh1qkui5AgTQ5oLsDL0DyqSUM10wvQFAaAVf1lS9AOb6nmxXfL0DL3M+dGxQwQA==\"},\"shape\":[101],\"dtype\":\"float64\",\"order\":\"little\"}]]}}},\"view\":{\"type\":\"object\",\"name\":\"CDSView\",\"id\":\"p1677\",\"attributes\":{\"filter\":{\"type\":\"object\",\"name\":\"AllIndices\",\"id\":\"p1678\"}}},\"glyph\":{\"type\":\"object\",\"name\":\"Line\",\"id\":\"p1673\",\"attributes\":{\"tags\":[\"apply_ranges\"],\"x\":{\"type\":\"field\",\"field\":\"x\"},\"y\":{\"type\":\"field\",\"field\":\"y\"},\"line_color\":\"#2ab9ed\",\"line_width\":2}},\"selection_glyph\":{\"type\":\"object\",\"name\":\"Line\",\"id\":\"p1680\",\"attributes\":{\"tags\":[\"apply_ranges\"],\"x\":{\"type\":\"field\",\"field\":\"x\"},\"y\":{\"type\":\"field\",\"field\":\"y\"},\"line_color\":\"#2ab9ed\",\"line_width\":2}},\"nonselection_glyph\":{\"type\":\"object\",\"name\":\"Line\",\"id\":\"p1674\",\"attributes\":{\"tags\":[\"apply_ranges\"],\"x\":{\"type\":\"field\",\"field\":\"x\"},\"y\":{\"type\":\"field\",\"field\":\"y\"},\"line_color\":\"#2ab9ed\",\"line_alpha\":0.1,\"line_width\":2}},\"muted_glyph\":{\"type\":\"object\",\"name\":\"Line\",\"id\":\"p1675\",\"attributes\":{\"tags\":[\"apply_ranges\"],\"x\":{\"type\":\"field\",\"field\":\"x\"},\"y\":{\"type\":\"field\",\"field\":\"y\"},\"line_color\":\"#2ab9ed\",\"line_alpha\":0.2,\"line_width\":2}}}},{\"type\":\"object\",\"name\":\"GlyphRenderer\",\"id\":\"p1690\",\"attributes\":{\"name\":\"\\u6c34\\u4f4d:1.0\\u6642\\u9593\\u5f8c\",\"data_source\":{\"type\":\"object\",\"name\":\"ColumnDataSource\",\"id\":\"p1681\",\"attributes\":{\"selected\":{\"type\":\"object\",\"name\":\"Selection\",\"id\":\"p1682\",\"attributes\":{\"indices\":[],\"line_indices\":[]}},\"selection_policy\":{\"type\":\"object\",\"name\":\"UnionRenderers\",\"id\":\"p1683\"},\"data\":{\"type\":\"map\",\"entries\":[[\"x\",{\"type\":\"ndarray\",\"array\":{\"type\":\"bytes\",\"data\":\"AAAAAAAAAAAAAAAAAABZQAAAAAAAAGlAAAAAAADAckAAAAAAAAB5QAAAAAAAQH9AAAAAAADAgkAAAAAAAOCFQAAAAAAAAIlAAAAAAAAgjEAAAAAAAECPQAAAAAAAMJFAAAAAAADAkkAAAAAAAFCUQAAAAAAA4JVAAAAAAABwl0AAAAAAAACZQAAAAAAAkJpAAAAAAAAgnEAAAAAAALCdQAAAAAAAQJ9AAAAAAABooEAAAAAAADChQAAAAAAA+KFAAAAAAADAokAAAAAAAIijQAAAAAAAUKRAAAAAAAAYpUAAAAAAAOClQAAAAAAAqKZAAAAAAABwp0AAAAAAADioQAAAAAAAAKlAAAAAAADIqUAAAAAAAJCqQAAAAAAAWKtAAAAAAAAgrEAAAAAAAOisQAAAAAAAsK1AAAAAAAB4rkAAAAAAAECvQAAAAAAABLBAAAAAAABosEAAAAAAAMywQAAAAAAAMLFAAAAAAACUsUAAAAAAAPixQAAAAAAAXLJAAAAAAADAskAAAAAAACSzQAAAAAAAiLNAAAAAAADss0AAAAAAAFC0QAAAAAAAtLRAAAAAAAAYtUAAAAAAAHy1QAAAAAAA4LVAAAAAAABEtkAAAAAAAKi2QAAAAAAADLdAAAAAAABwt0AAAAAAANS3QAAAAAAAOLhAAAAAAACcuEAAAAAAAAC5QAAAAAAAZLlAAAAAAADIuUAAAAAAACy6QAAAAAAAkLpAAAAAAAD0ukAAAAAAAFi7QAAAAAAAvLtAAAAAAAAgvEAAAAAAAIS8QAAAAAAA6LxAAAAAAABMvUAAAAAAALC9QAAAAAAAFL5AAAAAAAB4vkAAAAAAANy+QAAAAAAAQL9AAAAAAACkv0AAAAAAAATAQAAAAAAANsBAAAAAAABowEAAAAAAAJrAQAAAAAAAzMBAAAAAAAD+wEAAAAAAADDBQAAAAAAAYsFAAAAAAACUwUAAAAAAAMbBQAAAAAAA+MFAAAAAAAAqwkAAAAAAAFzCQAAAAAAAjsJAAAAAAADAwkAAAAAAAPLCQAAAAAAAJMNAAAAAAABWw0AAAAAAAIjDQA==\"},\"shape\":[101],\"dtype\":\"float64\",\"order\":\"little\"}],[\"y\",{\"type\":\"ndarray\",\"array\":{\"type\":\"bytes\",\"data\":\"AAAAAAAAKEC8IQJxBwAoQH9UUmUPAChAcf5O5xcAKEB4enwBIQAoQOBP+74qAChAFYfQLDUAKEB+FldYQAAoQCVz4FBMAChAM+B+JlkAKEBVvGHqZgAoQFsj9a91AChAEoLEjIUAKEADTIWXlgAoQD+E4umoAChAWxHVn7wAKECsPSDY0QAoQPs58rPoAChAspdyWAEBKECsXwvvGwEoQEHwzqQ4AShA5rPIq1cBKEBkz2U7eQEoQGgEkJGdAShAu8jb8sQBKEBuU/uq7wEoQBQFDA8eAihA8EghflACKECs1AdihwIoQB5JPDLDAihADGzgcwQDKEDk1wm9SwMoQL2xabeZAyhAfl1EIu8DKEA/JbLVTAQoQFmkvMazBChATOC1DCUFKECFNyzkoQUoQDrv07crBihArfT+JMQGKEBz388GbQcoQLCUIn4oCChA/Jhi//gIKEB6Hhxf4QkoQLxJw+PkCihAotxZWgcMKEC2eossTQ0oQOiBd367DihASOXqUFgQKEAdIPeoKhIoQDPjAL46FChARy/vNJIWKEAoljlgPBkoQGkBwoxGHChAu8KQWcAfKEA2rMUbvCMoQFxcI0xPKChANYdI+pItKEAh3r5CpDMoQG6KWrikOihAHjiMsrpCKEA8+SpqEUwoQPhvR8HYVihAaxe1lERjKEAEzo5yi3EoQAYjo5zkgShA4fJcWoWUKEDciIDVnakoQBHelO1VwShAfBDuqcrbKEDU1gcDDfkoQEcsYIgiGSlAoctP/gc8KUAjin1wtWEpQNA0s5ciiilACEMHM0q1KUAC89UMK+MpQKcoVDLGEypAekue5xpHKkD8eyHDIX0qQPgK0nrItSpAiKIVd+/wKkBs19uxaS4rQBhLEcX+bStAbtK/lm6vK0ArVkbBdfIrQHB7BdnRNixAT4vq4ER8LECvnuSQl8IsQEPx1HSaCS1A5iPLEiZRLUBPATtvGpktQEq7Pyte4S1Aujk1ft0pLkDjlBg2iXIuQFZFKcZVuy5AT40sgDoEL0CyoBjrME0vQF5Uijk0li9AeAqu40DfL0D+DwMpKhQwQA==\"},\"shape\":[101],\"dtype\":\"float64\",\"order\":\"little\"}]]}}},\"view\":{\"type\":\"object\",\"name\":\"CDSView\",\"id\":\"p1691\",\"attributes\":{\"filter\":{\"type\":\"object\",\"name\":\"AllIndices\",\"id\":\"p1692\"}}},\"glyph\":{\"type\":\"object\",\"name\":\"Line\",\"id\":\"p1687\",\"attributes\":{\"tags\":[\"apply_ranges\"],\"x\":{\"type\":\"field\",\"field\":\"x\"},\"y\":{\"type\":\"field\",\"field\":\"y\"},\"line_color\":\"#a1fc3d\",\"line_width\":2}},\"selection_glyph\":{\"type\":\"object\",\"name\":\"Line\",\"id\":\"p1694\",\"attributes\":{\"tags\":[\"apply_ranges\"],\"x\":{\"type\":\"field\",\"field\":\"x\"},\"y\":{\"type\":\"field\",\"field\":\"y\"},\"line_color\":\"#a1fc3d\",\"line_width\":2}},\"nonselection_glyph\":{\"type\":\"object\",\"name\":\"Line\",\"id\":\"p1688\",\"attributes\":{\"tags\":[\"apply_ranges\"],\"x\":{\"type\":\"field\",\"field\":\"x\"},\"y\":{\"type\":\"field\",\"field\":\"y\"},\"line_color\":\"#a1fc3d\",\"line_alpha\":0.1,\"line_width\":2}},\"muted_glyph\":{\"type\":\"object\",\"name\":\"Line\",\"id\":\"p1689\",\"attributes\":{\"tags\":[\"apply_ranges\"],\"x\":{\"type\":\"field\",\"field\":\"x\"},\"y\":{\"type\":\"field\",\"field\":\"y\"},\"line_color\":\"#a1fc3d\",\"line_alpha\":0.2,\"line_width\":2}}}},{\"type\":\"object\",\"name\":\"GlyphRenderer\",\"id\":\"p1704\",\"attributes\":{\"name\":\"\\u6c34\\u4f4d:1.5\\u6642\\u9593\\u5f8c\",\"data_source\":{\"type\":\"object\",\"name\":\"ColumnDataSource\",\"id\":\"p1695\",\"attributes\":{\"selected\":{\"type\":\"object\",\"name\":\"Selection\",\"id\":\"p1696\",\"attributes\":{\"indices\":[],\"line_indices\":[]}},\"selection_policy\":{\"type\":\"object\",\"name\":\"UnionRenderers\",\"id\":\"p1697\"},\"data\":{\"type\":\"map\",\"entries\":[[\"x\",{\"type\":\"ndarray\",\"array\":{\"type\":\"bytes\",\"data\":\"AAAAAAAAAAAAAAAAAABZQAAAAAAAAGlAAAAAAADAckAAAAAAAAB5QAAAAAAAQH9AAAAAAADAgkAAAAAAAOCFQAAAAAAAAIlAAAAAAAAgjEAAAAAAAECPQAAAAAAAMJFAAAAAAADAkkAAAAAAAFCUQAAAAAAA4JVAAAAAAABwl0AAAAAAAACZQAAAAAAAkJpAAAAAAAAgnEAAAAAAALCdQAAAAAAAQJ9AAAAAAABooEAAAAAAADChQAAAAAAA+KFAAAAAAADAokAAAAAAAIijQAAAAAAAUKRAAAAAAAAYpUAAAAAAAOClQAAAAAAAqKZAAAAAAABwp0AAAAAAADioQAAAAAAAAKlAAAAAAADIqUAAAAAAAJCqQAAAAAAAWKtAAAAAAAAgrEAAAAAAAOisQAAAAAAAsK1AAAAAAAB4rkAAAAAAAECvQAAAAAAABLBAAAAAAABosEAAAAAAAMywQAAAAAAAMLFAAAAAAACUsUAAAAAAAPixQAAAAAAAXLJAAAAAAADAskAAAAAAACSzQAAAAAAAiLNAAAAAAADss0AAAAAAAFC0QAAAAAAAtLRAAAAAAAAYtUAAAAAAAHy1QAAAAAAA4LVAAAAAAABEtkAAAAAAAKi2QAAAAAAADLdAAAAAAABwt0AAAAAAANS3QAAAAAAAOLhAAAAAAACcuEAAAAAAAAC5QAAAAAAAZLlAAAAAAADIuUAAAAAAACy6QAAAAAAAkLpAAAAAAAD0ukAAAAAAAFi7QAAAAAAAvLtAAAAAAAAgvEAAAAAAAIS8QAAAAAAA6LxAAAAAAABMvUAAAAAAALC9QAAAAAAAFL5AAAAAAAB4vkAAAAAAANy+QAAAAAAAQL9AAAAAAACkv0AAAAAAAATAQAAAAAAANsBAAAAAAABowEAAAAAAAJrAQAAAAAAAzMBAAAAAAAD+wEAAAAAAADDBQAAAAAAAYsFAAAAAAACUwUAAAAAAAMbBQAAAAAAA+MFAAAAAAAAqwkAAAAAAAFzCQAAAAAAAjsJAAAAAAADAwkAAAAAAAPLCQAAAAAAAJMNAAAAAAABWw0AAAAAAAIjDQA==\"},\"shape\":[101],\"dtype\":\"float64\",\"order\":\"little\"}],[\"y\",{\"type\":\"ndarray\",\"array\":{\"type\":\"bytes\",\"data\":\"AAAAAAAAKEAdcdGqCAAoQPmRyfcRAChAL6fy8hsAKEBZ2WuqJgAoQMnu7SwyAChA8HxDiz4AKEBS7UzXSwAoQMP2lCRaAChAYFPXiGkAKEDyJeAaegAoQP8UXfWLAChAHxMENJ8AKEDu10H2swAoQEKEoV7KAChAERDtkuIAKEDOnQG9/AAoQO6PjAsZAShAAOkQsTcBKEBkF9HmWAEoQNoj++t8AShACpxNBqQBKEBHgiyEzgEoQPkG8rz8AShAGZgQES8CKED8RwHuZQIoQCQ5lM2hAihANkqeOOMCKEDB//7IKgMoQIjQwyt5AyhA5RQDJc8DKEAZjCySLQQoQO1hOm2VBChAQ3ZQ0gcFKEDq+C0EhgUoQAAucnMRBihAXpN4w6sGKEBkGdTUVgcoQBP5bM0UCChAwAaxJOgIKEDNbLew0wkoQM/aDbbaCihAyl+M+QAMKEAJUzXXSg0oQKY9flq9DihAhAIEXF4QKEC6feqkNBIoQHJ2FxVIFChA/iL00qEWKEBwEBx+TBkoQMDtFWtUHChA9nlf4scfKECwSWZntyMoQLClUv41KChAkWl7cVktKEAguvKOOjMoQIJKMFL1OShASZaD8KhBKEC563m0d0ooQGdE95iGVChAE76ki/xfKEC/rslRAW0oQMcZJQC8eyhAXfeWIFGMKEBAF4qj4J4oQK5aU+WDsyhAlgkvI0zKKEB4kAGsQeMoQLQMVh5k/ihAfaBDwKsbKUArSfzZCzspQJCOQbx1XClAf/S2Atx/KUDJbViUNaUpQK9YIN1/zClAyiN/1b/1KUC5I1V8ASEqQDxOb9xVTipAx+OR9c99KkAg7+wzga8qQPZBMw924ypAnouYJrMZK0DK4tEgM1IrQFSlnIXljCtAzMPXrq7JK0AjHTTiaAgsQITgpXDmSCxAE37ohPSKLEDbIr8uXs4sQFq5gT7vEi1AKt+IjnZYLUCZGcOex54tQGBBHHO75S1AVggj1DAtLkDzu+EdDHUuQAiKSMI2vS5AjZUZpp4FL0CwBB91NU4vQGgQn/bvli9APR06ecXfL0BkdmmnVxQwQA==\"},\"shape\":[101],\"dtype\":\"float64\",\"order\":\"little\"}]]}}},\"view\":{\"type\":\"object\",\"name\":\"CDSView\",\"id\":\"p1705\",\"attributes\":{\"filter\":{\"type\":\"object\",\"name\":\"AllIndices\",\"id\":\"p1706\"}}},\"glyph\":{\"type\":\"object\",\"name\":\"Line\",\"id\":\"p1701\",\"attributes\":{\"tags\":[\"apply_ranges\"],\"x\":{\"type\":\"field\",\"field\":\"x\"},\"y\":{\"type\":\"field\",\"field\":\"y\"},\"line_color\":\"#fb8022\",\"line_width\":2}},\"selection_glyph\":{\"type\":\"object\",\"name\":\"Line\",\"id\":\"p1708\",\"attributes\":{\"tags\":[\"apply_ranges\"],\"x\":{\"type\":\"field\",\"field\":\"x\"},\"y\":{\"type\":\"field\",\"field\":\"y\"},\"line_color\":\"#fb8022\",\"line_width\":2}},\"nonselection_glyph\":{\"type\":\"object\",\"name\":\"Line\",\"id\":\"p1702\",\"attributes\":{\"tags\":[\"apply_ranges\"],\"x\":{\"type\":\"field\",\"field\":\"x\"},\"y\":{\"type\":\"field\",\"field\":\"y\"},\"line_color\":\"#fb8022\",\"line_alpha\":0.1,\"line_width\":2}},\"muted_glyph\":{\"type\":\"object\",\"name\":\"Line\",\"id\":\"p1703\",\"attributes\":{\"tags\":[\"apply_ranges\"],\"x\":{\"type\":\"field\",\"field\":\"x\"},\"y\":{\"type\":\"field\",\"field\":\"y\"},\"line_color\":\"#fb8022\",\"line_alpha\":0.2,\"line_width\":2}}}},{\"type\":\"object\",\"name\":\"GlyphRenderer\",\"id\":\"p1718\",\"attributes\":{\"name\":\"\\u6c34\\u4f4d:2.0\\u6642\\u9593\\u5f8c\",\"data_source\":{\"type\":\"object\",\"name\":\"ColumnDataSource\",\"id\":\"p1709\",\"attributes\":{\"selected\":{\"type\":\"object\",\"name\":\"Selection\",\"id\":\"p1710\",\"attributes\":{\"indices\":[],\"line_indices\":[]}},\"selection_policy\":{\"type\":\"object\",\"name\":\"UnionRenderers\",\"id\":\"p1711\"},\"data\":{\"type\":\"map\",\"entries\":[[\"x\",{\"type\":\"ndarray\",\"array\":{\"type\":\"bytes\",\"data\":\"AAAAAAAAAAAAAAAAAABZQAAAAAAAAGlAAAAAAADAckAAAAAAAAB5QAAAAAAAQH9AAAAAAADAgkAAAAAAAOCFQAAAAAAAAIlAAAAAAAAgjEAAAAAAAECPQAAAAAAAMJFAAAAAAADAkkAAAAAAAFCUQAAAAAAA4JVAAAAAAABwl0AAAAAAAACZQAAAAAAAkJpAAAAAAAAgnEAAAAAAALCdQAAAAAAAQJ9AAAAAAABooEAAAAAAADChQAAAAAAA+KFAAAAAAADAokAAAAAAAIijQAAAAAAAUKRAAAAAAAAYpUAAAAAAAOClQAAAAAAAqKZAAAAAAABwp0AAAAAAADioQAAAAAAAAKlAAAAAAADIqUAAAAAAAJCqQAAAAAAAWKtAAAAAAAAgrEAAAAAAAOisQAAAAAAAsK1AAAAAAAB4rkAAAAAAAECvQAAAAAAABLBAAAAAAABosEAAAAAAAMywQAAAAAAAMLFAAAAAAACUsUAAAAAAAPixQAAAAAAAXLJAAAAAAADAskAAAAAAACSzQAAAAAAAiLNAAAAAAADss0AAAAAAAFC0QAAAAAAAtLRAAAAAAAAYtUAAAAAAAHy1QAAAAAAA4LVAAAAAAABEtkAAAAAAAKi2QAAAAAAADLdAAAAAAABwt0AAAAAAANS3QAAAAAAAOLhAAAAAAACcuEAAAAAAAAC5QAAAAAAAZLlAAAAAAADIuUAAAAAAACy6QAAAAAAAkLpAAAAAAAD0ukAAAAAAAFi7QAAAAAAAvLtAAAAAAAAgvEAAAAAAAIS8QAAAAAAA6LxAAAAAAABMvUAAAAAAALC9QAAAAAAAFL5AAAAAAAB4vkAAAAAAANy+QAAAAAAAQL9AAAAAAACkv0AAAAAAAATAQAAAAAAANsBAAAAAAABowEAAAAAAAJrAQAAAAAAAzMBAAAAAAAD+wEAAAAAAADDBQAAAAAAAYsFAAAAAAACUwUAAAAAAAMbBQAAAAAAA+MFAAAAAAAAqwkAAAAAAAFzCQAAAAAAAjsJAAAAAAADAwkAAAAAAAPLCQAAAAAAAJMNAAAAAAABWw0AAAAAAAIjDQA==\"},\"shape\":[101],\"dtype\":\"float64\",\"order\":\"little\"}],[\"y\",{\"type\":\"ndarray\",\"array\":{\"type\":\"bytes\",\"data\":\"RMOciS8BKEBYymRmOgEoQGjXIwNGAShA/RVgb1IBKEBKFMa9XwEoQNzA/QBuAShAAxMVTn0BKEDet3G8jQEoQHrbs2WfAShAXF/sZbIBKED8N7/bxgEoQOJWo+ncAShABEJytfQBKEAOn0NoDgIoQN3pkzAqAihAAO+AQUgCKED85n3TaAIoQG/CGSaMAihAbqw1f7ICKEACwkct3AIoQCwMb4cJAyhAZjRY7zoDKEC+PIfScAMoQIrsAaurAyhAqp2KAuwDKEBgtJpzMgQoQLp45ax/BChACW6SctQEKECG8SqjMQUoQMzP0TmYBShAAIKUVAkGKECCXDA3hgYoQE3+9FEQByhAlJSKSakHKEBUowz+UggoQExojJMPCShAh2JqfuEJKEBgk9+OywooQJBqDgHRCyhA+Vo1jPUMKEDCF7x3PQ4oQM7WcrKtDyhAyGmM7EsRKEDUS1e1HhMoQIp1Xp4tFShAzBi7YYEXKEAfcIgOJBooQL4bkzQhHShAqZ2OGYYgKEB+N/PpYSQoQDcHE+vFKChAmQgspsUtKEBAMaEJdzMoQDE4c3TyOShA0/OxpFJBKECBsLd/tEkoQPEJ8582UyhAycLxpvhdKEB864lHGmooQGxmuQ66dyhAyWMZ9fOGKECxDsTd35coQPQJ8iiQqihA4IOFmBC/KEC2tQSzZdUoQJTae9CM7ShACxq74HwHKUB1nhHRJyMpQMCRKHF8QClAZI7BlWhfKUBb774/238pQDAeR5nGoSlAdoXOmyHFKUC2EslL6ekpQJa9G2ghECpANB8RZ9Q3KkA44x+0EmEqQMRnQDfxiypAJDJFZIe4KkALzzEi7eYqQJbSOr44FytAV/UWAn1JK0D52/5ux30rQCh+d68etCtALxwfUIHsK0Axekf45CYsQMoL4z42YyxAczV4OFmhLEB4R+nAKuEsQAOFx1eCIi1AOrH8TDRlLUDD+Ff/E6ktQPNv6tv17S1AxJlG9rAzLkBtzSkkIHouQGvDyJUiwS5AJGsKB5wIL0AjpRiddFAvQDr/xZKYmC9ACpd4wvfgL0DL3M+TwhQwQA==\"},\"shape\":[101],\"dtype\":\"float64\",\"order\":\"little\"}]]}}},\"view\":{\"type\":\"object\",\"name\":\"CDSView\",\"id\":\"p1719\",\"attributes\":{\"filter\":{\"type\":\"object\",\"name\":\"AllIndices\",\"id\":\"p1720\"}}},\"glyph\":{\"type\":\"object\",\"name\":\"Line\",\"id\":\"p1715\",\"attributes\":{\"tags\":[\"apply_ranges\"],\"x\":{\"type\":\"field\",\"field\":\"x\"},\"y\":{\"type\":\"field\",\"field\":\"y\"},\"line_color\":\"#7a0402\",\"line_width\":2}},\"selection_glyph\":{\"type\":\"object\",\"name\":\"Line\",\"id\":\"p1722\",\"attributes\":{\"tags\":[\"apply_ranges\"],\"x\":{\"type\":\"field\",\"field\":\"x\"},\"y\":{\"type\":\"field\",\"field\":\"y\"},\"line_color\":\"#7a0402\",\"line_width\":2}},\"nonselection_glyph\":{\"type\":\"object\",\"name\":\"Line\",\"id\":\"p1716\",\"attributes\":{\"tags\":[\"apply_ranges\"],\"x\":{\"type\":\"field\",\"field\":\"x\"},\"y\":{\"type\":\"field\",\"field\":\"y\"},\"line_color\":\"#7a0402\",\"line_alpha\":0.1,\"line_width\":2}},\"muted_glyph\":{\"type\":\"object\",\"name\":\"Line\",\"id\":\"p1717\",\"attributes\":{\"tags\":[\"apply_ranges\"],\"x\":{\"type\":\"field\",\"field\":\"x\"},\"y\":{\"type\":\"field\",\"field\":\"y\"},\"line_color\":\"#7a0402\",\"line_alpha\":0.2,\"line_width\":2}}}},{\"type\":\"object\",\"name\":\"GlyphRenderer\",\"id\":\"p1732\",\"attributes\":{\"name\":\"\\u6cb3\\u5e8a\\u9ad8:0.0\\u6642\\u9593\\u5f8c\",\"data_source\":{\"type\":\"object\",\"name\":\"ColumnDataSource\",\"id\":\"p1723\",\"attributes\":{\"selected\":{\"type\":\"object\",\"name\":\"Selection\",\"id\":\"p1724\",\"attributes\":{\"indices\":[],\"line_indices\":[]}},\"selection_policy\":{\"type\":\"object\",\"name\":\"UnionRenderers\",\"id\":\"p1725\"},\"data\":{\"type\":\"map\",\"entries\":[[\"x\",{\"type\":\"ndarray\",\"array\":{\"type\":\"bytes\",\"data\":\"AAAAAAAAAAAAAAAAAABZQAAAAAAAAGlAAAAAAADAckAAAAAAAAB5QAAAAAAAQH9AAAAAAADAgkAAAAAAAOCFQAAAAAAAAIlAAAAAAAAgjEAAAAAAAECPQAAAAAAAMJFAAAAAAADAkkAAAAAAAFCUQAAAAAAA4JVAAAAAAABwl0AAAAAAAACZQAAAAAAAkJpAAAAAAAAgnEAAAAAAALCdQAAAAAAAQJ9AAAAAAABooEAAAAAAADChQAAAAAAA+KFAAAAAAADAokAAAAAAAIijQAAAAAAAUKRAAAAAAAAYpUAAAAAAAOClQAAAAAAAqKZAAAAAAABwp0AAAAAAADioQAAAAAAAAKlAAAAAAADIqUAAAAAAAJCqQAAAAAAAWKtAAAAAAAAgrEAAAAAAAOisQAAAAAAAsK1AAAAAAAB4rkAAAAAAAECvQAAAAAAABLBAAAAAAABosEAAAAAAAMywQAAAAAAAMLFAAAAAAACUsUAAAAAAAPixQAAAAAAAXLJAAAAAAADAskAAAAAAACSzQAAAAAAAiLNAAAAAAADss0AAAAAAAFC0QAAAAAAAtLRAAAAAAAAYtUAAAAAAAHy1QAAAAAAA4LVAAAAAAABEtkAAAAAAAKi2QAAAAAAADLdAAAAAAABwt0AAAAAAANS3QAAAAAAAOLhAAAAAAACcuEAAAAAAAAC5QAAAAAAAZLlAAAAAAADIuUAAAAAAACy6QAAAAAAAkLpAAAAAAAD0ukAAAAAAAFi7QAAAAAAAvLtAAAAAAAAgvEAAAAAAAIS8QAAAAAAA6LxAAAAAAABMvUAAAAAAALC9QAAAAAAAFL5AAAAAAAB4vkAAAAAAANy+QAAAAAAAQL9AAAAAAACkv0AAAAAAAATAQAAAAAAANsBAAAAAAABowEAAAAAAAJrAQAAAAAAAzMBAAAAAAAD+wEAAAAAAADDBQAAAAAAAYsFAAAAAAACUwUAAAAAAAMbBQAAAAAAA+MFAAAAAAAAqwkAAAAAAAFzCQAAAAAAAjsJAAAAAAADAwkAAAAAAAPLCQAAAAAAAJMNAAAAAAABWw0AAAAAAAIjDQA==\"},\"shape\":[101],\"dtype\":\"float64\",\"order\":\"little\"}],[\"y\",{\"type\":\"ndarray\",\"array\":{\"type\":\"bytes\",\"data\":\"AAAAAAAAAACSJEmSJEnCP5IkSZIkSdI/27Zt27Zt2z+SJEmSJEniP7dt27Zt2+Y/27Zt27Zt6z8AAAAAAADwP5IkSZIkSfI/JUmSJEmS9D+3bdu2bdv2P0mSJEmSJPk/27Zt27Zt+z9u27Zt27b9PwAAAAAAAABASZIkSZIkAUCSJEmSJEkCQNu2bdu2bQNAJUmSJEmSBEBu27Zt27YFQLdt27Zt2wZAAAAAAAAACEBJkiRJkiQJQJIkSZIkSQpA27Zt27ZtC0AlSZIkSZIMQG7btm3btg1At23btm3bDkAAAAAAAAAQQCVJkiRJkhBASZIkSZIkEUBu27Zt27YRQJIkSZIkSRJAt23btm3bEkDbtm3btm0TQAAAAAAAABRAJUmSJEmSFEBJkiRJkiQVQG7btm3bthVAkiRJkiRJFkC3bdu2bdsWQNu2bdu2bRdAAAAAAAAAGEAlSZIkSZIYQEmSJEmSJBlAbtu2bdu2GUCSJEmSJEkaQLdt27Zt2xpA27Zt27ZtG0AAAAAAAAAcQCVJkiRJkhxASZIkSZIkHUBu27Zt27YdQJIkSZIkSR5At23btm3bHkDbtm3btm0fQAAAAAAAACBAkiRJkiRJIEAlSZIkSZIgQLdt27Zt2yBASZIkSZIkIUDbtm3btm0hQG7btm3btiFAAAAAAAAAIkCSJEmSJEkiQCVJkiRJkiJAt23btm3bIkBJkiRJkiQjQNu2bdu2bSNAbtu2bdu2I0AAAAAAAAAkQJIkSZIkSSRAJUmSJEmSJEC3bdu2bdskQEmSJEmSJCVA27Zt27ZtJUBu27Zt27YlQAAAAAAAACZAkiRJkiRJJkAlSZIkSZImQLdt27Zt2yZASZIkSZIkJ0Dbtm3btm0nQG7btm3btidAAAAAAAAAKECSJEmSJEkoQCVJkiRJkihAt23btm3bKEBJkiRJkiQpQNu2bdu2bSlAbtu2bdu2KUAAAAAAAAAqQJIkSZIkSSpAJUmSJEmSKkC3bdu2bdsqQEmSJEmSJCtA27Zt27ZtK0Bu27Zt27YrQAAAAAAAACxAkiRJkiRJLEAlSZIkSZIsQA==\"},\"shape\":[101],\"dtype\":\"float64\",\"order\":\"little\"}]]}}},\"view\":{\"type\":\"object\",\"name\":\"CDSView\",\"id\":\"p1733\",\"attributes\":{\"filter\":{\"type\":\"object\",\"name\":\"AllIndices\",\"id\":\"p1734\"}}},\"glyph\":{\"type\":\"object\",\"name\":\"Line\",\"id\":\"p1729\",\"attributes\":{\"tags\":[\"apply_ranges\"],\"x\":{\"type\":\"field\",\"field\":\"x\"},\"y\":{\"type\":\"field\",\"field\":\"y\"},\"line_color\":\"#30123b\",\"line_width\":2,\"line_dash\":[6]}},\"selection_glyph\":{\"type\":\"object\",\"name\":\"Line\",\"id\":\"p1736\",\"attributes\":{\"tags\":[\"apply_ranges\"],\"x\":{\"type\":\"field\",\"field\":\"x\"},\"y\":{\"type\":\"field\",\"field\":\"y\"},\"line_color\":\"#30123b\",\"line_width\":2,\"line_dash\":[6]}},\"nonselection_glyph\":{\"type\":\"object\",\"name\":\"Line\",\"id\":\"p1730\",\"attributes\":{\"tags\":[\"apply_ranges\"],\"x\":{\"type\":\"field\",\"field\":\"x\"},\"y\":{\"type\":\"field\",\"field\":\"y\"},\"line_color\":\"#30123b\",\"line_alpha\":0.1,\"line_width\":2,\"line_dash\":[6]}},\"muted_glyph\":{\"type\":\"object\",\"name\":\"Line\",\"id\":\"p1731\",\"attributes\":{\"tags\":[\"apply_ranges\"],\"x\":{\"type\":\"field\",\"field\":\"x\"},\"y\":{\"type\":\"field\",\"field\":\"y\"},\"line_color\":\"#30123b\",\"line_alpha\":0.2,\"line_width\":2,\"line_dash\":[6]}}}},{\"type\":\"object\",\"name\":\"GlyphRenderer\",\"id\":\"p1746\",\"attributes\":{\"name\":\"\\u6cb3\\u5e8a\\u9ad8:0.5\\u6642\\u9593\\u5f8c\",\"data_source\":{\"type\":\"object\",\"name\":\"ColumnDataSource\",\"id\":\"p1737\",\"attributes\":{\"selected\":{\"type\":\"object\",\"name\":\"Selection\",\"id\":\"p1738\",\"attributes\":{\"indices\":[],\"line_indices\":[]}},\"selection_policy\":{\"type\":\"object\",\"name\":\"UnionRenderers\",\"id\":\"p1739\"},\"data\":{\"type\":\"map\",\"entries\":[[\"x\",{\"type\":\"ndarray\",\"array\":{\"type\":\"bytes\",\"data\":\"AAAAAAAAAAAAAAAAAABZQAAAAAAAAGlAAAAAAADAckAAAAAAAAB5QAAAAAAAQH9AAAAAAADAgkAAAAAAAOCFQAAAAAAAAIlAAAAAAAAgjEAAAAAAAECPQAAAAAAAMJFAAAAAAADAkkAAAAAAAFCUQAAAAAAA4JVAAAAAAABwl0AAAAAAAACZQAAAAAAAkJpAAAAAAAAgnEAAAAAAALCdQAAAAAAAQJ9AAAAAAABooEAAAAAAADChQAAAAAAA+KFAAAAAAADAokAAAAAAAIijQAAAAAAAUKRAAAAAAAAYpUAAAAAAAOClQAAAAAAAqKZAAAAAAABwp0AAAAAAADioQAAAAAAAAKlAAAAAAADIqUAAAAAAAJCqQAAAAAAAWKtAAAAAAAAgrEAAAAAAAOisQAAAAAAAsK1AAAAAAAB4rkAAAAAAAECvQAAAAAAABLBAAAAAAABosEAAAAAAAMywQAAAAAAAMLFAAAAAAACUsUAAAAAAAPixQAAAAAAAXLJAAAAAAADAskAAAAAAACSzQAAAAAAAiLNAAAAAAADss0AAAAAAAFC0QAAAAAAAtLRAAAAAAAAYtUAAAAAAAHy1QAAAAAAA4LVAAAAAAABEtkAAAAAAAKi2QAAAAAAADLdAAAAAAABwt0AAAAAAANS3QAAAAAAAOLhAAAAAAACcuEAAAAAAAAC5QAAAAAAAZLlAAAAAAADIuUAAAAAAACy6QAAAAAAAkLpAAAAAAAD0ukAAAAAAAFi7QAAAAAAAvLtAAAAAAAAgvEAAAAAAAIS8QAAAAAAA6LxAAAAAAABMvUAAAAAAALC9QAAAAAAAFL5AAAAAAAB4vkAAAAAAANy+QAAAAAAAQL9AAAAAAACkv0AAAAAAAATAQAAAAAAANsBAAAAAAABowEAAAAAAAJrAQAAAAAAAzMBAAAAAAAD+wEAAAAAAADDBQAAAAAAAYsFAAAAAAACUwUAAAAAAAMbBQAAAAAAA+MFAAAAAAAAqwkAAAAAAAFzCQAAAAAAAjsJAAAAAAADAwkAAAAAAAPLCQAAAAAAAJMNAAAAAAABWw0AAAAAAAIjDQA==\"},\"shape\":[101],\"dtype\":\"float64\",\"order\":\"little\"}],[\"y\",{\"type\":\"ndarray\",\"array\":{\"type\":\"bytes\",\"data\":\"u+Sk21Ha2j/sndXXAgviPy6UiV6lqOY/OD7x0w1G6z99nMBnOePvP5oojpISQPI/j6Um+GaO9D8XMRRCmNz2P7l3q7ekKvk/JYGtiIp4+z/XxavLR8b9P1CuJz7tCQBAghS7PKAwAUCftZTBO1cCQKBcNJy+fQNAQWNiiiekBEAv3eE2dcoFQDPRBDim8AZApEQiDrkWCEC/euYhrDwJQB+Ce8J9YgpAFj2IIyyIC0D8gv5ata0MQLhMs14X0w1ASaq7AVD4DkCbacR4rg4QQEpEXNkdoRBATiPOznQzEUAILi7tscURQCpWXa7TVxJARt+0b9jpEkC+anBvvnsTQLqC0smDDRRAhVf/dSafFEBQbHtCpDAVQJPpTNH6wRVAv+2vkydTFkDwS1TFJ+QWQO1LEmf4dBdA2xsNOZYFGECUCy+0/ZUYQC5l8QIrJhlA+MZc+Rm2GUBogSwMxkUaQOhlDEcq1RpAccrXQUFkG0BaNtYUBfMbQC3Y8EtvgRxAPeLk2HgPHUCg05EEGp0dQC8ZnF9KKh5AZ5vHsgC3HkDDnKXvMkMfQGQloiLWzh9Ack/xM+8sIEBmsaRyH3IgQMgaceb0tiBAVlA+Nmj7IEAaR5mocT8hQFc1L0QJgyFADaRnBSfGIUCA6r8xwwgiQBGe3tPWSiJADYa0bVyMIkCuvyTvUM0iQIhqRv60DSNAIqv+lo5NI0ChdV/26owjQJwY46XgyyNA4FgbSJEKJEAnCcKIKkkkQGc6KlrlhyRAhIi8pwLHJEBEHfIWxQYlQKyKtXxoRyVAHcfgERmJJUC/u/RL7cslQDZ5ZI/kDyZA4em1zepUJkDEegYV35omQEwL/4ia4SZA05RoCfYoJ0DVvBjmzXAnQMdTKsADuSdAQTe8DH8BKEAiUgK8LEooQJrcT3L+kihAJVbWn+nbKEDh0qmj5iQpQLxZ/g7wbSlAyE0GDgK3KUDYn0P0GQAqQG0iuuY1SSpAPEF8nVSSKkDOJxc3ddsqQDO5ExmXJCtA3ZD42bltK0BOBuUx3bYrQN+p8+8AACxAL7QA8yRJLEAlSZIkSZIsQA==\"},\"shape\":[101],\"dtype\":\"float64\",\"order\":\"little\"}]]}}},\"view\":{\"type\":\"object\",\"name\":\"CDSView\",\"id\":\"p1747\",\"attributes\":{\"filter\":{\"type\":\"object\",\"name\":\"AllIndices\",\"id\":\"p1748\"}}},\"glyph\":{\"type\":\"object\",\"name\":\"Line\",\"id\":\"p1743\",\"attributes\":{\"tags\":[\"apply_ranges\"],\"x\":{\"type\":\"field\",\"field\":\"x\"},\"y\":{\"type\":\"field\",\"field\":\"y\"},\"line_color\":\"#2ab9ed\",\"line_width\":2,\"line_dash\":[6]}},\"selection_glyph\":{\"type\":\"object\",\"name\":\"Line\",\"id\":\"p1750\",\"attributes\":{\"tags\":[\"apply_ranges\"],\"x\":{\"type\":\"field\",\"field\":\"x\"},\"y\":{\"type\":\"field\",\"field\":\"y\"},\"line_color\":\"#2ab9ed\",\"line_width\":2,\"line_dash\":[6]}},\"nonselection_glyph\":{\"type\":\"object\",\"name\":\"Line\",\"id\":\"p1744\",\"attributes\":{\"tags\":[\"apply_ranges\"],\"x\":{\"type\":\"field\",\"field\":\"x\"},\"y\":{\"type\":\"field\",\"field\":\"y\"},\"line_color\":\"#2ab9ed\",\"line_alpha\":0.1,\"line_width\":2,\"line_dash\":[6]}},\"muted_glyph\":{\"type\":\"object\",\"name\":\"Line\",\"id\":\"p1745\",\"attributes\":{\"tags\":[\"apply_ranges\"],\"x\":{\"type\":\"field\",\"field\":\"x\"},\"y\":{\"type\":\"field\",\"field\":\"y\"},\"line_color\":\"#2ab9ed\",\"line_alpha\":0.2,\"line_width\":2,\"line_dash\":[6]}}}},{\"type\":\"object\",\"name\":\"GlyphRenderer\",\"id\":\"p1760\",\"attributes\":{\"name\":\"\\u6cb3\\u5e8a\\u9ad8:1.0\\u6642\\u9593\\u5f8c\",\"data_source\":{\"type\":\"object\",\"name\":\"ColumnDataSource\",\"id\":\"p1751\",\"attributes\":{\"selected\":{\"type\":\"object\",\"name\":\"Selection\",\"id\":\"p1752\",\"attributes\":{\"indices\":[],\"line_indices\":[]}},\"selection_policy\":{\"type\":\"object\",\"name\":\"UnionRenderers\",\"id\":\"p1753\"},\"data\":{\"type\":\"map\",\"entries\":[[\"x\",{\"type\":\"ndarray\",\"array\":{\"type\":\"bytes\",\"data\":\"AAAAAAAAAAAAAAAAAABZQAAAAAAAAGlAAAAAAADAckAAAAAAAAB5QAAAAAAAQH9AAAAAAADAgkAAAAAAAOCFQAAAAAAAAIlAAAAAAAAgjEAAAAAAAECPQAAAAAAAMJFAAAAAAADAkkAAAAAAAFCUQAAAAAAA4JVAAAAAAABwl0AAAAAAAACZQAAAAAAAkJpAAAAAAAAgnEAAAAAAALCdQAAAAAAAQJ9AAAAAAABooEAAAAAAADChQAAAAAAA+KFAAAAAAADAokAAAAAAAIijQAAAAAAAUKRAAAAAAAAYpUAAAAAAAOClQAAAAAAAqKZAAAAAAABwp0AAAAAAADioQAAAAAAAAKlAAAAAAADIqUAAAAAAAJCqQAAAAAAAWKtAAAAAAAAgrEAAAAAAAOisQAAAAAAAsK1AAAAAAAB4rkAAAAAAAECvQAAAAAAABLBAAAAAAABosEAAAAAAAMywQAAAAAAAMLFAAAAAAACUsUAAAAAAAPixQAAAAAAAXLJAAAAAAADAskAAAAAAACSzQAAAAAAAiLNAAAAAAADss0AAAAAAAFC0QAAAAAAAtLRAAAAAAAAYtUAAAAAAAHy1QAAAAAAA4LVAAAAAAABEtkAAAAAAAKi2QAAAAAAADLdAAAAAAABwt0AAAAAAANS3QAAAAAAAOLhAAAAAAACcuEAAAAAAAAC5QAAAAAAAZLlAAAAAAADIuUAAAAAAACy6QAAAAAAAkLpAAAAAAAD0ukAAAAAAAFi7QAAAAAAAvLtAAAAAAAAgvEAAAAAAAIS8QAAAAAAA6LxAAAAAAABMvUAAAAAAALC9QAAAAAAAFL5AAAAAAAB4vkAAAAAAANy+QAAAAAAAQL9AAAAAAACkv0AAAAAAAATAQAAAAAAANsBAAAAAAABowEAAAAAAAJrAQAAAAAAAzMBAAAAAAAD+wEAAAAAAADDBQAAAAAAAYsFAAAAAAACUwUAAAAAAAMbBQAAAAAAA+MFAAAAAAAAqwkAAAAAAAFzCQAAAAAAAjsJAAAAAAADAwkAAAAAAAPLCQAAAAAAAJMNAAAAAAABWw0AAAAAAAIjDQA==\"},\"shape\":[101],\"dtype\":\"float64\",\"order\":\"little\"}],[\"y\",{\"type\":\"ndarray\",\"array\":{\"type\":\"bytes\",\"data\":\"P/I9aJ/X6j+uSH4S+3/vP3e6wEvvE/I/xtZyGKJn9D/Og6vmErv2Pz9i1YU+Dvk/ToLlmiFh+z/7Y4CduLP9Py8+f+r/AgBAAYySqvkrAUC4L1F9x1QCQNTLnjNnfQNAqEbcftalBEA/O6zuEs4FQJWCh+4Z9gZAz4Mew+gdCEBAaH6HfEUJQLGM+SnSbApAWNDHaOaTC0B2I17OtboMQMdlbK084Q1AkaeGHHcHD0DzvbB4sBYQQMv00d16qRBAorCcXxg8EUA7+Q53hs4RQB72yXDCYBJAPORaacnyEkC0+ydJmIQTQP1K978rFhRAp10MQICnFEC+m8X4kTgVQKGCuNBcyRVA8KY6X9xZFkCkaUnlC+oWQD/OxEXmeRdAVnnq/GUJGED6WgoXhZgYQGbKWSY9JxlAfwjjN4e1GUAK3oTHW0MaQE4V97Ky0BpAT4TdK4NdG0DjKOqow+kbQGN/ONZpdRxAzD7/hGoAHUCMFPyauYodQCBWBwJKFB5AeraHmA2dHkBXX9Mj9SQfQIXl5kXwqx9APCVIvPYYIEDqWF8IbVsgQCvE5yZRnSBAsLjpvJjeIEDFO7gQOR8hQLe44jUnXyFA90luTlieIUCwbbHnwdwhQMnmGXpaGiJArcd+ExpXIkDLiB0z+5IiQCCZ09v7zSJAYQ0O3B4II0D5w+dBbUEjQMjlyOT3eSNAChzp3NixI0BsGHOuNOkjQNOgut06ICRAcgZHmSVXJEDKzGAqOI4kQKOIH/K7xSRAMVtC5/v9JEBMswnbPjclQMYqDEfBcSVAywUt56+tJUDEtfuEJOslQGrrebolKiZAcEH3SqlqJkC/Pkffl6wmQLvN9/7Q7yZAS2U7ry40J0AvmgGSiHknQNoNN4G2vydA/WGym5IGKEDuGGy1+k0oQGZxXijRlShAq+epFv3dKEAL+6M+aiYpQGwaYYcIbylAD01Xacu3KUBF95NOqQAqQNlKMvyaSSpAffxaDpuSKkCmVz6KpdsqQEw7goW3JCtA3xwf4c5tK0BCMAsU6rYrQLqwSQMIACxAO83T4ydJLEAlSZIkSZIsQA==\"},\"shape\":[101],\"dtype\":\"float64\",\"order\":\"little\"}]]}}},\"view\":{\"type\":\"object\",\"name\":\"CDSView\",\"id\":\"p1761\",\"attributes\":{\"filter\":{\"type\":\"object\",\"name\":\"AllIndices\",\"id\":\"p1762\"}}},\"glyph\":{\"type\":\"object\",\"name\":\"Line\",\"id\":\"p1757\",\"attributes\":{\"tags\":[\"apply_ranges\"],\"x\":{\"type\":\"field\",\"field\":\"x\"},\"y\":{\"type\":\"field\",\"field\":\"y\"},\"line_color\":\"#a1fc3d\",\"line_width\":2,\"line_dash\":[6]}},\"selection_glyph\":{\"type\":\"object\",\"name\":\"Line\",\"id\":\"p1764\",\"attributes\":{\"tags\":[\"apply_ranges\"],\"x\":{\"type\":\"field\",\"field\":\"x\"},\"y\":{\"type\":\"field\",\"field\":\"y\"},\"line_color\":\"#a1fc3d\",\"line_width\":2,\"line_dash\":[6]}},\"nonselection_glyph\":{\"type\":\"object\",\"name\":\"Line\",\"id\":\"p1758\",\"attributes\":{\"tags\":[\"apply_ranges\"],\"x\":{\"type\":\"field\",\"field\":\"x\"},\"y\":{\"type\":\"field\",\"field\":\"y\"},\"line_color\":\"#a1fc3d\",\"line_alpha\":0.1,\"line_width\":2,\"line_dash\":[6]}},\"muted_glyph\":{\"type\":\"object\",\"name\":\"Line\",\"id\":\"p1759\",\"attributes\":{\"tags\":[\"apply_ranges\"],\"x\":{\"type\":\"field\",\"field\":\"x\"},\"y\":{\"type\":\"field\",\"field\":\"y\"},\"line_color\":\"#a1fc3d\",\"line_alpha\":0.2,\"line_width\":2,\"line_dash\":[6]}}}},{\"type\":\"object\",\"name\":\"GlyphRenderer\",\"id\":\"p1774\",\"attributes\":{\"name\":\"\\u6cb3\\u5e8a\\u9ad8:1.5\\u6642\\u9593\\u5f8c\",\"data_source\":{\"type\":\"object\",\"name\":\"ColumnDataSource\",\"id\":\"p1765\",\"attributes\":{\"selected\":{\"type\":\"object\",\"name\":\"Selection\",\"id\":\"p1766\",\"attributes\":{\"indices\":[],\"line_indices\":[]}},\"selection_policy\":{\"type\":\"object\",\"name\":\"UnionRenderers\",\"id\":\"p1767\"},\"data\":{\"type\":\"map\",\"entries\":[[\"x\",{\"type\":\"ndarray\",\"array\":{\"type\":\"bytes\",\"data\":\"AAAAAAAAAAAAAAAAAABZQAAAAAAAAGlAAAAAAADAckAAAAAAAAB5QAAAAAAAQH9AAAAAAADAgkAAAAAAAOCFQAAAAAAAAIlAAAAAAAAgjEAAAAAAAECPQAAAAAAAMJFAAAAAAADAkkAAAAAAAFCUQAAAAAAA4JVAAAAAAABwl0AAAAAAAACZQAAAAAAAkJpAAAAAAAAgnEAAAAAAALCdQAAAAAAAQJ9AAAAAAABooEAAAAAAADChQAAAAAAA+KFAAAAAAADAokAAAAAAAIijQAAAAAAAUKRAAAAAAAAYpUAAAAAAAOClQAAAAAAAqKZAAAAAAABwp0AAAAAAADioQAAAAAAAAKlAAAAAAADIqUAAAAAAAJCqQAAAAAAAWKtAAAAAAAAgrEAAAAAAAOisQAAAAAAAsK1AAAAAAAB4rkAAAAAAAECvQAAAAAAABLBAAAAAAABosEAAAAAAAMywQAAAAAAAMLFAAAAAAACUsUAAAAAAAPixQAAAAAAAXLJAAAAAAADAskAAAAAAACSzQAAAAAAAiLNAAAAAAADss0AAAAAAAFC0QAAAAAAAtLRAAAAAAAAYtUAAAAAAAHy1QAAAAAAA4LVAAAAAAABEtkAAAAAAAKi2QAAAAAAADLdAAAAAAABwt0AAAAAAANS3QAAAAAAAOLhAAAAAAACcuEAAAAAAAAC5QAAAAAAAZLlAAAAAAADIuUAAAAAAACy6QAAAAAAAkLpAAAAAAAD0ukAAAAAAAFi7QAAAAAAAvLtAAAAAAAAgvEAAAAAAAIS8QAAAAAAA6LxAAAAAAABMvUAAAAAAALC9QAAAAAAAFL5AAAAAAAB4vkAAAAAAANy+QAAAAAAAQL9AAAAAAACkv0AAAAAAAATAQAAAAAAANsBAAAAAAABowEAAAAAAAJrAQAAAAAAAzMBAAAAAAAD+wEAAAAAAADDBQAAAAAAAYsFAAAAAAACUwUAAAAAAAMbBQAAAAAAA+MFAAAAAAAAqwkAAAAAAAFzCQAAAAAAAjsJAAAAAAADAwkAAAAAAAPLCQAAAAAAAJMNAAAAAAABWw0AAAAAAAIjDQA==\"},\"shape\":[101],\"dtype\":\"float64\",\"order\":\"little\"}],[\"y\",{\"type\":\"ndarray\",\"array\":{\"type\":\"bytes\",\"data\":\"rrK873ce9D9fn7nXUnf2PzWmev/Lz/g/6E/DuN4n+z9fFMAXhn/9PxvzA++81v8/9P6k5b4WAUAVWmR34UECQG8ZHibDbANAeyXBwGCXBEDCb+TotsEFQMP4pA/C6wZAQ/FAcn4VCECyN2sW6D4JQGJPUMb6ZwpAbUtLDLKQC0D/GzcuCbkMQH7kYij74A1AW+INqIIID0AngboCzRcQQK8zqJ4dqxBApb3m9C8+EUDsVnGdANERQE9g/PaLYxJAw7VsIs71EkAhr+f9wocTQNj3cx9mGRRAlrMhz7KqFEB3668ApDsVQGrzn0w0zBVAvhW46F1cFkDy0NefGuwWQM2vJsljexdArAuGPjIKGED3EEFSfpgYQFeu/MM/JhlA4kXWtG2zGUAfhcCa/j8aQK93JTPoyxpAO8bgdB9XG0AiX7qBmOEbQFhumpdGaxxAgKvKARz0HECXK7YKCnwdQGua4e4AAx5AJyTt0e+IHkDGTe22xA0fQJulrX1skR9AJ0yAc+kJIEBlBnVRcUogQE99CLZCiiBAuDyFGlLJIEA/2Vi2kwchQAsCErD7RCFAhl/UYH6BIUAVsEuuEL0hQBHaIn+o9yFA2CV2TT0xIkBIe2zZyGkiQJBtg/tHoSJAPOcwkrvXIkC0pCKBKQ0jQCN25LGdQSNAhiAj/yp1I0A2DePu66cjQD3qRR4D2iNA8mXuRJsLJEDU7MC95jwkQN014owebiRApsnP4oCfJEC62O4eT9EkQOzqAFLLAyVA21B2RDU3JUDyluQex2slQAu13w6yoSVAWbNxihvZJUCvGa7jGxImQP8QlXi+TCZAI0BRHwOJJkAW5UUL4MYmQOw3jJJDBidAYU6+qhVHJ0DzC14/OYknQOM0j46NzCdAW1PKn+8QKEAZE43JO1YoQK0JMidPnChAb9qn2gjjKEDRGBj+SiopQLYVQTj7cSlA7aGu9gK6KUDCQk9dTwIqQL2d2wDRSipAsmTigXuTKkCCS9QaRdwqQMtMbi4mJStAHSUM3xhuK0AMYd6yGLcrQCvTxEYiACxAmXn5DjNJLEAlSZIkSZIsQA==\"},\"shape\":[101],\"dtype\":\"float64\",\"order\":\"little\"}]]}}},\"view\":{\"type\":\"object\",\"name\":\"CDSView\",\"id\":\"p1775\",\"attributes\":{\"filter\":{\"type\":\"object\",\"name\":\"AllIndices\",\"id\":\"p1776\"}}},\"glyph\":{\"type\":\"object\",\"name\":\"Line\",\"id\":\"p1771\",\"attributes\":{\"tags\":[\"apply_ranges\"],\"x\":{\"type\":\"field\",\"field\":\"x\"},\"y\":{\"type\":\"field\",\"field\":\"y\"},\"line_color\":\"#fb8022\",\"line_width\":2,\"line_dash\":[6]}},\"selection_glyph\":{\"type\":\"object\",\"name\":\"Line\",\"id\":\"p1778\",\"attributes\":{\"tags\":[\"apply_ranges\"],\"x\":{\"type\":\"field\",\"field\":\"x\"},\"y\":{\"type\":\"field\",\"field\":\"y\"},\"line_color\":\"#fb8022\",\"line_width\":2,\"line_dash\":[6]}},\"nonselection_glyph\":{\"type\":\"object\",\"name\":\"Line\",\"id\":\"p1772\",\"attributes\":{\"tags\":[\"apply_ranges\"],\"x\":{\"type\":\"field\",\"field\":\"x\"},\"y\":{\"type\":\"field\",\"field\":\"y\"},\"line_color\":\"#fb8022\",\"line_alpha\":0.1,\"line_width\":2,\"line_dash\":[6]}},\"muted_glyph\":{\"type\":\"object\",\"name\":\"Line\",\"id\":\"p1773\",\"attributes\":{\"tags\":[\"apply_ranges\"],\"x\":{\"type\":\"field\",\"field\":\"x\"},\"y\":{\"type\":\"field\",\"field\":\"y\"},\"line_color\":\"#fb8022\",\"line_alpha\":0.2,\"line_width\":2,\"line_dash\":[6]}}}},{\"type\":\"object\",\"name\":\"GlyphRenderer\",\"id\":\"p1788\",\"attributes\":{\"name\":\"\\u6cb3\\u5e8a\\u9ad8:2.0\\u6642\\u9593\\u5f8c\",\"data_source\":{\"type\":\"object\",\"name\":\"ColumnDataSource\",\"id\":\"p1779\",\"attributes\":{\"selected\":{\"type\":\"object\",\"name\":\"Selection\",\"id\":\"p1780\",\"attributes\":{\"indices\":[],\"line_indices\":[]}},\"selection_policy\":{\"type\":\"object\",\"name\":\"UnionRenderers\",\"id\":\"p1781\"},\"data\":{\"type\":\"map\",\"entries\":[[\"x\",{\"type\":\"ndarray\",\"array\":{\"type\":\"bytes\",\"data\":\"AAAAAAAAAAAAAAAAAABZQAAAAAAAAGlAAAAAAADAckAAAAAAAAB5QAAAAAAAQH9AAAAAAADAgkAAAAAAAOCFQAAAAAAAAIlAAAAAAAAgjEAAAAAAAECPQAAAAAAAMJFAAAAAAADAkkAAAAAAAFCUQAAAAAAA4JVAAAAAAABwl0AAAAAAAACZQAAAAAAAkJpAAAAAAAAgnEAAAAAAALCdQAAAAAAAQJ9AAAAAAABooEAAAAAAADChQAAAAAAA+KFAAAAAAADAokAAAAAAAIijQAAAAAAAUKRAAAAAAAAYpUAAAAAAAOClQAAAAAAAqKZAAAAAAABwp0AAAAAAADioQAAAAAAAAKlAAAAAAADIqUAAAAAAAJCqQAAAAAAAWKtAAAAAAAAgrEAAAAAAAOisQAAAAAAAsK1AAAAAAAB4rkAAAAAAAECvQAAAAAAABLBAAAAAAABosEAAAAAAAMywQAAAAAAAMLFAAAAAAACUsUAAAAAAAPixQAAAAAAAXLJAAAAAAADAskAAAAAAACSzQAAAAAAAiLNAAAAAAADss0AAAAAAAFC0QAAAAAAAtLRAAAAAAAAYtUAAAAAAAHy1QAAAAAAA4LVAAAAAAABEtkAAAAAAAKi2QAAAAAAADLdAAAAAAABwt0AAAAAAANS3QAAAAAAAOLhAAAAAAACcuEAAAAAAAAC5QAAAAAAAZLlAAAAAAADIuUAAAAAAACy6QAAAAAAAkLpAAAAAAAD0ukAAAAAAAFi7QAAAAAAAvLtAAAAAAAAgvEAAAAAAAIS8QAAAAAAA6LxAAAAAAABMvUAAAAAAALC9QAAAAAAAFL5AAAAAAAB4vkAAAAAAANy+QAAAAAAAQL9AAAAAAACkv0AAAAAAAATAQAAAAAAANsBAAAAAAABowEAAAAAAAJrAQAAAAAAAzMBAAAAAAAD+wEAAAAAAADDBQAAAAAAAYsFAAAAAAACUwUAAAAAAAMbBQAAAAAAA+MFAAAAAAAAqwkAAAAAAAFzCQAAAAAAAjsJAAAAAAADAwkAAAAAAAPLCQAAAAAAAJMNAAAAAAABWw0AAAAAAAIjDQA==\"},\"shape\":[101],\"dtype\":\"float64\",\"order\":\"little\"}],[\"y\",{\"type\":\"ndarray\",\"array\":{\"type\":\"bytes\",\"data\":\"V+8MAcjM+j/PAu6NrSn9P3SeGacFhv8/kcl9xOTwAECSj+IKeR4CQNZBwee7SwNAN1fraKl4BEDcHZFlPaUFQEKsmXpz0QZABu+uBkf9B0CFUfolsygJQBzNiq2yUwpAPhNgJkB+C0DC7QvIVagMQKGy5nLt0Q1AXvrNqQD7DkDzua1FxBEQQD3XS+W+pRBAPauDU2w5EUDJPA5yyMwRQLZq9t/OXxJA9YeV9HryEkDbyya6x4QTQD346OevFhRASifH2y2oFEBP7oCTOzkVQDaqSaXSyRVABsjWN+xZFkDLm9T5gOkWQO/xuxiJeBdAJSMON/wGGEDCcd9h0ZQYQL0bzwX/IRlAsa5g43quGUCXMssCOjoaQCFWZKcwxRpAMOS5QlJPG0DfRaRnkdgbQNqNm73fYBxAeDu29C3oHEA96Pa6a24dQIeZl7OH8x1AFVlkcW93HkCSg2B1D/oeQP/WbjNTex9ATur0HiX7H0BHmRRhtzwgQE2rhXEMeyBAnpPn3IW4IECmYH+eF/UgQMaWBcS1MCFAwTG4sFRrIUDPwJNy6aQhQCYuzCtq3SFAYoOkkc4UIkCq2UOAEEsiQICZ5aAsgCJAJR+xHCO0IkBx4eJS+OYiQJWPRYW1GCNAJcDYamlJI0ANa4OXKHkjQLfMF6kNqCNACa0RLznWI0Crq11K0QMkQIrQ1AsBMSRAARAUoPddJEDR+tBa54okQIJUTrEEuCRAJlHnKYXlJEC3S345nhMlQIx6BvuDQiVABRXBrGdyJUCsCCLzdaMlQFmAQRDV1SVA9+E2c6MJJkD7pUUM9z4mQCDE/4zddSZATVvRSl2uJkA0+L1AdugmQFiVYNIiJCdAgB6jQFhhJ0BVOL70BqAnQITaNtEa4CdA8t5ErHshKED0PG0EDmQoQMABPO6zpyhAnF4EK07sKEDUo6hOvTEpQCyuU9bidylA/XMiFaK+KUBSiErk4AUqQOllQw+ITSpAVCk5f4OVKkAwkE8wwt0qQMcfiP81JitAtPr8X9NuK0AZm3EEkbcrQP3B64ZnACxAM8AEFVFJLEAlSZIkSZIsQA==\"},\"shape\":[101],\"dtype\":\"float64\",\"order\":\"little\"}]]}}},\"view\":{\"type\":\"object\",\"name\":\"CDSView\",\"id\":\"p1789\",\"attributes\":{\"filter\":{\"type\":\"object\",\"name\":\"AllIndices\",\"id\":\"p1790\"}}},\"glyph\":{\"type\":\"object\",\"name\":\"Line\",\"id\":\"p1785\",\"attributes\":{\"tags\":[\"apply_ranges\"],\"x\":{\"type\":\"field\",\"field\":\"x\"},\"y\":{\"type\":\"field\",\"field\":\"y\"},\"line_color\":\"#7a0402\",\"line_width\":2,\"line_dash\":[6]}},\"selection_glyph\":{\"type\":\"object\",\"name\":\"Line\",\"id\":\"p1792\",\"attributes\":{\"tags\":[\"apply_ranges\"],\"x\":{\"type\":\"field\",\"field\":\"x\"},\"y\":{\"type\":\"field\",\"field\":\"y\"},\"line_color\":\"#7a0402\",\"line_width\":2,\"line_dash\":[6]}},\"nonselection_glyph\":{\"type\":\"object\",\"name\":\"Line\",\"id\":\"p1786\",\"attributes\":{\"tags\":[\"apply_ranges\"],\"x\":{\"type\":\"field\",\"field\":\"x\"},\"y\":{\"type\":\"field\",\"field\":\"y\"},\"line_color\":\"#7a0402\",\"line_alpha\":0.1,\"line_width\":2,\"line_dash\":[6]}},\"muted_glyph\":{\"type\":\"object\",\"name\":\"Line\",\"id\":\"p1787\",\"attributes\":{\"tags\":[\"apply_ranges\"],\"x\":{\"type\":\"field\",\"field\":\"x\"},\"y\":{\"type\":\"field\",\"field\":\"y\"},\"line_color\":\"#7a0402\",\"line_alpha\":0.2,\"line_width\":2,\"line_dash\":[6]}}}}],\"toolbar\":{\"type\":\"object\",\"name\":\"Toolbar\",\"id\":\"p1630\",\"attributes\":{\"tools\":[{\"type\":\"object\",\"name\":\"WheelZoomTool\",\"id\":\"p1602\",\"attributes\":{\"tags\":[\"hv_created\"],\"renderers\":\"auto\",\"zoom_together\":\"none\"}},{\"type\":\"object\",\"name\":\"SaveTool\",\"id\":\"p1643\"},{\"type\":\"object\",\"name\":\"PanTool\",\"id\":\"p1644\"},{\"type\":\"object\",\"name\":\"BoxZoomTool\",\"id\":\"p1645\",\"attributes\":{\"overlay\":{\"type\":\"object\",\"name\":\"BoxAnnotation\",\"id\":\"p1646\",\"attributes\":{\"syncable\":false,\"level\":\"overlay\",\"visible\":false,\"left\":{\"type\":\"number\",\"value\":\"nan\"},\"right\":{\"type\":\"number\",\"value\":\"nan\"},\"top\":{\"type\":\"number\",\"value\":\"nan\"},\"bottom\":{\"type\":\"number\",\"value\":\"nan\"},\"left_units\":\"canvas\",\"right_units\":\"canvas\",\"top_units\":\"canvas\",\"bottom_units\":\"canvas\",\"line_color\":\"black\",\"line_alpha\":1.0,\"line_width\":2,\"line_dash\":[4,4],\"fill_color\":\"lightgrey\",\"fill_alpha\":0.5}}}},{\"type\":\"object\",\"name\":\"ResetTool\",\"id\":\"p1651\"}],\"active_drag\":{\"id\":\"p1644\"},\"active_scroll\":{\"id\":\"p1602\"}}},\"left\":[{\"type\":\"object\",\"name\":\"LinearAxis\",\"id\":\"p1638\",\"attributes\":{\"ticker\":{\"type\":\"object\",\"name\":\"BasicTicker\",\"id\":\"p1639\",\"attributes\":{\"mantissas\":[1,2,5]}},\"formatter\":{\"type\":\"object\",\"name\":\"BasicTickFormatter\",\"id\":\"p1640\"},\"axis_label\":\"Elevation[m]\",\"major_label_policy\":{\"type\":\"object\",\"name\":\"AllLabels\",\"id\":\"p1641\"}}}],\"right\":[{\"type\":\"object\",\"name\":\"Legend\",\"id\":\"p1664\",\"attributes\":{\"location\":[0,0],\"click_policy\":\"mute\",\"items\":[{\"type\":\"object\",\"name\":\"LegendItem\",\"id\":\"p1665\",\"attributes\":{\"label\":{\"type\":\"value\",\"value\":\"\\u6c34\\u4f4d:0.0\\u6642\\u9593\\u5f8c\"},\"renderers\":[{\"id\":\"p1661\"}]}},{\"type\":\"object\",\"name\":\"LegendItem\",\"id\":\"p1679\",\"attributes\":{\"label\":{\"type\":\"value\",\"value\":\"\\u6c34\\u4f4d:0.5\\u6642\\u9593\\u5f8c\"},\"renderers\":[{\"id\":\"p1676\"}]}},{\"type\":\"object\",\"name\":\"LegendItem\",\"id\":\"p1693\",\"attributes\":{\"label\":{\"type\":\"value\",\"value\":\"\\u6c34\\u4f4d:1.0\\u6642\\u9593\\u5f8c\"},\"renderers\":[{\"id\":\"p1690\"}]}},{\"type\":\"object\",\"name\":\"LegendItem\",\"id\":\"p1707\",\"attributes\":{\"label\":{\"type\":\"value\",\"value\":\"\\u6c34\\u4f4d:1.5\\u6642\\u9593\\u5f8c\"},\"renderers\":[{\"id\":\"p1704\"}]}},{\"type\":\"object\",\"name\":\"LegendItem\",\"id\":\"p1721\",\"attributes\":{\"label\":{\"type\":\"value\",\"value\":\"\\u6c34\\u4f4d:2.0\\u6642\\u9593\\u5f8c\"},\"renderers\":[{\"id\":\"p1718\"}]}},{\"type\":\"object\",\"name\":\"LegendItem\",\"id\":\"p1735\",\"attributes\":{\"label\":{\"type\":\"value\",\"value\":\"\\u6cb3\\u5e8a\\u9ad8:0.0\\u6642\\u9593\\u5f8c\"},\"renderers\":[{\"id\":\"p1732\"}]}},{\"type\":\"object\",\"name\":\"LegendItem\",\"id\":\"p1749\",\"attributes\":{\"label\":{\"type\":\"value\",\"value\":\"\\u6cb3\\u5e8a\\u9ad8:0.5\\u6642\\u9593\\u5f8c\"},\"renderers\":[{\"id\":\"p1746\"}]}},{\"type\":\"object\",\"name\":\"LegendItem\",\"id\":\"p1763\",\"attributes\":{\"label\":{\"type\":\"value\",\"value\":\"\\u6cb3\\u5e8a\\u9ad8:1.0\\u6642\\u9593\\u5f8c\"},\"renderers\":[{\"id\":\"p1760\"}]}},{\"type\":\"object\",\"name\":\"LegendItem\",\"id\":\"p1777\",\"attributes\":{\"label\":{\"type\":\"value\",\"value\":\"\\u6cb3\\u5e8a\\u9ad8:1.5\\u6642\\u9593\\u5f8c\"},\"renderers\":[{\"id\":\"p1774\"}]}},{\"type\":\"object\",\"name\":\"LegendItem\",\"id\":\"p1791\",\"attributes\":{\"label\":{\"type\":\"value\",\"value\":\"\\u6cb3\\u5e8a\\u9ad8:2.0\\u6642\\u9593\\u5f8c\"},\"renderers\":[{\"id\":\"p1788\"}]}}]}}],\"below\":[{\"type\":\"object\",\"name\":\"LinearAxis\",\"id\":\"p1633\",\"attributes\":{\"ticker\":{\"type\":\"object\",\"name\":\"BasicTicker\",\"id\":\"p1634\",\"attributes\":{\"mantissas\":[1,2,5]}},\"formatter\":{\"type\":\"object\",\"name\":\"BasicTickFormatter\",\"id\":\"p1635\"},\"axis_label\":\"Distance[m]\",\"major_label_policy\":{\"type\":\"object\",\"name\":\"AllLabels\",\"id\":\"p1636\"}}}],\"center\":[{\"type\":\"object\",\"name\":\"Grid\",\"id\":\"p1637\",\"attributes\":{\"axis\":{\"id\":\"p1633\"},\"ticker\":{\"id\":\"p1634\"}}},{\"type\":\"object\",\"name\":\"Grid\",\"id\":\"p1642\",\"attributes\":{\"dimension\":1,\"axis\":{\"id\":\"p1638\"},\"ticker\":{\"id\":\"p1639\"}}}],\"min_border_top\":10,\"min_border_bottom\":10,\"min_border_left\":10,\"min_border_right\":10,\"output_backend\":\"webgl\"}},{\"type\":\"object\",\"name\":\"Spacer\",\"id\":\"p1794\",\"attributes\":{\"name\":\"HSpacer02215\",\"stylesheets\":[\"\\n:host(.pn-loading):before, .pn-loading:before {\\n  background-color: #c3c3c3;\\n  mask-size: auto calc(min(50%, 400px));\\n  -webkit-mask-size: auto calc(min(50%, 400px));\\n}\",{\"id\":\"p1595\"},{\"id\":\"p1593\"},{\"id\":\"p1594\"}],\"margin\":0,\"sizing_mode\":\"stretch_width\",\"align\":\"start\"}}]}}],\"defs\":[{\"type\":\"model\",\"name\":\"ReactiveHTML1\"},{\"type\":\"model\",\"name\":\"FlexBox1\",\"properties\":[{\"name\":\"align_content\",\"kind\":\"Any\",\"default\":\"flex-start\"},{\"name\":\"align_items\",\"kind\":\"Any\",\"default\":\"flex-start\"},{\"name\":\"flex_direction\",\"kind\":\"Any\",\"default\":\"row\"},{\"name\":\"flex_wrap\",\"kind\":\"Any\",\"default\":\"wrap\"},{\"name\":\"gap\",\"kind\":\"Any\",\"default\":\"\"},{\"name\":\"justify_content\",\"kind\":\"Any\",\"default\":\"flex-start\"}]},{\"type\":\"model\",\"name\":\"FloatPanel1\",\"properties\":[{\"name\":\"config\",\"kind\":\"Any\",\"default\":{\"type\":\"map\"}},{\"name\":\"contained\",\"kind\":\"Any\",\"default\":true},{\"name\":\"position\",\"kind\":\"Any\",\"default\":\"right-top\"},{\"name\":\"offsetx\",\"kind\":\"Any\",\"default\":null},{\"name\":\"offsety\",\"kind\":\"Any\",\"default\":null},{\"name\":\"theme\",\"kind\":\"Any\",\"default\":\"primary\"},{\"name\":\"status\",\"kind\":\"Any\",\"default\":\"normalized\"}]},{\"type\":\"model\",\"name\":\"GridStack1\",\"properties\":[{\"name\":\"mode\",\"kind\":\"Any\",\"default\":\"warn\"},{\"name\":\"ncols\",\"kind\":\"Any\",\"default\":null},{\"name\":\"nrows\",\"kind\":\"Any\",\"default\":null},{\"name\":\"allow_resize\",\"kind\":\"Any\",\"default\":true},{\"name\":\"allow_drag\",\"kind\":\"Any\",\"default\":true},{\"name\":\"state\",\"kind\":\"Any\",\"default\":[]}]},{\"type\":\"model\",\"name\":\"drag1\",\"properties\":[{\"name\":\"slider_width\",\"kind\":\"Any\",\"default\":5},{\"name\":\"slider_color\",\"kind\":\"Any\",\"default\":\"black\"},{\"name\":\"value\",\"kind\":\"Any\",\"default\":50}]},{\"type\":\"model\",\"name\":\"click1\",\"properties\":[{\"name\":\"terminal_output\",\"kind\":\"Any\",\"default\":\"\"},{\"name\":\"debug_name\",\"kind\":\"Any\",\"default\":\"\"},{\"name\":\"clears\",\"kind\":\"Any\",\"default\":0}]},{\"type\":\"model\",\"name\":\"FastWrapper1\",\"properties\":[{\"name\":\"object\",\"kind\":\"Any\",\"default\":null},{\"name\":\"style\",\"kind\":\"Any\",\"default\":null}]},{\"type\":\"model\",\"name\":\"NotificationAreaBase1\",\"properties\":[{\"name\":\"js_events\",\"kind\":\"Any\",\"default\":{\"type\":\"map\"}},{\"name\":\"position\",\"kind\":\"Any\",\"default\":\"bottom-right\"},{\"name\":\"_clear\",\"kind\":\"Any\",\"default\":0}]},{\"type\":\"model\",\"name\":\"NotificationArea1\",\"properties\":[{\"name\":\"js_events\",\"kind\":\"Any\",\"default\":{\"type\":\"map\"}},{\"name\":\"notifications\",\"kind\":\"Any\",\"default\":[]},{\"name\":\"position\",\"kind\":\"Any\",\"default\":\"bottom-right\"},{\"name\":\"_clear\",\"kind\":\"Any\",\"default\":0},{\"name\":\"types\",\"kind\":\"Any\",\"default\":[{\"type\":\"map\",\"entries\":[[\"type\",\"warning\"],[\"background\",\"#ffc107\"],[\"icon\",{\"type\":\"map\",\"entries\":[[\"className\",\"fas fa-exclamation-triangle\"],[\"tagName\",\"i\"],[\"color\",\"white\"]]}]]},{\"type\":\"map\",\"entries\":[[\"type\",\"info\"],[\"background\",\"#007bff\"],[\"icon\",{\"type\":\"map\",\"entries\":[[\"className\",\"fas fa-info-circle\"],[\"tagName\",\"i\"],[\"color\",\"white\"]]}]]}]}]},{\"type\":\"model\",\"name\":\"Notification\",\"properties\":[{\"name\":\"background\",\"kind\":\"Any\",\"default\":null},{\"name\":\"duration\",\"kind\":\"Any\",\"default\":3000},{\"name\":\"icon\",\"kind\":\"Any\",\"default\":null},{\"name\":\"message\",\"kind\":\"Any\",\"default\":\"\"},{\"name\":\"notification_type\",\"kind\":\"Any\",\"default\":null},{\"name\":\"_destroyed\",\"kind\":\"Any\",\"default\":false}]},{\"type\":\"model\",\"name\":\"TemplateActions1\",\"properties\":[{\"name\":\"open_modal\",\"kind\":\"Any\",\"default\":0},{\"name\":\"close_modal\",\"kind\":\"Any\",\"default\":0}]},{\"type\":\"model\",\"name\":\"BootstrapTemplateActions1\",\"properties\":[{\"name\":\"open_modal\",\"kind\":\"Any\",\"default\":0},{\"name\":\"close_modal\",\"kind\":\"Any\",\"default\":0}]},{\"type\":\"model\",\"name\":\"TemplateEditor1\",\"properties\":[{\"name\":\"layout\",\"kind\":\"Any\",\"default\":[]}]},{\"type\":\"model\",\"name\":\"MaterialTemplateActions1\",\"properties\":[{\"name\":\"open_modal\",\"kind\":\"Any\",\"default\":0},{\"name\":\"close_modal\",\"kind\":\"Any\",\"default\":0}]},{\"type\":\"model\",\"name\":\"copy_to_clipboard1\",\"properties\":[{\"name\":\"fill\",\"kind\":\"Any\",\"default\":\"none\"},{\"name\":\"value\",\"kind\":\"Any\",\"default\":null}]}]}};\n",
       "  var render_items = [{\"docid\":\"60d7855e-a1e3-4894-9692-bc355cb4ef9d\",\"roots\":{\"p1592\":\"e0e6240f-dfa6-45d0-893a-99f919732cf7\"},\"root_ids\":[\"p1592\"]}];\n",
       "  var docs = Object.values(docs_json)\n",
       "  if (!docs) {\n",
       "    return\n",
       "  }\n",
       "  const py_version = docs[0].version.replace('rc', '-rc.').replace('.dev', '-dev.')\n",
       "  async function embed_document(root) {\n",
       "    var Bokeh = get_bokeh(root)\n",
       "    await Bokeh.embed.embed_items_notebook(docs_json, render_items);\n",
       "    for (const render_item of render_items) {\n",
       "      for (const root_id of render_item.root_ids) {\n",
       "\tconst id_el = document.getElementById(root_id)\n",
       "\tif (id_el.children.length && id_el.children[0].hasAttribute('data-root-id')) {\n",
       "\t  const root_el = id_el.children[0]\n",
       "\t  root_el.id = root_el.id + '-rendered'\n",
       "\t  for (const child of root_el.children) {\n",
       "            // Ensure JupyterLab does not capture keyboard shortcuts\n",
       "            // see: https://jupyterlab.readthedocs.io/en/4.1.x/extension/notebook.html#keyboard-interaction-model\n",
       "\t    child.setAttribute('data-lm-suppress-shortcuts', 'true')\n",
       "\t  }\n",
       "\t}\n",
       "      }\n",
       "    }\n",
       "  }\n",
       "  function get_bokeh(root) {\n",
       "    if (root.Bokeh === undefined) {\n",
       "      return null\n",
       "    } else if (root.Bokeh.version !== py_version) {\n",
       "      if (root.Bokeh.versions === undefined || !root.Bokeh.versions.has(py_version)) {\n",
       "\treturn null\n",
       "      }\n",
       "      return root.Bokeh.versions.get(py_version);\n",
       "    } else if (root.Bokeh.version === py_version) {\n",
       "      return root.Bokeh\n",
       "    }\n",
       "    return null\n",
       "  }\n",
       "  function is_loaded(root) {\n",
       "    var Bokeh = get_bokeh(root)\n",
       "    return (Bokeh != null && Bokeh.Panel !== undefined)\n",
       "  }\n",
       "  if (is_loaded(root)) {\n",
       "    embed_document(root);\n",
       "  } else {\n",
       "    var attempts = 0;\n",
       "    var timer = setInterval(function(root) {\n",
       "      if (is_loaded(root)) {\n",
       "        clearInterval(timer);\n",
       "        embed_document(root);\n",
       "      } else if (document.readyState == \"complete\") {\n",
       "        attempts++;\n",
       "        if (attempts > 200) {\n",
       "          clearInterval(timer);\n",
       "\t  var Bokeh = get_bokeh(root)\n",
       "\t  if (Bokeh == null || Bokeh.Panel == null) {\n",
       "            console.warn(\"Panel: ERROR: Unable to run Panel code because Bokeh or Panel library is missing\");\n",
       "\t  } else {\n",
       "\t    console.warn(\"Panel: WARNING: Attempting to render but not all required libraries could be resolved.\")\n",
       "\t    embed_document(root)\n",
       "\t  }\n",
       "        }\n",
       "      }\n",
       "    }, 25, root)\n",
       "  }\n",
       "})(window);</script>"
      ],
      "text/plain": [
       ":Overlay\n",
       "   .Curve.水位_colon_0_full_stop_0時間後  :Curve   [x]   (y)\n",
       "   .Curve.水位_colon_0_full_stop_5時間後  :Curve   [x]   (y)\n",
       "   .Curve.水位_colon_1_full_stop_0時間後  :Curve   [x]   (y)\n",
       "   .Curve.水位_colon_1_full_stop_5時間後  :Curve   [x]   (y)\n",
       "   .Curve.水位_colon_2_full_stop_0時間後  :Curve   [x]   (y)\n",
       "   .Curve.河床高_colon_0_full_stop_0時間後 :Curve   [x]   (y)\n",
       "   .Curve.河床高_colon_0_full_stop_5時間後 :Curve   [x]   (y)\n",
       "   .Curve.河床高_colon_1_full_stop_0時間後 :Curve   [x]   (y)\n",
       "   .Curve.河床高_colon_1_full_stop_5時間後 :Curve   [x]   (y)\n",
       "   .Curve.河床高_colon_2_full_stop_0時間後 :Curve   [x]   (y)"
      ]
     },
     "execution_count": 20,
     "metadata": {
      "application/vnd.holoviews_exec.v0+json": {
       "id": "p1592"
      }
     },
     "output_type": "execute_result"
    }
   ],
   "source": [
    "lfig = []\n",
    "for i in range(len(hout)):\n",
    "    h = hout[i]\n",
    "    z = zbout[i]\n",
    "    g11 = hv.Curve((L, z[::-1]+h[::-1]), label=f'水位:{str((itime[i]*dt/3600))}時間後').options(\n",
    "        color=cmap_list2[i])\n",
    "    lfig.append(g11)\n",
    "\n",
    "for i, z in enumerate(zbout):\n",
    "    g12 = hv.Curve((L, z[::-1]), label=f'河床高:{str((itime[i]*dt/3600))}時間後').options(\n",
    "        color=cmap_list2[i], line_dash='dashed')\n",
    "    lfig.append(g12)\n",
    "\n",
    "g = hv.Overlay(lfig)\n",
    "go = g.options(show_grid=True,xlabel='Distance[m]',ylabel='Elevation[m]'\n",
    "    , width=800, height=600, title='bed elevation', legend_position='right')\n",
    "\n",
    "go"
   ]
  },
  {
   "cell_type": "code",
   "execution_count": 21,
   "id": "1a3649ba",
   "metadata": {},
   "outputs": [],
   "source": [
    "hv.save(go, 'dam_suspendedload0.02mm.html') #河床高の図化"
   ]
  },
  {
   "cell_type": "code",
   "execution_count": 12,
   "id": "9a9a5bbd",
   "metadata": {},
   "outputs": [
    {
     "data": {},
     "metadata": {},
     "output_type": "display_data"
    },
    {
     "data": {
      "application/vnd.holoviews_exec.v0+json": "",
      "text/html": [
       "<div id='p1128'>\n",
       "  <div id=\"cd2298b8-502b-40e0-b18a-3684740c2f18\" data-root-id=\"p1128\" style=\"display: contents;\"></div>\n",
       "</div>\n",
       "<script type=\"application/javascript\">(function(root) {\n",
       "  var docs_json = {\"8477ac7e-8783-4baa-a9f7-b43f8326c84a\":{\"version\":\"3.4.1\",\"title\":\"Bokeh Application\",\"roots\":[{\"type\":\"object\",\"name\":\"Row\",\"id\":\"p1128\",\"attributes\":{\"name\":\"Row01089\",\"tags\":[\"embedded\"],\"stylesheets\":[\"\\n:host(.pn-loading):before, .pn-loading:before {\\n  background-color: #c3c3c3;\\n  mask-size: auto calc(min(50%, 400px));\\n  -webkit-mask-size: auto calc(min(50%, 400px));\\n}\",{\"type\":\"object\",\"name\":\"ImportedStyleSheet\",\"id\":\"p1131\",\"attributes\":{\"url\":\"https://cdn.holoviz.org/panel/1.4.4/dist/css/loading.css\"}},{\"type\":\"object\",\"name\":\"ImportedStyleSheet\",\"id\":\"p1236\",\"attributes\":{\"url\":\"https://cdn.holoviz.org/panel/1.4.4/dist/css/listpanel.css\"}},{\"type\":\"object\",\"name\":\"ImportedStyleSheet\",\"id\":\"p1129\",\"attributes\":{\"url\":\"https://cdn.holoviz.org/panel/1.4.4/dist/bundled/theme/default.css\"}},{\"type\":\"object\",\"name\":\"ImportedStyleSheet\",\"id\":\"p1130\",\"attributes\":{\"url\":\"https://cdn.holoviz.org/panel/1.4.4/dist/bundled/theme/native.css\"}}],\"min_width\":600,\"margin\":0,\"sizing_mode\":\"stretch_width\",\"align\":\"start\",\"children\":[{\"type\":\"object\",\"name\":\"Spacer\",\"id\":\"p1132\",\"attributes\":{\"name\":\"HSpacer01096\",\"stylesheets\":[\"\\n:host(.pn-loading):before, .pn-loading:before {\\n  background-color: #c3c3c3;\\n  mask-size: auto calc(min(50%, 400px));\\n  -webkit-mask-size: auto calc(min(50%, 400px));\\n}\",{\"id\":\"p1131\"},{\"id\":\"p1129\"},{\"id\":\"p1130\"}],\"margin\":0,\"sizing_mode\":\"stretch_width\",\"align\":\"start\"}},{\"type\":\"object\",\"name\":\"Figure\",\"id\":\"p1145\",\"attributes\":{\"height\":400,\"margin\":[5,10],\"sizing_mode\":\"fixed\",\"align\":\"start\",\"x_range\":{\"type\":\"object\",\"name\":\"Range1d\",\"id\":\"p1133\",\"attributes\":{\"tags\":[[[\"x\",\"x\",null]],[]],\"end\":10000.0,\"reset_start\":0.0,\"reset_end\":10000.0}},\"y_range\":{\"type\":\"object\",\"name\":\"Range1d\",\"id\":\"p1134\",\"attributes\":{\"tags\":[[[\"y\",\"y\",null]],{\"type\":\"map\",\"entries\":[[\"invert_yaxis\",false],[\"autorange\",false]]}],\"start\":-1.607876612019317,\"end\":17.686642732212487,\"reset_start\":-1.607876612019317,\"reset_end\":17.686642732212487}},\"x_scale\":{\"type\":\"object\",\"name\":\"LinearScale\",\"id\":\"p1155\"},\"y_scale\":{\"type\":\"object\",\"name\":\"LinearScale\",\"id\":\"p1156\"},\"title\":{\"type\":\"object\",\"name\":\"Title\",\"id\":\"p1148\",\"attributes\":{\"text\":\"bed elevation\",\"text_color\":\"black\",\"text_font_size\":\"12pt\"}},\"renderers\":[{\"type\":\"object\",\"name\":\"GlyphRenderer\",\"id\":\"p1185\",\"attributes\":{\"name\":\"\\u6c34\\u4f4d:\\u521d\\u671f\",\"data_source\":{\"type\":\"object\",\"name\":\"ColumnDataSource\",\"id\":\"p1176\",\"attributes\":{\"selected\":{\"type\":\"object\",\"name\":\"Selection\",\"id\":\"p1177\",\"attributes\":{\"indices\":[],\"line_indices\":[]}},\"selection_policy\":{\"type\":\"object\",\"name\":\"UnionRenderers\",\"id\":\"p1178\"},\"data\":{\"type\":\"map\",\"entries\":[[\"x\",{\"type\":\"ndarray\",\"array\":{\"type\":\"bytes\",\"data\":\"AAAAAAAAAAAAAAAAAABZQAAAAAAAAGlAAAAAAADAckAAAAAAAAB5QAAAAAAAQH9AAAAAAADAgkAAAAAAAOCFQAAAAAAAAIlAAAAAAAAgjEAAAAAAAECPQAAAAAAAMJFAAAAAAADAkkAAAAAAAFCUQAAAAAAA4JVAAAAAAABwl0AAAAAAAACZQAAAAAAAkJpAAAAAAAAgnEAAAAAAALCdQAAAAAAAQJ9AAAAAAABooEAAAAAAADChQAAAAAAA+KFAAAAAAADAokAAAAAAAIijQAAAAAAAUKRAAAAAAAAYpUAAAAAAAOClQAAAAAAAqKZAAAAAAABwp0AAAAAAADioQAAAAAAAAKlAAAAAAADIqUAAAAAAAJCqQAAAAAAAWKtAAAAAAAAgrEAAAAAAAOisQAAAAAAAsK1AAAAAAAB4rkAAAAAAAECvQAAAAAAABLBAAAAAAABosEAAAAAAAMywQAAAAAAAMLFAAAAAAACUsUAAAAAAAPixQAAAAAAAXLJAAAAAAADAskAAAAAAACSzQAAAAAAAiLNAAAAAAADss0AAAAAAAFC0QAAAAAAAtLRAAAAAAAAYtUAAAAAAAHy1QAAAAAAA4LVAAAAAAABEtkAAAAAAAKi2QAAAAAAADLdAAAAAAABwt0AAAAAAANS3QAAAAAAAOLhAAAAAAACcuEAAAAAAAAC5QAAAAAAAZLlAAAAAAADIuUAAAAAAACy6QAAAAAAAkLpAAAAAAAD0ukAAAAAAAFi7QAAAAAAAvLtAAAAAAAAgvEAAAAAAAIS8QAAAAAAA6LxAAAAAAABMvUAAAAAAALC9QAAAAAAAFL5AAAAAAAB4vkAAAAAAANy+QAAAAAAAQL9AAAAAAACkv0AAAAAAAATAQAAAAAAANsBAAAAAAABowEAAAAAAAJrAQAAAAAAAzMBAAAAAAAD+wEAAAAAAADDBQAAAAAAAYsFAAAAAAACUwUAAAAAAAMbBQAAAAAAA+MFAAAAAAAAqwkAAAAAAAFzCQAAAAAAAjsJAAAAAAADAwkAAAAAAAPLCQAAAAAAAJMNAAAAAAABWw0AAAAAAAIjDQA==\"},\"shape\":[101],\"dtype\":\"float64\",\"order\":\"little\"}],[\"y\",{\"type\":\"ndarray\",\"array\":{\"type\":\"bytes\",\"data\":\"AAAAAAAAKEBb+7yrBQAoQCJTObELAChAGt7oFRIAKEB4z/7gGAAoQKSN4RggAChAoBiRxScAKED9CafuLwAoQPaUVp04AChAvOzS2kEAKEBPERyxSwAoQOA1ZStWAChAclquVWEAKEDUS8Q8bQAoQGVwDe95AChALMiJfIcAKEAkUzn1lQAoQLd3gmulAChA4zVl87UAKEAO9EejxwAoQHDlXZLaAChAZ3AN2+4AKEDGYSOaBAEoQMDs0u4bAShAuHeC+zQBKEB/z/7mTwEoQBL0R9tsAShA2EvEBowBKEBqcA2drQEoQJYu8NbRAShAW4Zs9PgBKEC6d4I7IwIoQBppmPpQAihAelquiYICKEA/sipLuAIoQAYKp6zyAihA/pRWKTIDKEBdhmxMdwMoQLx3grPCAyhA6DVlDxUEKECvjeEobwQoQKgYkeXRBChA1NZzST4FKECaLvB+tQUoQJK5n9s4BihAWBEc6ckGKEC4AjJsagcoQH1arnEcCChAEH/3W+IIKEDW1nPxvgkoQJwu8HK1CihAlLmfs8kLKEDBd4I1AA0oQLoCMlJeDihAso3haOoPKECsGJEZrBEoQD492o+sEyhABJVW4/YVKEDK7NKOmBgoQFwRHA2iGyhAugIynicfKEAZ9EdHQiMoQEWyKh0RKChACwqn6LotKEBp+7w/cDQoQMns0ihuPChAKN7oTQFGKECHz/6wiVEoQEwne4p+XyhArBiRbXFwKECko0DqDoUoQAKVVo0ZnihA/B8G7lq8KEDBd4IXh+AoQFOcy5kTCylAf1quCQ48KUASf/d/B3MpQNfWcx0mrylAnC7whlfvKUAvUzlRijIqQMF3gpPVdypAU5zLiYe+KkAY9EdnIgYrQEWyKotRTitApKNA4t2WK0AClVZVpN8rQMns0tKOKCxAWxEcmY9xLEC6AjIgnrosQOXAFCC1Ay1A30vEWNFMLUA9PdrH8JUtQDbIiTAS3y1AL1M50TQoLkBaERwxWHEuQCBpmAZ8ui5Af1quJaADL0DfS8RwxEwvQHBwDdfolS9Az2EjTg3fL0DL3M/nGBQwQA==\"},\"shape\":[101],\"dtype\":\"float64\",\"order\":\"little\"}]]}}},\"view\":{\"type\":\"object\",\"name\":\"CDSView\",\"id\":\"p1186\",\"attributes\":{\"filter\":{\"type\":\"object\",\"name\":\"AllIndices\",\"id\":\"p1187\"}}},\"glyph\":{\"type\":\"object\",\"name\":\"Line\",\"id\":\"p1182\",\"attributes\":{\"tags\":[\"apply_ranges\"],\"x\":{\"type\":\"field\",\"field\":\"x\"},\"y\":{\"type\":\"field\",\"field\":\"y\"},\"line_color\":\"#00bfbf\",\"line_width\":2,\"line_dash\":[6]}},\"selection_glyph\":{\"type\":\"object\",\"name\":\"Line\",\"id\":\"p1190\",\"attributes\":{\"tags\":[\"apply_ranges\"],\"x\":{\"type\":\"field\",\"field\":\"x\"},\"y\":{\"type\":\"field\",\"field\":\"y\"},\"line_color\":\"#00bfbf\",\"line_width\":2,\"line_dash\":[6]}},\"nonselection_glyph\":{\"type\":\"object\",\"name\":\"Line\",\"id\":\"p1183\",\"attributes\":{\"tags\":[\"apply_ranges\"],\"x\":{\"type\":\"field\",\"field\":\"x\"},\"y\":{\"type\":\"field\",\"field\":\"y\"},\"line_color\":\"#00bfbf\",\"line_alpha\":0.1,\"line_width\":2,\"line_dash\":[6]}},\"muted_glyph\":{\"type\":\"object\",\"name\":\"Line\",\"id\":\"p1184\",\"attributes\":{\"tags\":[\"apply_ranges\"],\"x\":{\"type\":\"field\",\"field\":\"x\"},\"y\":{\"type\":\"field\",\"field\":\"y\"},\"line_color\":\"#00bfbf\",\"line_alpha\":0.2,\"line_width\":2,\"line_dash\":[6]}}}},{\"type\":\"object\",\"name\":\"GlyphRenderer\",\"id\":\"p1200\",\"attributes\":{\"name\":\"\\u6cb3\\u5e8a\\u9ad8:\\u521d\\u671f\",\"data_source\":{\"type\":\"object\",\"name\":\"ColumnDataSource\",\"id\":\"p1191\",\"attributes\":{\"selected\":{\"type\":\"object\",\"name\":\"Selection\",\"id\":\"p1192\",\"attributes\":{\"indices\":[],\"line_indices\":[]}},\"selection_policy\":{\"type\":\"object\",\"name\":\"UnionRenderers\",\"id\":\"p1193\"},\"data\":{\"type\":\"map\",\"entries\":[[\"x\",{\"type\":\"ndarray\",\"array\":{\"type\":\"bytes\",\"data\":\"AAAAAAAAAAAAAAAAAABZQAAAAAAAAGlAAAAAAADAckAAAAAAAAB5QAAAAAAAQH9AAAAAAADAgkAAAAAAAOCFQAAAAAAAAIlAAAAAAAAgjEAAAAAAAECPQAAAAAAAMJFAAAAAAADAkkAAAAAAAFCUQAAAAAAA4JVAAAAAAABwl0AAAAAAAACZQAAAAAAAkJpAAAAAAAAgnEAAAAAAALCdQAAAAAAAQJ9AAAAAAABooEAAAAAAADChQAAAAAAA+KFAAAAAAADAokAAAAAAAIijQAAAAAAAUKRAAAAAAAAYpUAAAAAAAOClQAAAAAAAqKZAAAAAAABwp0AAAAAAADioQAAAAAAAAKlAAAAAAADIqUAAAAAAAJCqQAAAAAAAWKtAAAAAAAAgrEAAAAAAAOisQAAAAAAAsK1AAAAAAAB4rkAAAAAAAECvQAAAAAAABLBAAAAAAABosEAAAAAAAMywQAAAAAAAMLFAAAAAAACUsUAAAAAAAPixQAAAAAAAXLJAAAAAAADAskAAAAAAACSzQAAAAAAAiLNAAAAAAADss0AAAAAAAFC0QAAAAAAAtLRAAAAAAAAYtUAAAAAAAHy1QAAAAAAA4LVAAAAAAABEtkAAAAAAAKi2QAAAAAAADLdAAAAAAABwt0AAAAAAANS3QAAAAAAAOLhAAAAAAACcuEAAAAAAAAC5QAAAAAAAZLlAAAAAAADIuUAAAAAAACy6QAAAAAAAkLpAAAAAAAD0ukAAAAAAAFi7QAAAAAAAvLtAAAAAAAAgvEAAAAAAAIS8QAAAAAAA6LxAAAAAAABMvUAAAAAAALC9QAAAAAAAFL5AAAAAAAB4vkAAAAAAANy+QAAAAAAAQL9AAAAAAACkv0AAAAAAAATAQAAAAAAANsBAAAAAAABowEAAAAAAAJrAQAAAAAAAzMBAAAAAAAD+wEAAAAAAADDBQAAAAAAAYsFAAAAAAACUwUAAAAAAAMbBQAAAAAAA+MFAAAAAAAAqwkAAAAAAAFzCQAAAAAAAjsJAAAAAAADAwkAAAAAAAPLCQAAAAAAAJMNAAAAAAABWw0AAAAAAAIjDQA==\"},\"shape\":[101],\"dtype\":\"float64\",\"order\":\"little\"}],[\"y\",{\"type\":\"ndarray\",\"array\":{\"type\":\"bytes\",\"data\":\"AAAAAAAAAACSJEmSJEnCP5IkSZIkSdI/27Zt27Zt2z+SJEmSJEniP7dt27Zt2+Y/27Zt27Zt6z8AAAAAAADwP5IkSZIkSfI/JUmSJEmS9D+3bdu2bdv2P0mSJEmSJPk/27Zt27Zt+z9u27Zt27b9PwAAAAAAAABASZIkSZIkAUCSJEmSJEkCQNu2bdu2bQNAJUmSJEmSBEBu27Zt27YFQLdt27Zt2wZAAAAAAAAACEBJkiRJkiQJQJIkSZIkSQpA27Zt27ZtC0AlSZIkSZIMQG7btm3btg1At23btm3bDkAAAAAAAAAQQCVJkiRJkhBASZIkSZIkEUBu27Zt27YRQJIkSZIkSRJAt23btm3bEkDbtm3btm0TQAAAAAAAABRAJUmSJEmSFEBJkiRJkiQVQG7btm3bthVAkiRJkiRJFkC3bdu2bdsWQNu2bdu2bRdAAAAAAAAAGEAlSZIkSZIYQEmSJEmSJBlAbtu2bdu2GUCSJEmSJEkaQLdt27Zt2xpA27Zt27ZtG0AAAAAAAAAcQCVJkiRJkhxASZIkSZIkHUBu27Zt27YdQJIkSZIkSR5At23btm3bHkDbtm3btm0fQAAAAAAAACBAkiRJkiRJIEAlSZIkSZIgQLdt27Zt2yBASZIkSZIkIUDbtm3btm0hQG7btm3btiFAAAAAAAAAIkCSJEmSJEkiQCVJkiRJkiJAt23btm3bIkBJkiRJkiQjQNu2bdu2bSNAbtu2bdu2I0AAAAAAAAAkQJIkSZIkSSRAJUmSJEmSJEC3bdu2bdskQEmSJEmSJCVA27Zt27ZtJUBu27Zt27YlQAAAAAAAACZAkiRJkiRJJkAlSZIkSZImQLdt27Zt2yZASZIkSZIkJ0Dbtm3btm0nQG7btm3btidAAAAAAAAAKECSJEmSJEkoQCVJkiRJkihAt23btm3bKEBJkiRJkiQpQNu2bdu2bSlAbtu2bdu2KUAAAAAAAAAqQJIkSZIkSSpAJUmSJEmSKkC3bdu2bdsqQEmSJEmSJCtA27Zt27ZtK0Bu27Zt27YrQAAAAAAAACxAkiRJkiRJLEAlSZIkSZIsQA==\"},\"shape\":[101],\"dtype\":\"float64\",\"order\":\"little\"}]]}}},\"view\":{\"type\":\"object\",\"name\":\"CDSView\",\"id\":\"p1201\",\"attributes\":{\"filter\":{\"type\":\"object\",\"name\":\"AllIndices\",\"id\":\"p1202\"}}},\"glyph\":{\"type\":\"object\",\"name\":\"Line\",\"id\":\"p1197\",\"attributes\":{\"tags\":[\"apply_ranges\"],\"x\":{\"type\":\"field\",\"field\":\"x\"},\"y\":{\"type\":\"field\",\"field\":\"y\"},\"line_color\":\"#000000\",\"line_width\":2,\"line_dash\":[6]}},\"selection_glyph\":{\"type\":\"object\",\"name\":\"Line\",\"id\":\"p1204\",\"attributes\":{\"tags\":[\"apply_ranges\"],\"x\":{\"type\":\"field\",\"field\":\"x\"},\"y\":{\"type\":\"field\",\"field\":\"y\"},\"line_color\":\"#000000\",\"line_width\":2,\"line_dash\":[6]}},\"nonselection_glyph\":{\"type\":\"object\",\"name\":\"Line\",\"id\":\"p1198\",\"attributes\":{\"tags\":[\"apply_ranges\"],\"x\":{\"type\":\"field\",\"field\":\"x\"},\"y\":{\"type\":\"field\",\"field\":\"y\"},\"line_color\":\"#000000\",\"line_alpha\":0.1,\"line_width\":2,\"line_dash\":[6]}},\"muted_glyph\":{\"type\":\"object\",\"name\":\"Line\",\"id\":\"p1199\",\"attributes\":{\"tags\":[\"apply_ranges\"],\"x\":{\"type\":\"field\",\"field\":\"x\"},\"y\":{\"type\":\"field\",\"field\":\"y\"},\"line_color\":\"#000000\",\"line_alpha\":0.2,\"line_width\":2,\"line_dash\":[6]}}}},{\"type\":\"object\",\"name\":\"GlyphRenderer\",\"id\":\"p1214\",\"attributes\":{\"name\":\"\\u6c34\\u4f4d\\uff1a24\\u6642\\u9593\\u5f8c\",\"data_source\":{\"type\":\"object\",\"name\":\"ColumnDataSource\",\"id\":\"p1205\",\"attributes\":{\"selected\":{\"type\":\"object\",\"name\":\"Selection\",\"id\":\"p1206\",\"attributes\":{\"indices\":[],\"line_indices\":[]}},\"selection_policy\":{\"type\":\"object\",\"name\":\"UnionRenderers\",\"id\":\"p1207\"},\"data\":{\"type\":\"map\",\"entries\":[[\"x\",{\"type\":\"ndarray\",\"array\":{\"type\":\"bytes\",\"data\":\"AAAAAAAAAAAAAAAAAABZQAAAAAAAAGlAAAAAAADAckAAAAAAAAB5QAAAAAAAQH9AAAAAAADAgkAAAAAAAOCFQAAAAAAAAIlAAAAAAAAgjEAAAAAAAECPQAAAAAAAMJFAAAAAAADAkkAAAAAAAFCUQAAAAAAA4JVAAAAAAABwl0AAAAAAAACZQAAAAAAAkJpAAAAAAAAgnEAAAAAAALCdQAAAAAAAQJ9AAAAAAABooEAAAAAAADChQAAAAAAA+KFAAAAAAADAokAAAAAAAIijQAAAAAAAUKRAAAAAAAAYpUAAAAAAAOClQAAAAAAAqKZAAAAAAABwp0AAAAAAADioQAAAAAAAAKlAAAAAAADIqUAAAAAAAJCqQAAAAAAAWKtAAAAAAAAgrEAAAAAAAOisQAAAAAAAsK1AAAAAAAB4rkAAAAAAAECvQAAAAAAABLBAAAAAAABosEAAAAAAAMywQAAAAAAAMLFAAAAAAACUsUAAAAAAAPixQAAAAAAAXLJAAAAAAADAskAAAAAAACSzQAAAAAAAiLNAAAAAAADss0AAAAAAAFC0QAAAAAAAtLRAAAAAAAAYtUAAAAAAAHy1QAAAAAAA4LVAAAAAAABEtkAAAAAAAKi2QAAAAAAADLdAAAAAAABwt0AAAAAAANS3QAAAAAAAOLhAAAAAAACcuEAAAAAAAAC5QAAAAAAAZLlAAAAAAADIuUAAAAAAACy6QAAAAAAAkLpAAAAAAAD0ukAAAAAAAFi7QAAAAAAAvLtAAAAAAAAgvEAAAAAAAIS8QAAAAAAA6LxAAAAAAABMvUAAAAAAALC9QAAAAAAAFL5AAAAAAAB4vkAAAAAAANy+QAAAAAAAQL9AAAAAAACkv0AAAAAAAATAQAAAAAAANsBAAAAAAABowEAAAAAAAJrAQAAAAAAAzMBAAAAAAAD+wEAAAAAAADDBQAAAAAAAYsFAAAAAAACUwUAAAAAAAMbBQAAAAAAA+MFAAAAAAAAqwkAAAAAAAFzCQAAAAAAAjsJAAAAAAADAwkAAAAAAAPLCQAAAAAAAJMNAAAAAAABWw0AAAAAAAIjDQA==\"},\"shape\":[101],\"dtype\":\"float64\",\"order\":\"little\"}],[\"y\",{\"type\":\"ndarray\",\"array\":{\"type\":\"bytes\",\"data\":\"mzjzGTEBKEAiiGhrOQEoQE0hHzpCAShA2GS1j0sBKECsra92VQEoQBSDLvpfAShA4lOdJWsBKEBO4yMHdwEoQCVz4KyDAShAM+B+JpEBKECH75SFnwEoQCjwwdyuAShAqxteQL8BKEAFTIXH0AEoQAxRr4rjAShAjkQIpfcBKEB4Cu00DQIoQC5tJVskAihA5MqlOz0CKEAUxnH/VwIoQN2JaNJ0AihAThov5pMCKED8aP9wtQIoQAKeKa/ZAihAVGJ15AADKEDUuWFbKwMoQEY4P2hZAyhA7kghaIsDKEBFbqHDwQMoQISvovD8AyhAc9JGcj0EKEDm1wndgwQoQPDknNjQBChAGPfdISUFKEAM8n6OgQUoQMAKIxHnBShAGa2CvVYGKEAe0cXN0QYoQAi8oKhZByhAesHL5+8HKEANeWlilggoQOLHVTVPCShAljL8zhwKKEB7Hhz/AQsoQCGwKQYCDChAotxZqiANKEAc4fFOYg4oQIAbERDMDyhASOXq5GMRKEDp7MPJMBMoQJpJZ+w6FShA4MiI5osXKEAoljn+LhooQAObW3QxHShA7vXD2qIgKEDQRV95lSQoQFxcI7weKShAziDip1cuKEBUEfJNXTQoQKC9jTtROyhAHjiMxllDKEBvLF4tokwoQF7WrWNaVyhAn0roY7ZjKEA2AcLp7HEoQDlW1nM1gihASFnDmMWUKEDciIDdzakoQN6qYYJ2wShAfBDu7dzbKEBucKFoEvkoQHpfk7scGSlAbpgcy/g7KUC9IxemnmEpQARo5vYFiilACUMHYym1KUA1JgmYB+MpQA6PuoShEypARxhrTPZGKkAwr1Re/nwqQPgK0j6ntSpAiKIVG9HwKkCgCg+tTi4rQOQX3k3nbStA1DgmqVqvK0CSvKwrZfIrQKOuOEzENixAgr4d/Dl8LEB7a7HtjsIsQEPx1LCTCS1ATIox1SBRLUC2Z6FpFpktQH3uchpb4S1AIaCbLNspLkB9LrJ3h3IuQLyrj3hUuy5AT40siDkEL0CyoBgzME0vQCohV7Izli9AeAquf0DfL0AxQzYEKhQwQA==\"},\"shape\":[101],\"dtype\":\"float64\",\"order\":\"little\"}]]}}},\"view\":{\"type\":\"object\",\"name\":\"CDSView\",\"id\":\"p1215\",\"attributes\":{\"filter\":{\"type\":\"object\",\"name\":\"AllIndices\",\"id\":\"p1216\"}}},\"glyph\":{\"type\":\"object\",\"name\":\"Line\",\"id\":\"p1211\",\"attributes\":{\"tags\":[\"apply_ranges\"],\"x\":{\"type\":\"field\",\"field\":\"x\"},\"y\":{\"type\":\"field\",\"field\":\"y\"},\"line_color\":\"#00bfbf\",\"line_width\":2}},\"selection_glyph\":{\"type\":\"object\",\"name\":\"Line\",\"id\":\"p1218\",\"attributes\":{\"tags\":[\"apply_ranges\"],\"x\":{\"type\":\"field\",\"field\":\"x\"},\"y\":{\"type\":\"field\",\"field\":\"y\"},\"line_color\":\"#00bfbf\",\"line_width\":2}},\"nonselection_glyph\":{\"type\":\"object\",\"name\":\"Line\",\"id\":\"p1212\",\"attributes\":{\"tags\":[\"apply_ranges\"],\"x\":{\"type\":\"field\",\"field\":\"x\"},\"y\":{\"type\":\"field\",\"field\":\"y\"},\"line_color\":\"#00bfbf\",\"line_alpha\":0.1,\"line_width\":2}},\"muted_glyph\":{\"type\":\"object\",\"name\":\"Line\",\"id\":\"p1213\",\"attributes\":{\"tags\":[\"apply_ranges\"],\"x\":{\"type\":\"field\",\"field\":\"x\"},\"y\":{\"type\":\"field\",\"field\":\"y\"},\"line_color\":\"#00bfbf\",\"line_alpha\":0.2,\"line_width\":2}}}},{\"type\":\"object\",\"name\":\"GlyphRenderer\",\"id\":\"p1228\",\"attributes\":{\"name\":\"\\u6cb3\\u5e8a\\u9ad8:24\\u6642\\u9593\\u5f8c\",\"data_source\":{\"type\":\"object\",\"name\":\"ColumnDataSource\",\"id\":\"p1219\",\"attributes\":{\"selected\":{\"type\":\"object\",\"name\":\"Selection\",\"id\":\"p1220\",\"attributes\":{\"indices\":[],\"line_indices\":[]}},\"selection_policy\":{\"type\":\"object\",\"name\":\"UnionRenderers\",\"id\":\"p1221\"},\"data\":{\"type\":\"map\",\"entries\":[[\"x\",{\"type\":\"ndarray\",\"array\":{\"type\":\"bytes\",\"data\":\"AAAAAAAAAAAAAAAAAABZQAAAAAAAAGlAAAAAAADAckAAAAAAAAB5QAAAAAAAQH9AAAAAAADAgkAAAAAAAOCFQAAAAAAAAIlAAAAAAAAgjEAAAAAAAECPQAAAAAAAMJFAAAAAAADAkkAAAAAAAFCUQAAAAAAA4JVAAAAAAABwl0AAAAAAAACZQAAAAAAAkJpAAAAAAAAgnEAAAAAAALCdQAAAAAAAQJ9AAAAAAABooEAAAAAAADChQAAAAAAA+KFAAAAAAADAokAAAAAAAIijQAAAAAAAUKRAAAAAAAAYpUAAAAAAAOClQAAAAAAAqKZAAAAAAABwp0AAAAAAADioQAAAAAAAAKlAAAAAAADIqUAAAAAAAJCqQAAAAAAAWKtAAAAAAAAgrEAAAAAAAOisQAAAAAAAsK1AAAAAAAB4rkAAAAAAAECvQAAAAAAABLBAAAAAAABosEAAAAAAAMywQAAAAAAAMLFAAAAAAACUsUAAAAAAAPixQAAAAAAAXLJAAAAAAADAskAAAAAAACSzQAAAAAAAiLNAAAAAAADss0AAAAAAAFC0QAAAAAAAtLRAAAAAAAAYtUAAAAAAAHy1QAAAAAAA4LVAAAAAAABEtkAAAAAAAKi2QAAAAAAADLdAAAAAAABwt0AAAAAAANS3QAAAAAAAOLhAAAAAAACcuEAAAAAAAAC5QAAAAAAAZLlAAAAAAADIuUAAAAAAACy6QAAAAAAAkLpAAAAAAAD0ukAAAAAAAFi7QAAAAAAAvLtAAAAAAAAgvEAAAAAAAIS8QAAAAAAA6LxAAAAAAABMvUAAAAAAALC9QAAAAAAAFL5AAAAAAAB4vkAAAAAAANy+QAAAAAAAQL9AAAAAAACkv0AAAAAAAATAQAAAAAAANsBAAAAAAABowEAAAAAAAJrAQAAAAAAAzMBAAAAAAAD+wEAAAAAAADDBQAAAAAAAYsFAAAAAAACUwUAAAAAAAMbBQAAAAAAA+MFAAAAAAAAqwkAAAAAAAFzCQAAAAAAAjsJAAAAAAADAwkAAAAAAAPLCQAAAAAAAJMNAAAAAAABWw0AAAAAAAIjDQA==\"},\"shape\":[101],\"dtype\":\"float64\",\"order\":\"little\"}],[\"y\",{\"type\":\"ndarray\",\"array\":{\"type\":\"bytes\",\"data\":\"P/I9aJ/X6j+uSH4S+3/vP3e6wEvvE/I/xtZyGKJn9D/Og6vmErv2Pz9i1YU+Dvk/ToLlmiFh+z/7Y4CduLP9Py8+f+r/AgBAAYySqvkrAUC4L1F9x1QCQNTLnjNnfQNAqEbcftalBEA/O6zuEs4FQJWCh+4Z9gZAz4Mew+gdCEBAaH6HfEUJQLGM+SnSbApAWNDHaOaTC0B2I17OtboMQMdlbK084Q1AkaeGHHcHD0DzvbB4sBYQQMv00d16qRBAorCcXxg8EUA7+Q53hs4RQB72yXDCYBJAPORaacnyEkC0+ydJmIQTQP1K978rFhRAp10MQICnFEC+m8X4kTgVQKGCuNBcyRVA8KY6X9xZFkCkaUnlC+oWQD/OxEXmeRdAVnnq/GUJGED6WgoXhZgYQGbKWSY9JxlAfwjjN4e1GUAK3oTHW0MaQE4V97Ky0BpAT4TdK4NdG0DjKOqow+kbQGN/ONZpdRxAzD7/hGoAHUCMFPyauYodQCBWBwJKFB5AeraHmA2dHkBXX9Mj9SQfQIXl5kXwqx9APCVIvPYYIEDqWF8IbVsgQCvE5yZRnSBAsLjpvJjeIEDFO7gQOR8hQLe44jUnXyFA90luTlieIUCwbbHnwdwhQMnmGXpaGiJArcd+ExpXIkDLiB0z+5IiQCCZ09v7zSJAYQ0O3B4II0D5w+dBbUEjQMjlyOT3eSNAChzp3NixI0BsGHOuNOkjQNOgut06ICRAcgZHmSVXJEDKzGAqOI4kQKOIH/K7xSRAMVtC5/v9JEBMswnbPjclQMYqDEfBcSVAywUt56+tJUDEtfuEJOslQGrrebolKiZAcEH3SqlqJkC/Pkffl6wmQLvN9/7Q7yZAS2U7ry40J0AvmgGSiHknQNoNN4G2vydA/WGym5IGKEDuGGy1+k0oQGZxXijRlShAq+epFv3dKEAL+6M+aiYpQGwaYYcIbylAD01Xacu3KUBF95NOqQAqQNlKMvyaSSpAffxaDpuSKkCmVz6KpdsqQEw7goW3JCtA3xwf4c5tK0BCMAsU6rYrQLqwSQMIACxAO83T4ydJLEAlSZIkSZIsQA==\"},\"shape\":[101],\"dtype\":\"float64\",\"order\":\"little\"}]]}}},\"view\":{\"type\":\"object\",\"name\":\"CDSView\",\"id\":\"p1229\",\"attributes\":{\"filter\":{\"type\":\"object\",\"name\":\"AllIndices\",\"id\":\"p1230\"}}},\"glyph\":{\"type\":\"object\",\"name\":\"Line\",\"id\":\"p1225\",\"attributes\":{\"tags\":[\"apply_ranges\"],\"x\":{\"type\":\"field\",\"field\":\"x\"},\"y\":{\"type\":\"field\",\"field\":\"y\"},\"line_color\":\"#000000\",\"line_width\":2}},\"selection_glyph\":{\"type\":\"object\",\"name\":\"Line\",\"id\":\"p1232\",\"attributes\":{\"tags\":[\"apply_ranges\"],\"x\":{\"type\":\"field\",\"field\":\"x\"},\"y\":{\"type\":\"field\",\"field\":\"y\"},\"line_color\":\"#000000\",\"line_width\":2}},\"nonselection_glyph\":{\"type\":\"object\",\"name\":\"Line\",\"id\":\"p1226\",\"attributes\":{\"tags\":[\"apply_ranges\"],\"x\":{\"type\":\"field\",\"field\":\"x\"},\"y\":{\"type\":\"field\",\"field\":\"y\"},\"line_color\":\"#000000\",\"line_alpha\":0.1,\"line_width\":2}},\"muted_glyph\":{\"type\":\"object\",\"name\":\"Line\",\"id\":\"p1227\",\"attributes\":{\"tags\":[\"apply_ranges\"],\"x\":{\"type\":\"field\",\"field\":\"x\"},\"y\":{\"type\":\"field\",\"field\":\"y\"},\"line_color\":\"#000000\",\"line_alpha\":0.2,\"line_width\":2}}}}],\"toolbar\":{\"type\":\"object\",\"name\":\"Toolbar\",\"id\":\"p1154\",\"attributes\":{\"tools\":[{\"type\":\"object\",\"name\":\"WheelZoomTool\",\"id\":\"p1138\",\"attributes\":{\"tags\":[\"hv_created\"],\"renderers\":\"auto\",\"zoom_together\":\"none\"}},{\"type\":\"object\",\"name\":\"SaveTool\",\"id\":\"p1167\"},{\"type\":\"object\",\"name\":\"PanTool\",\"id\":\"p1168\"},{\"type\":\"object\",\"name\":\"BoxZoomTool\",\"id\":\"p1169\",\"attributes\":{\"overlay\":{\"type\":\"object\",\"name\":\"BoxAnnotation\",\"id\":\"p1170\",\"attributes\":{\"syncable\":false,\"level\":\"overlay\",\"visible\":false,\"left\":{\"type\":\"number\",\"value\":\"nan\"},\"right\":{\"type\":\"number\",\"value\":\"nan\"},\"top\":{\"type\":\"number\",\"value\":\"nan\"},\"bottom\":{\"type\":\"number\",\"value\":\"nan\"},\"left_units\":\"canvas\",\"right_units\":\"canvas\",\"top_units\":\"canvas\",\"bottom_units\":\"canvas\",\"line_color\":\"black\",\"line_alpha\":1.0,\"line_width\":2,\"line_dash\":[4,4],\"fill_color\":\"lightgrey\",\"fill_alpha\":0.5}}}},{\"type\":\"object\",\"name\":\"ResetTool\",\"id\":\"p1175\"}],\"active_drag\":{\"id\":\"p1168\"},\"active_scroll\":{\"id\":\"p1138\"}}},\"left\":[{\"type\":\"object\",\"name\":\"LinearAxis\",\"id\":\"p1162\",\"attributes\":{\"ticker\":{\"type\":\"object\",\"name\":\"BasicTicker\",\"id\":\"p1163\",\"attributes\":{\"mantissas\":[1,2,5]}},\"formatter\":{\"type\":\"object\",\"name\":\"BasicTickFormatter\",\"id\":\"p1164\"},\"axis_label\":\"Elevation[m]\",\"major_label_policy\":{\"type\":\"object\",\"name\":\"AllLabels\",\"id\":\"p1165\"}}}],\"below\":[{\"type\":\"object\",\"name\":\"LinearAxis\",\"id\":\"p1157\",\"attributes\":{\"ticker\":{\"type\":\"object\",\"name\":\"BasicTicker\",\"id\":\"p1158\",\"attributes\":{\"mantissas\":[1,2,5]}},\"formatter\":{\"type\":\"object\",\"name\":\"BasicTickFormatter\",\"id\":\"p1159\"},\"axis_label\":\"Distance[m]\",\"major_label_policy\":{\"type\":\"object\",\"name\":\"AllLabels\",\"id\":\"p1160\"}}}],\"center\":[{\"type\":\"object\",\"name\":\"Grid\",\"id\":\"p1161\",\"attributes\":{\"axis\":{\"id\":\"p1157\"},\"ticker\":{\"id\":\"p1158\"}}},{\"type\":\"object\",\"name\":\"Grid\",\"id\":\"p1166\",\"attributes\":{\"dimension\":1,\"axis\":{\"id\":\"p1162\"},\"ticker\":{\"id\":\"p1163\"}}},{\"type\":\"object\",\"name\":\"Legend\",\"id\":\"p1188\",\"attributes\":{\"location\":\"bottom_right\",\"click_policy\":\"mute\",\"items\":[{\"type\":\"object\",\"name\":\"LegendItem\",\"id\":\"p1189\",\"attributes\":{\"label\":{\"type\":\"value\",\"value\":\"\\u6c34\\u4f4d:\\u521d\\u671f\"},\"renderers\":[{\"id\":\"p1185\"}]}},{\"type\":\"object\",\"name\":\"LegendItem\",\"id\":\"p1203\",\"attributes\":{\"label\":{\"type\":\"value\",\"value\":\"\\u6cb3\\u5e8a\\u9ad8:\\u521d\\u671f\"},\"renderers\":[{\"id\":\"p1200\"}]}},{\"type\":\"object\",\"name\":\"LegendItem\",\"id\":\"p1217\",\"attributes\":{\"label\":{\"type\":\"value\",\"value\":\"\\u6c34\\u4f4d\\uff1a24\\u6642\\u9593\\u5f8c\"},\"renderers\":[{\"id\":\"p1214\"}]}},{\"type\":\"object\",\"name\":\"LegendItem\",\"id\":\"p1231\",\"attributes\":{\"label\":{\"type\":\"value\",\"value\":\"\\u6cb3\\u5e8a\\u9ad8:24\\u6642\\u9593\\u5f8c\"},\"renderers\":[{\"id\":\"p1228\"}]}}]}}],\"min_border_top\":10,\"min_border_bottom\":10,\"min_border_left\":10,\"min_border_right\":10,\"output_backend\":\"webgl\"}},{\"type\":\"object\",\"name\":\"Spacer\",\"id\":\"p1234\",\"attributes\":{\"name\":\"HSpacer01097\",\"stylesheets\":[\"\\n:host(.pn-loading):before, .pn-loading:before {\\n  background-color: #c3c3c3;\\n  mask-size: auto calc(min(50%, 400px));\\n  -webkit-mask-size: auto calc(min(50%, 400px));\\n}\",{\"id\":\"p1131\"},{\"id\":\"p1129\"},{\"id\":\"p1130\"}],\"margin\":0,\"sizing_mode\":\"stretch_width\",\"align\":\"start\"}}]}}],\"defs\":[{\"type\":\"model\",\"name\":\"ReactiveHTML1\"},{\"type\":\"model\",\"name\":\"FlexBox1\",\"properties\":[{\"name\":\"align_content\",\"kind\":\"Any\",\"default\":\"flex-start\"},{\"name\":\"align_items\",\"kind\":\"Any\",\"default\":\"flex-start\"},{\"name\":\"flex_direction\",\"kind\":\"Any\",\"default\":\"row\"},{\"name\":\"flex_wrap\",\"kind\":\"Any\",\"default\":\"wrap\"},{\"name\":\"gap\",\"kind\":\"Any\",\"default\":\"\"},{\"name\":\"justify_content\",\"kind\":\"Any\",\"default\":\"flex-start\"}]},{\"type\":\"model\",\"name\":\"FloatPanel1\",\"properties\":[{\"name\":\"config\",\"kind\":\"Any\",\"default\":{\"type\":\"map\"}},{\"name\":\"contained\",\"kind\":\"Any\",\"default\":true},{\"name\":\"position\",\"kind\":\"Any\",\"default\":\"right-top\"},{\"name\":\"offsetx\",\"kind\":\"Any\",\"default\":null},{\"name\":\"offsety\",\"kind\":\"Any\",\"default\":null},{\"name\":\"theme\",\"kind\":\"Any\",\"default\":\"primary\"},{\"name\":\"status\",\"kind\":\"Any\",\"default\":\"normalized\"}]},{\"type\":\"model\",\"name\":\"GridStack1\",\"properties\":[{\"name\":\"mode\",\"kind\":\"Any\",\"default\":\"warn\"},{\"name\":\"ncols\",\"kind\":\"Any\",\"default\":null},{\"name\":\"nrows\",\"kind\":\"Any\",\"default\":null},{\"name\":\"allow_resize\",\"kind\":\"Any\",\"default\":true},{\"name\":\"allow_drag\",\"kind\":\"Any\",\"default\":true},{\"name\":\"state\",\"kind\":\"Any\",\"default\":[]}]},{\"type\":\"model\",\"name\":\"drag1\",\"properties\":[{\"name\":\"slider_width\",\"kind\":\"Any\",\"default\":5},{\"name\":\"slider_color\",\"kind\":\"Any\",\"default\":\"black\"},{\"name\":\"value\",\"kind\":\"Any\",\"default\":50}]},{\"type\":\"model\",\"name\":\"click1\",\"properties\":[{\"name\":\"terminal_output\",\"kind\":\"Any\",\"default\":\"\"},{\"name\":\"debug_name\",\"kind\":\"Any\",\"default\":\"\"},{\"name\":\"clears\",\"kind\":\"Any\",\"default\":0}]},{\"type\":\"model\",\"name\":\"FastWrapper1\",\"properties\":[{\"name\":\"object\",\"kind\":\"Any\",\"default\":null},{\"name\":\"style\",\"kind\":\"Any\",\"default\":null}]},{\"type\":\"model\",\"name\":\"NotificationAreaBase1\",\"properties\":[{\"name\":\"js_events\",\"kind\":\"Any\",\"default\":{\"type\":\"map\"}},{\"name\":\"position\",\"kind\":\"Any\",\"default\":\"bottom-right\"},{\"name\":\"_clear\",\"kind\":\"Any\",\"default\":0}]},{\"type\":\"model\",\"name\":\"NotificationArea1\",\"properties\":[{\"name\":\"js_events\",\"kind\":\"Any\",\"default\":{\"type\":\"map\"}},{\"name\":\"notifications\",\"kind\":\"Any\",\"default\":[]},{\"name\":\"position\",\"kind\":\"Any\",\"default\":\"bottom-right\"},{\"name\":\"_clear\",\"kind\":\"Any\",\"default\":0},{\"name\":\"types\",\"kind\":\"Any\",\"default\":[{\"type\":\"map\",\"entries\":[[\"type\",\"warning\"],[\"background\",\"#ffc107\"],[\"icon\",{\"type\":\"map\",\"entries\":[[\"className\",\"fas fa-exclamation-triangle\"],[\"tagName\",\"i\"],[\"color\",\"white\"]]}]]},{\"type\":\"map\",\"entries\":[[\"type\",\"info\"],[\"background\",\"#007bff\"],[\"icon\",{\"type\":\"map\",\"entries\":[[\"className\",\"fas fa-info-circle\"],[\"tagName\",\"i\"],[\"color\",\"white\"]]}]]}]}]},{\"type\":\"model\",\"name\":\"Notification\",\"properties\":[{\"name\":\"background\",\"kind\":\"Any\",\"default\":null},{\"name\":\"duration\",\"kind\":\"Any\",\"default\":3000},{\"name\":\"icon\",\"kind\":\"Any\",\"default\":null},{\"name\":\"message\",\"kind\":\"Any\",\"default\":\"\"},{\"name\":\"notification_type\",\"kind\":\"Any\",\"default\":null},{\"name\":\"_destroyed\",\"kind\":\"Any\",\"default\":false}]},{\"type\":\"model\",\"name\":\"TemplateActions1\",\"properties\":[{\"name\":\"open_modal\",\"kind\":\"Any\",\"default\":0},{\"name\":\"close_modal\",\"kind\":\"Any\",\"default\":0}]},{\"type\":\"model\",\"name\":\"BootstrapTemplateActions1\",\"properties\":[{\"name\":\"open_modal\",\"kind\":\"Any\",\"default\":0},{\"name\":\"close_modal\",\"kind\":\"Any\",\"default\":0}]},{\"type\":\"model\",\"name\":\"TemplateEditor1\",\"properties\":[{\"name\":\"layout\",\"kind\":\"Any\",\"default\":[]}]},{\"type\":\"model\",\"name\":\"MaterialTemplateActions1\",\"properties\":[{\"name\":\"open_modal\",\"kind\":\"Any\",\"default\":0},{\"name\":\"close_modal\",\"kind\":\"Any\",\"default\":0}]},{\"type\":\"model\",\"name\":\"copy_to_clipboard1\",\"properties\":[{\"name\":\"fill\",\"kind\":\"Any\",\"default\":\"none\"},{\"name\":\"value\",\"kind\":\"Any\",\"default\":null}]}]}};\n",
       "  var render_items = [{\"docid\":\"8477ac7e-8783-4baa-a9f7-b43f8326c84a\",\"roots\":{\"p1128\":\"cd2298b8-502b-40e0-b18a-3684740c2f18\"},\"root_ids\":[\"p1128\"]}];\n",
       "  var docs = Object.values(docs_json)\n",
       "  if (!docs) {\n",
       "    return\n",
       "  }\n",
       "  const py_version = docs[0].version.replace('rc', '-rc.').replace('.dev', '-dev.')\n",
       "  async function embed_document(root) {\n",
       "    var Bokeh = get_bokeh(root)\n",
       "    await Bokeh.embed.embed_items_notebook(docs_json, render_items);\n",
       "    for (const render_item of render_items) {\n",
       "      for (const root_id of render_item.root_ids) {\n",
       "\tconst id_el = document.getElementById(root_id)\n",
       "\tif (id_el.children.length && id_el.children[0].hasAttribute('data-root-id')) {\n",
       "\t  const root_el = id_el.children[0]\n",
       "\t  root_el.id = root_el.id + '-rendered'\n",
       "\t  for (const child of root_el.children) {\n",
       "            // Ensure JupyterLab does not capture keyboard shortcuts\n",
       "            // see: https://jupyterlab.readthedocs.io/en/4.1.x/extension/notebook.html#keyboard-interaction-model\n",
       "\t    child.setAttribute('data-lm-suppress-shortcuts', 'true')\n",
       "\t  }\n",
       "\t}\n",
       "      }\n",
       "    }\n",
       "  }\n",
       "  function get_bokeh(root) {\n",
       "    if (root.Bokeh === undefined) {\n",
       "      return null\n",
       "    } else if (root.Bokeh.version !== py_version) {\n",
       "      if (root.Bokeh.versions === undefined || !root.Bokeh.versions.has(py_version)) {\n",
       "\treturn null\n",
       "      }\n",
       "      return root.Bokeh.versions.get(py_version);\n",
       "    } else if (root.Bokeh.version === py_version) {\n",
       "      return root.Bokeh\n",
       "    }\n",
       "    return null\n",
       "  }\n",
       "  function is_loaded(root) {\n",
       "    var Bokeh = get_bokeh(root)\n",
       "    return (Bokeh != null && Bokeh.Panel !== undefined)\n",
       "  }\n",
       "  if (is_loaded(root)) {\n",
       "    embed_document(root);\n",
       "  } else {\n",
       "    var attempts = 0;\n",
       "    var timer = setInterval(function(root) {\n",
       "      if (is_loaded(root)) {\n",
       "        clearInterval(timer);\n",
       "        embed_document(root);\n",
       "      } else if (document.readyState == \"complete\") {\n",
       "        attempts++;\n",
       "        if (attempts > 200) {\n",
       "          clearInterval(timer);\n",
       "\t  var Bokeh = get_bokeh(root)\n",
       "\t  if (Bokeh == null || Bokeh.Panel == null) {\n",
       "            console.warn(\"Panel: ERROR: Unable to run Panel code because Bokeh or Panel library is missing\");\n",
       "\t  } else {\n",
       "\t    console.warn(\"Panel: WARNING: Attempting to render but not all required libraries could be resolved.\")\n",
       "\t    embed_document(root)\n",
       "\t  }\n",
       "        }\n",
       "      }\n",
       "    }, 25, root)\n",
       "  }\n",
       "})(window);</script>"
      ],
      "text/plain": [
       ":Overlay\n",
       "   .Curve.水位_colon_初期              :Curve   [x]   (y)\n",
       "   .Curve.河床高_colon_初期             :Curve   [x]   (y)\n",
       "   .Curve.水位_fullwidth_colon_24時間後 :Curve   [x]   (y)\n",
       "   .Curve.河床高_colon_24時間後          :Curve   [x]   (y)"
      ]
     },
     "execution_count": 12,
     "metadata": {
      "application/vnd.holoviews_exec.v0+json": {
       "id": "p1128"
      }
     },
     "output_type": "execute_result"
    }
   ],
   "source": [
    "g11 = hv.Curve((L, hini[::-1]+zbini[::-1]), label='水位:初期').options(color='c',line_dash='dashed')\n",
    "g12 = hv.Curve((L, zbini[::-1]), label='河床高:初期').options(color='k',line_dash='dashed')\n",
    "g21 = hv.Curve((L, h[::-1]+zb[::-1]), label='水位：24時間後').options(color='c')\n",
    "g22 = hv.Curve((L, zb[::-1]), label='河床高:24時間後').options(color='k')\n",
    "g = g11*g12*g21*g22\n",
    "\n",
    "g.options(show_grid=True,xlabel='Distance[m]',ylabel='Elevation[m]'\n",
    "    , width=600, height=400, title='bed elevation',legend_position='bottom_right')"
   ]
  }
 ],
 "metadata": {
  "kernelspec": {
   "display_name": "py312",
   "language": "python",
   "name": "python3"
  },
  "language_info": {
   "codemirror_mode": {
    "name": "ipython",
    "version": 3
   },
   "file_extension": ".py",
   "mimetype": "text/x-python",
   "name": "python",
   "nbconvert_exporter": "python",
   "pygments_lexer": "ipython3",
   "version": "3.12.3"
  }
 },
 "nbformat": 4,
 "nbformat_minor": 5
}
