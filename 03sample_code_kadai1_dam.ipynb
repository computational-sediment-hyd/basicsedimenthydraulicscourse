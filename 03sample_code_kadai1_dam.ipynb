{
 "cells": [
  {
   "cell_type": "markdown",
   "id": "10fe16ad",
   "metadata": {},
   "source": [
    "1. ダム堆砂の計算\n",
    "単位幅流量：5.0 $\\mathrm{m^2/s}$、マニングの粗度係数：0.02、河床勾配：1/700、延長10kmの水路において、下流端の***水位***を12mとして以下について検討せよ。\n",
    "\n",
    "   1. 粒径：0.1 $\\mathrm{mm}$として24時間平衡流砂を続けた場合の河床変動を計算せよ。"
   ]
  },
  {
   "cell_type": "code",
   "execution_count": 1,
   "id": "705b44d1",
   "metadata": {},
   "outputs": [
    {
     "data": {
      "application/javascript": "(function(root) {\n  function now() {\n    return new Date();\n  }\n\n  var force = true;\n  var py_version = '3.4.1'.replace('rc', '-rc.').replace('.dev', '-dev.');\n  var reloading = false;\n  var Bokeh = root.Bokeh;\n\n  if (typeof (root._bokeh_timeout) === \"undefined\" || force) {\n    root._bokeh_timeout = Date.now() + 5000;\n    root._bokeh_failed_load = false;\n  }\n\n  function run_callbacks() {\n    try {\n      root._bokeh_onload_callbacks.forEach(function(callback) {\n        if (callback != null)\n          callback();\n      });\n    } finally {\n      delete root._bokeh_onload_callbacks;\n    }\n    console.debug(\"Bokeh: all callbacks have finished\");\n  }\n\n  function load_libs(css_urls, js_urls, js_modules, js_exports, callback) {\n    if (css_urls == null) css_urls = [];\n    if (js_urls == null) js_urls = [];\n    if (js_modules == null) js_modules = [];\n    if (js_exports == null) js_exports = {};\n\n    root._bokeh_onload_callbacks.push(callback);\n\n    if (root._bokeh_is_loading > 0) {\n      console.debug(\"Bokeh: BokehJS is being loaded, scheduling callback at\", now());\n      return null;\n    }\n    if (js_urls.length === 0 && js_modules.length === 0 && Object.keys(js_exports).length === 0) {\n      run_callbacks();\n      return null;\n    }\n    if (!reloading) {\n      console.debug(\"Bokeh: BokehJS not loaded, scheduling load and callback at\", now());\n    }\n\n    function on_load() {\n      root._bokeh_is_loading--;\n      if (root._bokeh_is_loading === 0) {\n        console.debug(\"Bokeh: all BokehJS libraries/stylesheets loaded\");\n        run_callbacks()\n      }\n    }\n    window._bokeh_on_load = on_load\n\n    function on_error() {\n      console.error(\"failed to load \" + url);\n    }\n\n    var skip = [];\n    if (window.requirejs) {\n      window.requirejs.config({'packages': {}, 'paths': {}, 'shim': {}});\n      root._bokeh_is_loading = css_urls.length + 0;\n    } else {\n      root._bokeh_is_loading = css_urls.length + js_urls.length + js_modules.length + Object.keys(js_exports).length;\n    }\n\n    var existing_stylesheets = []\n    var links = document.getElementsByTagName('link')\n    for (var i = 0; i < links.length; i++) {\n      var link = links[i]\n      if (link.href != null) {\n\texisting_stylesheets.push(link.href)\n      }\n    }\n    for (var i = 0; i < css_urls.length; i++) {\n      var url = css_urls[i];\n      if (existing_stylesheets.indexOf(url) !== -1) {\n\ton_load()\n\tcontinue;\n      }\n      const element = document.createElement(\"link\");\n      element.onload = on_load;\n      element.onerror = on_error;\n      element.rel = \"stylesheet\";\n      element.type = \"text/css\";\n      element.href = url;\n      console.debug(\"Bokeh: injecting link tag for BokehJS stylesheet: \", url);\n      document.body.appendChild(element);\n    }    var existing_scripts = []\n    var scripts = document.getElementsByTagName('script')\n    for (var i = 0; i < scripts.length; i++) {\n      var script = scripts[i]\n      if (script.src != null) {\n\texisting_scripts.push(script.src)\n      }\n    }\n    for (var i = 0; i < js_urls.length; i++) {\n      var url = js_urls[i];\n      if (skip.indexOf(url) !== -1 || existing_scripts.indexOf(url) !== -1) {\n\tif (!window.requirejs) {\n\t  on_load();\n\t}\n\tcontinue;\n      }\n      var element = document.createElement('script');\n      element.onload = on_load;\n      element.onerror = on_error;\n      element.async = false;\n      element.src = url;\n      console.debug(\"Bokeh: injecting script tag for BokehJS library: \", url);\n      document.head.appendChild(element);\n    }\n    for (var i = 0; i < js_modules.length; i++) {\n      var url = js_modules[i];\n      if (skip.indexOf(url) !== -1 || existing_scripts.indexOf(url) !== -1) {\n\tif (!window.requirejs) {\n\t  on_load();\n\t}\n\tcontinue;\n      }\n      var element = document.createElement('script');\n      element.onload = on_load;\n      element.onerror = on_error;\n      element.async = false;\n      element.src = url;\n      element.type = \"module\";\n      console.debug(\"Bokeh: injecting script tag for BokehJS library: \", url);\n      document.head.appendChild(element);\n    }\n    for (const name in js_exports) {\n      var url = js_exports[name];\n      if (skip.indexOf(url) >= 0 || root[name] != null) {\n\tif (!window.requirejs) {\n\t  on_load();\n\t}\n\tcontinue;\n      }\n      var element = document.createElement('script');\n      element.onerror = on_error;\n      element.async = false;\n      element.type = \"module\";\n      console.debug(\"Bokeh: injecting script tag for BokehJS library: \", url);\n      element.textContent = `\n      import ${name} from \"${url}\"\n      window.${name} = ${name}\n      window._bokeh_on_load()\n      `\n      document.head.appendChild(element);\n    }\n    if (!js_urls.length && !js_modules.length) {\n      on_load()\n    }\n  };\n\n  function inject_raw_css(css) {\n    const element = document.createElement(\"style\");\n    element.appendChild(document.createTextNode(css));\n    document.body.appendChild(element);\n  }\n\n  var js_urls = [\"https://cdn.bokeh.org/bokeh/release/bokeh-3.4.1.min.js\", \"https://cdn.bokeh.org/bokeh/release/bokeh-gl-3.4.1.min.js\", \"https://cdn.bokeh.org/bokeh/release/bokeh-widgets-3.4.1.min.js\", \"https://cdn.bokeh.org/bokeh/release/bokeh-tables-3.4.1.min.js\", \"https://cdn.holoviz.org/panel/1.4.4/dist/panel.min.js\"];\n  var js_modules = [];\n  var js_exports = {};\n  var css_urls = [];\n  var inline_js = [    function(Bokeh) {\n      Bokeh.set_log_level(\"info\");\n    },\nfunction(Bokeh) {} // ensure no trailing comma for IE\n  ];\n\n  function run_inline_js() {\n    if ((root.Bokeh !== undefined) || (force === true)) {\n      for (var i = 0; i < inline_js.length; i++) {\n\ttry {\n          inline_js[i].call(root, root.Bokeh);\n\t} catch(e) {\n\t  if (!reloading) {\n\t    throw e;\n\t  }\n\t}\n      }\n      // Cache old bokeh versions\n      if (Bokeh != undefined && !reloading) {\n\tvar NewBokeh = root.Bokeh;\n\tif (Bokeh.versions === undefined) {\n\t  Bokeh.versions = new Map();\n\t}\n\tif (NewBokeh.version !== Bokeh.version) {\n\t  Bokeh.versions.set(NewBokeh.version, NewBokeh)\n\t}\n\troot.Bokeh = Bokeh;\n      }} else if (Date.now() < root._bokeh_timeout) {\n      setTimeout(run_inline_js, 100);\n    } else if (!root._bokeh_failed_load) {\n      console.log(\"Bokeh: BokehJS failed to load within specified timeout.\");\n      root._bokeh_failed_load = true;\n    }\n    root._bokeh_is_initializing = false\n  }\n\n  function load_or_wait() {\n    // Implement a backoff loop that tries to ensure we do not load multiple\n    // versions of Bokeh and its dependencies at the same time.\n    // In recent versions we use the root._bokeh_is_initializing flag\n    // to determine whether there is an ongoing attempt to initialize\n    // bokeh, however for backward compatibility we also try to ensure\n    // that we do not start loading a newer (Panel>=1.0 and Bokeh>3) version\n    // before older versions are fully initialized.\n    if (root._bokeh_is_initializing && Date.now() > root._bokeh_timeout) {\n      root._bokeh_is_initializing = false;\n      root._bokeh_onload_callbacks = undefined;\n      console.log(\"Bokeh: BokehJS was loaded multiple times but one version failed to initialize.\");\n      load_or_wait();\n    } else if (root._bokeh_is_initializing || (typeof root._bokeh_is_initializing === \"undefined\" && root._bokeh_onload_callbacks !== undefined)) {\n      setTimeout(load_or_wait, 100);\n    } else {\n      root._bokeh_is_initializing = true\n      root._bokeh_onload_callbacks = []\n      var bokeh_loaded = Bokeh != null && (Bokeh.version === py_version || (Bokeh.versions !== undefined && Bokeh.versions.has(py_version)));\n      if (!reloading && !bokeh_loaded) {\n\troot.Bokeh = undefined;\n      }\n      load_libs(css_urls, js_urls, js_modules, js_exports, function() {\n\tconsole.debug(\"Bokeh: BokehJS plotting callback run at\", now());\n\trun_inline_js();\n      });\n    }\n  }\n  // Give older versions of the autoload script a head-start to ensure\n  // they initialize before we start loading newer version.\n  setTimeout(load_or_wait, 100)\n}(window));",
      "application/vnd.holoviews_load.v0+json": ""
     },
     "metadata": {},
     "output_type": "display_data"
    },
    {
     "data": {
      "application/javascript": "\nif ((window.PyViz === undefined) || (window.PyViz instanceof HTMLElement)) {\n  window.PyViz = {comms: {}, comm_status:{}, kernels:{}, receivers: {}, plot_index: []}\n}\n\n\n    function JupyterCommManager() {\n    }\n\n    JupyterCommManager.prototype.register_target = function(plot_id, comm_id, msg_handler) {\n      if (window.comm_manager || ((window.Jupyter !== undefined) && (Jupyter.notebook.kernel != null))) {\n        var comm_manager = window.comm_manager || Jupyter.notebook.kernel.comm_manager;\n        comm_manager.register_target(comm_id, function(comm) {\n          comm.on_msg(msg_handler);\n        });\n      } else if ((plot_id in window.PyViz.kernels) && (window.PyViz.kernels[plot_id])) {\n        window.PyViz.kernels[plot_id].registerCommTarget(comm_id, function(comm) {\n          comm.onMsg = msg_handler;\n        });\n      } else if (typeof google != 'undefined' && google.colab.kernel != null) {\n        google.colab.kernel.comms.registerTarget(comm_id, (comm) => {\n          var messages = comm.messages[Symbol.asyncIterator]();\n          function processIteratorResult(result) {\n            var message = result.value;\n            console.log(message)\n            var content = {data: message.data, comm_id};\n            var buffers = []\n            for (var buffer of message.buffers || []) {\n              buffers.push(new DataView(buffer))\n            }\n            var metadata = message.metadata || {};\n            var msg = {content, buffers, metadata}\n            msg_handler(msg);\n            return messages.next().then(processIteratorResult);\n          }\n          return messages.next().then(processIteratorResult);\n        })\n      }\n    }\n\n    JupyterCommManager.prototype.get_client_comm = function(plot_id, comm_id, msg_handler) {\n      if (comm_id in window.PyViz.comms) {\n        return window.PyViz.comms[comm_id];\n      } else if (window.comm_manager || ((window.Jupyter !== undefined) && (Jupyter.notebook.kernel != null))) {\n        var comm_manager = window.comm_manager || Jupyter.notebook.kernel.comm_manager;\n        var comm = comm_manager.new_comm(comm_id, {}, {}, {}, comm_id);\n        if (msg_handler) {\n          comm.on_msg(msg_handler);\n        }\n      } else if ((plot_id in window.PyViz.kernels) && (window.PyViz.kernels[plot_id])) {\n        var comm = window.PyViz.kernels[plot_id].connectToComm(comm_id);\n        comm.open();\n        if (msg_handler) {\n          comm.onMsg = msg_handler;\n        }\n      } else if (typeof google != 'undefined' && google.colab.kernel != null) {\n        var comm_promise = google.colab.kernel.comms.open(comm_id)\n        comm_promise.then((comm) => {\n          window.PyViz.comms[comm_id] = comm;\n          if (msg_handler) {\n            var messages = comm.messages[Symbol.asyncIterator]();\n            function processIteratorResult(result) {\n              var message = result.value;\n              var content = {data: message.data};\n              var metadata = message.metadata || {comm_id};\n              var msg = {content, metadata}\n              msg_handler(msg);\n              return messages.next().then(processIteratorResult);\n            }\n            return messages.next().then(processIteratorResult);\n          }\n        }) \n        var sendClosure = (data, metadata, buffers, disposeOnDone) => {\n          return comm_promise.then((comm) => {\n            comm.send(data, metadata, buffers, disposeOnDone);\n          });\n        };\n        var comm = {\n          send: sendClosure\n        };\n      }\n      window.PyViz.comms[comm_id] = comm;\n      return comm;\n    }\n    window.PyViz.comm_manager = new JupyterCommManager();\n    \n\n\nvar JS_MIME_TYPE = 'application/javascript';\nvar HTML_MIME_TYPE = 'text/html';\nvar EXEC_MIME_TYPE = 'application/vnd.holoviews_exec.v0+json';\nvar CLASS_NAME = 'output';\n\n/**\n * Render data to the DOM node\n */\nfunction render(props, node) {\n  var div = document.createElement(\"div\");\n  var script = document.createElement(\"script\");\n  node.appendChild(div);\n  node.appendChild(script);\n}\n\n/**\n * Handle when a new output is added\n */\nfunction handle_add_output(event, handle) {\n  var output_area = handle.output_area;\n  var output = handle.output;\n  if ((output.data == undefined) || (!output.data.hasOwnProperty(EXEC_MIME_TYPE))) {\n    return\n  }\n  var id = output.metadata[EXEC_MIME_TYPE][\"id\"];\n  var toinsert = output_area.element.find(\".\" + CLASS_NAME.split(' ')[0]);\n  if (id !== undefined) {\n    var nchildren = toinsert.length;\n    var html_node = toinsert[nchildren-1].children[0];\n    html_node.innerHTML = output.data[HTML_MIME_TYPE];\n    var scripts = [];\n    var nodelist = html_node.querySelectorAll(\"script\");\n    for (var i in nodelist) {\n      if (nodelist.hasOwnProperty(i)) {\n        scripts.push(nodelist[i])\n      }\n    }\n\n    scripts.forEach( function (oldScript) {\n      var newScript = document.createElement(\"script\");\n      var attrs = [];\n      var nodemap = oldScript.attributes;\n      for (var j in nodemap) {\n        if (nodemap.hasOwnProperty(j)) {\n          attrs.push(nodemap[j])\n        }\n      }\n      attrs.forEach(function(attr) { newScript.setAttribute(attr.name, attr.value) });\n      newScript.appendChild(document.createTextNode(oldScript.innerHTML));\n      oldScript.parentNode.replaceChild(newScript, oldScript);\n    });\n    if (JS_MIME_TYPE in output.data) {\n      toinsert[nchildren-1].children[1].textContent = output.data[JS_MIME_TYPE];\n    }\n    output_area._hv_plot_id = id;\n    if ((window.Bokeh !== undefined) && (id in Bokeh.index)) {\n      window.PyViz.plot_index[id] = Bokeh.index[id];\n    } else {\n      window.PyViz.plot_index[id] = null;\n    }\n  } else if (output.metadata[EXEC_MIME_TYPE][\"server_id\"] !== undefined) {\n    var bk_div = document.createElement(\"div\");\n    bk_div.innerHTML = output.data[HTML_MIME_TYPE];\n    var script_attrs = bk_div.children[0].attributes;\n    for (var i = 0; i < script_attrs.length; i++) {\n      toinsert[toinsert.length - 1].childNodes[1].setAttribute(script_attrs[i].name, script_attrs[i].value);\n    }\n    // store reference to server id on output_area\n    output_area._bokeh_server_id = output.metadata[EXEC_MIME_TYPE][\"server_id\"];\n  }\n}\n\n/**\n * Handle when an output is cleared or removed\n */\nfunction handle_clear_output(event, handle) {\n  var id = handle.cell.output_area._hv_plot_id;\n  var server_id = handle.cell.output_area._bokeh_server_id;\n  if (((id === undefined) || !(id in PyViz.plot_index)) && (server_id !== undefined)) { return; }\n  var comm = window.PyViz.comm_manager.get_client_comm(\"hv-extension-comm\", \"hv-extension-comm\", function () {});\n  if (server_id !== null) {\n    comm.send({event_type: 'server_delete', 'id': server_id});\n    return;\n  } else if (comm !== null) {\n    comm.send({event_type: 'delete', 'id': id});\n  }\n  delete PyViz.plot_index[id];\n  if ((window.Bokeh !== undefined) & (id in window.Bokeh.index)) {\n    var doc = window.Bokeh.index[id].model.document\n    doc.clear();\n    const i = window.Bokeh.documents.indexOf(doc);\n    if (i > -1) {\n      window.Bokeh.documents.splice(i, 1);\n    }\n  }\n}\n\n/**\n * Handle kernel restart event\n */\nfunction handle_kernel_cleanup(event, handle) {\n  delete PyViz.comms[\"hv-extension-comm\"];\n  window.PyViz.plot_index = {}\n}\n\n/**\n * Handle update_display_data messages\n */\nfunction handle_update_output(event, handle) {\n  handle_clear_output(event, {cell: {output_area: handle.output_area}})\n  handle_add_output(event, handle)\n}\n\nfunction register_renderer(events, OutputArea) {\n  function append_mime(data, metadata, element) {\n    // create a DOM node to render to\n    var toinsert = this.create_output_subarea(\n    metadata,\n    CLASS_NAME,\n    EXEC_MIME_TYPE\n    );\n    this.keyboard_manager.register_events(toinsert);\n    // Render to node\n    var props = {data: data, metadata: metadata[EXEC_MIME_TYPE]};\n    render(props, toinsert[0]);\n    element.append(toinsert);\n    return toinsert\n  }\n\n  events.on('output_added.OutputArea', handle_add_output);\n  events.on('output_updated.OutputArea', handle_update_output);\n  events.on('clear_output.CodeCell', handle_clear_output);\n  events.on('delete.Cell', handle_clear_output);\n  events.on('kernel_ready.Kernel', handle_kernel_cleanup);\n\n  OutputArea.prototype.register_mime_type(EXEC_MIME_TYPE, append_mime, {\n    safe: true,\n    index: 0\n  });\n}\n\nif (window.Jupyter !== undefined) {\n  try {\n    var events = require('base/js/events');\n    var OutputArea = require('notebook/js/outputarea').OutputArea;\n    if (OutputArea.prototype.mime_types().indexOf(EXEC_MIME_TYPE) == -1) {\n      register_renderer(events, OutputArea);\n    }\n  } catch(err) {\n  }\n}\n",
      "application/vnd.holoviews_load.v0+json": ""
     },
     "metadata": {},
     "output_type": "display_data"
    },
    {
     "data": {
      "text/html": [
       "<style>*[data-root-id],\n",
       "*[data-root-id] > * {\n",
       "  box-sizing: border-box;\n",
       "  font-family: var(--jp-ui-font-family);\n",
       "  font-size: var(--jp-ui-font-size1);\n",
       "  color: var(--vscode-editor-foreground, var(--jp-ui-font-color1));\n",
       "}\n",
       "\n",
       "/* Override VSCode background color */\n",
       ".cell-output-ipywidget-background:has(\n",
       "    > .cell-output-ipywidget-background > .lm-Widget > *[data-root-id]\n",
       "  ),\n",
       ".cell-output-ipywidget-background:has(> .lm-Widget > *[data-root-id]) {\n",
       "  background-color: transparent !important;\n",
       "}\n",
       "</style>"
      ]
     },
     "metadata": {},
     "output_type": "display_data"
    },
    {
     "data": {
      "application/vnd.holoviews_exec.v0+json": "",
      "text/html": [
       "<div id='p1002'>\n",
       "  <div id=\"b87c12e5-4420-4cec-8ccd-515e1f8b8773\" data-root-id=\"p1002\" style=\"display: contents;\"></div>\n",
       "</div>\n",
       "<script type=\"application/javascript\">(function(root) {\n",
       "  var docs_json = {\"e9b9b1a4-406c-47f3-8f7b-a6e766a4885c\":{\"version\":\"3.4.1\",\"title\":\"Bokeh Application\",\"roots\":[{\"type\":\"object\",\"name\":\"panel.models.browser.BrowserInfo\",\"id\":\"p1002\"},{\"type\":\"object\",\"name\":\"panel.models.comm_manager.CommManager\",\"id\":\"p1003\",\"attributes\":{\"plot_id\":\"p1002\",\"comm_id\":\"04f1cf3d36d945c889ae4d34c6d7c431\",\"client_comm_id\":\"1fcb7c6813fa4946a9e9151bb77028d7\"}}],\"defs\":[{\"type\":\"model\",\"name\":\"ReactiveHTML1\"},{\"type\":\"model\",\"name\":\"FlexBox1\",\"properties\":[{\"name\":\"align_content\",\"kind\":\"Any\",\"default\":\"flex-start\"},{\"name\":\"align_items\",\"kind\":\"Any\",\"default\":\"flex-start\"},{\"name\":\"flex_direction\",\"kind\":\"Any\",\"default\":\"row\"},{\"name\":\"flex_wrap\",\"kind\":\"Any\",\"default\":\"wrap\"},{\"name\":\"gap\",\"kind\":\"Any\",\"default\":\"\"},{\"name\":\"justify_content\",\"kind\":\"Any\",\"default\":\"flex-start\"}]},{\"type\":\"model\",\"name\":\"FloatPanel1\",\"properties\":[{\"name\":\"config\",\"kind\":\"Any\",\"default\":{\"type\":\"map\"}},{\"name\":\"contained\",\"kind\":\"Any\",\"default\":true},{\"name\":\"position\",\"kind\":\"Any\",\"default\":\"right-top\"},{\"name\":\"offsetx\",\"kind\":\"Any\",\"default\":null},{\"name\":\"offsety\",\"kind\":\"Any\",\"default\":null},{\"name\":\"theme\",\"kind\":\"Any\",\"default\":\"primary\"},{\"name\":\"status\",\"kind\":\"Any\",\"default\":\"normalized\"}]},{\"type\":\"model\",\"name\":\"GridStack1\",\"properties\":[{\"name\":\"mode\",\"kind\":\"Any\",\"default\":\"warn\"},{\"name\":\"ncols\",\"kind\":\"Any\",\"default\":null},{\"name\":\"nrows\",\"kind\":\"Any\",\"default\":null},{\"name\":\"allow_resize\",\"kind\":\"Any\",\"default\":true},{\"name\":\"allow_drag\",\"kind\":\"Any\",\"default\":true},{\"name\":\"state\",\"kind\":\"Any\",\"default\":[]}]},{\"type\":\"model\",\"name\":\"drag1\",\"properties\":[{\"name\":\"slider_width\",\"kind\":\"Any\",\"default\":5},{\"name\":\"slider_color\",\"kind\":\"Any\",\"default\":\"black\"},{\"name\":\"value\",\"kind\":\"Any\",\"default\":50}]},{\"type\":\"model\",\"name\":\"click1\",\"properties\":[{\"name\":\"terminal_output\",\"kind\":\"Any\",\"default\":\"\"},{\"name\":\"debug_name\",\"kind\":\"Any\",\"default\":\"\"},{\"name\":\"clears\",\"kind\":\"Any\",\"default\":0}]},{\"type\":\"model\",\"name\":\"FastWrapper1\",\"properties\":[{\"name\":\"object\",\"kind\":\"Any\",\"default\":null},{\"name\":\"style\",\"kind\":\"Any\",\"default\":null}]},{\"type\":\"model\",\"name\":\"NotificationAreaBase1\",\"properties\":[{\"name\":\"js_events\",\"kind\":\"Any\",\"default\":{\"type\":\"map\"}},{\"name\":\"position\",\"kind\":\"Any\",\"default\":\"bottom-right\"},{\"name\":\"_clear\",\"kind\":\"Any\",\"default\":0}]},{\"type\":\"model\",\"name\":\"NotificationArea1\",\"properties\":[{\"name\":\"js_events\",\"kind\":\"Any\",\"default\":{\"type\":\"map\"}},{\"name\":\"notifications\",\"kind\":\"Any\",\"default\":[]},{\"name\":\"position\",\"kind\":\"Any\",\"default\":\"bottom-right\"},{\"name\":\"_clear\",\"kind\":\"Any\",\"default\":0},{\"name\":\"types\",\"kind\":\"Any\",\"default\":[{\"type\":\"map\",\"entries\":[[\"type\",\"warning\"],[\"background\",\"#ffc107\"],[\"icon\",{\"type\":\"map\",\"entries\":[[\"className\",\"fas fa-exclamation-triangle\"],[\"tagName\",\"i\"],[\"color\",\"white\"]]}]]},{\"type\":\"map\",\"entries\":[[\"type\",\"info\"],[\"background\",\"#007bff\"],[\"icon\",{\"type\":\"map\",\"entries\":[[\"className\",\"fas fa-info-circle\"],[\"tagName\",\"i\"],[\"color\",\"white\"]]}]]}]}]},{\"type\":\"model\",\"name\":\"Notification\",\"properties\":[{\"name\":\"background\",\"kind\":\"Any\",\"default\":null},{\"name\":\"duration\",\"kind\":\"Any\",\"default\":3000},{\"name\":\"icon\",\"kind\":\"Any\",\"default\":null},{\"name\":\"message\",\"kind\":\"Any\",\"default\":\"\"},{\"name\":\"notification_type\",\"kind\":\"Any\",\"default\":null},{\"name\":\"_destroyed\",\"kind\":\"Any\",\"default\":false}]},{\"type\":\"model\",\"name\":\"TemplateActions1\",\"properties\":[{\"name\":\"open_modal\",\"kind\":\"Any\",\"default\":0},{\"name\":\"close_modal\",\"kind\":\"Any\",\"default\":0}]},{\"type\":\"model\",\"name\":\"BootstrapTemplateActions1\",\"properties\":[{\"name\":\"open_modal\",\"kind\":\"Any\",\"default\":0},{\"name\":\"close_modal\",\"kind\":\"Any\",\"default\":0}]},{\"type\":\"model\",\"name\":\"TemplateEditor1\",\"properties\":[{\"name\":\"layout\",\"kind\":\"Any\",\"default\":[]}]},{\"type\":\"model\",\"name\":\"MaterialTemplateActions1\",\"properties\":[{\"name\":\"open_modal\",\"kind\":\"Any\",\"default\":0},{\"name\":\"close_modal\",\"kind\":\"Any\",\"default\":0}]},{\"type\":\"model\",\"name\":\"copy_to_clipboard1\",\"properties\":[{\"name\":\"fill\",\"kind\":\"Any\",\"default\":\"none\"},{\"name\":\"value\",\"kind\":\"Any\",\"default\":null}]}]}};\n",
       "  var render_items = [{\"docid\":\"e9b9b1a4-406c-47f3-8f7b-a6e766a4885c\",\"roots\":{\"p1002\":\"b87c12e5-4420-4cec-8ccd-515e1f8b8773\"},\"root_ids\":[\"p1002\"]}];\n",
       "  var docs = Object.values(docs_json)\n",
       "  if (!docs) {\n",
       "    return\n",
       "  }\n",
       "  const py_version = docs[0].version.replace('rc', '-rc.').replace('.dev', '-dev.')\n",
       "  async function embed_document(root) {\n",
       "    var Bokeh = get_bokeh(root)\n",
       "    await Bokeh.embed.embed_items_notebook(docs_json, render_items);\n",
       "    for (const render_item of render_items) {\n",
       "      for (const root_id of render_item.root_ids) {\n",
       "\tconst id_el = document.getElementById(root_id)\n",
       "\tif (id_el.children.length && id_el.children[0].hasAttribute('data-root-id')) {\n",
       "\t  const root_el = id_el.children[0]\n",
       "\t  root_el.id = root_el.id + '-rendered'\n",
       "\t  for (const child of root_el.children) {\n",
       "            // Ensure JupyterLab does not capture keyboard shortcuts\n",
       "            // see: https://jupyterlab.readthedocs.io/en/4.1.x/extension/notebook.html#keyboard-interaction-model\n",
       "\t    child.setAttribute('data-lm-suppress-shortcuts', 'true')\n",
       "\t  }\n",
       "\t}\n",
       "      }\n",
       "    }\n",
       "  }\n",
       "  function get_bokeh(root) {\n",
       "    if (root.Bokeh === undefined) {\n",
       "      return null\n",
       "    } else if (root.Bokeh.version !== py_version) {\n",
       "      if (root.Bokeh.versions === undefined || !root.Bokeh.versions.has(py_version)) {\n",
       "\treturn null\n",
       "      }\n",
       "      return root.Bokeh.versions.get(py_version);\n",
       "    } else if (root.Bokeh.version === py_version) {\n",
       "      return root.Bokeh\n",
       "    }\n",
       "    return null\n",
       "  }\n",
       "  function is_loaded(root) {\n",
       "    var Bokeh = get_bokeh(root)\n",
       "    return (Bokeh != null && Bokeh.Panel !== undefined)\n",
       "  }\n",
       "  if (is_loaded(root)) {\n",
       "    embed_document(root);\n",
       "  } else {\n",
       "    var attempts = 0;\n",
       "    var timer = setInterval(function(root) {\n",
       "      if (is_loaded(root)) {\n",
       "        clearInterval(timer);\n",
       "        embed_document(root);\n",
       "      } else if (document.readyState == \"complete\") {\n",
       "        attempts++;\n",
       "        if (attempts > 200) {\n",
       "          clearInterval(timer);\n",
       "\t  var Bokeh = get_bokeh(root)\n",
       "\t  if (Bokeh == null || Bokeh.Panel == null) {\n",
       "            console.warn(\"Panel: ERROR: Unable to run Panel code because Bokeh or Panel library is missing\");\n",
       "\t  } else {\n",
       "\t    console.warn(\"Panel: WARNING: Attempting to render but not all required libraries could be resolved.\")\n",
       "\t    embed_document(root)\n",
       "\t  }\n",
       "        }\n",
       "      }\n",
       "    }, 25, root)\n",
       "  }\n",
       "})(window);</script>"
      ]
     },
     "metadata": {
      "application/vnd.holoviews_exec.v0+json": {
       "id": "p1002"
      }
     },
     "output_type": "display_data"
    },
    {
     "data": {
      "text/html": [
       "\n",
       "<div class=\"logo-block\">\n",
       "<img src='data:image/png;base64,iVBORw0KGgoAAAANSUhEUgAAAEAAAABACAYAAACqaXHeAAAABHNCSVQICAgIfAhkiAAAAAlwSFlz\n",
       "AAAB+wAAAfsBxc2miwAAABl0RVh0U29mdHdhcmUAd3d3Lmlua3NjYXBlLm9yZ5vuPBoAAA6zSURB\n",
       "VHic7ZtpeFRVmsf/5966taWqUlUJ2UioBBJiIBAwCZtog9IOgjqACsogKtqirT2ttt069nQ/zDzt\n",
       "tI4+CrJIREFaFgWhBXpUNhHZQoKBkIUASchWla1S+3ar7r1nPkDaCAnZKoQP/D7mnPOe9/xy76n3\n",
       "nFSAW9ziFoPFNED2LLK5wcyBDObkb8ZkxuaoSYlI6ZcOKq1eWFdedqNzGHQBk9RMEwFAASkk0Xw3\n",
       "ETacDNi2vtvc7L0ROdw0AjoSotQVkKSvHQz/wRO1lScGModBFbDMaNRN1A4tUBCS3lk7BWhQkgpD\n",
       "lG4852/+7DWr1R3uHAZVQDsbh6ZPN7CyxUrCzJMRouusj0ipRwD2uKm0Zn5d2dFwzX1TCGhnmdGo\n",
       "G62Nna+isiUqhkzuKrkQaJlPEv5mFl2fvGg2t/VnzkEV8F5ioioOEWkLG86fvbpthynjdhXYZziQ\n",
       "x1hC9J2NFyi8vCTt91Fh04KGip0AaG9zuCk2wQCVyoNU3Hjezee9bq92duzzTmxsRJoy+jEZZZYo\n",
       "GTKJ6SJngdJqAfRzpze0+jHreUtPc7gpBLQnIYK6BYp/uGhw9YK688eu7v95ysgshcg9qSLMo3JC\n",
       "4jqLKQFBgdKDPoQ+Pltb8dUyQLpeDjeVgI6EgLIQFT5tEl3rn2losHVsexbZ3EyT9wE1uGdkIPcy\n",
       "BGxn8QUq1QrA5nqW5i2tLqvrrM9NK6AdkVIvL9E9bZL/oyfMVd/jqvc8LylzRBKDJSzIExwhQzuL\n",
       "QYGQj4rHfFTc8mUdu3E7yoLtbTe9gI4EqVgVkug2i5+uXGo919ixbRog+3fTbQ8qJe4ZOYNfMoTI\n",
       "OoshUNosgO60AisX15aeI2PSIp5KiFLI9ubb1vV3Qb2ltwLakUCDAkWX7/nHKRmmGIl9VgYsUhJm\n",
       "2NXjKYADtM1ygne9QQDIXlk49FBstMKx66D1v4+XuQr7vqTe0VcBHQlRWiOCbmmSYe2SqtL6q5rJ\n",
       "zsTb7lKx3FKOYC4DoqyS/B5bvLPxvD9Qtf6saxYLQGJErmDOdOMr/zo96km1nElr8bmPOBwI9COv\n",
       "HnFPRIwmkSOv9kcAS4heRsidOkpeWBgZM+UBrTFAXNYL5Vf2ii9c1trNzpYdaoVil3WIc+wdk+gQ\n",
       "noie3ecCcxt9ITcLAPWt/laGEO/9U6PmzZkenTtsSMQ8uYywJVW+grCstAvCIaAdArAsIWkRDDs/\n",
       "KzLm2YcjY1Lv0UdW73HabE9n6V66cxSzfEmuJssTpKGVp+0vHq73FwL46eOjpMpbRAnNmJFrGJNu\n",
       "Ukf9Yrz+3rghiumCKNXXWPhLYcjxGsIpoCMsIRoFITkW8AuyM8jC1+/QLx4bozCEJIq38+1rtpR6\n",
       "V/yzb8eBlRb3fo5l783N0CWolAzJHaVNzkrTzlEp2bQ2q3TC5gn6wpnoQAmwSiGh2GitnTmVMc5O\n",
       "UyfKWUKCIsU7+fZDKwqdT6DDpvkzAX4/+AMFjk0tDp5GRXLpQ2MUmhgDp5gxQT8+Y7hyPsMi8uxF\n",
       "71H0oebujHALECjFKaW9Lm68n18wXp2kVzIcABytD5iXFzg+WVXkegpAsOOYziqo0OkK76GyquC3\n",
       "ltZAzMhhqlSNmmWTE5T6e3IN05ITFLM4GdN0vtZ3ob8Jh1NAKXFbm5PtLU/eqTSlGjkNAJjdgn/N\n",
       "aedXa0tdi7+t9G0FIF49rtMSEgAs1kDLkTPO7ebm4IUWeyh1bKomXqlgMG6kJmHcSM0clYLJ8XtR\n",
       "1GTnbV3F6I5wCGikAb402npp1h1s7LQUZZSMIfALFOuL3UUrfnS8+rez7v9qcold5tilgHbO1fjK\n",
       "9ubb17u9oshxzMiUBKXWqJNxd+fqb0tLVs4lILFnK71H0Ind7uiPgACVcFJlrb0tV6DzxqqTIhUM\n",
       "CwDf1/rrVhTa33/3pGPxJYdQ2l2cbgVcQSosdx8uqnDtbGjh9SlDVSMNWhlnilfqZk42Th2ZpLpf\n",
       "xrHec5e815zrr0dfBZSwzkZfqsv+1FS1KUknUwPARVvItfKUY+cn57yP7qv07UE3p8B2uhUwLk09\n",
       "e0SCOrK+hbdYHYLjRIl71wWzv9jpEoeOHhGRrJAzyEyNiJuUqX0g2sBN5kGK6y2Blp5M3lsB9Qh4\n",
       "y2Ja6x6+i0ucmKgwMATwhSjdUu49tKrQ/pvN5d53ml2CGwCmJipmKjgmyuaXzNeL2a0AkQ01Th5j\n",
       "2DktO3Jyk8f9vcOBQHV94OK+fPumJmvQHxJoWkaKWq9Vs+yUsbq0zGT1I4RgeH2b5wef7+c7bl8F\n",
       "eKgoHVVZa8ZPEORzR6sT1BzDUAD/d9F78e2Tzv99v8D+fLVTqAKAsbGamKey1Mt9Ann4eH3gTXTz\n",
       "idWtAJ8PQWOk7NzSeQn/OTHDuEikVF1R4z8BQCy+6D1aWRfY0tTGG2OM8rRoPaeIj5ZHzJxszElN\n",
       "VM8K8JS5WOfv8mzRnQAKoEhmt8gyPM4lU9SmBK1MCQBnW4KONT86v1hZ1PbwSXPw4JWussVjtH9Y\n",
       "NCoiL9UoH/6PSu8jFrfY2t36erQHXLIEakMi1SydmzB31h3GGXFDFNPaK8Rme9B79Ixrd0WN+1ij\n",
       "NRQ/doRmuFLBkHSTOm5GruG+pFjFdAmorG4IXH1Qua6ASniclfFtDYt+oUjKipPrCQB7QBQ2lrgP\n",
       "fFzm+9XWUtcqJ3/5vDLDpJ79XHZk3u8nGZ42qlj1+ydtbxysCezrydp6ugmipNJ7WBPB5tydY0jP\n",
       "HaVNzs3QzeE4ZpTbI+ZbnSFPbVOw9vsfnVvqWnirPyCNGD08IlqtYkh2hjZ5dErEQzoNm+6ykyOt\n",
       "Lt5/PQEuSRRKo22VkydK+vvS1XEKlhCJAnsqvcVvH7f/ZU2R67eXbMEGAMiIV5oWZWiWvz5Fv2xG\n",
       "sjqNJQRvn3Rs2lji/lNP19VjAQDgD7FHhujZB9OGqYxRkZxixgRDVlqS6uEOFaJUVu0rPFzctrnF\n",
       "JqijImVp8dEKVWyUXDk92zAuMZ6bFwpBU1HrOw6AdhQgUooChb0+ItMbWJitSo5Ws3IAOGEOtL53\n",
       "0vHZih9sC4vtofZ7Qu6523V/fmGcds1TY3V36pUsBwAbSlxnVh2xLfAD/IAIMDf7XYIkNmXfpp2l\n",
       "18rkAJAy9HKFaIr/qULkeQQKy9zf1JgDB2uaeFNGijo5QsUyacNUUTOnGO42xSnv4oOwpDi1zYkc\n",
       "efUc3I5Gk6PhyTuVKaOGyLUAYPGIoY9Pu/atL/L92+4q9wbflRJ2Trpm/jPjdBtfnqB/dIThcl8A\n",
       "KG7hbRuKnb8qsQsVvVlTrwQAQMUlf3kwJI24Z4JhPMtcfng5GcH49GsrxJpGvvHIaeem2ma+KSjQ\n",
       "lIwUdYyCY8j4dE1KzijNnIP2llF2wcXNnsoapw9XxsgYAl6k+KzUXbi2yP3KR2ecf6z3BFsBICdW\n",
       "nvnIaG3eHybqX7vbpEqUMT+9OL4Qpe8VON7dXuFd39v19FoAABRVePbGGuXTszO0P7tu6lghUonE\n",
       "llRdrhArLvmKdh9u29jcFiRRkfLUxBiFNiqSU9icoZQHo5mYBI1MBgBH6wMNb+U7Pnw337H4gi1Y\n",
       "ciWs+uks3Z9fztUvfzxTm9Ne8XXkvQLHNytOOZeiD4e0PgkAIAYCYknKUNUDSXEKzdWNpnil7r4p\n",
       "xqkjTarZMtk/K8TQ6Qve78qqvXurGwIJqcOUKfUWHsm8KGvxSP68YudXq4pcj39X49uOK2X142O0\n",
       "Tz5/u/7TVybqH0rSya6ZBwD21/gubbrgWdDgEOx9WUhfBaC2ibcEBYm7a7x+ukrBMNcEZggyR0TE\n",
       "T8zUPjikQ4VosQZbTpS4vqizBKvqmvjsqnpfzaZyx9JPiz1/bfGKdgD45XB1zoIMzYbfTdS/NClB\n",
       "Gct0USiY3YL/g0LHy/uq/Ef6uo5+n0R/vyhp17Klpge763f8rMu6YU/zrn2nml+2WtH+Z+5IAAFc\n",
       "2bUTdTDOSNa9+cQY7YLsOIXhevEkCvzph7a8laecz/Un/z4/Ae04XeL3UQb57IwU9ZDr9UuKVajv\n",
       "nxp1+1UVIo/LjztZkKH59fO3G/JemqCfmaCRqbqbd90ZZ8FfjtkfAyD0J/9+C2h1hDwsSxvGjNDc\n",
       "b4zk5NfrSwiQblLHzZhg+Jf4aPlUwpDqkQqa9nimbt1/TDH8OitGMaQnj+RJS6B1fbF7SY1TqO5v\n",
       "/v0WAADl1f7zokgS7s7VT2DZ7pegUjBM7mjtiDZbcN4j0YrHH0rXpCtY0qPX0cVL0rv5jv/ZXend\n",
       "0u/EESYBAFBU4T4Qa5TflZOhTe7pmKpaP8kCVUVw1+yhXfJWvn1P3hnXi33JsTN6PnP3hHZ8Z3/h\n",
       "aLHzmkNPuPj7Bc/F/Q38CwjTpSwQXgE4Vmwry9tpfq/ZFgqFMy4AVDtCvi8rvMvOmv0N4YwbVgEA\n",
       "sPM72/KVnzfspmH7HQGCRLG2yL1+z8XwvPcdCbsAANh+xPzstgMtxeGKt+6MK3/tacfvwhWvIwMi\n",
       "oKEBtm0H7W+UVfkc/Y1V0BhoPlDr/w1w/eu1vjIgAgDg22OtX6/eYfnEz/focrZTHAFR+PSs56/7\n",
       "q32nwpjazxgwAQCwcU/T62t3WL7r6/jVRa6/byp1rei+Z98ZUAEAhEPHPc8fKnTU9nbgtnOe8h0l\n",
       "9hcGIqmODLQAHCy2Xti6v/XNRivf43f4fFvIteu854+VHnR7q9tfBlwAAGz+pnndB9vM26UebAe8\n",
       "SLHujPOTPVW+rwY+sxskAAC2HrA8t2Vvc7ffP1r9o+vwR2dcr92InIAbKKC1FZ5tB1tf+/G8p8sv\n",
       "N/9Q5zd/XR34LYCwV5JdccMEAMDBk45DH243r/X4xGvqxFa/GNpS7n6rwOwNWwHVE26oAADYurf1\n",
       "zx/utOzt+DMKYM0p17YtZZ5VNzqfsB2HewG1WXE8PoZ7gOclbTIvynZf9JV+fqZtfgs/8F/Nu5rB\n",
       "EIBmJ+8QRMmpU7EzGRsf2FzuePqYRbzh/zE26EwdrT10f6r6o8HOYzCJB9Dpff8tbnGLG8L/A/WE\n",
       "roTBs2RqAAAAAElFTkSuQmCC'\n",
       "     style='height:25px; border-radius:12px; display: inline-block; float: left; vertical-align: middle'></img>\n",
       "\n",
       "\n",
       "  <img src='data:image/png;base64,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'\n",
       "       style='height:15px; border-radius:12px; display: inline-block; float: left'></img>\n",
       "  \n",
       "\n",
       "\n",
       "\n",
       "\n",
       "</div>\n"
      ]
     },
     "metadata": {},
     "output_type": "display_data"
    }
   ],
   "source": [
    "import numpy as np\n",
    "from numba import jit #関数の高速化のライブラリ\n",
    "# 図化用のライブラリ matplotlibでも良い\n",
    "import holoviews as hv\n",
    "hv.extension('bokeh')"
   ]
  },
  {
   "cell_type": "markdown",
   "id": "0995d575",
   "metadata": {},
   "source": [
    "## 不等流計算"
   ]
  },
  {
   "cell_type": "code",
   "execution_count": 2,
   "id": "d6458b67",
   "metadata": {},
   "outputs": [],
   "source": [
    "@jit(nopython=True, parallel=False) # 高速化：デバッグ時は使わない方が良い\n",
    "def nonuniformflow(q, hDB, zb, dx, manning, g=float(9.8)):\n",
    "    h = np.zeros_like(zb) #水深の配列\n",
    "    h[0] = hDB #下流端条件\n",
    "\n",
    "    for i in range(1,len(h)):\n",
    "    # newton法による反復計算\n",
    "        # h[i] = h[i-1] + zb[i-1] - zb[i]#収束計算の初期値：一つ下流側の断面の水深\n",
    "        # f = 1.0 #仮値\n",
    "        # dfdh = 1.0 #仮値\n",
    "        # while np.abs(f/dfdh) > 10**(-8): # 反復計算の収束条件\n",
    "        #     f = q**2/2.0/g/h[i]**2 + h[i] + zb[i] \\\n",
    "        #       -(q**2/2.0/g/h[i-1]**2 + h[i-1] + zb[i-1]) \\\n",
    "        #       - 0.5*(q**2*manning**2/h[i]**(10/3) + q**2*manning**2/h[i-1]**(10/3))*dx\n",
    "        #     dfdh = -q**2/g/h[i]**3 + 1 + 5/3*q**2*manning**2/h[i]**(13/3)*dx\n",
    "        #     h[i] -= f/dfdh\n",
    "\n",
    "    # 二分法による反復計算 : hcから徐々に上げていく\n",
    "        hc = (q**2/g)**(1/3) # 限界水深 \n",
    "        hp = hc\n",
    "        E1 = q**2/2.0/g/hp**2 + hp + zb[i]\n",
    "        E2 = + (q**2/2.0/g/h[i-1]**2 + h[i-1] + zb[i-1]) \\\n",
    "              + 0.5*(q**2*manning**2/hp**(10/3) + q**2*manning**2/h[i-1]**(10/3))*dx\n",
    "\n",
    "        if E2 >= E1 : #常流時のみ計算, 射流時は限界水深に置き換え\n",
    "        # 収束計算の初期値は限界水深+hmin:0.0001m\n",
    "            hp += 0.0001\n",
    "            dht = 0.1\n",
    "            for _ in range(1000):\n",
    "                E1 = q**2/2.0/g/hp**2 + hp + zb[i]\n",
    "                E2 = + (q**2/2.0/g/h[i-1]**2 + h[i-1] + zb[i-1]) \\\n",
    "                      + 0.5*(q**2*manning**2/hp**(10/3) + q**2*manning**2/h[i-1]**(10/3))*dx\n",
    "            \n",
    "                if np.abs(E1 - E2) < 10**(-8): \n",
    "                    break\n",
    "                elif E1 > E2 :\n",
    "                    dht *= float(0.5)\n",
    "                    hp -= dht\n",
    "                else:\n",
    "                    hp += dht\n",
    "            else:\n",
    "                print('error : max iteration - nonuniform flow sect No.', i, 'err=', np.abs(E1 - E2))\n",
    "\n",
    "        h[i] = hp\n",
    "        # print(h[i])\n",
    "    return h"
   ]
  },
  {
   "cell_type": "markdown",
   "id": "43fe07ec",
   "metadata": {},
   "source": [
    "## 沈降速度式:rubeyの式"
   ]
  },
  {
   "cell_type": "code",
   "execution_count": 3,
   "id": "e13c683b",
   "metadata": {},
   "outputs": [],
   "source": [
    "def rubeyw0(dd, nu=10**(-6)):\n",
    "    rhosw = 1.65 # Specific gravity in water of sand \n",
    "    g = 9.8 # acceleration of gravity\n",
    "    tmp = 36.0*nu**2/rhosw/g/dd**3\n",
    "    F = np.sqrt(2.0/3.0 + tmp) - np.sqrt(tmp)\n",
    "    \n",
    "    return np.sqrt(rhosw*g*dd)*F"
   ]
  },
  {
   "cell_type": "markdown",
   "id": "6cf3a020",
   "metadata": {},
   "source": [
    "## 移動限界:岩垣の式"
   ]
  },
  {
   "cell_type": "code",
   "execution_count": 4,
   "id": "758e9910",
   "metadata": {},
   "outputs": [],
   "source": [
    "def iwagaki_org(d, g=9.8, Gw=1.65, nu=0.000001):\n",
    "    #d:diameter[m]\n",
    "    t = Gw*g*d**3/nu**2\n",
    "    Rs = np.sqrt(t)\n",
    "    \n",
    "    R1, R2, R3, R4 = 671.0, 162.7, 54.2, 2.14\n",
    "    Y1, Y2, Y3 = 0.05, 0.034, 0.14\n",
    "    alpha1, beta1 = 0.008492171377400728, 0.13636363636363635\n",
    "    alpha2, beta2 = 0.19514831719540923, -0.21875\n",
    "    \n",
    "    if Rs >= R1:\n",
    "        taus = Y1\n",
    "    elif Rs >= R2:\n",
    "        taus = alpha1*t**beta1\n",
    "    elif Rs >= R3:\n",
    "        taus = Y2\n",
    "    elif Rs >= R4:\n",
    "        taus = alpha2*t**beta2\n",
    "    else:\n",
    "        taus = Y3\n",
    "        \n",
    "    return taus #, Rs*np.sqrt(taus)"
   ]
  },
  {
   "cell_type": "markdown",
   "id": "8036699a",
   "metadata": {},
   "source": [
    "## 基準面濃度式：岸・板倉式"
   ]
  },
  {
   "cell_type": "code",
   "execution_count": 5,
   "id": "2938e295",
   "metadata": {},
   "outputs": [],
   "source": [
    "@jit(nopython=True, parallel=False) # 高速化：デバッグ時は使わない方が良い\n",
    "def erfc(xi):\n",
    "    \n",
    "    def erf(xi):\n",
    "        x = np.abs(xi)\n",
    "        \n",
    "        t = 1/(1+0.5*x)\n",
    "        \n",
    "        tt = t*np.exp( -x**2    \n",
    "        -1.26551223*t**0\n",
    "        +1.00002368*t**1\n",
    "        +0.37409196*t**2\n",
    "        +0.09678418*t**3\n",
    "        -0.18628806*t**4\n",
    "        +0.27886807*t**5\n",
    "        -1.13520398*t**6\n",
    "        +1.48851587*t**7\n",
    "        -0.82215223*t**8\n",
    "        +0.17087277*t**9\n",
    "          )\n",
    "        \n",
    "        return  1.0 - tt if xi >= 0.0 else tt-1.0\n",
    "    \n",
    "    return 1.0 - erf(xi)\n",
    "\n",
    "@jit(nopython=True, parallel=False) # 高速化：デバッグ時は使わない方が良い\n",
    "def caKishiKuroki(us, taus, w0, K = 0.0018, rhosw = float(1.65)):\n",
    "    alfa = 0.14\n",
    "    Bs = 0.143\n",
    "    eta = 0.5\n",
    "    \n",
    "    def omega(taus):\n",
    "        aprime = Bs/taus - 1.0/eta\n",
    "        c1 = 0.5 / np.sqrt(np.pi) * np.exp(-aprime**2) \n",
    "        c2 = 0.5 * erfc(aprime)\n",
    "        \n",
    "        if c2 <= 0.0 :\n",
    "            rr = 0.0\n",
    "        else:\n",
    "            rr =taus/Bs*c1/c2+ taus/Bs/eta - 1.0\n",
    "        \n",
    "        return rr \n",
    "    \n",
    "    r = K*( alfa/(rhosw+1)*us/w0*omega(taus)/taus - 1.0 )\n",
    "    \n",
    "    return 0.0 if r < 0.0 else r\n",
    "\n",
    "@jit(nopython=True, parallel=False) # 高速化：デバッグ時は使わない方が良い\n",
    "def qsuca(q, h, manning, dm, w0, tausc, g = float(9.8), rhosw = float(1.65)):\n",
    "    ca = np.zeros_like(h)\n",
    "    for i in range(len(h)):\n",
    "        us = np.sqrt(g)*manning*q/h[i]**(7/6) # 摩擦速度\n",
    "        taus = us**2/rhosw/g/dm # 無次元掃流力\n",
    "        if taus <= tausc :\n",
    "            ca[i] = 0.0\n",
    "        elif us/w0 < 1.0:\n",
    "            ca[i] = 0.0\n",
    "        else:\n",
    "            ca[i] = caKishiKuroki(us, taus, w0)\n",
    "\n",
    "    return ca"
   ]
  },
  {
   "cell_type": "markdown",
   "id": "da446478",
   "metadata": {},
   "source": [
    "## 濃度の質量保存則の計算"
   ]
  },
  {
   "cell_type": "code",
   "execution_count": 6,
   "id": "8447a2d7",
   "metadata": {},
   "outputs": [],
   "source": [
    "@jit(nopython=True, parallel=False) # 高速化：デバッグ時は使わない方が良い\n",
    "def calConcentration(q, h, w0, manning, Erosion, dx, g=float(9.8)):\n",
    "    kappa=0.4 # カルマン定数\n",
    "    # 濃度の連続式を計算\n",
    "    c = np.zeros(len(Erosion)) \n",
    "    Deposition = np.zeros(len(Erosion)) \n",
    "\n",
    "    # 上端端境界 : 平衡状態\n",
    "    i = 0\n",
    "    us = np.sqrt(g)*manning*q/h[i]**(7/6) # 摩擦速度\n",
    "    epsilon = kappa*us*h[i]/6.0\n",
    "    A =  w0*h[i]/epsilon\n",
    "    c[i] = Erosion[i]/w0/A*(1.0-np.exp(-A))\n",
    "    Deposition[i] = Erosion[i]\n",
    "\n",
    "    for i in range(1, len(c)):\n",
    "        us = np.sqrt(g)*manning*q/h[i]**(7/6) # 摩擦速度\n",
    "        epsilon = kappa*us*h[i]/6.0\n",
    "        A =  w0*h[i]/epsilon\n",
    "        c[i] = (q*c[i-1] + dx*Erosion[i])/(q + dx*w0*A/(1.0-np.exp(-A)))\n",
    "        if c[i] < 0.0:print('濃度が負になりました', c[i], 'i=', i)\n",
    "        Deposition[i] = w0*c[i]*A/(1.0-np.exp(-A))\n",
    "\n",
    "    return c, Deposition"
   ]
  },
  {
   "cell_type": "markdown",
   "id": "00dea556",
   "metadata": {},
   "source": [
    "## 河床の連続式の計算"
   ]
  },
  {
   "cell_type": "code",
   "execution_count": 7,
   "id": "0f5c7a25",
   "metadata": {},
   "outputs": [],
   "source": [
    "@jit(nopython=True, parallel=False) # 高速化：デバッグ時は使わない方が良い\n",
    "def calzb(zb, qbhfp, Erosion, Deposition, dx, dt, porosity=0.4):\n",
    "    # 河床の連続式を計算\n",
    "    dzb = np.zeros(len(zb)) \n",
    "    for i in range(len(zb)):\n",
    "        dzb[i] = - dt / (1.0 - porosity) * ( qbhfp[i+1] - qbhfp[i] )/dx \\\n",
    "                 - dt / (1.0 - porosity) * ( Erosion[i] - Deposition[i] )\n",
    "\n",
    "    zb += dzb #zbの更新\n",
    "    return zb, dzb"
   ]
  },
  {
   "cell_type": "markdown",
   "id": "1da17390",
   "metadata": {},
   "source": [
    "## main"
   ]
  },
  {
   "cell_type": "markdown",
   "id": "df32f4bd",
   "metadata": {},
   "source": [
    "### 計算条件の設定"
   ]
  },
  {
   "cell_type": "code",
   "execution_count": 17,
   "id": "e0332f2f",
   "metadata": {},
   "outputs": [],
   "source": [
    "q = 5.0 #単位幅流量[m^2/s]\n",
    "manning = 0.02 #マニングの粗度係数\n",
    "dm = 0.1/1000 #粒径[m]\n",
    "dx = 100.0 #空間刻み[m] \n",
    "dt = 10.0 #時間刻み[s]\n",
    "\n",
    "# 河床高の設定\n",
    "ib = 1.0/700.0\n",
    "L = np.arange(0,10000.01,dx) #追加距離の配列\n",
    "zbr = L*ib #河床高の配列\n",
    "zb  = zbr[::-1]"
   ]
  },
  {
   "cell_type": "markdown",
   "id": "07459075",
   "metadata": {},
   "source": [
    "### 水理量のチェック"
   ]
  },
  {
   "cell_type": "code",
   "execution_count": 18,
   "id": "5dfe5c83",
   "metadata": {},
   "outputs": [
    {
     "name": "stdout",
     "output_type": "stream",
     "text": [
      "下流端条件- 水深： 1.792789962520997 Froude数: 0.6653694374950128 \n",
      " 無次元掃流力: 15.521991017497811 沈降速度: 0.008395906310246372 移動限界: 0.10615965384825574\n"
     ]
    }
   ],
   "source": [
    "h0 = (q**2*manning**2/ib)**0.3 #等流水深\n",
    "hc = (q**2/9.8)**(1/3) # 限界水深 \n",
    "fr = q/h0/np.sqrt(9.8*h0)\n",
    "taus = h0*ib/1.65/dm\n",
    "tausc = iwagaki_org(dm)\n",
    "w0 = rubeyw0(dm) # Rubeyの式による臨界流速\n",
    "print('下流端条件-','水深：',h0, 'Froude数:' , fr,'\\n', '無次元掃流力:', taus, '沈降速度:', w0, '移動限界:', tausc)"
   ]
  },
  {
   "cell_type": "code",
   "execution_count": 19,
   "id": "18ed4aa7",
   "metadata": {},
   "outputs": [
    {
     "data": {},
     "metadata": {},
     "output_type": "display_data"
    },
    {
     "data": {
      "application/vnd.holoviews_exec.v0+json": "",
      "text/html": [
       "<div id='p1530'>\n",
       "  <div id=\"df18ee27-62f1-4158-9941-fb130c48cee0\" data-root-id=\"p1530\" style=\"display: contents;\"></div>\n",
       "</div>\n",
       "<script type=\"application/javascript\">(function(root) {\n",
       "  var docs_json = {\"e2ab7e57-f003-4d9c-82f0-b98b958a58c1\":{\"version\":\"3.4.1\",\"title\":\"Bokeh Application\",\"roots\":[{\"type\":\"object\",\"name\":\"Row\",\"id\":\"p1530\",\"attributes\":{\"name\":\"Row01819\",\"tags\":[\"embedded\"],\"stylesheets\":[\"\\n:host(.pn-loading):before, .pn-loading:before {\\n  background-color: #c3c3c3;\\n  mask-size: auto calc(min(50%, 400px));\\n  -webkit-mask-size: auto calc(min(50%, 400px));\\n}\",{\"type\":\"object\",\"name\":\"ImportedStyleSheet\",\"id\":\"p1533\",\"attributes\":{\"url\":\"https://cdn.holoviz.org/panel/1.4.4/dist/css/loading.css\"}},{\"type\":\"object\",\"name\":\"ImportedStyleSheet\",\"id\":\"p1588\",\"attributes\":{\"url\":\"https://cdn.holoviz.org/panel/1.4.4/dist/css/listpanel.css\"}},{\"type\":\"object\",\"name\":\"ImportedStyleSheet\",\"id\":\"p1531\",\"attributes\":{\"url\":\"https://cdn.holoviz.org/panel/1.4.4/dist/bundled/theme/default.css\"}},{\"type\":\"object\",\"name\":\"ImportedStyleSheet\",\"id\":\"p1532\",\"attributes\":{\"url\":\"https://cdn.holoviz.org/panel/1.4.4/dist/bundled/theme/native.css\"}}],\"min_width\":600,\"margin\":0,\"sizing_mode\":\"stretch_width\",\"align\":\"start\",\"children\":[{\"type\":\"object\",\"name\":\"Spacer\",\"id\":\"p1534\",\"attributes\":{\"name\":\"HSpacer01824\",\"stylesheets\":[\"\\n:host(.pn-loading):before, .pn-loading:before {\\n  background-color: #c3c3c3;\\n  mask-size: auto calc(min(50%, 400px));\\n  -webkit-mask-size: auto calc(min(50%, 400px));\\n}\",{\"id\":\"p1533\"},{\"id\":\"p1531\"},{\"id\":\"p1532\"}],\"margin\":0,\"sizing_mode\":\"stretch_width\",\"align\":\"start\"}},{\"type\":\"object\",\"name\":\"Figure\",\"id\":\"p1541\",\"attributes\":{\"height\":400,\"margin\":[5,10],\"sizing_mode\":\"fixed\",\"align\":\"start\",\"x_range\":{\"type\":\"object\",\"name\":\"Range1d\",\"id\":\"p1535\",\"attributes\":{\"tags\":[[[\"x\",\"x\",null]],[]],\"end\":10000.0,\"reset_start\":0.0,\"reset_end\":10000.0}},\"y_range\":{\"type\":\"object\",\"name\":\"Range1d\",\"id\":\"p1536\",\"attributes\":{\"tags\":[[[\"y\",\"y\",null]],{\"type\":\"map\",\"entries\":[[\"invert_yaxis\",false],[\"autorange\",false]]}],\"start\":-1.4285714285714288,\"end\":15.714285714285715,\"reset_start\":-1.4285714285714288,\"reset_end\":15.714285714285715}},\"x_scale\":{\"type\":\"object\",\"name\":\"LinearScale\",\"id\":\"p1551\"},\"y_scale\":{\"type\":\"object\",\"name\":\"LinearScale\",\"id\":\"p1552\"},\"title\":{\"type\":\"object\",\"name\":\"Title\",\"id\":\"p1544\",\"attributes\":{\"text\":\"Initial bed elevation\",\"text_color\":\"black\",\"text_font_size\":\"12pt\"}},\"renderers\":[{\"type\":\"object\",\"name\":\"GlyphRenderer\",\"id\":\"p1581\",\"attributes\":{\"data_source\":{\"type\":\"object\",\"name\":\"ColumnDataSource\",\"id\":\"p1572\",\"attributes\":{\"selected\":{\"type\":\"object\",\"name\":\"Selection\",\"id\":\"p1573\",\"attributes\":{\"indices\":[],\"line_indices\":[]}},\"selection_policy\":{\"type\":\"object\",\"name\":\"UnionRenderers\",\"id\":\"p1574\"},\"data\":{\"type\":\"map\",\"entries\":[[\"x\",{\"type\":\"ndarray\",\"array\":{\"type\":\"bytes\",\"data\":\"AAAAAAAAAAAAAAAAAABZQAAAAAAAAGlAAAAAAADAckAAAAAAAAB5QAAAAAAAQH9AAAAAAADAgkAAAAAAAOCFQAAAAAAAAIlAAAAAAAAgjEAAAAAAAECPQAAAAAAAMJFAAAAAAADAkkAAAAAAAFCUQAAAAAAA4JVAAAAAAABwl0AAAAAAAACZQAAAAAAAkJpAAAAAAAAgnEAAAAAAALCdQAAAAAAAQJ9AAAAAAABooEAAAAAAADChQAAAAAAA+KFAAAAAAADAokAAAAAAAIijQAAAAAAAUKRAAAAAAAAYpUAAAAAAAOClQAAAAAAAqKZAAAAAAABwp0AAAAAAADioQAAAAAAAAKlAAAAAAADIqUAAAAAAAJCqQAAAAAAAWKtAAAAAAAAgrEAAAAAAAOisQAAAAAAAsK1AAAAAAAB4rkAAAAAAAECvQAAAAAAABLBAAAAAAABosEAAAAAAAMywQAAAAAAAMLFAAAAAAACUsUAAAAAAAPixQAAAAAAAXLJAAAAAAADAskAAAAAAACSzQAAAAAAAiLNAAAAAAADss0AAAAAAAFC0QAAAAAAAtLRAAAAAAAAYtUAAAAAAAHy1QAAAAAAA4LVAAAAAAABEtkAAAAAAAKi2QAAAAAAADLdAAAAAAABwt0AAAAAAANS3QAAAAAAAOLhAAAAAAACcuEAAAAAAAAC5QAAAAAAAZLlAAAAAAADIuUAAAAAAACy6QAAAAAAAkLpAAAAAAAD0ukAAAAAAAFi7QAAAAAAAvLtAAAAAAAAgvEAAAAAAAIS8QAAAAAAA6LxAAAAAAABMvUAAAAAAALC9QAAAAAAAFL5AAAAAAAB4vkAAAAAAANy+QAAAAAAAQL9AAAAAAACkv0AAAAAAAATAQAAAAAAANsBAAAAAAABowEAAAAAAAJrAQAAAAAAAzMBAAAAAAAD+wEAAAAAAADDBQAAAAAAAYsFAAAAAAACUwUAAAAAAAMbBQAAAAAAA+MFAAAAAAAAqwkAAAAAAAFzCQAAAAAAAjsJAAAAAAADAwkAAAAAAAPLCQAAAAAAAJMNAAAAAAABWw0AAAAAAAIjDQA==\"},\"shape\":[101],\"dtype\":\"float64\",\"order\":\"little\"}],[\"y\",{\"type\":\"ndarray\",\"array\":{\"type\":\"bytes\",\"data\":\"AAAAAAAAAACSJEmSJEnCP5IkSZIkSdI/27Zt27Zt2z+SJEmSJEniP7dt27Zt2+Y/27Zt27Zt6z8AAAAAAADwP5IkSZIkSfI/JUmSJEmS9D+3bdu2bdv2P0mSJEmSJPk/27Zt27Zt+z9u27Zt27b9PwAAAAAAAABASZIkSZIkAUCSJEmSJEkCQNu2bdu2bQNAJUmSJEmSBEBu27Zt27YFQLdt27Zt2wZAAAAAAAAACEBJkiRJkiQJQJIkSZIkSQpA27Zt27ZtC0AlSZIkSZIMQG7btm3btg1At23btm3bDkAAAAAAAAAQQCVJkiRJkhBASZIkSZIkEUBu27Zt27YRQJIkSZIkSRJAt23btm3bEkDbtm3btm0TQAAAAAAAABRAJUmSJEmSFEBJkiRJkiQVQG7btm3bthVAkiRJkiRJFkC3bdu2bdsWQNu2bdu2bRdAAAAAAAAAGEAlSZIkSZIYQEmSJEmSJBlAbtu2bdu2GUCSJEmSJEkaQLdt27Zt2xpA27Zt27ZtG0AAAAAAAAAcQCVJkiRJkhxASZIkSZIkHUBu27Zt27YdQJIkSZIkSR5At23btm3bHkDbtm3btm0fQAAAAAAAACBAkiRJkiRJIEAlSZIkSZIgQLdt27Zt2yBASZIkSZIkIUDbtm3btm0hQG7btm3btiFAAAAAAAAAIkCSJEmSJEkiQCVJkiRJkiJAt23btm3bIkBJkiRJkiQjQNu2bdu2bSNAbtu2bdu2I0AAAAAAAAAkQJIkSZIkSSRAJUmSJEmSJEC3bdu2bdskQEmSJEmSJCVA27Zt27ZtJUBu27Zt27YlQAAAAAAAACZAkiRJkiRJJkAlSZIkSZImQLdt27Zt2yZASZIkSZIkJ0Dbtm3btm0nQG7btm3btidAAAAAAAAAKECSJEmSJEkoQCVJkiRJkihAt23btm3bKEBJkiRJkiQpQNu2bdu2bSlAbtu2bdu2KUAAAAAAAAAqQJIkSZIkSSpAJUmSJEmSKkC3bdu2bdsqQEmSJEmSJCtA27Zt27ZtK0Bu27Zt27YrQAAAAAAAACxAkiRJkiRJLEAlSZIkSZIsQA==\"},\"shape\":[101],\"dtype\":\"float64\",\"order\":\"little\"}]]}}},\"view\":{\"type\":\"object\",\"name\":\"CDSView\",\"id\":\"p1582\",\"attributes\":{\"filter\":{\"type\":\"object\",\"name\":\"AllIndices\",\"id\":\"p1583\"}}},\"glyph\":{\"type\":\"object\",\"name\":\"Line\",\"id\":\"p1578\",\"attributes\":{\"tags\":[\"apply_ranges\"],\"x\":{\"type\":\"field\",\"field\":\"x\"},\"y\":{\"type\":\"field\",\"field\":\"y\"},\"line_color\":\"#000000\",\"line_width\":2}},\"selection_glyph\":{\"type\":\"object\",\"name\":\"Line\",\"id\":\"p1584\",\"attributes\":{\"tags\":[\"apply_ranges\"],\"x\":{\"type\":\"field\",\"field\":\"x\"},\"y\":{\"type\":\"field\",\"field\":\"y\"},\"line_color\":\"#000000\",\"line_width\":2}},\"nonselection_glyph\":{\"type\":\"object\",\"name\":\"Line\",\"id\":\"p1579\",\"attributes\":{\"tags\":[\"apply_ranges\"],\"x\":{\"type\":\"field\",\"field\":\"x\"},\"y\":{\"type\":\"field\",\"field\":\"y\"},\"line_color\":\"#000000\",\"line_alpha\":0.1,\"line_width\":2}},\"muted_glyph\":{\"type\":\"object\",\"name\":\"Line\",\"id\":\"p1580\",\"attributes\":{\"tags\":[\"apply_ranges\"],\"x\":{\"type\":\"field\",\"field\":\"x\"},\"y\":{\"type\":\"field\",\"field\":\"y\"},\"line_color\":\"#000000\",\"line_alpha\":0.2,\"line_width\":2}}}}],\"toolbar\":{\"type\":\"object\",\"name\":\"Toolbar\",\"id\":\"p1550\",\"attributes\":{\"tools\":[{\"type\":\"object\",\"name\":\"WheelZoomTool\",\"id\":\"p1540\",\"attributes\":{\"tags\":[\"hv_created\"],\"renderers\":\"auto\",\"zoom_together\":\"none\"}},{\"type\":\"object\",\"name\":\"SaveTool\",\"id\":\"p1563\"},{\"type\":\"object\",\"name\":\"PanTool\",\"id\":\"p1564\"},{\"type\":\"object\",\"name\":\"BoxZoomTool\",\"id\":\"p1565\",\"attributes\":{\"overlay\":{\"type\":\"object\",\"name\":\"BoxAnnotation\",\"id\":\"p1566\",\"attributes\":{\"syncable\":false,\"level\":\"overlay\",\"visible\":false,\"left\":{\"type\":\"number\",\"value\":\"nan\"},\"right\":{\"type\":\"number\",\"value\":\"nan\"},\"top\":{\"type\":\"number\",\"value\":\"nan\"},\"bottom\":{\"type\":\"number\",\"value\":\"nan\"},\"left_units\":\"canvas\",\"right_units\":\"canvas\",\"top_units\":\"canvas\",\"bottom_units\":\"canvas\",\"line_color\":\"black\",\"line_alpha\":1.0,\"line_width\":2,\"line_dash\":[4,4],\"fill_color\":\"lightgrey\",\"fill_alpha\":0.5}}}},{\"type\":\"object\",\"name\":\"ResetTool\",\"id\":\"p1571\"}],\"active_drag\":{\"id\":\"p1564\"},\"active_scroll\":{\"id\":\"p1540\"}}},\"left\":[{\"type\":\"object\",\"name\":\"LinearAxis\",\"id\":\"p1558\",\"attributes\":{\"ticker\":{\"type\":\"object\",\"name\":\"BasicTicker\",\"id\":\"p1559\",\"attributes\":{\"mantissas\":[1,2,5]}},\"formatter\":{\"type\":\"object\",\"name\":\"BasicTickFormatter\",\"id\":\"p1560\"},\"axis_label\":\"Elevation[m]\",\"major_label_policy\":{\"type\":\"object\",\"name\":\"AllLabels\",\"id\":\"p1561\"}}}],\"below\":[{\"type\":\"object\",\"name\":\"LinearAxis\",\"id\":\"p1553\",\"attributes\":{\"ticker\":{\"type\":\"object\",\"name\":\"BasicTicker\",\"id\":\"p1554\",\"attributes\":{\"mantissas\":[1,2,5]}},\"formatter\":{\"type\":\"object\",\"name\":\"BasicTickFormatter\",\"id\":\"p1555\"},\"axis_label\":\"Distance[m]\",\"major_label_policy\":{\"type\":\"object\",\"name\":\"AllLabels\",\"id\":\"p1556\"}}}],\"center\":[{\"type\":\"object\",\"name\":\"Grid\",\"id\":\"p1557\",\"attributes\":{\"axis\":{\"id\":\"p1553\"},\"ticker\":{\"id\":\"p1554\"}}},{\"type\":\"object\",\"name\":\"Grid\",\"id\":\"p1562\",\"attributes\":{\"dimension\":1,\"axis\":{\"id\":\"p1558\"},\"ticker\":{\"id\":\"p1559\"}}}],\"min_border_top\":10,\"min_border_bottom\":10,\"min_border_left\":10,\"min_border_right\":10,\"output_backend\":\"webgl\"}},{\"type\":\"object\",\"name\":\"Spacer\",\"id\":\"p1586\",\"attributes\":{\"name\":\"HSpacer01825\",\"stylesheets\":[\"\\n:host(.pn-loading):before, .pn-loading:before {\\n  background-color: #c3c3c3;\\n  mask-size: auto calc(min(50%, 400px));\\n  -webkit-mask-size: auto calc(min(50%, 400px));\\n}\",{\"id\":\"p1533\"},{\"id\":\"p1531\"},{\"id\":\"p1532\"}],\"margin\":0,\"sizing_mode\":\"stretch_width\",\"align\":\"start\"}}]}}],\"defs\":[{\"type\":\"model\",\"name\":\"ReactiveHTML1\"},{\"type\":\"model\",\"name\":\"FlexBox1\",\"properties\":[{\"name\":\"align_content\",\"kind\":\"Any\",\"default\":\"flex-start\"},{\"name\":\"align_items\",\"kind\":\"Any\",\"default\":\"flex-start\"},{\"name\":\"flex_direction\",\"kind\":\"Any\",\"default\":\"row\"},{\"name\":\"flex_wrap\",\"kind\":\"Any\",\"default\":\"wrap\"},{\"name\":\"gap\",\"kind\":\"Any\",\"default\":\"\"},{\"name\":\"justify_content\",\"kind\":\"Any\",\"default\":\"flex-start\"}]},{\"type\":\"model\",\"name\":\"FloatPanel1\",\"properties\":[{\"name\":\"config\",\"kind\":\"Any\",\"default\":{\"type\":\"map\"}},{\"name\":\"contained\",\"kind\":\"Any\",\"default\":true},{\"name\":\"position\",\"kind\":\"Any\",\"default\":\"right-top\"},{\"name\":\"offsetx\",\"kind\":\"Any\",\"default\":null},{\"name\":\"offsety\",\"kind\":\"Any\",\"default\":null},{\"name\":\"theme\",\"kind\":\"Any\",\"default\":\"primary\"},{\"name\":\"status\",\"kind\":\"Any\",\"default\":\"normalized\"}]},{\"type\":\"model\",\"name\":\"GridStack1\",\"properties\":[{\"name\":\"mode\",\"kind\":\"Any\",\"default\":\"warn\"},{\"name\":\"ncols\",\"kind\":\"Any\",\"default\":null},{\"name\":\"nrows\",\"kind\":\"Any\",\"default\":null},{\"name\":\"allow_resize\",\"kind\":\"Any\",\"default\":true},{\"name\":\"allow_drag\",\"kind\":\"Any\",\"default\":true},{\"name\":\"state\",\"kind\":\"Any\",\"default\":[]}]},{\"type\":\"model\",\"name\":\"drag1\",\"properties\":[{\"name\":\"slider_width\",\"kind\":\"Any\",\"default\":5},{\"name\":\"slider_color\",\"kind\":\"Any\",\"default\":\"black\"},{\"name\":\"value\",\"kind\":\"Any\",\"default\":50}]},{\"type\":\"model\",\"name\":\"click1\",\"properties\":[{\"name\":\"terminal_output\",\"kind\":\"Any\",\"default\":\"\"},{\"name\":\"debug_name\",\"kind\":\"Any\",\"default\":\"\"},{\"name\":\"clears\",\"kind\":\"Any\",\"default\":0}]},{\"type\":\"model\",\"name\":\"FastWrapper1\",\"properties\":[{\"name\":\"object\",\"kind\":\"Any\",\"default\":null},{\"name\":\"style\",\"kind\":\"Any\",\"default\":null}]},{\"type\":\"model\",\"name\":\"NotificationAreaBase1\",\"properties\":[{\"name\":\"js_events\",\"kind\":\"Any\",\"default\":{\"type\":\"map\"}},{\"name\":\"position\",\"kind\":\"Any\",\"default\":\"bottom-right\"},{\"name\":\"_clear\",\"kind\":\"Any\",\"default\":0}]},{\"type\":\"model\",\"name\":\"NotificationArea1\",\"properties\":[{\"name\":\"js_events\",\"kind\":\"Any\",\"default\":{\"type\":\"map\"}},{\"name\":\"notifications\",\"kind\":\"Any\",\"default\":[]},{\"name\":\"position\",\"kind\":\"Any\",\"default\":\"bottom-right\"},{\"name\":\"_clear\",\"kind\":\"Any\",\"default\":0},{\"name\":\"types\",\"kind\":\"Any\",\"default\":[{\"type\":\"map\",\"entries\":[[\"type\",\"warning\"],[\"background\",\"#ffc107\"],[\"icon\",{\"type\":\"map\",\"entries\":[[\"className\",\"fas fa-exclamation-triangle\"],[\"tagName\",\"i\"],[\"color\",\"white\"]]}]]},{\"type\":\"map\",\"entries\":[[\"type\",\"info\"],[\"background\",\"#007bff\"],[\"icon\",{\"type\":\"map\",\"entries\":[[\"className\",\"fas fa-info-circle\"],[\"tagName\",\"i\"],[\"color\",\"white\"]]}]]}]}]},{\"type\":\"model\",\"name\":\"Notification\",\"properties\":[{\"name\":\"background\",\"kind\":\"Any\",\"default\":null},{\"name\":\"duration\",\"kind\":\"Any\",\"default\":3000},{\"name\":\"icon\",\"kind\":\"Any\",\"default\":null},{\"name\":\"message\",\"kind\":\"Any\",\"default\":\"\"},{\"name\":\"notification_type\",\"kind\":\"Any\",\"default\":null},{\"name\":\"_destroyed\",\"kind\":\"Any\",\"default\":false}]},{\"type\":\"model\",\"name\":\"TemplateActions1\",\"properties\":[{\"name\":\"open_modal\",\"kind\":\"Any\",\"default\":0},{\"name\":\"close_modal\",\"kind\":\"Any\",\"default\":0}]},{\"type\":\"model\",\"name\":\"BootstrapTemplateActions1\",\"properties\":[{\"name\":\"open_modal\",\"kind\":\"Any\",\"default\":0},{\"name\":\"close_modal\",\"kind\":\"Any\",\"default\":0}]},{\"type\":\"model\",\"name\":\"TemplateEditor1\",\"properties\":[{\"name\":\"layout\",\"kind\":\"Any\",\"default\":[]}]},{\"type\":\"model\",\"name\":\"MaterialTemplateActions1\",\"properties\":[{\"name\":\"open_modal\",\"kind\":\"Any\",\"default\":0},{\"name\":\"close_modal\",\"kind\":\"Any\",\"default\":0}]},{\"type\":\"model\",\"name\":\"copy_to_clipboard1\",\"properties\":[{\"name\":\"fill\",\"kind\":\"Any\",\"default\":\"none\"},{\"name\":\"value\",\"kind\":\"Any\",\"default\":null}]}]}};\n",
       "  var render_items = [{\"docid\":\"e2ab7e57-f003-4d9c-82f0-b98b958a58c1\",\"roots\":{\"p1530\":\"df18ee27-62f1-4158-9941-fb130c48cee0\"},\"root_ids\":[\"p1530\"]}];\n",
       "  var docs = Object.values(docs_json)\n",
       "  if (!docs) {\n",
       "    return\n",
       "  }\n",
       "  const py_version = docs[0].version.replace('rc', '-rc.').replace('.dev', '-dev.')\n",
       "  async function embed_document(root) {\n",
       "    var Bokeh = get_bokeh(root)\n",
       "    await Bokeh.embed.embed_items_notebook(docs_json, render_items);\n",
       "    for (const render_item of render_items) {\n",
       "      for (const root_id of render_item.root_ids) {\n",
       "\tconst id_el = document.getElementById(root_id)\n",
       "\tif (id_el.children.length && id_el.children[0].hasAttribute('data-root-id')) {\n",
       "\t  const root_el = id_el.children[0]\n",
       "\t  root_el.id = root_el.id + '-rendered'\n",
       "\t  for (const child of root_el.children) {\n",
       "            // Ensure JupyterLab does not capture keyboard shortcuts\n",
       "            // see: https://jupyterlab.readthedocs.io/en/4.1.x/extension/notebook.html#keyboard-interaction-model\n",
       "\t    child.setAttribute('data-lm-suppress-shortcuts', 'true')\n",
       "\t  }\n",
       "\t}\n",
       "      }\n",
       "    }\n",
       "  }\n",
       "  function get_bokeh(root) {\n",
       "    if (root.Bokeh === undefined) {\n",
       "      return null\n",
       "    } else if (root.Bokeh.version !== py_version) {\n",
       "      if (root.Bokeh.versions === undefined || !root.Bokeh.versions.has(py_version)) {\n",
       "\treturn null\n",
       "      }\n",
       "      return root.Bokeh.versions.get(py_version);\n",
       "    } else if (root.Bokeh.version === py_version) {\n",
       "      return root.Bokeh\n",
       "    }\n",
       "    return null\n",
       "  }\n",
       "  function is_loaded(root) {\n",
       "    var Bokeh = get_bokeh(root)\n",
       "    return (Bokeh != null && Bokeh.Panel !== undefined)\n",
       "  }\n",
       "  if (is_loaded(root)) {\n",
       "    embed_document(root);\n",
       "  } else {\n",
       "    var attempts = 0;\n",
       "    var timer = setInterval(function(root) {\n",
       "      if (is_loaded(root)) {\n",
       "        clearInterval(timer);\n",
       "        embed_document(root);\n",
       "      } else if (document.readyState == \"complete\") {\n",
       "        attempts++;\n",
       "        if (attempts > 200) {\n",
       "          clearInterval(timer);\n",
       "\t  var Bokeh = get_bokeh(root)\n",
       "\t  if (Bokeh == null || Bokeh.Panel == null) {\n",
       "            console.warn(\"Panel: ERROR: Unable to run Panel code because Bokeh or Panel library is missing\");\n",
       "\t  } else {\n",
       "\t    console.warn(\"Panel: WARNING: Attempting to render but not all required libraries could be resolved.\")\n",
       "\t    embed_document(root)\n",
       "\t  }\n",
       "        }\n",
       "      }\n",
       "    }, 25, root)\n",
       "  }\n",
       "})(window);</script>"
      ],
      "text/plain": [
       ":Curve   [x]   (y)"
      ]
     },
     "execution_count": 19,
     "metadata": {
      "application/vnd.holoviews_exec.v0+json": {
       "id": "p1530"
      }
     },
     "output_type": "execute_result"
    }
   ],
   "source": [
    "g = hv.Curve((L, zb[::-1]), label='zb').options(\n",
    "    show_grid=True, color='k',xlabel='Distance[m]',ylabel='Elevation[m]'\n",
    "    , width=600, height=400, title='Initial bed elevation')\n",
    "hv.save(g, 'zb.html') #初期河床高の図化\n",
    "g"
   ]
  },
  {
   "cell_type": "markdown",
   "id": "b3c6ca75",
   "metadata": {},
   "source": [
    "### 河床変動計算"
   ]
  },
  {
   "cell_type": "code",
   "execution_count": 20,
   "id": "790feb5f",
   "metadata": {},
   "outputs": [
    {
     "name": "stdout",
     "output_type": "stream",
     "text": [
      "CPU times: total: 1.42 s\n",
      "Wall time: 5.02 s\n"
     ]
    }
   ],
   "source": [
    "%%time\n",
    "istep = int(2*24.0*3600.0/dt) #計算時間：ステップ数\n",
    "# istep = 1000\n",
    "\n",
    "itime = [ int(thr*3600/dt) for thr in [0, 0.5*24, 1*24, 1.5*24, 2*24] ]\n",
    "iexport = iter(itime)\n",
    "iex = next(iexport, None) #初期値\n",
    "\n",
    "zbini = zb.copy() #初期河床高の保存\n",
    "c = np.zeros(len(zb)) #濃度の初期値\n",
    "Erosion = np.zeros(len(zb)) #浸食量の初期値\n",
    "\n",
    "hout, zbout = [], []\n",
    "for itr in range(istep):\n",
    "    # hDB = h0 #下流端の水深\n",
    "    hDB = float(12) #下流端の水深\n",
    "    zbr = zb[::-1] #不等流計算用に逆順にする\n",
    "    hr = nonuniformflow(q, hDB, zbr, dx, manning) # 不等流計算\n",
    "\n",
    "    h = hr[::-1] #不等流計算結果が逆順になっているので元に戻す\n",
    "    if itr==iex: \n",
    "        hout.append(h.copy())\n",
    "        zbout.append(zb.copy())\n",
    "        iex = next(iexport, None) #初期値\n",
    "\n",
    "    # if itr==0: hini = h.copy() #初期水深の保存\n",
    "\n",
    "    # 流砂量の計算 \n",
    "    qbhf = np.zeros(len(h)+1) # 掃流砂量は0とする。\n",
    "\n",
    "    caE = qsuca(q, h, manning, dm, w0, tausc) #巻き上げ量の基準面濃度の計算\n",
    "    Erosion = w0*caE  # 浮遊砂の巻き上げ量\n",
    "\n",
    "    c, Deposition = calConcentration(q, h, w0, manning, Erosion, dx) #水深平均濃度の計算\n",
    "    zb, d = calzb(zb, qbhf, Erosion, Deposition, dx, dt) #河床高の更新\n",
    "\n",
    "hout.append(h.copy())\n",
    "zbout.append(zb.copy())"
   ]
  },
  {
   "cell_type": "code",
   "execution_count": 21,
   "id": "98780796",
   "metadata": {},
   "outputs": [],
   "source": [
    "from holoviews.plotting.util import process_cmap\n",
    "cmap_list = process_cmap(\"turbo\")\n",
    "cmap_list2 = [cmap_list[int(ii)] for ii in np.linspace(0, 255, num=len(hout)) ]"
   ]
  },
  {
   "cell_type": "markdown",
   "id": "36ea7cec",
   "metadata": {},
   "source": [
    "## 図化"
   ]
  },
  {
   "cell_type": "code",
   "execution_count": 23,
   "id": "0f55be15",
   "metadata": {},
   "outputs": [
    {
     "data": {},
     "metadata": {},
     "output_type": "display_data"
    },
    {
     "data": {
      "application/vnd.holoviews_exec.v0+json": "",
      "text/html": [
       "<div id='p1814'>\n",
       "  <div id=\"e060bcf7-ec93-498f-b360-d6961c425aa6\" data-root-id=\"p1814\" style=\"display: contents;\"></div>\n",
       "</div>\n",
       "<script type=\"application/javascript\">(function(root) {\n",
       "  var docs_json = {\"c96b0694-71c2-4a0d-b3c1-a13517d6feca\":{\"version\":\"3.4.1\",\"title\":\"Bokeh Application\",\"roots\":[{\"type\":\"object\",\"name\":\"Row\",\"id\":\"p1814\",\"attributes\":{\"name\":\"Row02790\",\"tags\":[\"embedded\"],\"stylesheets\":[\"\\n:host(.pn-loading):before, .pn-loading:before {\\n  background-color: #c3c3c3;\\n  mask-size: auto calc(min(50%, 400px));\\n  -webkit-mask-size: auto calc(min(50%, 400px));\\n}\",{\"type\":\"object\",\"name\":\"ImportedStyleSheet\",\"id\":\"p1817\",\"attributes\":{\"url\":\"https://cdn.holoviz.org/panel/1.4.4/dist/css/loading.css\"}},{\"type\":\"object\",\"name\":\"ImportedStyleSheet\",\"id\":\"p2018\",\"attributes\":{\"url\":\"https://cdn.holoviz.org/panel/1.4.4/dist/css/listpanel.css\"}},{\"type\":\"object\",\"name\":\"ImportedStyleSheet\",\"id\":\"p1815\",\"attributes\":{\"url\":\"https://cdn.holoviz.org/panel/1.4.4/dist/bundled/theme/default.css\"}},{\"type\":\"object\",\"name\":\"ImportedStyleSheet\",\"id\":\"p1816\",\"attributes\":{\"url\":\"https://cdn.holoviz.org/panel/1.4.4/dist/bundled/theme/native.css\"}}],\"min_width\":800,\"margin\":0,\"sizing_mode\":\"stretch_width\",\"align\":\"start\",\"children\":[{\"type\":\"object\",\"name\":\"Spacer\",\"id\":\"p1818\",\"attributes\":{\"name\":\"HSpacer02797\",\"stylesheets\":[\"\\n:host(.pn-loading):before, .pn-loading:before {\\n  background-color: #c3c3c3;\\n  mask-size: auto calc(min(50%, 400px));\\n  -webkit-mask-size: auto calc(min(50%, 400px));\\n}\",{\"id\":\"p1817\"},{\"id\":\"p1815\"},{\"id\":\"p1816\"}],\"margin\":0,\"sizing_mode\":\"stretch_width\",\"align\":\"start\"}},{\"type\":\"object\",\"name\":\"Figure\",\"id\":\"p1843\",\"attributes\":{\"width\":800,\"margin\":[5,10],\"sizing_mode\":\"fixed\",\"align\":\"start\",\"x_range\":{\"type\":\"object\",\"name\":\"Range1d\",\"id\":\"p1819\",\"attributes\":{\"tags\":[[[\"x\",\"x\",null]],[]],\"end\":10000.0,\"reset_start\":0.0,\"reset_end\":10000.0}},\"y_range\":{\"type\":\"object\",\"name\":\"Range1d\",\"id\":\"p1820\",\"attributes\":{\"tags\":[[[\"y\",\"y\",null]],{\"type\":\"map\",\"entries\":[[\"invert_yaxis\",false],[\"autorange\",false]]}],\"start\":-1.6395665825126338,\"end\":18.03523240763897,\"reset_start\":-1.6395665825126338,\"reset_end\":18.03523240763897}},\"x_scale\":{\"type\":\"object\",\"name\":\"LinearScale\",\"id\":\"p1853\"},\"y_scale\":{\"type\":\"object\",\"name\":\"LinearScale\",\"id\":\"p1854\"},\"title\":{\"type\":\"object\",\"name\":\"Title\",\"id\":\"p1846\",\"attributes\":{\"text\":\"bed elevation\",\"text_color\":\"black\",\"text_font_size\":\"12pt\"}},\"renderers\":[{\"type\":\"object\",\"name\":\"GlyphRenderer\",\"id\":\"p1883\",\"attributes\":{\"name\":\"\\u6c34\\u4f4d:0\\u6642\\u9593\\u5f8c\",\"data_source\":{\"type\":\"object\",\"name\":\"ColumnDataSource\",\"id\":\"p1874\",\"attributes\":{\"selected\":{\"type\":\"object\",\"name\":\"Selection\",\"id\":\"p1875\",\"attributes\":{\"indices\":[],\"line_indices\":[]}},\"selection_policy\":{\"type\":\"object\",\"name\":\"UnionRenderers\",\"id\":\"p1876\"},\"data\":{\"type\":\"map\",\"entries\":[[\"x\",{\"type\":\"ndarray\",\"array\":{\"type\":\"bytes\",\"data\":\"AAAAAAAAAAAAAAAAAABZQAAAAAAAAGlAAAAAAADAckAAAAAAAAB5QAAAAAAAQH9AAAAAAADAgkAAAAAAAOCFQAAAAAAAAIlAAAAAAAAgjEAAAAAAAECPQAAAAAAAMJFAAAAAAADAkkAAAAAAAFCUQAAAAAAA4JVAAAAAAABwl0AAAAAAAACZQAAAAAAAkJpAAAAAAAAgnEAAAAAAALCdQAAAAAAAQJ9AAAAAAABooEAAAAAAADChQAAAAAAA+KFAAAAAAADAokAAAAAAAIijQAAAAAAAUKRAAAAAAAAYpUAAAAAAAOClQAAAAAAAqKZAAAAAAABwp0AAAAAAADioQAAAAAAAAKlAAAAAAADIqUAAAAAAAJCqQAAAAAAAWKtAAAAAAAAgrEAAAAAAAOisQAAAAAAAsK1AAAAAAAB4rkAAAAAAAECvQAAAAAAABLBAAAAAAABosEAAAAAAAMywQAAAAAAAMLFAAAAAAACUsUAAAAAAAPixQAAAAAAAXLJAAAAAAADAskAAAAAAACSzQAAAAAAAiLNAAAAAAADss0AAAAAAAFC0QAAAAAAAtLRAAAAAAAAYtUAAAAAAAHy1QAAAAAAA4LVAAAAAAABEtkAAAAAAAKi2QAAAAAAADLdAAAAAAABwt0AAAAAAANS3QAAAAAAAOLhAAAAAAACcuEAAAAAAAAC5QAAAAAAAZLlAAAAAAADIuUAAAAAAACy6QAAAAAAAkLpAAAAAAAD0ukAAAAAAAFi7QAAAAAAAvLtAAAAAAAAgvEAAAAAAAIS8QAAAAAAA6LxAAAAAAABMvUAAAAAAALC9QAAAAAAAFL5AAAAAAAB4vkAAAAAAANy+QAAAAAAAQL9AAAAAAACkv0AAAAAAAATAQAAAAAAANsBAAAAAAABowEAAAAAAAJrAQAAAAAAAzMBAAAAAAAD+wEAAAAAAADDBQAAAAAAAYsFAAAAAAACUwUAAAAAAAMbBQAAAAAAA+MFAAAAAAAAqwkAAAAAAAFzCQAAAAAAAjsJAAAAAAADAwkAAAAAAAPLCQAAAAAAAJMNAAAAAAABWw0AAAAAAAIjDQA==\"},\"shape\":[101],\"dtype\":\"float64\",\"order\":\"little\"}],[\"y\",{\"type\":\"ndarray\",\"array\":{\"type\":\"bytes\",\"data\":\"AAAAAAAAKEBb+7yrBQAoQCJTObELAChAGt7oFRIAKEB4z/7gGAAoQKSN4RggAChAoBiRxScAKED9CafuLwAoQPaUVp04AChAvOzS2kEAKEBPERyxSwAoQOA1ZStWAChAclquVWEAKEDUS8Q8bQAoQGVwDe95AChALMiJfIcAKEAkUzn1lQAoQLd3gmulAChA4zVl87UAKEAO9EejxwAoQHDlXZLaAChAZ3AN2+4AKEDGYSOaBAEoQMDs0u4bAShAuHeC+zQBKEB/z/7mTwEoQBL0R9tsAShA2EvEBowBKEBqcA2drQEoQJYu8NbRAShAW4Zs9PgBKEC6d4I7IwIoQBppmPpQAihAelquiYICKEA/sipLuAIoQAYKp6zyAihA/pRWKTIDKEBdhmxMdwMoQLx3grPCAyhA6DVlDxUEKECvjeEobwQoQKgYkeXRBChA1NZzST4FKECaLvB+tQUoQJK5n9s4BihAWBEc6ckGKEC4AjJsagcoQH1arnEcCChAEH/3W+IIKEDW1nPxvgkoQJwu8HK1CihAlLmfs8kLKEDBd4I1AA0oQLoCMlJeDihAso3haOoPKECsGJEZrBEoQD492o+sEyhABJVW4/YVKEDK7NKOmBgoQFwRHA2iGyhAugIynicfKEAZ9EdHQiMoQEWyKh0RKChACwqn6LotKEBp+7w/cDQoQMns0ihuPChAKN7oTQFGKECHz/6wiVEoQEwne4p+XyhArBiRbXFwKECko0DqDoUoQAKVVo0ZnihA/B8G7lq8KEDBd4IXh+AoQFOcy5kTCylAf1quCQ48KUASf/d/B3MpQNfWcx0mrylAnC7whlfvKUAvUzlRijIqQMF3gpPVdypAU5zLiYe+KkAY9EdnIgYrQEWyKotRTitApKNA4t2WK0AClVZVpN8rQMns0tKOKCxAWxEcmY9xLEC6AjIgnrosQOXAFCC1Ay1A30vEWNFMLUA9PdrH8JUtQDbIiTAS3y1AL1M50TQoLkBaERwxWHEuQCBpmAZ8ui5Af1quJaADL0DfS8RwxEwvQHBwDdfolS9Az2EjTg3fL0DL3M/nGBQwQA==\"},\"shape\":[101],\"dtype\":\"float64\",\"order\":\"little\"}]]}}},\"view\":{\"type\":\"object\",\"name\":\"CDSView\",\"id\":\"p1884\",\"attributes\":{\"filter\":{\"type\":\"object\",\"name\":\"AllIndices\",\"id\":\"p1885\"}}},\"glyph\":{\"type\":\"object\",\"name\":\"Line\",\"id\":\"p1880\",\"attributes\":{\"tags\":[\"apply_ranges\"],\"x\":{\"type\":\"field\",\"field\":\"x\"},\"y\":{\"type\":\"field\",\"field\":\"y\"},\"line_color\":\"#30123b\",\"line_width\":2}},\"selection_glyph\":{\"type\":\"object\",\"name\":\"Line\",\"id\":\"p1888\",\"attributes\":{\"tags\":[\"apply_ranges\"],\"x\":{\"type\":\"field\",\"field\":\"x\"},\"y\":{\"type\":\"field\",\"field\":\"y\"},\"line_color\":\"#30123b\",\"line_width\":2}},\"nonselection_glyph\":{\"type\":\"object\",\"name\":\"Line\",\"id\":\"p1881\",\"attributes\":{\"tags\":[\"apply_ranges\"],\"x\":{\"type\":\"field\",\"field\":\"x\"},\"y\":{\"type\":\"field\",\"field\":\"y\"},\"line_color\":\"#30123b\",\"line_alpha\":0.1,\"line_width\":2}},\"muted_glyph\":{\"type\":\"object\",\"name\":\"Line\",\"id\":\"p1882\",\"attributes\":{\"tags\":[\"apply_ranges\"],\"x\":{\"type\":\"field\",\"field\":\"x\"},\"y\":{\"type\":\"field\",\"field\":\"y\"},\"line_color\":\"#30123b\",\"line_alpha\":0.2,\"line_width\":2}}}},{\"type\":\"object\",\"name\":\"GlyphRenderer\",\"id\":\"p1898\",\"attributes\":{\"name\":\"\\u6c34\\u4f4d:12\\u6642\\u9593\\u5f8c\",\"data_source\":{\"type\":\"object\",\"name\":\"ColumnDataSource\",\"id\":\"p1889\",\"attributes\":{\"selected\":{\"type\":\"object\",\"name\":\"Selection\",\"id\":\"p1890\",\"attributes\":{\"indices\":[],\"line_indices\":[]}},\"selection_policy\":{\"type\":\"object\",\"name\":\"UnionRenderers\",\"id\":\"p1891\"},\"data\":{\"type\":\"map\",\"entries\":[[\"x\",{\"type\":\"ndarray\",\"array\":{\"type\":\"bytes\",\"data\":\"AAAAAAAAAAAAAAAAAABZQAAAAAAAAGlAAAAAAADAckAAAAAAAAB5QAAAAAAAQH9AAAAAAADAgkAAAAAAAOCFQAAAAAAAAIlAAAAAAAAgjEAAAAAAAECPQAAAAAAAMJFAAAAAAADAkkAAAAAAAFCUQAAAAAAA4JVAAAAAAABwl0AAAAAAAACZQAAAAAAAkJpAAAAAAAAgnEAAAAAAALCdQAAAAAAAQJ9AAAAAAABooEAAAAAAADChQAAAAAAA+KFAAAAAAADAokAAAAAAAIijQAAAAAAAUKRAAAAAAAAYpUAAAAAAAOClQAAAAAAAqKZAAAAAAABwp0AAAAAAADioQAAAAAAAAKlAAAAAAADIqUAAAAAAAJCqQAAAAAAAWKtAAAAAAAAgrEAAAAAAAOisQAAAAAAAsK1AAAAAAAB4rkAAAAAAAECvQAAAAAAABLBAAAAAAABosEAAAAAAAMywQAAAAAAAMLFAAAAAAACUsUAAAAAAAPixQAAAAAAAXLJAAAAAAADAskAAAAAAACSzQAAAAAAAiLNAAAAAAADss0AAAAAAAFC0QAAAAAAAtLRAAAAAAAAYtUAAAAAAAHy1QAAAAAAA4LVAAAAAAABEtkAAAAAAAKi2QAAAAAAADLdAAAAAAABwt0AAAAAAANS3QAAAAAAAOLhAAAAAAACcuEAAAAAAAAC5QAAAAAAAZLlAAAAAAADIuUAAAAAAACy6QAAAAAAAkLpAAAAAAAD0ukAAAAAAAFi7QAAAAAAAvLtAAAAAAAAgvEAAAAAAAIS8QAAAAAAA6LxAAAAAAABMvUAAAAAAALC9QAAAAAAAFL5AAAAAAAB4vkAAAAAAANy+QAAAAAAAQL9AAAAAAACkv0AAAAAAAATAQAAAAAAANsBAAAAAAABowEAAAAAAAJrAQAAAAAAAzMBAAAAAAAD+wEAAAAAAADDBQAAAAAAAYsFAAAAAAACUwUAAAAAAAMbBQAAAAAAA+MFAAAAAAAAqwkAAAAAAAFzCQAAAAAAAjsJAAAAAAADAwkAAAAAAAPLCQAAAAAAAJMNAAAAAAABWw0AAAAAAAIjDQA==\"},\"shape\":[101],\"dtype\":\"float64\",\"order\":\"little\"}],[\"y\",{\"type\":\"ndarray\",\"array\":{\"type\":\"bytes\",\"data\":\"5vqqv+4HKEDtZz4R8gcoQKw4dND3ByhAxrr56P0HKEANnr9gBAgoQGQixT0LCChAoj3shhIIKEC7lvNDGggoQH4u1nsiCChASSx1NisIKECxYJ99NAgoQMd3AFo+CChAmv+C1kgIKEAt6o79UwgoQCItnttfCChALye4fGwIKEAcQJHueQgoQJn3ZUCICChABX84gZcIKEBCiUXCpwgoQE4Q7xS5CChAUjbfi8sIKEAWEas63wgoQLicGTb0CChAcTf6kgoJKEDb9P1kIgkoQCSTNL87CShAUrvesFYJKEDqHG5EcwkoQMpFB3qRCShALvHoQrEJKEDwGix50gkoQEex8NT0CShA9DVR2RcKKED+WKvCOgooQPc/b2ZcCihAKKD2D3sKKECCQ/pSlAooQIpwPNmkCihA/IKdMqgKKEAQ3s+zmAooQJZNloZvCihA3AvAHyUKKEDwwb6CsgkoQCOAzO0TCShAyNHqw00IKEA8KEubdAcoQLzvlZy4BihASouGUXIGKEBQZj8PKwcoQHsgFEWXCShA1bbAc3oOKEBSuzSBeBYoQMSIGG/pIShAI0VGusgwKEAdxzeex0IoQCqWqlJyVyhAzv3udVJuKEBQh2FaA4coQL4xgsU4oShADFonhr28KEAXxS/RbtkoQNXftjk39yhAaf2rdwoWKUAqBkI54jUpQLc4pO27VilAvjZeSJd4KUC9kpFKdZspQHosfKVXvylAcmuFWEDkKUBHEm11MQoqQJ6VtfcsMSpAo1RZrDRZKkB6a+8eSoIqQKY1PI1urCpA6k3e2aLXKkDFOyGC5wMrQIkxTZU8MStAguB1qqFfK0AE3o7YFY8rQFBUQqyXvytAsphuIyXxK0DuOMmiuyMsQBimv/BXVyxA4BTTLfaLLEDq3yvUkcEsQLosiK0l+CxAxsOG1asvLUDZh5S1HWgtQNCDkwR0oS1AqjMYyabbLUD9G+RYrRYuQFG8zV9+Ui5ANN6s5A+PLkBO3aJMV8wuQEC/ZGdJCi9AZCfwdNpIL0Aqwocw/ocvQGbJN9unxy9A50H7I+UDMEBkdmnzKyQwQA==\"},\"shape\":[101],\"dtype\":\"float64\",\"order\":\"little\"}]]}}},\"view\":{\"type\":\"object\",\"name\":\"CDSView\",\"id\":\"p1899\",\"attributes\":{\"filter\":{\"type\":\"object\",\"name\":\"AllIndices\",\"id\":\"p1900\"}}},\"glyph\":{\"type\":\"object\",\"name\":\"Line\",\"id\":\"p1895\",\"attributes\":{\"tags\":[\"apply_ranges\"],\"x\":{\"type\":\"field\",\"field\":\"x\"},\"y\":{\"type\":\"field\",\"field\":\"y\"},\"line_color\":\"#2ab9ed\",\"line_width\":2}},\"selection_glyph\":{\"type\":\"object\",\"name\":\"Line\",\"id\":\"p1902\",\"attributes\":{\"tags\":[\"apply_ranges\"],\"x\":{\"type\":\"field\",\"field\":\"x\"},\"y\":{\"type\":\"field\",\"field\":\"y\"},\"line_color\":\"#2ab9ed\",\"line_width\":2}},\"nonselection_glyph\":{\"type\":\"object\",\"name\":\"Line\",\"id\":\"p1896\",\"attributes\":{\"tags\":[\"apply_ranges\"],\"x\":{\"type\":\"field\",\"field\":\"x\"},\"y\":{\"type\":\"field\",\"field\":\"y\"},\"line_color\":\"#2ab9ed\",\"line_alpha\":0.1,\"line_width\":2}},\"muted_glyph\":{\"type\":\"object\",\"name\":\"Line\",\"id\":\"p1897\",\"attributes\":{\"tags\":[\"apply_ranges\"],\"x\":{\"type\":\"field\",\"field\":\"x\"},\"y\":{\"type\":\"field\",\"field\":\"y\"},\"line_color\":\"#2ab9ed\",\"line_alpha\":0.2,\"line_width\":2}}}},{\"type\":\"object\",\"name\":\"GlyphRenderer\",\"id\":\"p1912\",\"attributes\":{\"name\":\"\\u6c34\\u4f4d:24\\u6642\\u9593\\u5f8c\",\"data_source\":{\"type\":\"object\",\"name\":\"ColumnDataSource\",\"id\":\"p1903\",\"attributes\":{\"selected\":{\"type\":\"object\",\"name\":\"Selection\",\"id\":\"p1904\",\"attributes\":{\"indices\":[],\"line_indices\":[]}},\"selection_policy\":{\"type\":\"object\",\"name\":\"UnionRenderers\",\"id\":\"p1905\"},\"data\":{\"type\":\"map\",\"entries\":[[\"x\",{\"type\":\"ndarray\",\"array\":{\"type\":\"bytes\",\"data\":\"AAAAAAAAAAAAAAAAAABZQAAAAAAAAGlAAAAAAADAckAAAAAAAAB5QAAAAAAAQH9AAAAAAADAgkAAAAAAAOCFQAAAAAAAAIlAAAAAAAAgjEAAAAAAAECPQAAAAAAAMJFAAAAAAADAkkAAAAAAAFCUQAAAAAAA4JVAAAAAAABwl0AAAAAAAACZQAAAAAAAkJpAAAAAAAAgnEAAAAAAALCdQAAAAAAAQJ9AAAAAAABooEAAAAAAADChQAAAAAAA+KFAAAAAAADAokAAAAAAAIijQAAAAAAAUKRAAAAAAAAYpUAAAAAAAOClQAAAAAAAqKZAAAAAAABwp0AAAAAAADioQAAAAAAAAKlAAAAAAADIqUAAAAAAAJCqQAAAAAAAWKtAAAAAAAAgrEAAAAAAAOisQAAAAAAAsK1AAAAAAAB4rkAAAAAAAECvQAAAAAAABLBAAAAAAABosEAAAAAAAMywQAAAAAAAMLFAAAAAAACUsUAAAAAAAPixQAAAAAAAXLJAAAAAAADAskAAAAAAACSzQAAAAAAAiLNAAAAAAADss0AAAAAAAFC0QAAAAAAAtLRAAAAAAAAYtUAAAAAAAHy1QAAAAAAA4LVAAAAAAABEtkAAAAAAAKi2QAAAAAAADLdAAAAAAABwt0AAAAAAANS3QAAAAAAAOLhAAAAAAACcuEAAAAAAAAC5QAAAAAAAZLlAAAAAAADIuUAAAAAAACy6QAAAAAAAkLpAAAAAAAD0ukAAAAAAAFi7QAAAAAAAvLtAAAAAAAAgvEAAAAAAAIS8QAAAAAAA6LxAAAAAAABMvUAAAAAAALC9QAAAAAAAFL5AAAAAAAB4vkAAAAAAANy+QAAAAAAAQL9AAAAAAACkv0AAAAAAAATAQAAAAAAANsBAAAAAAABowEAAAAAAAJrAQAAAAAAAzMBAAAAAAAD+wEAAAAAAADDBQAAAAAAAYsFAAAAAAACUwUAAAAAAAMbBQAAAAAAA+MFAAAAAAAAqwkAAAAAAAFzCQAAAAAAAjsJAAAAAAADAwkAAAAAAAPLCQAAAAAAAJMNAAAAAAABWw0AAAAAAAIjDQA==\"},\"shape\":[101],\"dtype\":\"float64\",\"order\":\"little\"}],[\"y\",{\"type\":\"ndarray\",\"array\":{\"type\":\"bytes\",\"data\":\"xl09p40QKEDaGmPJjhAoQI+woT2UEChAgXjpBJoQKEBVVIMjoBAoQN89PJ+mEChAZJUpfa0QKED+U4rDtBAoQDWE83i8EChAC4C9o8QQKECJD4hKzRAoQJfdsHTWEChArchMKuAQKEBDjq9y6hAoQCSu6VX1EChAW4Tx2wARKEBygaELDREoQImoqusZEShAxFUbgCcRKEBQrdDJNREoQDrKSsREEShA5OnbX1QRKEC6cDt9ZBEoQN5DPeJ0EShANfmAKYURKEBhadOqlBEoQPRmKVGiEShAn44RY6wRKEB2tBkpsBEoQMD3Wm6pEShA/RcZx5ERKEAUl4ORXxEoQCWezKYEEShAyIJRyGwQKEDXWZA4fA8oQOp/6bMPDihAMryb2QAMKEAWQIwNNQkoQN7tXUe/BShA8MSoXRcCKEACpuZ6Tf8nQJip8rP1/idAddb7QpcCKECxpWj28AooQKrOFO29FyhAAB2C0RsoKECh+6exEjsoQCo6smTeTyhAO1BHSftlKEABUwXgGH0oQI24X6YIlShAMGuI27CtKEC2UfnaA8coQHBJ2+D64ChAf1y1BZP7KECVWBKCyxYpQP12GbWkMilAcLvlnB9PKUCweMKGPWwpQA3f3OT/iSlAIPuCNWioKUBfc030d8cpQEANspMw5ylA6uDRc5MHKkDGPPbfoSgqQDozhgtdSipAhnQ2DMZsKkBGcx3a3Y8qQCZrzkmlsypAyOPeCh3YKkCwpQmkRf0qQKGB028fIytAorf+mapJK0DYsKId53ArQJSWh77UmCtAOhHCCHPBK0AM+x9NweorQPwvoZ2+FCxAYdXBymk/LEDY4S1fwWosQKcgoZ/DlixAE3H6hW7DLEBhG0+9v/AsQOqBwaO0Hi1ALPG7Q0pNLUBF5bhTfXwtQAoLjzVKrC1Azuqj86zcLUAnYTM/oQ0uQLIer28iPy5AOZNqgytxLkDwFlsdt6MuQHeBV4e/1i5A9FqSsT4KL0AxGX0zLj4vQMCUrU2Hci9A9eV77UKnL0Aw/dOsWdwvQEXCMezhCDBA7Gnvt7wjMECYqZwWuT4wQA==\"},\"shape\":[101],\"dtype\":\"float64\",\"order\":\"little\"}]]}}},\"view\":{\"type\":\"object\",\"name\":\"CDSView\",\"id\":\"p1913\",\"attributes\":{\"filter\":{\"type\":\"object\",\"name\":\"AllIndices\",\"id\":\"p1914\"}}},\"glyph\":{\"type\":\"object\",\"name\":\"Line\",\"id\":\"p1909\",\"attributes\":{\"tags\":[\"apply_ranges\"],\"x\":{\"type\":\"field\",\"field\":\"x\"},\"y\":{\"type\":\"field\",\"field\":\"y\"},\"line_color\":\"#a1fc3d\",\"line_width\":2}},\"selection_glyph\":{\"type\":\"object\",\"name\":\"Line\",\"id\":\"p1916\",\"attributes\":{\"tags\":[\"apply_ranges\"],\"x\":{\"type\":\"field\",\"field\":\"x\"},\"y\":{\"type\":\"field\",\"field\":\"y\"},\"line_color\":\"#a1fc3d\",\"line_width\":2}},\"nonselection_glyph\":{\"type\":\"object\",\"name\":\"Line\",\"id\":\"p1910\",\"attributes\":{\"tags\":[\"apply_ranges\"],\"x\":{\"type\":\"field\",\"field\":\"x\"},\"y\":{\"type\":\"field\",\"field\":\"y\"},\"line_color\":\"#a1fc3d\",\"line_alpha\":0.1,\"line_width\":2}},\"muted_glyph\":{\"type\":\"object\",\"name\":\"Line\",\"id\":\"p1911\",\"attributes\":{\"tags\":[\"apply_ranges\"],\"x\":{\"type\":\"field\",\"field\":\"x\"},\"y\":{\"type\":\"field\",\"field\":\"y\"},\"line_color\":\"#a1fc3d\",\"line_alpha\":0.2,\"line_width\":2}}}},{\"type\":\"object\",\"name\":\"GlyphRenderer\",\"id\":\"p1926\",\"attributes\":{\"name\":\"\\u6c34\\u4f4d:36\\u6642\\u9593\\u5f8c\",\"data_source\":{\"type\":\"object\",\"name\":\"ColumnDataSource\",\"id\":\"p1917\",\"attributes\":{\"selected\":{\"type\":\"object\",\"name\":\"Selection\",\"id\":\"p1918\",\"attributes\":{\"indices\":[],\"line_indices\":[]}},\"selection_policy\":{\"type\":\"object\",\"name\":\"UnionRenderers\",\"id\":\"p1919\"},\"data\":{\"type\":\"map\",\"entries\":[[\"x\",{\"type\":\"ndarray\",\"array\":{\"type\":\"bytes\",\"data\":\"AAAAAAAAAAAAAAAAAABZQAAAAAAAAGlAAAAAAADAckAAAAAAAAB5QAAAAAAAQH9AAAAAAADAgkAAAAAAAOCFQAAAAAAAAIlAAAAAAAAgjEAAAAAAAECPQAAAAAAAMJFAAAAAAADAkkAAAAAAAFCUQAAAAAAA4JVAAAAAAABwl0AAAAAAAACZQAAAAAAAkJpAAAAAAAAgnEAAAAAAALCdQAAAAAAAQJ9AAAAAAABooEAAAAAAADChQAAAAAAA+KFAAAAAAADAokAAAAAAAIijQAAAAAAAUKRAAAAAAAAYpUAAAAAAAOClQAAAAAAAqKZAAAAAAABwp0AAAAAAADioQAAAAAAAAKlAAAAAAADIqUAAAAAAAJCqQAAAAAAAWKtAAAAAAAAgrEAAAAAAAOisQAAAAAAAsK1AAAAAAAB4rkAAAAAAAECvQAAAAAAABLBAAAAAAABosEAAAAAAAMywQAAAAAAAMLFAAAAAAACUsUAAAAAAAPixQAAAAAAAXLJAAAAAAADAskAAAAAAACSzQAAAAAAAiLNAAAAAAADss0AAAAAAAFC0QAAAAAAAtLRAAAAAAAAYtUAAAAAAAHy1QAAAAAAA4LVAAAAAAABEtkAAAAAAAKi2QAAAAAAADLdAAAAAAABwt0AAAAAAANS3QAAAAAAAOLhAAAAAAACcuEAAAAAAAAC5QAAAAAAAZLlAAAAAAADIuUAAAAAAACy6QAAAAAAAkLpAAAAAAAD0ukAAAAAAAFi7QAAAAAAAvLtAAAAAAAAgvEAAAAAAAIS8QAAAAAAA6LxAAAAAAABMvUAAAAAAALC9QAAAAAAAFL5AAAAAAAB4vkAAAAAAANy+QAAAAAAAQL9AAAAAAACkv0AAAAAAAATAQAAAAAAANsBAAAAAAABowEAAAAAAAJrAQAAAAAAAzMBAAAAAAAD+wEAAAAAAADDBQAAAAAAAYsFAAAAAAACUwUAAAAAAAMbBQAAAAAAA+MFAAAAAAAAqwkAAAAAAAFzCQAAAAAAAjsJAAAAAAADAwkAAAAAAAPLCQAAAAAAAJMNAAAAAAABWw0AAAAAAAIjDQA==\"},\"shape\":[101],\"dtype\":\"float64\",\"order\":\"little\"}],[\"y\",{\"type\":\"ndarray\",\"array\":{\"type\":\"bytes\",\"data\":\"J+TiL9MZKECINbFJ0hkoQEKIAm/XGShAk2v33twZKEDLAvOd4hkoQEoND7DoGShA9QgkGe8ZKEC3LhDe9RkoQIhR3AL9GShApsRviwQaKEC+zwR8DBooQB4WadcUGihA+q3Vnx0aKEDSdOPTJhooQMK38G4wGihApjeBZDoaKEBnDlyaRBooQD7Gtt5OGihAFLcl2VgaKECiNm3tYRooQFo/CAxpGihAGFEQZ2waKEBGTUjyaBooQD0i05dZGihA4Ltt8TUaKECWaZxA8BkoQJLZXkhyGShA7ADXnpgYKECBU4eWLBcoQNCOezrfFChA3LNzkk8RKEAlqC/3NgwoQJFmD4PjBShArA3gZOv/J0DRvb8cNf0nQBpsbmNaAChA6tJaZ9QJKECpfr8zQhgoQHW4oBzlKShAKJnaCHc9KEB5ESl9OlIoQKRwnpbMZyhAtgv6Yfx9KEDcottnspQoQFmwIMrjqyhA069C0IvDKEDYCb6+qNsoQLRqg0069ChAPS6F5UANKUCQryZFvSYpQF6FelCwQClAE1LN+RpbKUBGIcw2/nUpQAxe3/hakSlAV8wjKjKtKUB0/TqshMkpQAdxjFNT5ilAlNLg6J4DKkAQkOAkaCEqQGk7wbGvPypAuLfKKHZeKkCQy/YOvH0qQNoWQtaBnSpAqH0G28e9KkCM6m9kjt4qQK6jQJ/V/ypARceuoJ0hK0BFeSRh5kMrQLkIMb6vZitAMoy3d/mJK0BCkOEtw60rQHLN1V8M0itA68laa9T2K0BjX8KKGhwsQHXZzNPdQSxAT2p6Nh1oLEDRLSJ7144sQGGTNUILtixAep+3AbfdLEBjMaYG2QUtQKpZCXFvLi1AJvKMNXhXLUCSR5Ea8YAtQBWNK7nXqi1A9RlDeynVLUBO3uKc4/8tQFSIsykDKy5ALLez/oRWLkDqxdPIZYIuQJTRCAeiri5AXmNoCDbbLkDj3tHtHQgvQGj6I6pVNS9AViU2BNliL0BS072Wo5AvQAMXf9Owvi9A3B4zAfzsL0BHMDshwA0wQPdOO0kcJTBAe3Fh5Y88MEAxQzZSGFQwQA==\"},\"shape\":[101],\"dtype\":\"float64\",\"order\":\"little\"}]]}}},\"view\":{\"type\":\"object\",\"name\":\"CDSView\",\"id\":\"p1927\",\"attributes\":{\"filter\":{\"type\":\"object\",\"name\":\"AllIndices\",\"id\":\"p1928\"}}},\"glyph\":{\"type\":\"object\",\"name\":\"Line\",\"id\":\"p1923\",\"attributes\":{\"tags\":[\"apply_ranges\"],\"x\":{\"type\":\"field\",\"field\":\"x\"},\"y\":{\"type\":\"field\",\"field\":\"y\"},\"line_color\":\"#fb8022\",\"line_width\":2}},\"selection_glyph\":{\"type\":\"object\",\"name\":\"Line\",\"id\":\"p1930\",\"attributes\":{\"tags\":[\"apply_ranges\"],\"x\":{\"type\":\"field\",\"field\":\"x\"},\"y\":{\"type\":\"field\",\"field\":\"y\"},\"line_color\":\"#fb8022\",\"line_width\":2}},\"nonselection_glyph\":{\"type\":\"object\",\"name\":\"Line\",\"id\":\"p1924\",\"attributes\":{\"tags\":[\"apply_ranges\"],\"x\":{\"type\":\"field\",\"field\":\"x\"},\"y\":{\"type\":\"field\",\"field\":\"y\"},\"line_color\":\"#fb8022\",\"line_alpha\":0.1,\"line_width\":2}},\"muted_glyph\":{\"type\":\"object\",\"name\":\"Line\",\"id\":\"p1925\",\"attributes\":{\"tags\":[\"apply_ranges\"],\"x\":{\"type\":\"field\",\"field\":\"x\"},\"y\":{\"type\":\"field\",\"field\":\"y\"},\"line_color\":\"#fb8022\",\"line_alpha\":0.2,\"line_width\":2}}}},{\"type\":\"object\",\"name\":\"GlyphRenderer\",\"id\":\"p1940\",\"attributes\":{\"name\":\"\\u6c34\\u4f4d:48\\u6642\\u9593\\u5f8c\",\"data_source\":{\"type\":\"object\",\"name\":\"ColumnDataSource\",\"id\":\"p1931\",\"attributes\":{\"selected\":{\"type\":\"object\",\"name\":\"Selection\",\"id\":\"p1932\",\"attributes\":{\"indices\":[],\"line_indices\":[]}},\"selection_policy\":{\"type\":\"object\",\"name\":\"UnionRenderers\",\"id\":\"p1933\"},\"data\":{\"type\":\"map\",\"entries\":[[\"x\",{\"type\":\"ndarray\",\"array\":{\"type\":\"bytes\",\"data\":\"AAAAAAAAAAAAAAAAAABZQAAAAAAAAGlAAAAAAADAckAAAAAAAAB5QAAAAAAAQH9AAAAAAADAgkAAAAAAAOCFQAAAAAAAAIlAAAAAAAAgjEAAAAAAAECPQAAAAAAAMJFAAAAAAADAkkAAAAAAAFCUQAAAAAAA4JVAAAAAAABwl0AAAAAAAACZQAAAAAAAkJpAAAAAAAAgnEAAAAAAALCdQAAAAAAAQJ9AAAAAAABooEAAAAAAADChQAAAAAAA+KFAAAAAAADAokAAAAAAAIijQAAAAAAAUKRAAAAAAAAYpUAAAAAAAOClQAAAAAAAqKZAAAAAAABwp0AAAAAAADioQAAAAAAAAKlAAAAAAADIqUAAAAAAAJCqQAAAAAAAWKtAAAAAAAAgrEAAAAAAAOisQAAAAAAAsK1AAAAAAAB4rkAAAAAAAECvQAAAAAAABLBAAAAAAABosEAAAAAAAMywQAAAAAAAMLFAAAAAAACUsUAAAAAAAPixQAAAAAAAXLJAAAAAAADAskAAAAAAACSzQAAAAAAAiLNAAAAAAADss0AAAAAAAFC0QAAAAAAAtLRAAAAAAAAYtUAAAAAAAHy1QAAAAAAA4LVAAAAAAABEtkAAAAAAAKi2QAAAAAAADLdAAAAAAABwt0AAAAAAANS3QAAAAAAAOLhAAAAAAACcuEAAAAAAAAC5QAAAAAAAZLlAAAAAAADIuUAAAAAAACy6QAAAAAAAkLpAAAAAAAD0ukAAAAAAAFi7QAAAAAAAvLtAAAAAAAAgvEAAAAAAAIS8QAAAAAAA6LxAAAAAAABMvUAAAAAAALC9QAAAAAAAFL5AAAAAAAB4vkAAAAAAANy+QAAAAAAAQL9AAAAAAACkv0AAAAAAAATAQAAAAAAANsBAAAAAAABowEAAAAAAAJrAQAAAAAAAzMBAAAAAAAD+wEAAAAAAADDBQAAAAAAAYsFAAAAAAACUwUAAAAAAAMbBQAAAAAAA+MFAAAAAAAAqwkAAAAAAAFzCQAAAAAAAjsJAAAAAAADAwkAAAAAAAPLCQAAAAAAAJMNAAAAAAABWw0AAAAAAAIjDQA==\"},\"shape\":[101],\"dtype\":\"float64\",\"order\":\"little\"}],[\"y\",{\"type\":\"ndarray\",\"array\":{\"type\":\"bytes\",\"data\":\"ECCCCLcjKEDIZYGFtCMoQKYR4GO5IyhAD8oUhb4jKEBK6sTswyMoQIfDx5zJIyhA13C+l88jKEAzhBjf1SMoQDWbR3PcIyhAYO0SUuMjKECKZXp16iMoQF6dVs7xIyhAdFiZPvkjKEAIPPeLACQoQBr+TEgHJChAbRZRpgwkKEAIw8QsDyQoQKbMaikMJChAzCtrsf4jKED6us7Q3SMoQPbiPCqZIyhA2Iy6zBIjKEC0i31eFCIoQHzZB44+IChAvg+Q5/gcKECtF8+2ghcoQA3RANuADyhAuLbNpWcGKEDcOByvdwAoQIRP9vYMAihANBGvspwLKEAg/+NpoRooQC6b6NOgLChAE2JRXypAKEB24YCtj1QoQKxMzdGEaShAkNCJ3+l+KEANDSO9sZQoQNrm3kbXqihAduVvtljBKEBSaX2zNdgoQCoPWYBu7yhAhO45nwMHKUDWNbqs9R4pQO+Rpk1FNylAYJemJfNPKUA/muHW/2gpQGkfcf1rgilAsWq6LTicKUDIuK31ZLYpQAg5Sdry0ClAeCBUV+LrKUDUT+feMwcqQHDIMtjnIipAXSGFoP4+KkAEpJKHeFsqQO25D9JVeCpA2yfttZaVKkAaT0tbO7MqQH5HudxD0SpAjDtaQ7DvKkD1LzWKgA4rQFWKq5m0LStA8/UoSUxNK0APQLpdR20rQHsPl4iljStATGwhaGauK0Akua2Fic8rQLjfsFUO8StANEhiNvQSLEAZRiBvOjUsQOqAwDDgVyxA6hInlOR6LEA1vx2ZRp4sQLvUUScFwixAJ004DR/mLECDIeX+kgotQFBZbZZfLy1AQnvmUoNULUBX0ySY/HktQPa5Z6/Jny1ACVhrxujFLUAmB2vvV+wtQJJfhR8VEy5ADLcZMh46LkCYO/DkcGEuQGl6i9wKiS5A0vB6oOmwLkDCiHWdCtkuQJKR2SVrAS9AH11RcggqL0AE35ui31IvQIF3E7vtey9A65mGqi+lL0D0BAZIos4vQAhZI1NC+C9A1DprOwYRMEBtt2al/iUwQJR7N6kIOzBARD/6fyJQMED+DwNbSmUwQA==\"},\"shape\":[101],\"dtype\":\"float64\",\"order\":\"little\"}]]}}},\"view\":{\"type\":\"object\",\"name\":\"CDSView\",\"id\":\"p1941\",\"attributes\":{\"filter\":{\"type\":\"object\",\"name\":\"AllIndices\",\"id\":\"p1942\"}}},\"glyph\":{\"type\":\"object\",\"name\":\"Line\",\"id\":\"p1937\",\"attributes\":{\"tags\":[\"apply_ranges\"],\"x\":{\"type\":\"field\",\"field\":\"x\"},\"y\":{\"type\":\"field\",\"field\":\"y\"},\"line_color\":\"#7a0402\",\"line_width\":2}},\"selection_glyph\":{\"type\":\"object\",\"name\":\"Line\",\"id\":\"p1944\",\"attributes\":{\"tags\":[\"apply_ranges\"],\"x\":{\"type\":\"field\",\"field\":\"x\"},\"y\":{\"type\":\"field\",\"field\":\"y\"},\"line_color\":\"#7a0402\",\"line_width\":2}},\"nonselection_glyph\":{\"type\":\"object\",\"name\":\"Line\",\"id\":\"p1938\",\"attributes\":{\"tags\":[\"apply_ranges\"],\"x\":{\"type\":\"field\",\"field\":\"x\"},\"y\":{\"type\":\"field\",\"field\":\"y\"},\"line_color\":\"#7a0402\",\"line_alpha\":0.1,\"line_width\":2}},\"muted_glyph\":{\"type\":\"object\",\"name\":\"Line\",\"id\":\"p1939\",\"attributes\":{\"tags\":[\"apply_ranges\"],\"x\":{\"type\":\"field\",\"field\":\"x\"},\"y\":{\"type\":\"field\",\"field\":\"y\"},\"line_color\":\"#7a0402\",\"line_alpha\":0.2,\"line_width\":2}}}},{\"type\":\"object\",\"name\":\"GlyphRenderer\",\"id\":\"p1954\",\"attributes\":{\"name\":\"\\u6cb3\\u5e8a\\u9ad8:0\\u6642\\u9593\\u5f8c\",\"data_source\":{\"type\":\"object\",\"name\":\"ColumnDataSource\",\"id\":\"p1945\",\"attributes\":{\"selected\":{\"type\":\"object\",\"name\":\"Selection\",\"id\":\"p1946\",\"attributes\":{\"indices\":[],\"line_indices\":[]}},\"selection_policy\":{\"type\":\"object\",\"name\":\"UnionRenderers\",\"id\":\"p1947\"},\"data\":{\"type\":\"map\",\"entries\":[[\"x\",{\"type\":\"ndarray\",\"array\":{\"type\":\"bytes\",\"data\":\"AAAAAAAAAAAAAAAAAABZQAAAAAAAAGlAAAAAAADAckAAAAAAAAB5QAAAAAAAQH9AAAAAAADAgkAAAAAAAOCFQAAAAAAAAIlAAAAAAAAgjEAAAAAAAECPQAAAAAAAMJFAAAAAAADAkkAAAAAAAFCUQAAAAAAA4JVAAAAAAABwl0AAAAAAAACZQAAAAAAAkJpAAAAAAAAgnEAAAAAAALCdQAAAAAAAQJ9AAAAAAABooEAAAAAAADChQAAAAAAA+KFAAAAAAADAokAAAAAAAIijQAAAAAAAUKRAAAAAAAAYpUAAAAAAAOClQAAAAAAAqKZAAAAAAABwp0AAAAAAADioQAAAAAAAAKlAAAAAAADIqUAAAAAAAJCqQAAAAAAAWKtAAAAAAAAgrEAAAAAAAOisQAAAAAAAsK1AAAAAAAB4rkAAAAAAAECvQAAAAAAABLBAAAAAAABosEAAAAAAAMywQAAAAAAAMLFAAAAAAACUsUAAAAAAAPixQAAAAAAAXLJAAAAAAADAskAAAAAAACSzQAAAAAAAiLNAAAAAAADss0AAAAAAAFC0QAAAAAAAtLRAAAAAAAAYtUAAAAAAAHy1QAAAAAAA4LVAAAAAAABEtkAAAAAAAKi2QAAAAAAADLdAAAAAAABwt0AAAAAAANS3QAAAAAAAOLhAAAAAAACcuEAAAAAAAAC5QAAAAAAAZLlAAAAAAADIuUAAAAAAACy6QAAAAAAAkLpAAAAAAAD0ukAAAAAAAFi7QAAAAAAAvLtAAAAAAAAgvEAAAAAAAIS8QAAAAAAA6LxAAAAAAABMvUAAAAAAALC9QAAAAAAAFL5AAAAAAAB4vkAAAAAAANy+QAAAAAAAQL9AAAAAAACkv0AAAAAAAATAQAAAAAAANsBAAAAAAABowEAAAAAAAJrAQAAAAAAAzMBAAAAAAAD+wEAAAAAAADDBQAAAAAAAYsFAAAAAAACUwUAAAAAAAMbBQAAAAAAA+MFAAAAAAAAqwkAAAAAAAFzCQAAAAAAAjsJAAAAAAADAwkAAAAAAAPLCQAAAAAAAJMNAAAAAAABWw0AAAAAAAIjDQA==\"},\"shape\":[101],\"dtype\":\"float64\",\"order\":\"little\"}],[\"y\",{\"type\":\"ndarray\",\"array\":{\"type\":\"bytes\",\"data\":\"AAAAAAAAAACSJEmSJEnCP5IkSZIkSdI/27Zt27Zt2z+SJEmSJEniP7dt27Zt2+Y/27Zt27Zt6z8AAAAAAADwP5IkSZIkSfI/JUmSJEmS9D+3bdu2bdv2P0mSJEmSJPk/27Zt27Zt+z9u27Zt27b9PwAAAAAAAABASZIkSZIkAUCSJEmSJEkCQNu2bdu2bQNAJUmSJEmSBEBu27Zt27YFQLdt27Zt2wZAAAAAAAAACEBJkiRJkiQJQJIkSZIkSQpA27Zt27ZtC0AlSZIkSZIMQG7btm3btg1At23btm3bDkAAAAAAAAAQQCVJkiRJkhBASZIkSZIkEUBu27Zt27YRQJIkSZIkSRJAt23btm3bEkDbtm3btm0TQAAAAAAAABRAJUmSJEmSFEBJkiRJkiQVQG7btm3bthVAkiRJkiRJFkC3bdu2bdsWQNu2bdu2bRdAAAAAAAAAGEAlSZIkSZIYQEmSJEmSJBlAbtu2bdu2GUCSJEmSJEkaQLdt27Zt2xpA27Zt27ZtG0AAAAAAAAAcQCVJkiRJkhxASZIkSZIkHUBu27Zt27YdQJIkSZIkSR5At23btm3bHkDbtm3btm0fQAAAAAAAACBAkiRJkiRJIEAlSZIkSZIgQLdt27Zt2yBASZIkSZIkIUDbtm3btm0hQG7btm3btiFAAAAAAAAAIkCSJEmSJEkiQCVJkiRJkiJAt23btm3bIkBJkiRJkiQjQNu2bdu2bSNAbtu2bdu2I0AAAAAAAAAkQJIkSZIkSSRAJUmSJEmSJEC3bdu2bdskQEmSJEmSJCVA27Zt27ZtJUBu27Zt27YlQAAAAAAAACZAkiRJkiRJJkAlSZIkSZImQLdt27Zt2yZASZIkSZIkJ0Dbtm3btm0nQG7btm3btidAAAAAAAAAKECSJEmSJEkoQCVJkiRJkihAt23btm3bKEBJkiRJkiQpQNu2bdu2bSlAbtu2bdu2KUAAAAAAAAAqQJIkSZIkSSpAJUmSJEmSKkC3bdu2bdsqQEmSJEmSJCtA27Zt27ZtK0Bu27Zt27YrQAAAAAAAACxAkiRJkiRJLEAlSZIkSZIsQA==\"},\"shape\":[101],\"dtype\":\"float64\",\"order\":\"little\"}]]}}},\"view\":{\"type\":\"object\",\"name\":\"CDSView\",\"id\":\"p1955\",\"attributes\":{\"filter\":{\"type\":\"object\",\"name\":\"AllIndices\",\"id\":\"p1956\"}}},\"glyph\":{\"type\":\"object\",\"name\":\"Line\",\"id\":\"p1951\",\"attributes\":{\"tags\":[\"apply_ranges\"],\"x\":{\"type\":\"field\",\"field\":\"x\"},\"y\":{\"type\":\"field\",\"field\":\"y\"},\"line_color\":\"#30123b\",\"line_width\":2,\"line_dash\":[6]}},\"selection_glyph\":{\"type\":\"object\",\"name\":\"Line\",\"id\":\"p1958\",\"attributes\":{\"tags\":[\"apply_ranges\"],\"x\":{\"type\":\"field\",\"field\":\"x\"},\"y\":{\"type\":\"field\",\"field\":\"y\"},\"line_color\":\"#30123b\",\"line_width\":2,\"line_dash\":[6]}},\"nonselection_glyph\":{\"type\":\"object\",\"name\":\"Line\",\"id\":\"p1952\",\"attributes\":{\"tags\":[\"apply_ranges\"],\"x\":{\"type\":\"field\",\"field\":\"x\"},\"y\":{\"type\":\"field\",\"field\":\"y\"},\"line_color\":\"#30123b\",\"line_alpha\":0.1,\"line_width\":2,\"line_dash\":[6]}},\"muted_glyph\":{\"type\":\"object\",\"name\":\"Line\",\"id\":\"p1953\",\"attributes\":{\"tags\":[\"apply_ranges\"],\"x\":{\"type\":\"field\",\"field\":\"x\"},\"y\":{\"type\":\"field\",\"field\":\"y\"},\"line_color\":\"#30123b\",\"line_alpha\":0.2,\"line_width\":2,\"line_dash\":[6]}}}},{\"type\":\"object\",\"name\":\"GlyphRenderer\",\"id\":\"p1968\",\"attributes\":{\"name\":\"\\u6cb3\\u5e8a\\u9ad8:12\\u6642\\u9593\\u5f8c\",\"data_source\":{\"type\":\"object\",\"name\":\"ColumnDataSource\",\"id\":\"p1959\",\"attributes\":{\"selected\":{\"type\":\"object\",\"name\":\"Selection\",\"id\":\"p1960\",\"attributes\":{\"indices\":[],\"line_indices\":[]}},\"selection_policy\":{\"type\":\"object\",\"name\":\"UnionRenderers\",\"id\":\"p1961\"},\"data\":{\"type\":\"map\",\"entries\":[[\"x\",{\"type\":\"ndarray\",\"array\":{\"type\":\"bytes\",\"data\":\"AAAAAAAAAAAAAAAAAABZQAAAAAAAAGlAAAAAAADAckAAAAAAAAB5QAAAAAAAQH9AAAAAAADAgkAAAAAAAOCFQAAAAAAAAIlAAAAAAAAgjEAAAAAAAECPQAAAAAAAMJFAAAAAAADAkkAAAAAAAFCUQAAAAAAA4JVAAAAAAABwl0AAAAAAAACZQAAAAAAAkJpAAAAAAAAgnEAAAAAAALCdQAAAAAAAQJ9AAAAAAABooEAAAAAAADChQAAAAAAA+KFAAAAAAADAokAAAAAAAIijQAAAAAAAUKRAAAAAAAAYpUAAAAAAAOClQAAAAAAAqKZAAAAAAABwp0AAAAAAADioQAAAAAAAAKlAAAAAAADIqUAAAAAAAJCqQAAAAAAAWKtAAAAAAAAgrEAAAAAAAOisQAAAAAAAsK1AAAAAAAB4rkAAAAAAAECvQAAAAAAABLBAAAAAAABosEAAAAAAAMywQAAAAAAAMLFAAAAAAACUsUAAAAAAAPixQAAAAAAAXLJAAAAAAADAskAAAAAAACSzQAAAAAAAiLNAAAAAAADss0AAAAAAAFC0QAAAAAAAtLRAAAAAAAAYtUAAAAAAAHy1QAAAAAAA4LVAAAAAAABEtkAAAAAAAKi2QAAAAAAADLdAAAAAAABwt0AAAAAAANS3QAAAAAAAOLhAAAAAAACcuEAAAAAAAAC5QAAAAAAAZLlAAAAAAADIuUAAAAAAACy6QAAAAAAAkLpAAAAAAAD0ukAAAAAAAFi7QAAAAAAAvLtAAAAAAAAgvEAAAAAAAIS8QAAAAAAA6LxAAAAAAABMvUAAAAAAALC9QAAAAAAAFL5AAAAAAAB4vkAAAAAAANy+QAAAAAAAQL9AAAAAAACkv0AAAAAAAATAQAAAAAAANsBAAAAAAABowEAAAAAAAJrAQAAAAAAAzMBAAAAAAAD+wEAAAAAAADDBQAAAAAAAYsFAAAAAAACUwUAAAAAAAMbBQAAAAAAA+MFAAAAAAAAqwkAAAAAAAFzCQAAAAAAAjsJAAAAAAADAwkAAAAAAAPLCQAAAAAAAJMNAAAAAAABWw0AAAAAAAIjDQA==\"},\"shape\":[101],\"dtype\":\"float64\",\"order\":\"little\"}],[\"y\",{\"type\":\"ndarray\",\"array\":{\"type\":\"bytes\",\"data\":\"z5frq/66jz/fFXG/cc3FP04J2azKI9Q/r3+8ME9i3T9AdLyUMVHjP7W5FAUT8uc/VTpTJN2T7D8jmZdtUZvwPwwkeXk87fI//6sKKLs/9T/I6PUa2pL3Pz1uy0qn5vk/NxNGNTI7/D9DzgsUjJD+P8G/Dw9kcwBA9ad36/2eAUBv2Ki3H8sCQF+2+x7X9wNArG3fqzMlBUAyMK0pR1MGQGZMUyQmggdAFX6tkeixCEAd6dy0quIJQKgXl1KOFAtAiYIZVrxHDEBjq1sRZ3wNQPKKnFDNsg5AOsXeiD7rD0Cb8lo8EJMQQFlEjU/7MRFAhwG397XSEUAMVT2Mr3USQOq0+b54GxNARr66R8zEE0CMN6IpmHIUQBWfw04GJhVA3sU4MILgFUCSDEDet6MWQAXNKh2HcRdAUVhT3uNLGEBD24QJnTQZQLYgeM0ELRpAP53LR3w1G0BnCclF8EwcQP+4F49kcB1Ae4+HvriaHkD91eG208QfQH2yu5AocyBAP4HfjFP7IEB4j8sBRnchQKNJoGOf5CFAMROAYaRCIkAUflqxOJIiQLp+caJ01SJAstQ4CwUPI0ATvZCflUEjQIbyafxwbyNA9yZ7llyaI0Cs4yAcnsMjQIH0p7UT7CNAzxxNok8UJEBA7rvrrzwkQJei3DlwZSRAxVlrQbaOJEC6lTQGmrgkQBOVYycr4yRATcZQLXQOJUBMIoSLfDolQG8i1dBJZyVAzsdEVuCUJUBwO/mfQ8MlQC4lqJB28iVAzH3lgnsiJkAK++FTVFMmQDbFLmYChSZAE3dqoIa3JkC7MXpp4eomQLJa2aMSHydA3jw1qBlUJ0D50+c/9YknQEZKm5+jwCdA28H6YSL4J0Cw++6CbjAoQEHPS1uEaShA1gosnV+jKEB5bx5R+90oQONVFNRRGSlAVVN51lxVKUACsSBcFZIpQGAThr1zzylAOcMKqm8NKkAmRXArAEwqQHrlWaobiypAKtQF9LfKKkARoMhAygorQAOCijtHSytA87biCSOMK0DthK1UUc0rQMIl91DFDixAXhPpyHFQLEAlSZIkSZIsQA==\"},\"shape\":[101],\"dtype\":\"float64\",\"order\":\"little\"}]]}}},\"view\":{\"type\":\"object\",\"name\":\"CDSView\",\"id\":\"p1969\",\"attributes\":{\"filter\":{\"type\":\"object\",\"name\":\"AllIndices\",\"id\":\"p1970\"}}},\"glyph\":{\"type\":\"object\",\"name\":\"Line\",\"id\":\"p1965\",\"attributes\":{\"tags\":[\"apply_ranges\"],\"x\":{\"type\":\"field\",\"field\":\"x\"},\"y\":{\"type\":\"field\",\"field\":\"y\"},\"line_color\":\"#2ab9ed\",\"line_width\":2,\"line_dash\":[6]}},\"selection_glyph\":{\"type\":\"object\",\"name\":\"Line\",\"id\":\"p1972\",\"attributes\":{\"tags\":[\"apply_ranges\"],\"x\":{\"type\":\"field\",\"field\":\"x\"},\"y\":{\"type\":\"field\",\"field\":\"y\"},\"line_color\":\"#2ab9ed\",\"line_width\":2,\"line_dash\":[6]}},\"nonselection_glyph\":{\"type\":\"object\",\"name\":\"Line\",\"id\":\"p1966\",\"attributes\":{\"tags\":[\"apply_ranges\"],\"x\":{\"type\":\"field\",\"field\":\"x\"},\"y\":{\"type\":\"field\",\"field\":\"y\"},\"line_color\":\"#2ab9ed\",\"line_alpha\":0.1,\"line_width\":2,\"line_dash\":[6]}},\"muted_glyph\":{\"type\":\"object\",\"name\":\"Line\",\"id\":\"p1967\",\"attributes\":{\"tags\":[\"apply_ranges\"],\"x\":{\"type\":\"field\",\"field\":\"x\"},\"y\":{\"type\":\"field\",\"field\":\"y\"},\"line_color\":\"#2ab9ed\",\"line_alpha\":0.2,\"line_width\":2,\"line_dash\":[6]}}}},{\"type\":\"object\",\"name\":\"GlyphRenderer\",\"id\":\"p1982\",\"attributes\":{\"name\":\"\\u6cb3\\u5e8a\\u9ad8:24\\u6642\\u9593\\u5f8c\",\"data_source\":{\"type\":\"object\",\"name\":\"ColumnDataSource\",\"id\":\"p1973\",\"attributes\":{\"selected\":{\"type\":\"object\",\"name\":\"Selection\",\"id\":\"p1974\",\"attributes\":{\"indices\":[],\"line_indices\":[]}},\"selection_policy\":{\"type\":\"object\",\"name\":\"UnionRenderers\",\"id\":\"p1975\"},\"data\":{\"type\":\"map\",\"entries\":[[\"x\",{\"type\":\"ndarray\",\"array\":{\"type\":\"bytes\",\"data\":\"AAAAAAAAAAAAAAAAAABZQAAAAAAAAGlAAAAAAADAckAAAAAAAAB5QAAAAAAAQH9AAAAAAADAgkAAAAAAAOCFQAAAAAAAAIlAAAAAAAAgjEAAAAAAAECPQAAAAAAAMJFAAAAAAADAkkAAAAAAAFCUQAAAAAAA4JVAAAAAAABwl0AAAAAAAACZQAAAAAAAkJpAAAAAAAAgnEAAAAAAALCdQAAAAAAAQJ9AAAAAAABooEAAAAAAADChQAAAAAAA+KFAAAAAAADAokAAAAAAAIijQAAAAAAAUKRAAAAAAAAYpUAAAAAAAOClQAAAAAAAqKZAAAAAAABwp0AAAAAAADioQAAAAAAAAKlAAAAAAADIqUAAAAAAAJCqQAAAAAAAWKtAAAAAAAAgrEAAAAAAAOisQAAAAAAAsK1AAAAAAAB4rkAAAAAAAECvQAAAAAAABLBAAAAAAABosEAAAAAAAMywQAAAAAAAMLFAAAAAAACUsUAAAAAAAPixQAAAAAAAXLJAAAAAAADAskAAAAAAACSzQAAAAAAAiLNAAAAAAADss0AAAAAAAFC0QAAAAAAAtLRAAAAAAAAYtUAAAAAAAHy1QAAAAAAA4LVAAAAAAABEtkAAAAAAAKi2QAAAAAAADLdAAAAAAABwt0AAAAAAANS3QAAAAAAAOLhAAAAAAACcuEAAAAAAAAC5QAAAAAAAZLlAAAAAAADIuUAAAAAAACy6QAAAAAAAkLpAAAAAAAD0ukAAAAAAAFi7QAAAAAAAvLtAAAAAAAAgvEAAAAAAAIS8QAAAAAAA6LxAAAAAAABMvUAAAAAAALC9QAAAAAAAFL5AAAAAAAB4vkAAAAAAANy+QAAAAAAAQL9AAAAAAACkv0AAAAAAAATAQAAAAAAANsBAAAAAAABowEAAAAAAAJrAQAAAAAAAzMBAAAAAAAD+wEAAAAAAADDBQAAAAAAAYsFAAAAAAACUwUAAAAAAAMbBQAAAAAAA+MFAAAAAAAAqwkAAAAAAAFzCQAAAAAAAjsJAAAAAAADAwkAAAAAAAPLCQAAAAAAAJMNAAAAAAABWw0AAAAAAAIjDQA==\"},\"shape\":[101],\"dtype\":\"float64\",\"order\":\"little\"}],[\"y\",{\"type\":\"ndarray\",\"array\":{\"type\":\"bytes\",\"data\":\"dsZdPaeNoD9iNwQvvmDJP02fIewBB9Y/PGrnobFg3z8JP14H117kP4Kkuc8eD+k/gelbG1fB7T9rtoCN1TrxP5OeMG8llvM/o+PmC7by9T/2xaGIpVD4P/fPgfMVsPo/31uUEy4R/T9aVXeDGnT/PzAqpJ6H7ABAQbb26SQgAkDD3elbClUDQCR6DgxmiwRApshqn3LDBUCh8wzbfP0GQBI0whHsOQhAvrIG0E55CUATzoS1bbwKQDq0JRNnBAxAlIk0kNZSDUCvsOSLDKoOQHdTnlKsBhBAA9ahYbTAEECwIbIlXIYRQKsOm37/WxJA8RvkLDxHE0AcGrlp3E4UQNjB5NFMehVAUb4hdFPQFkCfn9KP01QYQPkeuOXMBRpAITG2RoTYG0BLn/1UhLgdQKfHbQ0Zih9ASyFohz2YIEArz3I91kohQPQFst1C2CFAasxU1OFCIkANAigcypEiQDpeB/ZizSJAKUYOCN38IkCX8QAhUCUjQFJjPqfySSNAZHnTy6hsI0CQ4vfQhI4jQOkUHwgfsCNA8i2ua8vRI0ASrrhkuPMjQDMMAe3/FSRAdFIO8bA4JEAk6ARn1FskQPNscgxwfyRAAEvY3YejJECmbhveHsgkQDYIaX837SRA472o2dMSJUC7zwzG9TglQM+cpOyeXyVAEwpeytCGJUC8Mk+zjK4lQC8p39LT1iVAr53CKqf/JUA8aXaRBykmQE+UWrD1UiZA8QxrAXJ9JkA/NfzMfKgmQJd3LCcW1CZAmK1X7T0AJ0A0DWLD8ywnQL2/ExE3WidAYzpO/waIJ0DPvUV1YrYnQL7yxhVI5SdAvTGBPLYUKECapFP7qkQoQGrjxhckdShAPJqGCB+mKEC9dw7zmNcoQEfegKmOCSlAu4CuqPw7KUBuDkUW324pQGdnTr8xoilAxOD8FvDVKUBQir81FQoqQEGuodibPipAle8pYX5zKkCz2YDVtqgqQNPdFuE+3ipAtx241Q8UK0CNdTytIkorQBzxbAtwgCtA69vUQPC2K0C/jMZNm+0rQOfgIuZoJCxANTCedVBbLEAlSZIkSZIsQA==\"},\"shape\":[101],\"dtype\":\"float64\",\"order\":\"little\"}]]}}},\"view\":{\"type\":\"object\",\"name\":\"CDSView\",\"id\":\"p1983\",\"attributes\":{\"filter\":{\"type\":\"object\",\"name\":\"AllIndices\",\"id\":\"p1984\"}}},\"glyph\":{\"type\":\"object\",\"name\":\"Line\",\"id\":\"p1979\",\"attributes\":{\"tags\":[\"apply_ranges\"],\"x\":{\"type\":\"field\",\"field\":\"x\"},\"y\":{\"type\":\"field\",\"field\":\"y\"},\"line_color\":\"#a1fc3d\",\"line_width\":2,\"line_dash\":[6]}},\"selection_glyph\":{\"type\":\"object\",\"name\":\"Line\",\"id\":\"p1986\",\"attributes\":{\"tags\":[\"apply_ranges\"],\"x\":{\"type\":\"field\",\"field\":\"x\"},\"y\":{\"type\":\"field\",\"field\":\"y\"},\"line_color\":\"#a1fc3d\",\"line_width\":2,\"line_dash\":[6]}},\"nonselection_glyph\":{\"type\":\"object\",\"name\":\"Line\",\"id\":\"p1980\",\"attributes\":{\"tags\":[\"apply_ranges\"],\"x\":{\"type\":\"field\",\"field\":\"x\"},\"y\":{\"type\":\"field\",\"field\":\"y\"},\"line_color\":\"#a1fc3d\",\"line_alpha\":0.1,\"line_width\":2,\"line_dash\":[6]}},\"muted_glyph\":{\"type\":\"object\",\"name\":\"Line\",\"id\":\"p1981\",\"attributes\":{\"tags\":[\"apply_ranges\"],\"x\":{\"type\":\"field\",\"field\":\"x\"},\"y\":{\"type\":\"field\",\"field\":\"y\"},\"line_color\":\"#a1fc3d\",\"line_alpha\":0.2,\"line_width\":2,\"line_dash\":[6]}}}},{\"type\":\"object\",\"name\":\"GlyphRenderer\",\"id\":\"p1996\",\"attributes\":{\"name\":\"\\u6cb3\\u5e8a\\u9ad8:36\\u6642\\u9593\\u5f8c\",\"data_source\":{\"type\":\"object\",\"name\":\"ColumnDataSource\",\"id\":\"p1987\",\"attributes\":{\"selected\":{\"type\":\"object\",\"name\":\"Selection\",\"id\":\"p1988\",\"attributes\":{\"indices\":[],\"line_indices\":[]}},\"selection_policy\":{\"type\":\"object\",\"name\":\"UnionRenderers\",\"id\":\"p1989\"},\"data\":{\"type\":\"map\",\"entries\":[[\"x\",{\"type\":\"ndarray\",\"array\":{\"type\":\"bytes\",\"data\":\"AAAAAAAAAAAAAAAAAABZQAAAAAAAAGlAAAAAAADAckAAAAAAAAB5QAAAAAAAQH9AAAAAAADAgkAAAAAAAOCFQAAAAAAAAIlAAAAAAAAgjEAAAAAAAECPQAAAAAAAMJFAAAAAAADAkkAAAAAAAFCUQAAAAAAA4JVAAAAAAABwl0AAAAAAAACZQAAAAAAAkJpAAAAAAAAgnEAAAAAAALCdQAAAAAAAQJ9AAAAAAABooEAAAAAAADChQAAAAAAA+KFAAAAAAADAokAAAAAAAIijQAAAAAAAUKRAAAAAAAAYpUAAAAAAAOClQAAAAAAAqKZAAAAAAABwp0AAAAAAADioQAAAAAAAAKlAAAAAAADIqUAAAAAAAJCqQAAAAAAAWKtAAAAAAAAgrEAAAAAAAOisQAAAAAAAsK1AAAAAAAB4rkAAAAAAAECvQAAAAAAABLBAAAAAAABosEAAAAAAAMywQAAAAAAAMLFAAAAAAACUsUAAAAAAAPixQAAAAAAAXLJAAAAAAADAskAAAAAAACSzQAAAAAAAiLNAAAAAAADss0AAAAAAAFC0QAAAAAAAtLRAAAAAAAAYtUAAAAAAAHy1QAAAAAAA4LVAAAAAAABEtkAAAAAAAKi2QAAAAAAADLdAAAAAAABwt0AAAAAAANS3QAAAAAAAOLhAAAAAAACcuEAAAAAAAAC5QAAAAAAAZLlAAAAAAADIuUAAAAAAACy6QAAAAAAAkLpAAAAAAAD0ukAAAAAAAFi7QAAAAAAAvLtAAAAAAAAgvEAAAAAAAIS8QAAAAAAA6LxAAAAAAABMvUAAAAAAALC9QAAAAAAAFL5AAAAAAAB4vkAAAAAAANy+QAAAAAAAQL9AAAAAAACkv0AAAAAAAATAQAAAAAAANsBAAAAAAABowEAAAAAAAJrAQAAAAAAAzMBAAAAAAAD+wEAAAAAAADDBQAAAAAAAYsFAAAAAAACUwUAAAAAAAMbBQAAAAAAA+MFAAAAAAAAqwkAAAAAAAFzCQAAAAAAAjsJAAAAAAADAwkAAAAAAAPLCQAAAAAAAJMNAAAAAAABWw0AAAAAAAIjDQA==\"},\"shape\":[101],\"dtype\":\"float64\",\"order\":\"little\"}],[\"y\",{\"type\":\"ndarray\",\"array\":{\"type\":\"bytes\",\"data\":\"cSfk4i/TqT+xfCTccgPNP4aVPBgV89c/iUw52KK04D/pjL9UW3LlP4bOGRDwMuo/qyIDm6T27j8qjK/R4t7xPyQJd55VRPQ/DKISI96r9j9slFTRuRX5P8Qt3UI0gvs/GVOo7K3x/T8WeL6JUzIAQKRQwOLobQFAZIM1pBesAkDRRAf6n+0DQIiK2BGoMwVAgectBfl/BkAcTLJcXdUHQPtuHscvOAlAWByliSqvCkBEQLgZhEQMQOdgsCxRBw5A6pbAdHYGEEC8WISJ1zgRQE/SoqqzqxJAASGT15FvFEDAX4146Y0WQPhvDzZY/xhA2obMljijG0DP1aoWtEAeQCD2AQQxSyBAO53SVW85IUBgTbJl4OMhQN0ulP+6VCJARi8awVyeIkBrQeWHZtEiQJ7hLM/Q+CJA6lsAoa0aI0BvB4KADTojQADNXQRsWCNA3zSGBH52I0CfZQGcmZQjQLUM4C/osiNA/NjOEH7RI0CazOOWZfAjQBDHQlukDyRAmYpErz0vJEDsC+bGM08kQLrhOUaIbyRAPHtZhDyQJEAI5PGqUbEkQM8gBcXI0iRATcJ8xaL0JEDQWfqJ4BYlQMkzstuCOSVAvftsb4pcJUDSUgbl938lQPjKs8bLoyVArq0jiAbIJUC49IKFqOwlQJzZZwKyESZABNrFKCM3JkCC4MgH/FwmQKSZmZI8gyZAbvA6n+SpJkAIPErl89AmQOIxvfxp+CZAwRuqXEYgJ0AEUwdaiEgnQJr2YSYvcSdA4b+zzjmaJ0BZVRs6p8MnQARpvyh27SdAEi2gMqUXKEDHI3vGMkIoQIq8wSgdbShACS+qcmKYKECMWjKRAMQoQKBPYkT17yhAtYF/Hj4cKUAi14OD2EgpQAuDhKjBdSlAuNxok/aiKUCqOqIadNApQEp+DOU2/ilAIq0MajssKkB5VcbxfVoqQL36lJX6iCpAICaOQK23KkAMCF6wkeYqQCu9SXajFStAGehb+N1EK0AUluNyPHQrQCxAC/q5oytABUi/e1HTK0CEVs/B/QIsQEv6NXS5MixAhXK1G39iLEAlSZIkSZIsQA==\"},\"shape\":[101],\"dtype\":\"float64\",\"order\":\"little\"}]]}}},\"view\":{\"type\":\"object\",\"name\":\"CDSView\",\"id\":\"p1997\",\"attributes\":{\"filter\":{\"type\":\"object\",\"name\":\"AllIndices\",\"id\":\"p1998\"}}},\"glyph\":{\"type\":\"object\",\"name\":\"Line\",\"id\":\"p1993\",\"attributes\":{\"tags\":[\"apply_ranges\"],\"x\":{\"type\":\"field\",\"field\":\"x\"},\"y\":{\"type\":\"field\",\"field\":\"y\"},\"line_color\":\"#fb8022\",\"line_width\":2,\"line_dash\":[6]}},\"selection_glyph\":{\"type\":\"object\",\"name\":\"Line\",\"id\":\"p2000\",\"attributes\":{\"tags\":[\"apply_ranges\"],\"x\":{\"type\":\"field\",\"field\":\"x\"},\"y\":{\"type\":\"field\",\"field\":\"y\"},\"line_color\":\"#fb8022\",\"line_width\":2,\"line_dash\":[6]}},\"nonselection_glyph\":{\"type\":\"object\",\"name\":\"Line\",\"id\":\"p1994\",\"attributes\":{\"tags\":[\"apply_ranges\"],\"x\":{\"type\":\"field\",\"field\":\"x\"},\"y\":{\"type\":\"field\",\"field\":\"y\"},\"line_color\":\"#fb8022\",\"line_alpha\":0.1,\"line_width\":2,\"line_dash\":[6]}},\"muted_glyph\":{\"type\":\"object\",\"name\":\"Line\",\"id\":\"p1995\",\"attributes\":{\"tags\":[\"apply_ranges\"],\"x\":{\"type\":\"field\",\"field\":\"x\"},\"y\":{\"type\":\"field\",\"field\":\"y\"},\"line_color\":\"#fb8022\",\"line_alpha\":0.2,\"line_width\":2,\"line_dash\":[6]}}}},{\"type\":\"object\",\"name\":\"GlyphRenderer\",\"id\":\"p2010\",\"attributes\":{\"name\":\"\\u6cb3\\u5e8a\\u9ad8:48\\u6642\\u9593\\u5f8c\",\"data_source\":{\"type\":\"object\",\"name\":\"ColumnDataSource\",\"id\":\"p2001\",\"attributes\":{\"selected\":{\"type\":\"object\",\"name\":\"Selection\",\"id\":\"p2002\",\"attributes\":{\"indices\":[],\"line_indices\":[]}},\"selection_policy\":{\"type\":\"object\",\"name\":\"UnionRenderers\",\"id\":\"p2003\"},\"data\":{\"type\":\"map\",\"entries\":[[\"x\",{\"type\":\"ndarray\",\"array\":{\"type\":\"bytes\",\"data\":\"AAAAAAAAAAAAAAAAAABZQAAAAAAAAGlAAAAAAADAckAAAAAAAAB5QAAAAAAAQH9AAAAAAADAgkAAAAAAAOCFQAAAAAAAAIlAAAAAAAAgjEAAAAAAAECPQAAAAAAAMJFAAAAAAADAkkAAAAAAAFCUQAAAAAAA4JVAAAAAAABwl0AAAAAAAACZQAAAAAAAkJpAAAAAAAAgnEAAAAAAALCdQAAAAAAAQJ9AAAAAAABooEAAAAAAADChQAAAAAAA+KFAAAAAAADAokAAAAAAAIijQAAAAAAAUKRAAAAAAAAYpUAAAAAAAOClQAAAAAAAqKZAAAAAAABwp0AAAAAAADioQAAAAAAAAKlAAAAAAADIqUAAAAAAAJCqQAAAAAAAWKtAAAAAAAAgrEAAAAAAAOisQAAAAAAAsK1AAAAAAAB4rkAAAAAAAECvQAAAAAAABLBAAAAAAABosEAAAAAAAMywQAAAAAAAMLFAAAAAAACUsUAAAAAAAPixQAAAAAAAXLJAAAAAAADAskAAAAAAACSzQAAAAAAAiLNAAAAAAADss0AAAAAAAFC0QAAAAAAAtLRAAAAAAAAYtUAAAAAAAHy1QAAAAAAA4LVAAAAAAABEtkAAAAAAAKi2QAAAAAAADLdAAAAAAABwt0AAAAAAANS3QAAAAAAAOLhAAAAAAACcuEAAAAAAAAC5QAAAAAAAZLlAAAAAAADIuUAAAAAAACy6QAAAAAAAkLpAAAAAAAD0ukAAAAAAAFi7QAAAAAAAvLtAAAAAAAAgvEAAAAAAAIS8QAAAAAAA6LxAAAAAAABMvUAAAAAAALC9QAAAAAAAFL5AAAAAAAB4vkAAAAAAANy+QAAAAAAAQL9AAAAAAACkv0AAAAAAAATAQAAAAAAANsBAAAAAAABowEAAAAAAAJrAQAAAAAAAzMBAAAAAAAD+wEAAAAAAADDBQAAAAAAAYsFAAAAAAACUwUAAAAAAAMbBQAAAAAAA+MFAAAAAAAAqwkAAAAAAAFzCQAAAAAAAjsJAAAAAAADAwkAAAAAAAPLCQAAAAAAAJMNAAAAAAABWw0AAAAAAAIjDQA==\"},\"shape\":[101],\"dtype\":\"float64\",\"order\":\"little\"}],[\"y\",{\"type\":\"ndarray\",\"array\":{\"type\":\"bytes\",\"data\":\"AQgQQYTbsT8kE+W0DlvQP3Bbh41t6Nk/7c2oE1S+4T8HOBH1NIzmP8HLPpU+Xus//2nuK3Ya8D/fBL+2bYjyPxnwantv+fQ/pbT4pBFu9z+HD87ZNef5PzHOrwA/Zvw/oXOS/23t/j+8YdrOP8AAQD2dZFvaEgJASctBOMFzA0BQF6qrn+sEQCqkqGyXiAZAYLpD5hJhCEAQ99FzIZcKQKIwJGMIWw1AdtLzRLR0EED4nEZlCb8SQOuewRoNmhVA1nE4vLLrGEBIG1B8IWQcQGz0GQvpjx9AFBONnakFIUAFYqjlFdohQEYSHHH7VyJA9tPULsygIkB8W6OPPc8iQPBdDvAk8iJAb74QhVsQI0Br19kkyywjQNV1WSCoSCNAhsbidnFkI0BpaeL2W4AjQGl20Qd+nCNA0kEvhOG4I0B7kgkKi9UjQO3RfgB98iNArRfG2bgPJEAyknmaPy0kQH4hmRISSyRAIlrM9TBpJEBow23lnIckQF4VynRWpiRAQPqsKl7FJECLe9OBtOQkQDFi1ehZBCVAoEngwU4kJUDJRUBik0QlQMwk8hEoZSVAhkoRCw2GJUBgAFJ5QqclQOOvaHnIyCVABFF5GJ/qJUDcEXFTxgwmQNqjeBY+LyZAG8tMPAZSJkDrJY6NHnUmQH6zN8CGmCZAT1Lodj68JkA4aUZAReAmQNdrVpaaBCdAqMjg3T0pJ0Dne9NlLk4nQEhvo2ZrcydAKj67AfSYJ0B1ot9Ax74nQHkQsxXk5CdAeaIZWUkLKECRG93K9TEoQBcxERHoWChAUHbEtx6AKEDffaQwmKcoQBMck9JSzyhAa6Ry2Uz3KECzL+RlhB8pQFIWJ333RylAMoH3CKRwKUDoyZDXh5kpQFUiq5ugwilANeCl7OvrKUD0l69GZxUqQJKjFwsQPypAlbOggONoKkDrsQHU3pIqQLu6ZRj/vCpAe7kQSEHnKkAtCChFohErQHdtbNoePCtAR/ZFvLNmK0BQYcWJXZErQDGCr80YvCtANwXJ/+HmK0DQZCaGtREsQOq5lLaPPCxASkEa2GxnLEAlSZIkSZIsQA==\"},\"shape\":[101],\"dtype\":\"float64\",\"order\":\"little\"}]]}}},\"view\":{\"type\":\"object\",\"name\":\"CDSView\",\"id\":\"p2011\",\"attributes\":{\"filter\":{\"type\":\"object\",\"name\":\"AllIndices\",\"id\":\"p2012\"}}},\"glyph\":{\"type\":\"object\",\"name\":\"Line\",\"id\":\"p2007\",\"attributes\":{\"tags\":[\"apply_ranges\"],\"x\":{\"type\":\"field\",\"field\":\"x\"},\"y\":{\"type\":\"field\",\"field\":\"y\"},\"line_color\":\"#7a0402\",\"line_width\":2,\"line_dash\":[6]}},\"selection_glyph\":{\"type\":\"object\",\"name\":\"Line\",\"id\":\"p2014\",\"attributes\":{\"tags\":[\"apply_ranges\"],\"x\":{\"type\":\"field\",\"field\":\"x\"},\"y\":{\"type\":\"field\",\"field\":\"y\"},\"line_color\":\"#7a0402\",\"line_width\":2,\"line_dash\":[6]}},\"nonselection_glyph\":{\"type\":\"object\",\"name\":\"Line\",\"id\":\"p2008\",\"attributes\":{\"tags\":[\"apply_ranges\"],\"x\":{\"type\":\"field\",\"field\":\"x\"},\"y\":{\"type\":\"field\",\"field\":\"y\"},\"line_color\":\"#7a0402\",\"line_alpha\":0.1,\"line_width\":2,\"line_dash\":[6]}},\"muted_glyph\":{\"type\":\"object\",\"name\":\"Line\",\"id\":\"p2009\",\"attributes\":{\"tags\":[\"apply_ranges\"],\"x\":{\"type\":\"field\",\"field\":\"x\"},\"y\":{\"type\":\"field\",\"field\":\"y\"},\"line_color\":\"#7a0402\",\"line_alpha\":0.2,\"line_width\":2,\"line_dash\":[6]}}}}],\"toolbar\":{\"type\":\"object\",\"name\":\"Toolbar\",\"id\":\"p1852\",\"attributes\":{\"tools\":[{\"type\":\"object\",\"name\":\"WheelZoomTool\",\"id\":\"p1824\",\"attributes\":{\"tags\":[\"hv_created\"],\"renderers\":\"auto\",\"zoom_together\":\"none\"}},{\"type\":\"object\",\"name\":\"SaveTool\",\"id\":\"p1865\"},{\"type\":\"object\",\"name\":\"PanTool\",\"id\":\"p1866\"},{\"type\":\"object\",\"name\":\"BoxZoomTool\",\"id\":\"p1867\",\"attributes\":{\"overlay\":{\"type\":\"object\",\"name\":\"BoxAnnotation\",\"id\":\"p1868\",\"attributes\":{\"syncable\":false,\"level\":\"overlay\",\"visible\":false,\"left\":{\"type\":\"number\",\"value\":\"nan\"},\"right\":{\"type\":\"number\",\"value\":\"nan\"},\"top\":{\"type\":\"number\",\"value\":\"nan\"},\"bottom\":{\"type\":\"number\",\"value\":\"nan\"},\"left_units\":\"canvas\",\"right_units\":\"canvas\",\"top_units\":\"canvas\",\"bottom_units\":\"canvas\",\"line_color\":\"black\",\"line_alpha\":1.0,\"line_width\":2,\"line_dash\":[4,4],\"fill_color\":\"lightgrey\",\"fill_alpha\":0.5}}}},{\"type\":\"object\",\"name\":\"ResetTool\",\"id\":\"p1873\"}],\"active_drag\":{\"id\":\"p1866\"},\"active_scroll\":{\"id\":\"p1824\"}}},\"left\":[{\"type\":\"object\",\"name\":\"LinearAxis\",\"id\":\"p1860\",\"attributes\":{\"ticker\":{\"type\":\"object\",\"name\":\"BasicTicker\",\"id\":\"p1861\",\"attributes\":{\"mantissas\":[1,2,5]}},\"formatter\":{\"type\":\"object\",\"name\":\"BasicTickFormatter\",\"id\":\"p1862\"},\"axis_label\":\"Elevation[m]\",\"major_label_policy\":{\"type\":\"object\",\"name\":\"AllLabels\",\"id\":\"p1863\"}}}],\"right\":[{\"type\":\"object\",\"name\":\"Legend\",\"id\":\"p1886\",\"attributes\":{\"location\":[0,0],\"click_policy\":\"mute\",\"items\":[{\"type\":\"object\",\"name\":\"LegendItem\",\"id\":\"p1887\",\"attributes\":{\"label\":{\"type\":\"value\",\"value\":\"\\u6c34\\u4f4d:0\\u6642\\u9593\\u5f8c\"},\"renderers\":[{\"id\":\"p1883\"}]}},{\"type\":\"object\",\"name\":\"LegendItem\",\"id\":\"p1901\",\"attributes\":{\"label\":{\"type\":\"value\",\"value\":\"\\u6c34\\u4f4d:12\\u6642\\u9593\\u5f8c\"},\"renderers\":[{\"id\":\"p1898\"}]}},{\"type\":\"object\",\"name\":\"LegendItem\",\"id\":\"p1915\",\"attributes\":{\"label\":{\"type\":\"value\",\"value\":\"\\u6c34\\u4f4d:24\\u6642\\u9593\\u5f8c\"},\"renderers\":[{\"id\":\"p1912\"}]}},{\"type\":\"object\",\"name\":\"LegendItem\",\"id\":\"p1929\",\"attributes\":{\"label\":{\"type\":\"value\",\"value\":\"\\u6c34\\u4f4d:36\\u6642\\u9593\\u5f8c\"},\"renderers\":[{\"id\":\"p1926\"}]}},{\"type\":\"object\",\"name\":\"LegendItem\",\"id\":\"p1943\",\"attributes\":{\"label\":{\"type\":\"value\",\"value\":\"\\u6c34\\u4f4d:48\\u6642\\u9593\\u5f8c\"},\"renderers\":[{\"id\":\"p1940\"}]}},{\"type\":\"object\",\"name\":\"LegendItem\",\"id\":\"p1957\",\"attributes\":{\"label\":{\"type\":\"value\",\"value\":\"\\u6cb3\\u5e8a\\u9ad8:0\\u6642\\u9593\\u5f8c\"},\"renderers\":[{\"id\":\"p1954\"}]}},{\"type\":\"object\",\"name\":\"LegendItem\",\"id\":\"p1971\",\"attributes\":{\"label\":{\"type\":\"value\",\"value\":\"\\u6cb3\\u5e8a\\u9ad8:12\\u6642\\u9593\\u5f8c\"},\"renderers\":[{\"id\":\"p1968\"}]}},{\"type\":\"object\",\"name\":\"LegendItem\",\"id\":\"p1985\",\"attributes\":{\"label\":{\"type\":\"value\",\"value\":\"\\u6cb3\\u5e8a\\u9ad8:24\\u6642\\u9593\\u5f8c\"},\"renderers\":[{\"id\":\"p1982\"}]}},{\"type\":\"object\",\"name\":\"LegendItem\",\"id\":\"p1999\",\"attributes\":{\"label\":{\"type\":\"value\",\"value\":\"\\u6cb3\\u5e8a\\u9ad8:36\\u6642\\u9593\\u5f8c\"},\"renderers\":[{\"id\":\"p1996\"}]}},{\"type\":\"object\",\"name\":\"LegendItem\",\"id\":\"p2013\",\"attributes\":{\"label\":{\"type\":\"value\",\"value\":\"\\u6cb3\\u5e8a\\u9ad8:48\\u6642\\u9593\\u5f8c\"},\"renderers\":[{\"id\":\"p2010\"}]}}]}}],\"below\":[{\"type\":\"object\",\"name\":\"LinearAxis\",\"id\":\"p1855\",\"attributes\":{\"ticker\":{\"type\":\"object\",\"name\":\"BasicTicker\",\"id\":\"p1856\",\"attributes\":{\"mantissas\":[1,2,5]}},\"formatter\":{\"type\":\"object\",\"name\":\"BasicTickFormatter\",\"id\":\"p1857\"},\"axis_label\":\"Distance[m]\",\"major_label_policy\":{\"type\":\"object\",\"name\":\"AllLabels\",\"id\":\"p1858\"}}}],\"center\":[{\"type\":\"object\",\"name\":\"Grid\",\"id\":\"p1859\",\"attributes\":{\"axis\":{\"id\":\"p1855\"},\"ticker\":{\"id\":\"p1856\"}}},{\"type\":\"object\",\"name\":\"Grid\",\"id\":\"p1864\",\"attributes\":{\"dimension\":1,\"axis\":{\"id\":\"p1860\"},\"ticker\":{\"id\":\"p1861\"}}}],\"min_border_top\":10,\"min_border_bottom\":10,\"min_border_left\":10,\"min_border_right\":10,\"output_backend\":\"webgl\"}},{\"type\":\"object\",\"name\":\"Spacer\",\"id\":\"p2016\",\"attributes\":{\"name\":\"HSpacer02798\",\"stylesheets\":[\"\\n:host(.pn-loading):before, .pn-loading:before {\\n  background-color: #c3c3c3;\\n  mask-size: auto calc(min(50%, 400px));\\n  -webkit-mask-size: auto calc(min(50%, 400px));\\n}\",{\"id\":\"p1817\"},{\"id\":\"p1815\"},{\"id\":\"p1816\"}],\"margin\":0,\"sizing_mode\":\"stretch_width\",\"align\":\"start\"}}]}}],\"defs\":[{\"type\":\"model\",\"name\":\"ReactiveHTML1\"},{\"type\":\"model\",\"name\":\"FlexBox1\",\"properties\":[{\"name\":\"align_content\",\"kind\":\"Any\",\"default\":\"flex-start\"},{\"name\":\"align_items\",\"kind\":\"Any\",\"default\":\"flex-start\"},{\"name\":\"flex_direction\",\"kind\":\"Any\",\"default\":\"row\"},{\"name\":\"flex_wrap\",\"kind\":\"Any\",\"default\":\"wrap\"},{\"name\":\"gap\",\"kind\":\"Any\",\"default\":\"\"},{\"name\":\"justify_content\",\"kind\":\"Any\",\"default\":\"flex-start\"}]},{\"type\":\"model\",\"name\":\"FloatPanel1\",\"properties\":[{\"name\":\"config\",\"kind\":\"Any\",\"default\":{\"type\":\"map\"}},{\"name\":\"contained\",\"kind\":\"Any\",\"default\":true},{\"name\":\"position\",\"kind\":\"Any\",\"default\":\"right-top\"},{\"name\":\"offsetx\",\"kind\":\"Any\",\"default\":null},{\"name\":\"offsety\",\"kind\":\"Any\",\"default\":null},{\"name\":\"theme\",\"kind\":\"Any\",\"default\":\"primary\"},{\"name\":\"status\",\"kind\":\"Any\",\"default\":\"normalized\"}]},{\"type\":\"model\",\"name\":\"GridStack1\",\"properties\":[{\"name\":\"mode\",\"kind\":\"Any\",\"default\":\"warn\"},{\"name\":\"ncols\",\"kind\":\"Any\",\"default\":null},{\"name\":\"nrows\",\"kind\":\"Any\",\"default\":null},{\"name\":\"allow_resize\",\"kind\":\"Any\",\"default\":true},{\"name\":\"allow_drag\",\"kind\":\"Any\",\"default\":true},{\"name\":\"state\",\"kind\":\"Any\",\"default\":[]}]},{\"type\":\"model\",\"name\":\"drag1\",\"properties\":[{\"name\":\"slider_width\",\"kind\":\"Any\",\"default\":5},{\"name\":\"slider_color\",\"kind\":\"Any\",\"default\":\"black\"},{\"name\":\"value\",\"kind\":\"Any\",\"default\":50}]},{\"type\":\"model\",\"name\":\"click1\",\"properties\":[{\"name\":\"terminal_output\",\"kind\":\"Any\",\"default\":\"\"},{\"name\":\"debug_name\",\"kind\":\"Any\",\"default\":\"\"},{\"name\":\"clears\",\"kind\":\"Any\",\"default\":0}]},{\"type\":\"model\",\"name\":\"FastWrapper1\",\"properties\":[{\"name\":\"object\",\"kind\":\"Any\",\"default\":null},{\"name\":\"style\",\"kind\":\"Any\",\"default\":null}]},{\"type\":\"model\",\"name\":\"NotificationAreaBase1\",\"properties\":[{\"name\":\"js_events\",\"kind\":\"Any\",\"default\":{\"type\":\"map\"}},{\"name\":\"position\",\"kind\":\"Any\",\"default\":\"bottom-right\"},{\"name\":\"_clear\",\"kind\":\"Any\",\"default\":0}]},{\"type\":\"model\",\"name\":\"NotificationArea1\",\"properties\":[{\"name\":\"js_events\",\"kind\":\"Any\",\"default\":{\"type\":\"map\"}},{\"name\":\"notifications\",\"kind\":\"Any\",\"default\":[]},{\"name\":\"position\",\"kind\":\"Any\",\"default\":\"bottom-right\"},{\"name\":\"_clear\",\"kind\":\"Any\",\"default\":0},{\"name\":\"types\",\"kind\":\"Any\",\"default\":[{\"type\":\"map\",\"entries\":[[\"type\",\"warning\"],[\"background\",\"#ffc107\"],[\"icon\",{\"type\":\"map\",\"entries\":[[\"className\",\"fas fa-exclamation-triangle\"],[\"tagName\",\"i\"],[\"color\",\"white\"]]}]]},{\"type\":\"map\",\"entries\":[[\"type\",\"info\"],[\"background\",\"#007bff\"],[\"icon\",{\"type\":\"map\",\"entries\":[[\"className\",\"fas fa-info-circle\"],[\"tagName\",\"i\"],[\"color\",\"white\"]]}]]}]}]},{\"type\":\"model\",\"name\":\"Notification\",\"properties\":[{\"name\":\"background\",\"kind\":\"Any\",\"default\":null},{\"name\":\"duration\",\"kind\":\"Any\",\"default\":3000},{\"name\":\"icon\",\"kind\":\"Any\",\"default\":null},{\"name\":\"message\",\"kind\":\"Any\",\"default\":\"\"},{\"name\":\"notification_type\",\"kind\":\"Any\",\"default\":null},{\"name\":\"_destroyed\",\"kind\":\"Any\",\"default\":false}]},{\"type\":\"model\",\"name\":\"TemplateActions1\",\"properties\":[{\"name\":\"open_modal\",\"kind\":\"Any\",\"default\":0},{\"name\":\"close_modal\",\"kind\":\"Any\",\"default\":0}]},{\"type\":\"model\",\"name\":\"BootstrapTemplateActions1\",\"properties\":[{\"name\":\"open_modal\",\"kind\":\"Any\",\"default\":0},{\"name\":\"close_modal\",\"kind\":\"Any\",\"default\":0}]},{\"type\":\"model\",\"name\":\"TemplateEditor1\",\"properties\":[{\"name\":\"layout\",\"kind\":\"Any\",\"default\":[]}]},{\"type\":\"model\",\"name\":\"MaterialTemplateActions1\",\"properties\":[{\"name\":\"open_modal\",\"kind\":\"Any\",\"default\":0},{\"name\":\"close_modal\",\"kind\":\"Any\",\"default\":0}]},{\"type\":\"model\",\"name\":\"copy_to_clipboard1\",\"properties\":[{\"name\":\"fill\",\"kind\":\"Any\",\"default\":\"none\"},{\"name\":\"value\",\"kind\":\"Any\",\"default\":null}]}]}};\n",
       "  var render_items = [{\"docid\":\"c96b0694-71c2-4a0d-b3c1-a13517d6feca\",\"roots\":{\"p1814\":\"e060bcf7-ec93-498f-b360-d6961c425aa6\"},\"root_ids\":[\"p1814\"]}];\n",
       "  var docs = Object.values(docs_json)\n",
       "  if (!docs) {\n",
       "    return\n",
       "  }\n",
       "  const py_version = docs[0].version.replace('rc', '-rc.').replace('.dev', '-dev.')\n",
       "  async function embed_document(root) {\n",
       "    var Bokeh = get_bokeh(root)\n",
       "    await Bokeh.embed.embed_items_notebook(docs_json, render_items);\n",
       "    for (const render_item of render_items) {\n",
       "      for (const root_id of render_item.root_ids) {\n",
       "\tconst id_el = document.getElementById(root_id)\n",
       "\tif (id_el.children.length && id_el.children[0].hasAttribute('data-root-id')) {\n",
       "\t  const root_el = id_el.children[0]\n",
       "\t  root_el.id = root_el.id + '-rendered'\n",
       "\t  for (const child of root_el.children) {\n",
       "            // Ensure JupyterLab does not capture keyboard shortcuts\n",
       "            // see: https://jupyterlab.readthedocs.io/en/4.1.x/extension/notebook.html#keyboard-interaction-model\n",
       "\t    child.setAttribute('data-lm-suppress-shortcuts', 'true')\n",
       "\t  }\n",
       "\t}\n",
       "      }\n",
       "    }\n",
       "  }\n",
       "  function get_bokeh(root) {\n",
       "    if (root.Bokeh === undefined) {\n",
       "      return null\n",
       "    } else if (root.Bokeh.version !== py_version) {\n",
       "      if (root.Bokeh.versions === undefined || !root.Bokeh.versions.has(py_version)) {\n",
       "\treturn null\n",
       "      }\n",
       "      return root.Bokeh.versions.get(py_version);\n",
       "    } else if (root.Bokeh.version === py_version) {\n",
       "      return root.Bokeh\n",
       "    }\n",
       "    return null\n",
       "  }\n",
       "  function is_loaded(root) {\n",
       "    var Bokeh = get_bokeh(root)\n",
       "    return (Bokeh != null && Bokeh.Panel !== undefined)\n",
       "  }\n",
       "  if (is_loaded(root)) {\n",
       "    embed_document(root);\n",
       "  } else {\n",
       "    var attempts = 0;\n",
       "    var timer = setInterval(function(root) {\n",
       "      if (is_loaded(root)) {\n",
       "        clearInterval(timer);\n",
       "        embed_document(root);\n",
       "      } else if (document.readyState == \"complete\") {\n",
       "        attempts++;\n",
       "        if (attempts > 200) {\n",
       "          clearInterval(timer);\n",
       "\t  var Bokeh = get_bokeh(root)\n",
       "\t  if (Bokeh == null || Bokeh.Panel == null) {\n",
       "            console.warn(\"Panel: ERROR: Unable to run Panel code because Bokeh or Panel library is missing\");\n",
       "\t  } else {\n",
       "\t    console.warn(\"Panel: WARNING: Attempting to render but not all required libraries could be resolved.\")\n",
       "\t    embed_document(root)\n",
       "\t  }\n",
       "        }\n",
       "      }\n",
       "    }, 25, root)\n",
       "  }\n",
       "})(window);</script>"
      ],
      "text/plain": [
       ":Overlay\n",
       "   .Curve.水位_colon_0時間後   :Curve   [x]   (y)\n",
       "   .Curve.水位_colon_12時間後  :Curve   [x]   (y)\n",
       "   .Curve.水位_colon_24時間後  :Curve   [x]   (y)\n",
       "   .Curve.水位_colon_36時間後  :Curve   [x]   (y)\n",
       "   .Curve.水位_colon_48時間後  :Curve   [x]   (y)\n",
       "   .Curve.河床高_colon_0時間後  :Curve   [x]   (y)\n",
       "   .Curve.河床高_colon_12時間後 :Curve   [x]   (y)\n",
       "   .Curve.河床高_colon_24時間後 :Curve   [x]   (y)\n",
       "   .Curve.河床高_colon_36時間後 :Curve   [x]   (y)\n",
       "   .Curve.河床高_colon_48時間後 :Curve   [x]   (y)"
      ]
     },
     "execution_count": 23,
     "metadata": {
      "application/vnd.holoviews_exec.v0+json": {
       "id": "p1814"
      }
     },
     "output_type": "execute_result"
    }
   ],
   "source": [
    "lfig = []\n",
    "for i in range(len(hout)):\n",
    "    h = hout[i]\n",
    "    z = zbout[i]\n",
    "    g11 = hv.Curve((L, z[::-1]+h[::-1]), label=f'水位:{str(int(itime[i]*dt/3600))}時間後').options(\n",
    "        color=cmap_list2[i])\n",
    "    lfig.append(g11)\n",
    "\n",
    "for i, z in enumerate(zbout):\n",
    "    g12 = hv.Curve((L, z[::-1]), label=f'河床高:{str(int(itime[i]*dt/3600))}時間後').options(\n",
    "        color=cmap_list2[i], line_dash='dashed')\n",
    "    lfig.append(g12)\n",
    "\n",
    "g = hv.Overlay(lfig)\n",
    "go = g.options(show_grid=True,xlabel='Distance[m]',ylabel='Elevation[m]'\n",
    "    , width=800, height=600, title='bed elevation', legend_position='right')\n",
    "\n",
    "go"
   ]
  },
  {
   "cell_type": "code",
   "execution_count": 24,
   "id": "8d1c6f88",
   "metadata": {},
   "outputs": [],
   "source": [
    "hv.save(go, 'dam_suspendedload0.1mm.html') #河床高の図化"
   ]
  },
  {
   "cell_type": "code",
   "execution_count": 12,
   "id": "9a9a5bbd",
   "metadata": {},
   "outputs": [
    {
     "data": {},
     "metadata": {},
     "output_type": "display_data"
    },
    {
     "data": {
      "application/vnd.holoviews_exec.v0+json": "",
      "text/html": [
       "<div id='p1128'>\n",
       "  <div id=\"b486786c-06ea-46fd-ac30-5eb50259750d\" data-root-id=\"p1128\" style=\"display: contents;\"></div>\n",
       "</div>\n",
       "<script type=\"application/javascript\">(function(root) {\n",
       "  var docs_json = {\"a7dc20f0-5e97-4d56-8b63-68517a5d0c07\":{\"version\":\"3.4.1\",\"title\":\"Bokeh Application\",\"roots\":[{\"type\":\"object\",\"name\":\"Row\",\"id\":\"p1128\",\"attributes\":{\"name\":\"Row01089\",\"tags\":[\"embedded\"],\"stylesheets\":[\"\\n:host(.pn-loading):before, .pn-loading:before {\\n  background-color: #c3c3c3;\\n  mask-size: auto calc(min(50%, 400px));\\n  -webkit-mask-size: auto calc(min(50%, 400px));\\n}\",{\"type\":\"object\",\"name\":\"ImportedStyleSheet\",\"id\":\"p1131\",\"attributes\":{\"url\":\"https://cdn.holoviz.org/panel/1.4.4/dist/css/loading.css\"}},{\"type\":\"object\",\"name\":\"ImportedStyleSheet\",\"id\":\"p1236\",\"attributes\":{\"url\":\"https://cdn.holoviz.org/panel/1.4.4/dist/css/listpanel.css\"}},{\"type\":\"object\",\"name\":\"ImportedStyleSheet\",\"id\":\"p1129\",\"attributes\":{\"url\":\"https://cdn.holoviz.org/panel/1.4.4/dist/bundled/theme/default.css\"}},{\"type\":\"object\",\"name\":\"ImportedStyleSheet\",\"id\":\"p1130\",\"attributes\":{\"url\":\"https://cdn.holoviz.org/panel/1.4.4/dist/bundled/theme/native.css\"}}],\"min_width\":600,\"margin\":0,\"sizing_mode\":\"stretch_width\",\"align\":\"start\",\"children\":[{\"type\":\"object\",\"name\":\"Spacer\",\"id\":\"p1132\",\"attributes\":{\"name\":\"HSpacer01096\",\"stylesheets\":[\"\\n:host(.pn-loading):before, .pn-loading:before {\\n  background-color: #c3c3c3;\\n  mask-size: auto calc(min(50%, 400px));\\n  -webkit-mask-size: auto calc(min(50%, 400px));\\n}\",{\"id\":\"p1131\"},{\"id\":\"p1129\"},{\"id\":\"p1130\"}],\"margin\":0,\"sizing_mode\":\"stretch_width\",\"align\":\"start\"}},{\"type\":\"object\",\"name\":\"Figure\",\"id\":\"p1145\",\"attributes\":{\"height\":400,\"margin\":[5,10],\"sizing_mode\":\"fixed\",\"align\":\"start\",\"x_range\":{\"type\":\"object\",\"name\":\"Range1d\",\"id\":\"p1133\",\"attributes\":{\"tags\":[[[\"x\",\"x\",null]],[]],\"end\":10000.0,\"reset_start\":0.0,\"reset_end\":10000.0}},\"y_range\":{\"type\":\"object\",\"name\":\"Range1d\",\"id\":\"p1134\",\"attributes\":{\"tags\":[[[\"y\",\"y\",null]],{\"type\":\"map\",\"entries\":[[\"invert_yaxis\",false],[\"autorange\",false]]}],\"start\":-1.6244990027663875,\"end\":17.869489030430262,\"reset_start\":-1.6244990027663875,\"reset_end\":17.869489030430262}},\"x_scale\":{\"type\":\"object\",\"name\":\"LinearScale\",\"id\":\"p1155\"},\"y_scale\":{\"type\":\"object\",\"name\":\"LinearScale\",\"id\":\"p1156\"},\"title\":{\"type\":\"object\",\"name\":\"Title\",\"id\":\"p1148\",\"attributes\":{\"text\":\"bed elevation\",\"text_color\":\"black\",\"text_font_size\":\"12pt\"}},\"renderers\":[{\"type\":\"object\",\"name\":\"GlyphRenderer\",\"id\":\"p1185\",\"attributes\":{\"name\":\"\\u6c34\\u4f4d:\\u521d\\u671f\",\"data_source\":{\"type\":\"object\",\"name\":\"ColumnDataSource\",\"id\":\"p1176\",\"attributes\":{\"selected\":{\"type\":\"object\",\"name\":\"Selection\",\"id\":\"p1177\",\"attributes\":{\"indices\":[],\"line_indices\":[]}},\"selection_policy\":{\"type\":\"object\",\"name\":\"UnionRenderers\",\"id\":\"p1178\"},\"data\":{\"type\":\"map\",\"entries\":[[\"x\",{\"type\":\"ndarray\",\"array\":{\"type\":\"bytes\",\"data\":\"AAAAAAAAAAAAAAAAAABZQAAAAAAAAGlAAAAAAADAckAAAAAAAAB5QAAAAAAAQH9AAAAAAADAgkAAAAAAAOCFQAAAAAAAAIlAAAAAAAAgjEAAAAAAAECPQAAAAAAAMJFAAAAAAADAkkAAAAAAAFCUQAAAAAAA4JVAAAAAAABwl0AAAAAAAACZQAAAAAAAkJpAAAAAAAAgnEAAAAAAALCdQAAAAAAAQJ9AAAAAAABooEAAAAAAADChQAAAAAAA+KFAAAAAAADAokAAAAAAAIijQAAAAAAAUKRAAAAAAAAYpUAAAAAAAOClQAAAAAAAqKZAAAAAAABwp0AAAAAAADioQAAAAAAAAKlAAAAAAADIqUAAAAAAAJCqQAAAAAAAWKtAAAAAAAAgrEAAAAAAAOisQAAAAAAAsK1AAAAAAAB4rkAAAAAAAECvQAAAAAAABLBAAAAAAABosEAAAAAAAMywQAAAAAAAMLFAAAAAAACUsUAAAAAAAPixQAAAAAAAXLJAAAAAAADAskAAAAAAACSzQAAAAAAAiLNAAAAAAADss0AAAAAAAFC0QAAAAAAAtLRAAAAAAAAYtUAAAAAAAHy1QAAAAAAA4LVAAAAAAABEtkAAAAAAAKi2QAAAAAAADLdAAAAAAABwt0AAAAAAANS3QAAAAAAAOLhAAAAAAACcuEAAAAAAAAC5QAAAAAAAZLlAAAAAAADIuUAAAAAAACy6QAAAAAAAkLpAAAAAAAD0ukAAAAAAAFi7QAAAAAAAvLtAAAAAAAAgvEAAAAAAAIS8QAAAAAAA6LxAAAAAAABMvUAAAAAAALC9QAAAAAAAFL5AAAAAAAB4vkAAAAAAANy+QAAAAAAAQL9AAAAAAACkv0AAAAAAAATAQAAAAAAANsBAAAAAAABowEAAAAAAAJrAQAAAAAAAzMBAAAAAAAD+wEAAAAAAADDBQAAAAAAAYsFAAAAAAACUwUAAAAAAAMbBQAAAAAAA+MFAAAAAAAAqwkAAAAAAAFzCQAAAAAAAjsJAAAAAAADAwkAAAAAAAPLCQAAAAAAAJMNAAAAAAABWw0AAAAAAAIjDQA==\"},\"shape\":[101],\"dtype\":\"float64\",\"order\":\"little\"}],[\"y\",{\"type\":\"ndarray\",\"array\":{\"type\":\"bytes\",\"data\":\"AAAAAAAAKEBb+7yrBQAoQCJTObELAChAGt7oFRIAKEB4z/7gGAAoQKSN4RggAChAoBiRxScAKED9CafuLwAoQPaUVp04AChAvOzS2kEAKEBPERyxSwAoQOA1ZStWAChAclquVWEAKEDUS8Q8bQAoQGVwDe95AChALMiJfIcAKEAkUzn1lQAoQLd3gmulAChA4zVl87UAKEAO9EejxwAoQHDlXZLaAChAZ3AN2+4AKEDGYSOaBAEoQMDs0u4bAShAuHeC+zQBKEB/z/7mTwEoQBL0R9tsAShA2EvEBowBKEBqcA2drQEoQJYu8NbRAShAW4Zs9PgBKEC6d4I7IwIoQBppmPpQAihAelquiYICKEA/sipLuAIoQAYKp6zyAihA/pRWKTIDKEBdhmxMdwMoQLx3grPCAyhA6DVlDxUEKECvjeEobwQoQKgYkeXRBChA1NZzST4FKECaLvB+tQUoQJK5n9s4BihAWBEc6ckGKEC4AjJsagcoQH1arnEcCChAEH/3W+IIKEDW1nPxvgkoQJwu8HK1CihAlLmfs8kLKEDBd4I1AA0oQLoCMlJeDihAso3haOoPKECsGJEZrBEoQD492o+sEyhABJVW4/YVKEDK7NKOmBgoQFwRHA2iGyhAugIynicfKEAZ9EdHQiMoQEWyKh0RKChACwqn6LotKEBp+7w/cDQoQMns0ihuPChAKN7oTQFGKECHz/6wiVEoQEwne4p+XyhArBiRbXFwKECko0DqDoUoQAKVVo0ZnihA/B8G7lq8KEDBd4IXh+AoQFOcy5kTCylAf1quCQ48KUASf/d/B3MpQNfWcx0mrylAnC7whlfvKUAvUzlRijIqQMF3gpPVdypAU5zLiYe+KkAY9EdnIgYrQEWyKotRTitApKNA4t2WK0AClVZVpN8rQMns0tKOKCxAWxEcmY9xLEC6AjIgnrosQOXAFCC1Ay1A30vEWNFMLUA9PdrH8JUtQDbIiTAS3y1AL1M50TQoLkBaERwxWHEuQCBpmAZ8ui5Af1quJaADL0DfS8RwxEwvQHBwDdfolS9Az2EjTg3fL0DL3M/nGBQwQA==\"},\"shape\":[101],\"dtype\":\"float64\",\"order\":\"little\"}]]}}},\"view\":{\"type\":\"object\",\"name\":\"CDSView\",\"id\":\"p1186\",\"attributes\":{\"filter\":{\"type\":\"object\",\"name\":\"AllIndices\",\"id\":\"p1187\"}}},\"glyph\":{\"type\":\"object\",\"name\":\"Line\",\"id\":\"p1182\",\"attributes\":{\"tags\":[\"apply_ranges\"],\"x\":{\"type\":\"field\",\"field\":\"x\"},\"y\":{\"type\":\"field\",\"field\":\"y\"},\"line_color\":\"#00bfbf\",\"line_width\":2,\"line_dash\":[6]}},\"selection_glyph\":{\"type\":\"object\",\"name\":\"Line\",\"id\":\"p1190\",\"attributes\":{\"tags\":[\"apply_ranges\"],\"x\":{\"type\":\"field\",\"field\":\"x\"},\"y\":{\"type\":\"field\",\"field\":\"y\"},\"line_color\":\"#00bfbf\",\"line_width\":2,\"line_dash\":[6]}},\"nonselection_glyph\":{\"type\":\"object\",\"name\":\"Line\",\"id\":\"p1183\",\"attributes\":{\"tags\":[\"apply_ranges\"],\"x\":{\"type\":\"field\",\"field\":\"x\"},\"y\":{\"type\":\"field\",\"field\":\"y\"},\"line_color\":\"#00bfbf\",\"line_alpha\":0.1,\"line_width\":2,\"line_dash\":[6]}},\"muted_glyph\":{\"type\":\"object\",\"name\":\"Line\",\"id\":\"p1184\",\"attributes\":{\"tags\":[\"apply_ranges\"],\"x\":{\"type\":\"field\",\"field\":\"x\"},\"y\":{\"type\":\"field\",\"field\":\"y\"},\"line_color\":\"#00bfbf\",\"line_alpha\":0.2,\"line_width\":2,\"line_dash\":[6]}}}},{\"type\":\"object\",\"name\":\"GlyphRenderer\",\"id\":\"p1200\",\"attributes\":{\"name\":\"\\u6cb3\\u5e8a\\u9ad8:\\u521d\\u671f\",\"data_source\":{\"type\":\"object\",\"name\":\"ColumnDataSource\",\"id\":\"p1191\",\"attributes\":{\"selected\":{\"type\":\"object\",\"name\":\"Selection\",\"id\":\"p1192\",\"attributes\":{\"indices\":[],\"line_indices\":[]}},\"selection_policy\":{\"type\":\"object\",\"name\":\"UnionRenderers\",\"id\":\"p1193\"},\"data\":{\"type\":\"map\",\"entries\":[[\"x\",{\"type\":\"ndarray\",\"array\":{\"type\":\"bytes\",\"data\":\"AAAAAAAAAAAAAAAAAABZQAAAAAAAAGlAAAAAAADAckAAAAAAAAB5QAAAAAAAQH9AAAAAAADAgkAAAAAAAOCFQAAAAAAAAIlAAAAAAAAgjEAAAAAAAECPQAAAAAAAMJFAAAAAAADAkkAAAAAAAFCUQAAAAAAA4JVAAAAAAABwl0AAAAAAAACZQAAAAAAAkJpAAAAAAAAgnEAAAAAAALCdQAAAAAAAQJ9AAAAAAABooEAAAAAAADChQAAAAAAA+KFAAAAAAADAokAAAAAAAIijQAAAAAAAUKRAAAAAAAAYpUAAAAAAAOClQAAAAAAAqKZAAAAAAABwp0AAAAAAADioQAAAAAAAAKlAAAAAAADIqUAAAAAAAJCqQAAAAAAAWKtAAAAAAAAgrEAAAAAAAOisQAAAAAAAsK1AAAAAAAB4rkAAAAAAAECvQAAAAAAABLBAAAAAAABosEAAAAAAAMywQAAAAAAAMLFAAAAAAACUsUAAAAAAAPixQAAAAAAAXLJAAAAAAADAskAAAAAAACSzQAAAAAAAiLNAAAAAAADss0AAAAAAAFC0QAAAAAAAtLRAAAAAAAAYtUAAAAAAAHy1QAAAAAAA4LVAAAAAAABEtkAAAAAAAKi2QAAAAAAADLdAAAAAAABwt0AAAAAAANS3QAAAAAAAOLhAAAAAAACcuEAAAAAAAAC5QAAAAAAAZLlAAAAAAADIuUAAAAAAACy6QAAAAAAAkLpAAAAAAAD0ukAAAAAAAFi7QAAAAAAAvLtAAAAAAAAgvEAAAAAAAIS8QAAAAAAA6LxAAAAAAABMvUAAAAAAALC9QAAAAAAAFL5AAAAAAAB4vkAAAAAAANy+QAAAAAAAQL9AAAAAAACkv0AAAAAAAATAQAAAAAAANsBAAAAAAABowEAAAAAAAJrAQAAAAAAAzMBAAAAAAAD+wEAAAAAAADDBQAAAAAAAYsFAAAAAAACUwUAAAAAAAMbBQAAAAAAA+MFAAAAAAAAqwkAAAAAAAFzCQAAAAAAAjsJAAAAAAADAwkAAAAAAAPLCQAAAAAAAJMNAAAAAAABWw0AAAAAAAIjDQA==\"},\"shape\":[101],\"dtype\":\"float64\",\"order\":\"little\"}],[\"y\",{\"type\":\"ndarray\",\"array\":{\"type\":\"bytes\",\"data\":\"AAAAAAAAAACSJEmSJEnCP5IkSZIkSdI/27Zt27Zt2z+SJEmSJEniP7dt27Zt2+Y/27Zt27Zt6z8AAAAAAADwP5IkSZIkSfI/JUmSJEmS9D+3bdu2bdv2P0mSJEmSJPk/27Zt27Zt+z9u27Zt27b9PwAAAAAAAABASZIkSZIkAUCSJEmSJEkCQNu2bdu2bQNAJUmSJEmSBEBu27Zt27YFQLdt27Zt2wZAAAAAAAAACEBJkiRJkiQJQJIkSZIkSQpA27Zt27ZtC0AlSZIkSZIMQG7btm3btg1At23btm3bDkAAAAAAAAAQQCVJkiRJkhBASZIkSZIkEUBu27Zt27YRQJIkSZIkSRJAt23btm3bEkDbtm3btm0TQAAAAAAAABRAJUmSJEmSFEBJkiRJkiQVQG7btm3bthVAkiRJkiRJFkC3bdu2bdsWQNu2bdu2bRdAAAAAAAAAGEAlSZIkSZIYQEmSJEmSJBlAbtu2bdu2GUCSJEmSJEkaQLdt27Zt2xpA27Zt27ZtG0AAAAAAAAAcQCVJkiRJkhxASZIkSZIkHUBu27Zt27YdQJIkSZIkSR5At23btm3bHkDbtm3btm0fQAAAAAAAACBAkiRJkiRJIEAlSZIkSZIgQLdt27Zt2yBASZIkSZIkIUDbtm3btm0hQG7btm3btiFAAAAAAAAAIkCSJEmSJEkiQCVJkiRJkiJAt23btm3bIkBJkiRJkiQjQNu2bdu2bSNAbtu2bdu2I0AAAAAAAAAkQJIkSZIkSSRAJUmSJEmSJEC3bdu2bdskQEmSJEmSJCVA27Zt27ZtJUBu27Zt27YlQAAAAAAAACZAkiRJkiRJJkAlSZIkSZImQLdt27Zt2yZASZIkSZIkJ0Dbtm3btm0nQG7btm3btidAAAAAAAAAKECSJEmSJEkoQCVJkiRJkihAt23btm3bKEBJkiRJkiQpQNu2bdu2bSlAbtu2bdu2KUAAAAAAAAAqQJIkSZIkSSpAJUmSJEmSKkC3bdu2bdsqQEmSJEmSJCtA27Zt27ZtK0Bu27Zt27YrQAAAAAAAACxAkiRJkiRJLEAlSZIkSZIsQA==\"},\"shape\":[101],\"dtype\":\"float64\",\"order\":\"little\"}]]}}},\"view\":{\"type\":\"object\",\"name\":\"CDSView\",\"id\":\"p1201\",\"attributes\":{\"filter\":{\"type\":\"object\",\"name\":\"AllIndices\",\"id\":\"p1202\"}}},\"glyph\":{\"type\":\"object\",\"name\":\"Line\",\"id\":\"p1197\",\"attributes\":{\"tags\":[\"apply_ranges\"],\"x\":{\"type\":\"field\",\"field\":\"x\"},\"y\":{\"type\":\"field\",\"field\":\"y\"},\"line_color\":\"#000000\",\"line_width\":2,\"line_dash\":[6]}},\"selection_glyph\":{\"type\":\"object\",\"name\":\"Line\",\"id\":\"p1204\",\"attributes\":{\"tags\":[\"apply_ranges\"],\"x\":{\"type\":\"field\",\"field\":\"x\"},\"y\":{\"type\":\"field\",\"field\":\"y\"},\"line_color\":\"#000000\",\"line_width\":2,\"line_dash\":[6]}},\"nonselection_glyph\":{\"type\":\"object\",\"name\":\"Line\",\"id\":\"p1198\",\"attributes\":{\"tags\":[\"apply_ranges\"],\"x\":{\"type\":\"field\",\"field\":\"x\"},\"y\":{\"type\":\"field\",\"field\":\"y\"},\"line_color\":\"#000000\",\"line_alpha\":0.1,\"line_width\":2,\"line_dash\":[6]}},\"muted_glyph\":{\"type\":\"object\",\"name\":\"Line\",\"id\":\"p1199\",\"attributes\":{\"tags\":[\"apply_ranges\"],\"x\":{\"type\":\"field\",\"field\":\"x\"},\"y\":{\"type\":\"field\",\"field\":\"y\"},\"line_color\":\"#000000\",\"line_alpha\":0.2,\"line_width\":2,\"line_dash\":[6]}}}},{\"type\":\"object\",\"name\":\"GlyphRenderer\",\"id\":\"p1214\",\"attributes\":{\"name\":\"\\u6c34\\u4f4d\\uff1a24\\u6642\\u9593\\u5f8c\",\"data_source\":{\"type\":\"object\",\"name\":\"ColumnDataSource\",\"id\":\"p1205\",\"attributes\":{\"selected\":{\"type\":\"object\",\"name\":\"Selection\",\"id\":\"p1206\",\"attributes\":{\"indices\":[],\"line_indices\":[]}},\"selection_policy\":{\"type\":\"object\",\"name\":\"UnionRenderers\",\"id\":\"p1207\"},\"data\":{\"type\":\"map\",\"entries\":[[\"x\",{\"type\":\"ndarray\",\"array\":{\"type\":\"bytes\",\"data\":\"AAAAAAAAAAAAAAAAAABZQAAAAAAAAGlAAAAAAADAckAAAAAAAAB5QAAAAAAAQH9AAAAAAADAgkAAAAAAAOCFQAAAAAAAAIlAAAAAAAAgjEAAAAAAAECPQAAAAAAAMJFAAAAAAADAkkAAAAAAAFCUQAAAAAAA4JVAAAAAAABwl0AAAAAAAACZQAAAAAAAkJpAAAAAAAAgnEAAAAAAALCdQAAAAAAAQJ9AAAAAAABooEAAAAAAADChQAAAAAAA+KFAAAAAAADAokAAAAAAAIijQAAAAAAAUKRAAAAAAAAYpUAAAAAAAOClQAAAAAAAqKZAAAAAAABwp0AAAAAAADioQAAAAAAAAKlAAAAAAADIqUAAAAAAAJCqQAAAAAAAWKtAAAAAAAAgrEAAAAAAAOisQAAAAAAAsK1AAAAAAAB4rkAAAAAAAECvQAAAAAAABLBAAAAAAABosEAAAAAAAMywQAAAAAAAMLFAAAAAAACUsUAAAAAAAPixQAAAAAAAXLJAAAAAAADAskAAAAAAACSzQAAAAAAAiLNAAAAAAADss0AAAAAAAFC0QAAAAAAAtLRAAAAAAAAYtUAAAAAAAHy1QAAAAAAA4LVAAAAAAABEtkAAAAAAAKi2QAAAAAAADLdAAAAAAABwt0AAAAAAANS3QAAAAAAAOLhAAAAAAACcuEAAAAAAAAC5QAAAAAAAZLlAAAAAAADIuUAAAAAAACy6QAAAAAAAkLpAAAAAAAD0ukAAAAAAAFi7QAAAAAAAvLtAAAAAAAAgvEAAAAAAAIS8QAAAAAAA6LxAAAAAAABMvUAAAAAAALC9QAAAAAAAFL5AAAAAAAB4vkAAAAAAANy+QAAAAAAAQL9AAAAAAACkv0AAAAAAAATAQAAAAAAANsBAAAAAAABowEAAAAAAAJrAQAAAAAAAzMBAAAAAAAD+wEAAAAAAADDBQAAAAAAAYsFAAAAAAACUwUAAAAAAAMbBQAAAAAAA+MFAAAAAAAAqwkAAAAAAAFzCQAAAAAAAjsJAAAAAAADAwkAAAAAAAPLCQAAAAAAAJMNAAAAAAABWw0AAAAAAAIjDQA==\"},\"shape\":[101],\"dtype\":\"float64\",\"order\":\"little\"}],[\"y\",{\"type\":\"ndarray\",\"array\":{\"type\":\"bytes\",\"data\":\"xl09p40QKEAOTpYcjxAoQI+woZ2UEChAT0W2cZoQKEAhIVCeoBAoQHjX1SinEChAY5UpF64QKEAyh71utRAoQM8djTa9EChAQLPwdMUQKEDwde4wzhAoQDF3SnLXEChAFC+zQOEQKEDeJ0mk6xAoQCWu6aX2EChAKVG+TAIRKEAMGzuhDhEoQL3b3aobEShAkCLobikRKEC2EzfwNxEoQAaXFy1HEShAGB0PG1cRKEC7cDuhZxEoQESqo5B4EShAml/nk4kRKECWnAYamhEoQL4z9jGpEShA0sFEUrURKEBCgeYFvBEoQFqR9Gu5EShAZH5/facRKEB6/en7fBEoQCWezAIsEShA/LWEP6AQKEA9wPZCvQ8oQOt/6UFeDihANLybjVoMKEDjDFn2lAkoQERUxIMeBihAIvjboG4CKEA22Rnylv8nQJip8oMu/ydA2zxi578CKEBLPwJQDAsoQHib4a3PFyhAzelOQicoKEDULts2GjsoQFxt5YvjTyhAoratA/9lKECa7J65G30oQCZS+e8KlShAY567wrKtKEBQ65J4BccoQKR8DkT84ChAGPZON5T7KEBhJd+GzBYpQP12GZGlMilAPYiyUSBPKUDkq/UVPmwpQEASEFAAiilAIfuCfWioKUDG2bMaeMcpQAzafpgw5ylA6uDRV5MHKkCTCcOkoSgqQNPMH7FcSipAhnQ2lMVsKkCs2YNE3Y8qQI3RNJiksypAL0pFPRzYKkDj2Dy7RP0qQG5OoGweIytA1eoxfalJK0BxSjzn5XArQGBjVG/TmCtAB96OoXHBK0CmlLnOv+orQC5j1Ai9FCxALqKOH2g/LEDY4S2fv2osQKcgocvBlixARqQtnWzDLEBhG0/BvfAsQLhOjpSyHi1AklciIkhNLUDeflIhe3wtQKSkKPNHrC1AaIQ9oarcLUCOx5ndng0uQH7rewAgPy5AbMadBilxLkBXfcGTtKMuQN3nvfG81i5AKI7FEDwKL0D+5UmIKz4vQPPH4JiEci9AXEziL0CnL0CWYzrnVtwvQN9by4XgCDBAU9BVTrsjMECYqZyqtz4wQA==\"},\"shape\":[101],\"dtype\":\"float64\",\"order\":\"little\"}]]}}},\"view\":{\"type\":\"object\",\"name\":\"CDSView\",\"id\":\"p1215\",\"attributes\":{\"filter\":{\"type\":\"object\",\"name\":\"AllIndices\",\"id\":\"p1216\"}}},\"glyph\":{\"type\":\"object\",\"name\":\"Line\",\"id\":\"p1211\",\"attributes\":{\"tags\":[\"apply_ranges\"],\"x\":{\"type\":\"field\",\"field\":\"x\"},\"y\":{\"type\":\"field\",\"field\":\"y\"},\"line_color\":\"#00bfbf\",\"line_width\":2}},\"selection_glyph\":{\"type\":\"object\",\"name\":\"Line\",\"id\":\"p1218\",\"attributes\":{\"tags\":[\"apply_ranges\"],\"x\":{\"type\":\"field\",\"field\":\"x\"},\"y\":{\"type\":\"field\",\"field\":\"y\"},\"line_color\":\"#00bfbf\",\"line_width\":2}},\"nonselection_glyph\":{\"type\":\"object\",\"name\":\"Line\",\"id\":\"p1212\",\"attributes\":{\"tags\":[\"apply_ranges\"],\"x\":{\"type\":\"field\",\"field\":\"x\"},\"y\":{\"type\":\"field\",\"field\":\"y\"},\"line_color\":\"#00bfbf\",\"line_alpha\":0.1,\"line_width\":2}},\"muted_glyph\":{\"type\":\"object\",\"name\":\"Line\",\"id\":\"p1213\",\"attributes\":{\"tags\":[\"apply_ranges\"],\"x\":{\"type\":\"field\",\"field\":\"x\"},\"y\":{\"type\":\"field\",\"field\":\"y\"},\"line_color\":\"#00bfbf\",\"line_alpha\":0.2,\"line_width\":2}}}},{\"type\":\"object\",\"name\":\"GlyphRenderer\",\"id\":\"p1228\",\"attributes\":{\"name\":\"\\u6cb3\\u5e8a\\u9ad8:24\\u6642\\u9593\\u5f8c\",\"data_source\":{\"type\":\"object\",\"name\":\"ColumnDataSource\",\"id\":\"p1219\",\"attributes\":{\"selected\":{\"type\":\"object\",\"name\":\"Selection\",\"id\":\"p1220\",\"attributes\":{\"indices\":[],\"line_indices\":[]}},\"selection_policy\":{\"type\":\"object\",\"name\":\"UnionRenderers\",\"id\":\"p1221\"},\"data\":{\"type\":\"map\",\"entries\":[[\"x\",{\"type\":\"ndarray\",\"array\":{\"type\":\"bytes\",\"data\":\"AAAAAAAAAAAAAAAAAABZQAAAAAAAAGlAAAAAAADAckAAAAAAAAB5QAAAAAAAQH9AAAAAAADAgkAAAAAAAOCFQAAAAAAAAIlAAAAAAAAgjEAAAAAAAECPQAAAAAAAMJFAAAAAAADAkkAAAAAAAFCUQAAAAAAA4JVAAAAAAABwl0AAAAAAAACZQAAAAAAAkJpAAAAAAAAgnEAAAAAAALCdQAAAAAAAQJ9AAAAAAABooEAAAAAAADChQAAAAAAA+KFAAAAAAADAokAAAAAAAIijQAAAAAAAUKRAAAAAAAAYpUAAAAAAAOClQAAAAAAAqKZAAAAAAABwp0AAAAAAADioQAAAAAAAAKlAAAAAAADIqUAAAAAAAJCqQAAAAAAAWKtAAAAAAAAgrEAAAAAAAOisQAAAAAAAsK1AAAAAAAB4rkAAAAAAAECvQAAAAAAABLBAAAAAAABosEAAAAAAAMywQAAAAAAAMLFAAAAAAACUsUAAAAAAAPixQAAAAAAAXLJAAAAAAADAskAAAAAAACSzQAAAAAAAiLNAAAAAAADss0AAAAAAAFC0QAAAAAAAtLRAAAAAAAAYtUAAAAAAAHy1QAAAAAAA4LVAAAAAAABEtkAAAAAAAKi2QAAAAAAADLdAAAAAAABwt0AAAAAAANS3QAAAAAAAOLhAAAAAAACcuEAAAAAAAAC5QAAAAAAAZLlAAAAAAADIuUAAAAAAACy6QAAAAAAAkLpAAAAAAAD0ukAAAAAAAFi7QAAAAAAAvLtAAAAAAAAgvEAAAAAAAIS8QAAAAAAA6LxAAAAAAABMvUAAAAAAALC9QAAAAAAAFL5AAAAAAAB4vkAAAAAAANy+QAAAAAAAQL9AAAAAAACkv0AAAAAAAATAQAAAAAAANsBAAAAAAABowEAAAAAAAJrAQAAAAAAAzMBAAAAAAAD+wEAAAAAAADDBQAAAAAAAYsFAAAAAAACUwUAAAAAAAMbBQAAAAAAA+MFAAAAAAAAqwkAAAAAAAFzCQAAAAAAAjsJAAAAAAADAwkAAAAAAAPLCQAAAAAAAJMNAAAAAAABWw0AAAAAAAIjDQA==\"},\"shape\":[101],\"dtype\":\"float64\",\"order\":\"little\"}],[\"y\",{\"type\":\"ndarray\",\"array\":{\"type\":\"bytes\",\"data\":\"dsZdPaeNoD9iNwQvvmDJP02fIewBB9Y/PGrnobFg3z8JP14H117kP4Kkuc8eD+k/gelbG1fB7T9rtoCN1TrxP5OeMG8llvM/o+PmC7by9T/2xaGIpVD4P/fPgfMVsPo/31uUEy4R/T9aVXeDGnT/PzAqpJ6H7ABAQbb26SQgAkDD3elbClUDQCR6DgxmiwRApshqn3LDBUCh8wzbfP0GQBI0whHsOQhAvrIG0E55CUATzoS1bbwKQDq0JRNnBAxAlIk0kNZSDUCvsOSLDKoOQHdTnlKsBhBAA9ahYbTAEECwIbIlXIYRQKsOm37/WxJA8RvkLDxHE0AcGrlp3E4UQNjB5NFMehVAUb4hdFPQFkCfn9KP01QYQPkeuOXMBRpAITG2RoTYG0BLn/1UhLgdQKfHbQ0Zih9ASyFohz2YIEArz3I91kohQPQFst1C2CFAasxU1OFCIkANAigcypEiQDpeB/ZizSJAKUYOCN38IkCX8QAhUCUjQFJjPqfySSNAZHnTy6hsI0CQ4vfQhI4jQOkUHwgfsCNA8i2ua8vRI0ASrrhkuPMjQDMMAe3/FSRAdFIO8bA4JEAk6ARn1FskQPNscgxwfyRAAEvY3YejJECmbhveHsgkQDYIaX837SRA472o2dMSJUC7zwzG9TglQM+cpOyeXyVAEwpeytCGJUC8Mk+zjK4lQC8p39LT1iVAr53CKqf/JUA8aXaRBykmQE+UWrD1UiZA8QxrAXJ9JkA/NfzMfKgmQJd3LCcW1CZAmK1X7T0AJ0A0DWLD8ywnQL2/ExE3WidAYzpO/waIJ0DPvUV1YrYnQL7yxhVI5SdAvTGBPLYUKECapFP7qkQoQGrjxhckdShAPJqGCB+mKEC9dw7zmNcoQEfegKmOCSlAu4CuqPw7KUBuDkUW324pQGdnTr8xoilAxOD8FvDVKUBQir81FQoqQEGuodibPipAle8pYX5zKkCz2YDVtqgqQNPdFuE+3ipAtx241Q8UK0CNdTytIkorQBzxbAtwgCtA69vUQPC2K0C/jMZNm+0rQOfgIuZoJCxANTCedVBbLEAlSZIkSZIsQA==\"},\"shape\":[101],\"dtype\":\"float64\",\"order\":\"little\"}]]}}},\"view\":{\"type\":\"object\",\"name\":\"CDSView\",\"id\":\"p1229\",\"attributes\":{\"filter\":{\"type\":\"object\",\"name\":\"AllIndices\",\"id\":\"p1230\"}}},\"glyph\":{\"type\":\"object\",\"name\":\"Line\",\"id\":\"p1225\",\"attributes\":{\"tags\":[\"apply_ranges\"],\"x\":{\"type\":\"field\",\"field\":\"x\"},\"y\":{\"type\":\"field\",\"field\":\"y\"},\"line_color\":\"#000000\",\"line_width\":2}},\"selection_glyph\":{\"type\":\"object\",\"name\":\"Line\",\"id\":\"p1232\",\"attributes\":{\"tags\":[\"apply_ranges\"],\"x\":{\"type\":\"field\",\"field\":\"x\"},\"y\":{\"type\":\"field\",\"field\":\"y\"},\"line_color\":\"#000000\",\"line_width\":2}},\"nonselection_glyph\":{\"type\":\"object\",\"name\":\"Line\",\"id\":\"p1226\",\"attributes\":{\"tags\":[\"apply_ranges\"],\"x\":{\"type\":\"field\",\"field\":\"x\"},\"y\":{\"type\":\"field\",\"field\":\"y\"},\"line_color\":\"#000000\",\"line_alpha\":0.1,\"line_width\":2}},\"muted_glyph\":{\"type\":\"object\",\"name\":\"Line\",\"id\":\"p1227\",\"attributes\":{\"tags\":[\"apply_ranges\"],\"x\":{\"type\":\"field\",\"field\":\"x\"},\"y\":{\"type\":\"field\",\"field\":\"y\"},\"line_color\":\"#000000\",\"line_alpha\":0.2,\"line_width\":2}}}}],\"toolbar\":{\"type\":\"object\",\"name\":\"Toolbar\",\"id\":\"p1154\",\"attributes\":{\"tools\":[{\"type\":\"object\",\"name\":\"WheelZoomTool\",\"id\":\"p1138\",\"attributes\":{\"tags\":[\"hv_created\"],\"renderers\":\"auto\",\"zoom_together\":\"none\"}},{\"type\":\"object\",\"name\":\"SaveTool\",\"id\":\"p1167\"},{\"type\":\"object\",\"name\":\"PanTool\",\"id\":\"p1168\"},{\"type\":\"object\",\"name\":\"BoxZoomTool\",\"id\":\"p1169\",\"attributes\":{\"overlay\":{\"type\":\"object\",\"name\":\"BoxAnnotation\",\"id\":\"p1170\",\"attributes\":{\"syncable\":false,\"level\":\"overlay\",\"visible\":false,\"left\":{\"type\":\"number\",\"value\":\"nan\"},\"right\":{\"type\":\"number\",\"value\":\"nan\"},\"top\":{\"type\":\"number\",\"value\":\"nan\"},\"bottom\":{\"type\":\"number\",\"value\":\"nan\"},\"left_units\":\"canvas\",\"right_units\":\"canvas\",\"top_units\":\"canvas\",\"bottom_units\":\"canvas\",\"line_color\":\"black\",\"line_alpha\":1.0,\"line_width\":2,\"line_dash\":[4,4],\"fill_color\":\"lightgrey\",\"fill_alpha\":0.5}}}},{\"type\":\"object\",\"name\":\"ResetTool\",\"id\":\"p1175\"}],\"active_drag\":{\"id\":\"p1168\"},\"active_scroll\":{\"id\":\"p1138\"}}},\"left\":[{\"type\":\"object\",\"name\":\"LinearAxis\",\"id\":\"p1162\",\"attributes\":{\"ticker\":{\"type\":\"object\",\"name\":\"BasicTicker\",\"id\":\"p1163\",\"attributes\":{\"mantissas\":[1,2,5]}},\"formatter\":{\"type\":\"object\",\"name\":\"BasicTickFormatter\",\"id\":\"p1164\"},\"axis_label\":\"Elevation[m]\",\"major_label_policy\":{\"type\":\"object\",\"name\":\"AllLabels\",\"id\":\"p1165\"}}}],\"below\":[{\"type\":\"object\",\"name\":\"LinearAxis\",\"id\":\"p1157\",\"attributes\":{\"ticker\":{\"type\":\"object\",\"name\":\"BasicTicker\",\"id\":\"p1158\",\"attributes\":{\"mantissas\":[1,2,5]}},\"formatter\":{\"type\":\"object\",\"name\":\"BasicTickFormatter\",\"id\":\"p1159\"},\"axis_label\":\"Distance[m]\",\"major_label_policy\":{\"type\":\"object\",\"name\":\"AllLabels\",\"id\":\"p1160\"}}}],\"center\":[{\"type\":\"object\",\"name\":\"Grid\",\"id\":\"p1161\",\"attributes\":{\"axis\":{\"id\":\"p1157\"},\"ticker\":{\"id\":\"p1158\"}}},{\"type\":\"object\",\"name\":\"Grid\",\"id\":\"p1166\",\"attributes\":{\"dimension\":1,\"axis\":{\"id\":\"p1162\"},\"ticker\":{\"id\":\"p1163\"}}},{\"type\":\"object\",\"name\":\"Legend\",\"id\":\"p1188\",\"attributes\":{\"location\":\"bottom_right\",\"click_policy\":\"mute\",\"items\":[{\"type\":\"object\",\"name\":\"LegendItem\",\"id\":\"p1189\",\"attributes\":{\"label\":{\"type\":\"value\",\"value\":\"\\u6c34\\u4f4d:\\u521d\\u671f\"},\"renderers\":[{\"id\":\"p1185\"}]}},{\"type\":\"object\",\"name\":\"LegendItem\",\"id\":\"p1203\",\"attributes\":{\"label\":{\"type\":\"value\",\"value\":\"\\u6cb3\\u5e8a\\u9ad8:\\u521d\\u671f\"},\"renderers\":[{\"id\":\"p1200\"}]}},{\"type\":\"object\",\"name\":\"LegendItem\",\"id\":\"p1217\",\"attributes\":{\"label\":{\"type\":\"value\",\"value\":\"\\u6c34\\u4f4d\\uff1a24\\u6642\\u9593\\u5f8c\"},\"renderers\":[{\"id\":\"p1214\"}]}},{\"type\":\"object\",\"name\":\"LegendItem\",\"id\":\"p1231\",\"attributes\":{\"label\":{\"type\":\"value\",\"value\":\"\\u6cb3\\u5e8a\\u9ad8:24\\u6642\\u9593\\u5f8c\"},\"renderers\":[{\"id\":\"p1228\"}]}}]}}],\"min_border_top\":10,\"min_border_bottom\":10,\"min_border_left\":10,\"min_border_right\":10,\"output_backend\":\"webgl\"}},{\"type\":\"object\",\"name\":\"Spacer\",\"id\":\"p1234\",\"attributes\":{\"name\":\"HSpacer01097\",\"stylesheets\":[\"\\n:host(.pn-loading):before, .pn-loading:before {\\n  background-color: #c3c3c3;\\n  mask-size: auto calc(min(50%, 400px));\\n  -webkit-mask-size: auto calc(min(50%, 400px));\\n}\",{\"id\":\"p1131\"},{\"id\":\"p1129\"},{\"id\":\"p1130\"}],\"margin\":0,\"sizing_mode\":\"stretch_width\",\"align\":\"start\"}}]}}],\"defs\":[{\"type\":\"model\",\"name\":\"ReactiveHTML1\"},{\"type\":\"model\",\"name\":\"FlexBox1\",\"properties\":[{\"name\":\"align_content\",\"kind\":\"Any\",\"default\":\"flex-start\"},{\"name\":\"align_items\",\"kind\":\"Any\",\"default\":\"flex-start\"},{\"name\":\"flex_direction\",\"kind\":\"Any\",\"default\":\"row\"},{\"name\":\"flex_wrap\",\"kind\":\"Any\",\"default\":\"wrap\"},{\"name\":\"gap\",\"kind\":\"Any\",\"default\":\"\"},{\"name\":\"justify_content\",\"kind\":\"Any\",\"default\":\"flex-start\"}]},{\"type\":\"model\",\"name\":\"FloatPanel1\",\"properties\":[{\"name\":\"config\",\"kind\":\"Any\",\"default\":{\"type\":\"map\"}},{\"name\":\"contained\",\"kind\":\"Any\",\"default\":true},{\"name\":\"position\",\"kind\":\"Any\",\"default\":\"right-top\"},{\"name\":\"offsetx\",\"kind\":\"Any\",\"default\":null},{\"name\":\"offsety\",\"kind\":\"Any\",\"default\":null},{\"name\":\"theme\",\"kind\":\"Any\",\"default\":\"primary\"},{\"name\":\"status\",\"kind\":\"Any\",\"default\":\"normalized\"}]},{\"type\":\"model\",\"name\":\"GridStack1\",\"properties\":[{\"name\":\"mode\",\"kind\":\"Any\",\"default\":\"warn\"},{\"name\":\"ncols\",\"kind\":\"Any\",\"default\":null},{\"name\":\"nrows\",\"kind\":\"Any\",\"default\":null},{\"name\":\"allow_resize\",\"kind\":\"Any\",\"default\":true},{\"name\":\"allow_drag\",\"kind\":\"Any\",\"default\":true},{\"name\":\"state\",\"kind\":\"Any\",\"default\":[]}]},{\"type\":\"model\",\"name\":\"drag1\",\"properties\":[{\"name\":\"slider_width\",\"kind\":\"Any\",\"default\":5},{\"name\":\"slider_color\",\"kind\":\"Any\",\"default\":\"black\"},{\"name\":\"value\",\"kind\":\"Any\",\"default\":50}]},{\"type\":\"model\",\"name\":\"click1\",\"properties\":[{\"name\":\"terminal_output\",\"kind\":\"Any\",\"default\":\"\"},{\"name\":\"debug_name\",\"kind\":\"Any\",\"default\":\"\"},{\"name\":\"clears\",\"kind\":\"Any\",\"default\":0}]},{\"type\":\"model\",\"name\":\"FastWrapper1\",\"properties\":[{\"name\":\"object\",\"kind\":\"Any\",\"default\":null},{\"name\":\"style\",\"kind\":\"Any\",\"default\":null}]},{\"type\":\"model\",\"name\":\"NotificationAreaBase1\",\"properties\":[{\"name\":\"js_events\",\"kind\":\"Any\",\"default\":{\"type\":\"map\"}},{\"name\":\"position\",\"kind\":\"Any\",\"default\":\"bottom-right\"},{\"name\":\"_clear\",\"kind\":\"Any\",\"default\":0}]},{\"type\":\"model\",\"name\":\"NotificationArea1\",\"properties\":[{\"name\":\"js_events\",\"kind\":\"Any\",\"default\":{\"type\":\"map\"}},{\"name\":\"notifications\",\"kind\":\"Any\",\"default\":[]},{\"name\":\"position\",\"kind\":\"Any\",\"default\":\"bottom-right\"},{\"name\":\"_clear\",\"kind\":\"Any\",\"default\":0},{\"name\":\"types\",\"kind\":\"Any\",\"default\":[{\"type\":\"map\",\"entries\":[[\"type\",\"warning\"],[\"background\",\"#ffc107\"],[\"icon\",{\"type\":\"map\",\"entries\":[[\"className\",\"fas fa-exclamation-triangle\"],[\"tagName\",\"i\"],[\"color\",\"white\"]]}]]},{\"type\":\"map\",\"entries\":[[\"type\",\"info\"],[\"background\",\"#007bff\"],[\"icon\",{\"type\":\"map\",\"entries\":[[\"className\",\"fas fa-info-circle\"],[\"tagName\",\"i\"],[\"color\",\"white\"]]}]]}]}]},{\"type\":\"model\",\"name\":\"Notification\",\"properties\":[{\"name\":\"background\",\"kind\":\"Any\",\"default\":null},{\"name\":\"duration\",\"kind\":\"Any\",\"default\":3000},{\"name\":\"icon\",\"kind\":\"Any\",\"default\":null},{\"name\":\"message\",\"kind\":\"Any\",\"default\":\"\"},{\"name\":\"notification_type\",\"kind\":\"Any\",\"default\":null},{\"name\":\"_destroyed\",\"kind\":\"Any\",\"default\":false}]},{\"type\":\"model\",\"name\":\"TemplateActions1\",\"properties\":[{\"name\":\"open_modal\",\"kind\":\"Any\",\"default\":0},{\"name\":\"close_modal\",\"kind\":\"Any\",\"default\":0}]},{\"type\":\"model\",\"name\":\"BootstrapTemplateActions1\",\"properties\":[{\"name\":\"open_modal\",\"kind\":\"Any\",\"default\":0},{\"name\":\"close_modal\",\"kind\":\"Any\",\"default\":0}]},{\"type\":\"model\",\"name\":\"TemplateEditor1\",\"properties\":[{\"name\":\"layout\",\"kind\":\"Any\",\"default\":[]}]},{\"type\":\"model\",\"name\":\"MaterialTemplateActions1\",\"properties\":[{\"name\":\"open_modal\",\"kind\":\"Any\",\"default\":0},{\"name\":\"close_modal\",\"kind\":\"Any\",\"default\":0}]},{\"type\":\"model\",\"name\":\"copy_to_clipboard1\",\"properties\":[{\"name\":\"fill\",\"kind\":\"Any\",\"default\":\"none\"},{\"name\":\"value\",\"kind\":\"Any\",\"default\":null}]}]}};\n",
       "  var render_items = [{\"docid\":\"a7dc20f0-5e97-4d56-8b63-68517a5d0c07\",\"roots\":{\"p1128\":\"b486786c-06ea-46fd-ac30-5eb50259750d\"},\"root_ids\":[\"p1128\"]}];\n",
       "  var docs = Object.values(docs_json)\n",
       "  if (!docs) {\n",
       "    return\n",
       "  }\n",
       "  const py_version = docs[0].version.replace('rc', '-rc.').replace('.dev', '-dev.')\n",
       "  async function embed_document(root) {\n",
       "    var Bokeh = get_bokeh(root)\n",
       "    await Bokeh.embed.embed_items_notebook(docs_json, render_items);\n",
       "    for (const render_item of render_items) {\n",
       "      for (const root_id of render_item.root_ids) {\n",
       "\tconst id_el = document.getElementById(root_id)\n",
       "\tif (id_el.children.length && id_el.children[0].hasAttribute('data-root-id')) {\n",
       "\t  const root_el = id_el.children[0]\n",
       "\t  root_el.id = root_el.id + '-rendered'\n",
       "\t  for (const child of root_el.children) {\n",
       "            // Ensure JupyterLab does not capture keyboard shortcuts\n",
       "            // see: https://jupyterlab.readthedocs.io/en/4.1.x/extension/notebook.html#keyboard-interaction-model\n",
       "\t    child.setAttribute('data-lm-suppress-shortcuts', 'true')\n",
       "\t  }\n",
       "\t}\n",
       "      }\n",
       "    }\n",
       "  }\n",
       "  function get_bokeh(root) {\n",
       "    if (root.Bokeh === undefined) {\n",
       "      return null\n",
       "    } else if (root.Bokeh.version !== py_version) {\n",
       "      if (root.Bokeh.versions === undefined || !root.Bokeh.versions.has(py_version)) {\n",
       "\treturn null\n",
       "      }\n",
       "      return root.Bokeh.versions.get(py_version);\n",
       "    } else if (root.Bokeh.version === py_version) {\n",
       "      return root.Bokeh\n",
       "    }\n",
       "    return null\n",
       "  }\n",
       "  function is_loaded(root) {\n",
       "    var Bokeh = get_bokeh(root)\n",
       "    return (Bokeh != null && Bokeh.Panel !== undefined)\n",
       "  }\n",
       "  if (is_loaded(root)) {\n",
       "    embed_document(root);\n",
       "  } else {\n",
       "    var attempts = 0;\n",
       "    var timer = setInterval(function(root) {\n",
       "      if (is_loaded(root)) {\n",
       "        clearInterval(timer);\n",
       "        embed_document(root);\n",
       "      } else if (document.readyState == \"complete\") {\n",
       "        attempts++;\n",
       "        if (attempts > 200) {\n",
       "          clearInterval(timer);\n",
       "\t  var Bokeh = get_bokeh(root)\n",
       "\t  if (Bokeh == null || Bokeh.Panel == null) {\n",
       "            console.warn(\"Panel: ERROR: Unable to run Panel code because Bokeh or Panel library is missing\");\n",
       "\t  } else {\n",
       "\t    console.warn(\"Panel: WARNING: Attempting to render but not all required libraries could be resolved.\")\n",
       "\t    embed_document(root)\n",
       "\t  }\n",
       "        }\n",
       "      }\n",
       "    }, 25, root)\n",
       "  }\n",
       "})(window);</script>"
      ],
      "text/plain": [
       ":Overlay\n",
       "   .Curve.水位_colon_初期              :Curve   [x]   (y)\n",
       "   .Curve.河床高_colon_初期             :Curve   [x]   (y)\n",
       "   .Curve.水位_fullwidth_colon_24時間後 :Curve   [x]   (y)\n",
       "   .Curve.河床高_colon_24時間後          :Curve   [x]   (y)"
      ]
     },
     "execution_count": 12,
     "metadata": {
      "application/vnd.holoviews_exec.v0+json": {
       "id": "p1128"
      }
     },
     "output_type": "execute_result"
    }
   ],
   "source": [
    "g11 = hv.Curve((L, hini[::-1]+zbini[::-1]), label='水位:初期').options(color='c',line_dash='dashed')\n",
    "g12 = hv.Curve((L, zbini[::-1]), label='河床高:初期').options(color='k',line_dash='dashed')\n",
    "g21 = hv.Curve((L, h[::-1]+zb[::-1]), label='水位：24時間後').options(color='c')\n",
    "g22 = hv.Curve((L, zb[::-1]), label='河床高:24時間後').options(color='k')\n",
    "g = g11*g12*g21*g22\n",
    "\n",
    "g.options(show_grid=True,xlabel='Distance[m]',ylabel='Elevation[m]'\n",
    "    , width=600, height=400, title='bed elevation',legend_position='bottom_right')"
   ]
  }
 ],
 "metadata": {
  "kernelspec": {
   "display_name": "py312",
   "language": "python",
   "name": "python3"
  },
  "language_info": {
   "codemirror_mode": {
    "name": "ipython",
    "version": 3
   },
   "file_extension": ".py",
   "mimetype": "text/x-python",
   "name": "python",
   "nbconvert_exporter": "python",
   "pygments_lexer": "ipython3",
   "version": "3.12.3"
  }
 },
 "nbformat": 4,
 "nbformat_minor": 5
}
