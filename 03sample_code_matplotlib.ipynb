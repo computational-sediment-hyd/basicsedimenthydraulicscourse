{
 "cells": [
  {
   "cell_type": "code",
   "execution_count": 1,
   "id": "705b44d1",
   "metadata": {},
   "outputs": [],
   "source": [
    "import numpy as np\n",
    "from numba import jit #関数の高速化のライブラリ\n",
    "import matplotlib.pyplot as plt"
   ]
  },
  {
   "cell_type": "markdown",
   "id": "0995d575",
   "metadata": {},
   "source": [
    "## 不等流計算"
   ]
  },
  {
   "cell_type": "code",
   "execution_count": 2,
   "id": "d6458b67",
   "metadata": {},
   "outputs": [],
   "source": [
    "@jit(nopython=True, parallel=False) # 高速化：デバッグ時は使わない方が良い\n",
    "def nonuniformflow(q, hDB, zb, dx, manning, g=float(9.8)):\n",
    "    h = np.zeros_like(zb) #水深の配列\n",
    "    h[0] = hDB #下流端条件\n",
    "\n",
    "    for i in range(1,len(h)):\n",
    "    # newton法による反復計算\n",
    "        # h[i] = h[i-1] + zb[i-1] - zb[i]#収束計算の初期値：一つ下流側の断面の水深\n",
    "        # f = 1.0 #仮値\n",
    "        # dfdh = 1.0 #仮値\n",
    "        # while np.abs(f/dfdh) > 10**(-8): # 反復計算の収束条件\n",
    "        #     f = q**2/2.0/g/h[i]**2 + h[i] + zb[i] \\\n",
    "        #       -(q**2/2.0/g/h[i-1]**2 + h[i-1] + zb[i-1]) \\\n",
    "        #       - 0.5*(q**2*manning**2/h[i]**(10/3) + q**2*manning**2/h[i-1]**(10/3))*dx\n",
    "        #     dfdh = -q**2/g/h[i]**3 + 1 + 5/3*q**2*manning**2/h[i]**(13/3)*dx\n",
    "        #     h[i] -= f/dfdh\n",
    "\n",
    "    # 二分法による反復計算 : hcから徐々に上げていく\n",
    "        hc = (q**2/g)**(1/3) # 限界水深 \n",
    "        hp = hc\n",
    "        E1 = q**2/2.0/g/hp**2 + hp + zb[i]\n",
    "        E2 = + (q**2/2.0/g/h[i-1]**2 + h[i-1] + zb[i-1]) \\\n",
    "              + 0.5*(q**2*manning**2/hp**(10/3) + q**2*manning**2/h[i-1]**(10/3))*dx\n",
    "\n",
    "        if E2 >= E1 : #常流時のみ計算, 射流時は限界水深に置き換え\n",
    "        # 収束計算の初期値は限界水深+hmin:0.0001m\n",
    "            hp += 0.0001\n",
    "            dht = 0.1\n",
    "            for _ in range(1000):\n",
    "                E1 = q**2/2.0/g/hp**2 + hp + zb[i]\n",
    "                E2 = + (q**2/2.0/g/h[i-1]**2 + h[i-1] + zb[i-1]) \\\n",
    "                      + 0.5*(q**2*manning**2/hp**(10/3) + q**2*manning**2/h[i-1]**(10/3))*dx\n",
    "            \n",
    "                if np.abs(E1 - E2) < 10**(-8): \n",
    "                    break\n",
    "                elif E1 > E2 :\n",
    "                    dht *= float(0.5)\n",
    "                    hp -= dht\n",
    "                else:\n",
    "                    hp += dht\n",
    "            else:\n",
    "                print('error : max iteration - nonuniform flow sect No.', i, 'err=', np.abs(E1 - E2))\n",
    "\n",
    "        h[i] = hp\n",
    "        # print(h[i])\n",
    "    return h"
   ]
  },
  {
   "cell_type": "markdown",
   "id": "43fe07ec",
   "metadata": {},
   "source": [
    "## 沈降速度式:rubeyの式"
   ]
  },
  {
   "cell_type": "code",
   "execution_count": 3,
   "id": "e13c683b",
   "metadata": {},
   "outputs": [],
   "source": [
    "def rubeyw0(dd, nu=10**(-6)):\n",
    "    rhosw = 1.65 # Specific gravity in water of sand \n",
    "    g = 9.8 # acceleration of gravity\n",
    "    tmp = 36.0*nu**2/rhosw/g/dd**3\n",
    "    F = np.sqrt(2.0/3.0 + tmp) - np.sqrt(tmp)\n",
    "    \n",
    "    return np.sqrt(rhosw*g*dd)*F"
   ]
  },
  {
   "cell_type": "markdown",
   "id": "6cf3a020",
   "metadata": {},
   "source": [
    "## 移動限界:岩垣の式"
   ]
  },
  {
   "cell_type": "code",
   "execution_count": 4,
   "id": "758e9910",
   "metadata": {},
   "outputs": [],
   "source": [
    "def iwagaki_org(d, g=9.8, Gw=1.65, nu=0.000001):\n",
    "    #d:diameter[m]\n",
    "    t = Gw*g*d**3/nu**2\n",
    "    Rs = np.sqrt(t)\n",
    "    \n",
    "    R1, R2, R3, R4 = 671.0, 162.7, 54.2, 2.14\n",
    "    Y1, Y2, Y3 = 0.05, 0.034, 0.14\n",
    "    alpha1, beta1 = 0.008492171377400728, 0.13636363636363635\n",
    "    alpha2, beta2 = 0.19514831719540923, -0.21875\n",
    "    \n",
    "    if Rs >= R1:\n",
    "        taus = Y1\n",
    "    elif Rs >= R2:\n",
    "        taus = alpha1*t**beta1\n",
    "    elif Rs >= R3:\n",
    "        taus = Y2\n",
    "    elif Rs >= R4:\n",
    "        taus = alpha2*t**beta2\n",
    "    else:\n",
    "        taus = Y3\n",
    "        \n",
    "    return taus #, Rs*np.sqrt(taus)"
   ]
  },
  {
   "cell_type": "markdown",
   "id": "8036699a",
   "metadata": {},
   "source": [
    "## 基準面濃度式：岸・板倉式"
   ]
  },
  {
   "cell_type": "code",
   "execution_count": 5,
   "id": "2938e295",
   "metadata": {},
   "outputs": [],
   "source": [
    "@jit(nopython=True, parallel=False) # 高速化：デバッグ時は使わない方が良い\n",
    "def erfc(xi):\n",
    "    \n",
    "    def erf(xi):\n",
    "        x = np.abs(xi)\n",
    "        \n",
    "        t = 1/(1+0.5*x)\n",
    "        \n",
    "        tt = t*np.exp( -x**2    \n",
    "        -1.26551223*t**0\n",
    "        +1.00002368*t**1\n",
    "        +0.37409196*t**2\n",
    "        +0.09678418*t**3\n",
    "        -0.18628806*t**4\n",
    "        +0.27886807*t**5\n",
    "        -1.13520398*t**6\n",
    "        +1.48851587*t**7\n",
    "        -0.82215223*t**8\n",
    "        +0.17087277*t**9\n",
    "          )\n",
    "        \n",
    "        return  1.0 - tt if xi >= 0.0 else tt-1.0\n",
    "    \n",
    "    return 1.0 - erf(xi)\n",
    "\n",
    "@jit(nopython=True, parallel=False) # 高速化：デバッグ時は使わない方が良い\n",
    "def caKishiKuroki(us, taus, w0, K = 0.0018, rhosw = float(1.65)):\n",
    "    alfa = 0.14\n",
    "    Bs = 0.143\n",
    "    eta = 0.5\n",
    "    \n",
    "    def omega(taus):\n",
    "        aprime = Bs/taus - 1.0/eta\n",
    "        c1 = 0.5 / np.sqrt(np.pi) * np.exp(-aprime**2) \n",
    "        c2 = 0.5 * erfc(aprime)\n",
    "        \n",
    "        if c2 <= 0.0 :\n",
    "            rr = 0.0\n",
    "        else:\n",
    "            rr =taus/Bs*c1/c2+ taus/Bs/eta - 1.0\n",
    "        \n",
    "        return rr \n",
    "    \n",
    "    r = K*( alfa/(rhosw+1)*us/w0*omega(taus)/taus - 1.0 )\n",
    "    \n",
    "    return 0.0 if r < 0.0 else r\n",
    "\n",
    "@jit(nopython=True, parallel=False) # 高速化：デバッグ時は使わない方が良い\n",
    "def qsuca(q, h, manning, dm, w0, tausc, g = float(9.8), rhosw = float(1.65)):\n",
    "    ca = np.zeros_like(h)\n",
    "    for i in range(len(h)):\n",
    "        us = np.sqrt(g)*manning*q/h[i]**(7/6) # 摩擦速度\n",
    "        taus = us**2/rhosw/g/dm # 無次元掃流力\n",
    "        if taus <= tausc :\n",
    "            ca[i] = 0.0\n",
    "        elif us/w0 < 1.0:\n",
    "            ca[i] = 0.0\n",
    "        else:\n",
    "            ca[i] = caKishiKuroki(us, taus, w0)\n",
    "\n",
    "    return ca"
   ]
  },
  {
   "cell_type": "markdown",
   "id": "da446478",
   "metadata": {},
   "source": [
    "## 濃度の質量保存則の計算"
   ]
  },
  {
   "cell_type": "code",
   "execution_count": 6,
   "id": "8447a2d7",
   "metadata": {},
   "outputs": [],
   "source": [
    "@jit(nopython=True, parallel=False) # 高速化：デバッグ時は使わない方が良い\n",
    "def calConcentration(q, h, w0, manning, Erosion, dx, g=float(9.8)):\n",
    "    kappa=0.4 # カルマン定数\n",
    "    # 濃度の連続式を計算\n",
    "    c = np.zeros(len(Erosion)) \n",
    "    Deposition = np.zeros(len(Erosion)) \n",
    "\n",
    "    # 上端端境界 : 平衡状態\n",
    "    i = 0\n",
    "    us = np.sqrt(g)*manning*q/h[i]**(7/6) # 摩擦速度\n",
    "    epsilon = kappa*us*h[i]/6.0\n",
    "    A =  w0*h[i]/epsilon\n",
    "    c[i] = Erosion[i]/w0/A*(1.0-np.exp(-A))\n",
    "    Deposition[i] = Erosion[i]\n",
    "\n",
    "    for i in range(1, len(c)):\n",
    "        us = np.sqrt(g)*manning*q/h[i]**(7/6) # 摩擦速度\n",
    "        epsilon = kappa*us*h[i]/6.0\n",
    "        A =  w0*h[i]/epsilon\n",
    "        c[i] = (q*c[i-1] + dx*Erosion[i])/(q + dx*w0*A/(1.0-np.exp(-A)))\n",
    "        if c[i] < 0.0:print('濃度が負になりました', c[i], 'i=', i)\n",
    "        Deposition[i] = w0*c[i]*A/(1.0-np.exp(-A))\n",
    "\n",
    "    return c, Deposition"
   ]
  },
  {
   "cell_type": "markdown",
   "id": "00dea556",
   "metadata": {},
   "source": [
    "## 河床の連続式の計算"
   ]
  },
  {
   "cell_type": "code",
   "execution_count": 7,
   "id": "0f5c7a25",
   "metadata": {},
   "outputs": [],
   "source": [
    "@jit(nopython=True, parallel=False) # 高速化：デバッグ時は使わない方が良い\n",
    "def calzb(zb, qbhfp, Erosion, Deposition, dx, dt, porosity=0.4):\n",
    "    # 河床の連続式を計算\n",
    "    dzb = np.zeros(len(zb)) \n",
    "    for i in range(len(zb)):\n",
    "        dzb[i] = - dt / (1.0 - porosity) * ( qbhfp[i+1] - qbhfp[i] )/dx \\\n",
    "                 - dt / (1.0 - porosity) * ( Erosion[i] - Deposition[i] )\n",
    "\n",
    "    zb += dzb #zbの更新\n",
    "    return zb, dzb"
   ]
  },
  {
   "cell_type": "markdown",
   "id": "1da17390",
   "metadata": {},
   "source": [
    "## main"
   ]
  },
  {
   "cell_type": "markdown",
   "id": "df32f4bd",
   "metadata": {},
   "source": [
    "### 計算条件の設定"
   ]
  },
  {
   "cell_type": "code",
   "execution_count": 8,
   "id": "e0332f2f",
   "metadata": {},
   "outputs": [],
   "source": [
    "q = 5.0 #単位幅流量[m^2/s]\n",
    "manning = 0.02 #マニングの粗度係数\n",
    "dm = 0.1/1000 #粒径[m]\n",
    "dx = 100.0 #空間刻み[m] \n",
    "dt = 10.0 #時間刻み[s]\n",
    "\n",
    "# 河床高の設定\n",
    "ib = 1.0/700.0\n",
    "L = np.arange(0,10000.01,dx) #追加距離の配列\n",
    "zbr = L*ib #河床高の配列\n",
    "zb  = zbr[::-1]"
   ]
  },
  {
   "cell_type": "markdown",
   "id": "07459075",
   "metadata": {},
   "source": [
    "### 水理量のチェック"
   ]
  },
  {
   "cell_type": "code",
   "execution_count": 9,
   "id": "5dfe5c83",
   "metadata": {},
   "outputs": [
    {
     "name": "stdout",
     "output_type": "stream",
     "text": [
      "下流端条件- 水深： 1.792789962520997 Froude数: 0.6653694374950128 \n",
      " 無次元掃流力: 15.521991017497811 沈降速度: 0.008395906310246372 移動限界: 0.10615965384825574\n"
     ]
    }
   ],
   "source": [
    "h0 = (q**2*manning**2/ib)**0.3 #等流水深\n",
    "hc = (q**2/9.8)**(1/3) # 限界水深 \n",
    "fr = q/h0/np.sqrt(9.8*h0)\n",
    "taus = h0*ib/1.65/dm\n",
    "tausc = iwagaki_org(dm)\n",
    "w0 = rubeyw0(dm) # Rubeyの式による臨界流速\n",
    "print('下流端条件-','水深：',h0, 'Froude数:' , fr,'\\n', '無次元掃流力:', taus, '沈降速度:', w0, '移動限界:', tausc)"
   ]
  },
  {
   "cell_type": "markdown",
   "id": "d4f66e92",
   "metadata": {},
   "source": [
    "### 初期河床高を設定"
   ]
  },
  {
   "cell_type": "code",
   "execution_count": 10,
   "id": "65b4c0a4",
   "metadata": {},
   "outputs": [],
   "source": [
    "# 河道中央付近にマウンドを設定\n",
    "imd = len(zb)//2\n",
    "zbsub = np.zeros_like(zb)\n",
    "imd2 = imd+2\n",
    "zbsub[imd:imd2] = 0.5 #中央付近の河床高に0.5mの凸を追加\n",
    "zbsub[imd-1] = zbsub[imd2]   = 0.4 #擦り付け\n",
    "zbsub[imd-2] = zbsub[imd2+1] = 0.3 #擦り付け\n",
    "zbsub[imd-3] = zbsub[imd2+2] = 0.2 #擦り付け\n",
    "zbsub[imd-4] = zbsub[imd2+3] = 0.1 #擦り付け\n",
    "\n",
    "zb += zbsub #初期河床高"
   ]
  },
  {
   "cell_type": "code",
   "execution_count": 11,
   "id": "18ed4aa7",
   "metadata": {},
   "outputs": [
    {
     "data": {
      "image/png": "[encoded data removed]",
      "text/plain": [
       "<Figure size 800x500 with 1 Axes>"
      ]
     },
     "metadata": {},
     "output_type": "display_data"
    }
   ],
   "source": [
    "fig, ax = plt.subplots(figsize=(8, 5))\n",
    "\n",
    "ax.plot(L, zb[::-1], label='zb', color='k')\n",
    "ax.set_xlabel('Distance[m]')\n",
    "ax.set_ylabel('Elevation[m]')\n",
    "ax.grid()"
   ]
  },
  {
   "cell_type": "markdown",
   "id": "b3c6ca75",
   "metadata": {},
   "source": [
    "### 河床変動計算"
   ]
  },
  {
   "cell_type": "code",
   "execution_count": 12,
   "id": "790feb5f",
   "metadata": {},
   "outputs": [
    {
     "name": "stdout",
     "output_type": "stream",
     "text": [
      "CPU times: total: 281 ms\n",
      "Wall time: 1.67 s\n"
     ]
    }
   ],
   "source": [
    "%%time\n",
    "istep = int(1.0*3600.0/dt) #計算時間：ステップ数\n",
    "\n",
    "zbini = zb.copy() #初期河床高の保存\n",
    "c = np.zeros(len(zb)) #濃度の初期値\n",
    "Erosion = np.zeros(len(zb)) #浸食量の初期値\n",
    "\n",
    "for itr in range(istep):\n",
    "    hDB = h0 #下流端の水深\n",
    "    # hDB = float(12) #下流端の水深\n",
    "    zbr = zb[::-1] #不等流計算用に逆順にする\n",
    "    hr = nonuniformflow(q, hDB, zbr, dx, manning) # 不等流計算\n",
    "\n",
    "    h = hr[::-1] #不等流計算結果が逆順になっているので元に戻す\n",
    "    if itr==0: hini = h.copy() #初期水深の保存\n",
    "\n",
    "    # 掃流砂量の計算 \n",
    "    qbhf = np.zeros(len(h)+1) # 掃流砂量は0とする。\n",
    "\n",
    "    # 浮遊砂の計算:巻き上げ量の計算\n",
    "    caE = qsuca(q, h, manning, dm, w0, tausc) #巻き上げ量の基準面濃度の計算\n",
    "    Erosion = w0*caE  # 浮遊砂の巻き上げ量\n",
    "\n",
    "    # 濃度の更新、沈降量の計算\n",
    "    c, Deposition = calConcentration(q, h, w0, manning, Erosion, dx) \n",
    "\n",
    "    #河床高の更新\n",
    "    zb, d = calzb(zb, qbhf, Erosion, Deposition, dx, dt) "
   ]
  },
  {
   "cell_type": "markdown",
   "id": "46694402",
   "metadata": {},
   "source": [
    "## 図化"
   ]
  },
  {
   "cell_type": "code",
   "execution_count": 13,
   "id": "8c82fc8e",
   "metadata": {},
   "outputs": [
    {
     "data": {
      "text/plain": [
       "<matplotlib.legend.Legend at 0x2744eb23380>"
      ]
     },
     "execution_count": 13,
     "metadata": {},
     "output_type": "execute_result"
    },
    {
     "data": {
      "image/png": "[encoded data removed]",
      "text/plain": [
       "<Figure size 800x500 with 1 Axes>"
      ]
     },
     "metadata": {},
     "output_type": "display_data"
    }
   ],
   "source": [
    "fig, ax = plt.subplots(figsize=(8, 5))\n",
    "\n",
    "ax.plot(L, hini[::-1] + zbini[::-1], label='WL:initial', color='c', linestyle='dashed')\n",
    "ax.plot(L, zbini[::-1], label='zb:initial', color='k', linestyle='dashed')\n",
    "ax.plot(L, h[::-1] + zb[::-1], label='WL:1hr', color='c')\n",
    "ax.plot(L, zb[::-1], label='zb:1hr', color='k')\n",
    "\n",
    "ax.set_xlabel('Distance[m]')\n",
    "ax.set_ylabel('Elevation[m]')\n",
    "ax.set_title('Bed Elevation')\n",
    "ax.grid(True)\n",
    "ax.legend()"
   ]
  }
 ],
 "metadata": {
  "kernelspec": {
   "display_name": "py312",
   "language": "python",
   "name": "python3"
  },
  "language_info": {
   "codemirror_mode": {
    "name": "ipython",
    "version": 3
   },
   "file_extension": ".py",
   "mimetype": "text/x-python",
   "name": "python",
   "nbconvert_exporter": "python",
   "pygments_lexer": "ipython3",
   "version": "3.12.3"
  }
 },
 "nbformat": 4,
 "nbformat_minor": 5
}
