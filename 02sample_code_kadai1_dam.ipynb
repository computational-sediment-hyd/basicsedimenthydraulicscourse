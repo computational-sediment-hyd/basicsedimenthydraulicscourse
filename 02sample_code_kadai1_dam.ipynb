{
 "cells": [
  {
   "cell_type": "markdown",
   "id": "2e9ce243",
   "metadata": {},
   "source": [
    "1. ダム堆砂の計算\n",
    " - 単位幅流量：5.0 $\\mathrm{m^2/s}$、マニングの粗度係数：0.02、粒径：5 $\\mathrm{mm}$ 河床勾配：1/700、延長10kmの水路において、下流端の水深を12m、下流端の流砂量0として、上端端から平衡流砂を10日間を続けた場合の河床変動を計算せよ。"
   ]
  },
  {
   "cell_type": "code",
   "execution_count": 1,
   "id": "705b44d1",
   "metadata": {},
   "outputs": [
    {
     "data": {
      "application/javascript": "(function(root) {\n  function now() {\n    return new Date();\n  }\n\n  var force = true;\n  var py_version = '3.4.1'.replace('rc', '-rc.').replace('.dev', '-dev.');\n  var reloading = false;\n  var Bokeh = root.Bokeh;\n\n  if (typeof (root._bokeh_timeout) === \"undefined\" || force) {\n    root._bokeh_timeout = Date.now() + 5000;\n    root._bokeh_failed_load = false;\n  }\n\n  function run_callbacks() {\n    try {\n      root._bokeh_onload_callbacks.forEach(function(callback) {\n        if (callback != null)\n          callback();\n      });\n    } finally {\n      delete root._bokeh_onload_callbacks;\n    }\n    console.debug(\"Bokeh: all callbacks have finished\");\n  }\n\n  function load_libs(css_urls, js_urls, js_modules, js_exports, callback) {\n    if (css_urls == null) css_urls = [];\n    if (js_urls == null) js_urls = [];\n    if (js_modules == null) js_modules = [];\n    if (js_exports == null) js_exports = {};\n\n    root._bokeh_onload_callbacks.push(callback);\n\n    if (root._bokeh_is_loading > 0) {\n      console.debug(\"Bokeh: BokehJS is being loaded, scheduling callback at\", now());\n      return null;\n    }\n    if (js_urls.length === 0 && js_modules.length === 0 && Object.keys(js_exports).length === 0) {\n      run_callbacks();\n      return null;\n    }\n    if (!reloading) {\n      console.debug(\"Bokeh: BokehJS not loaded, scheduling load and callback at\", now());\n    }\n\n    function on_load() {\n      root._bokeh_is_loading--;\n      if (root._bokeh_is_loading === 0) {\n        console.debug(\"Bokeh: all BokehJS libraries/stylesheets loaded\");\n        run_callbacks()\n      }\n    }\n    window._bokeh_on_load = on_load\n\n    function on_error() {\n      console.error(\"failed to load \" + url);\n    }\n\n    var skip = [];\n    if (window.requirejs) {\n      window.requirejs.config({'packages': {}, 'paths': {}, 'shim': {}});\n      root._bokeh_is_loading = css_urls.length + 0;\n    } else {\n      root._bokeh_is_loading = css_urls.length + js_urls.length + js_modules.length + Object.keys(js_exports).length;\n    }\n\n    var existing_stylesheets = []\n    var links = document.getElementsByTagName('link')\n    for (var i = 0; i < links.length; i++) {\n      var link = links[i]\n      if (link.href != null) {\n\texisting_stylesheets.push(link.href)\n      }\n    }\n    for (var i = 0; i < css_urls.length; i++) {\n      var url = css_urls[i];\n      if (existing_stylesheets.indexOf(url) !== -1) {\n\ton_load()\n\tcontinue;\n      }\n      const element = document.createElement(\"link\");\n      element.onload = on_load;\n      element.onerror = on_error;\n      element.rel = \"stylesheet\";\n      element.type = \"text/css\";\n      element.href = url;\n      console.debug(\"Bokeh: injecting link tag for BokehJS stylesheet: \", url);\n      document.body.appendChild(element);\n    }    var existing_scripts = []\n    var scripts = document.getElementsByTagName('script')\n    for (var i = 0; i < scripts.length; i++) {\n      var script = scripts[i]\n      if (script.src != null) {\n\texisting_scripts.push(script.src)\n      }\n    }\n    for (var i = 0; i < js_urls.length; i++) {\n      var url = js_urls[i];\n      if (skip.indexOf(url) !== -1 || existing_scripts.indexOf(url) !== -1) {\n\tif (!window.requirejs) {\n\t  on_load();\n\t}\n\tcontinue;\n      }\n      var element = document.createElement('script');\n      element.onload = on_load;\n      element.onerror = on_error;\n      element.async = false;\n      element.src = url;\n      console.debug(\"Bokeh: injecting script tag for BokehJS library: \", url);\n      document.head.appendChild(element);\n    }\n    for (var i = 0; i < js_modules.length; i++) {\n      var url = js_modules[i];\n      if (skip.indexOf(url) !== -1 || existing_scripts.indexOf(url) !== -1) {\n\tif (!window.requirejs) {\n\t  on_load();\n\t}\n\tcontinue;\n      }\n      var element = document.createElement('script');\n      element.onload = on_load;\n      element.onerror = on_error;\n      element.async = false;\n      element.src = url;\n      element.type = \"module\";\n      console.debug(\"Bokeh: injecting script tag for BokehJS library: \", url);\n      document.head.appendChild(element);\n    }\n    for (const name in js_exports) {\n      var url = js_exports[name];\n      if (skip.indexOf(url) >= 0 || root[name] != null) {\n\tif (!window.requirejs) {\n\t  on_load();\n\t}\n\tcontinue;\n      }\n      var element = document.createElement('script');\n      element.onerror = on_error;\n      element.async = false;\n      element.type = \"module\";\n      console.debug(\"Bokeh: injecting script tag for BokehJS library: \", url);\n      element.textContent = `\n      import ${name} from \"${url}\"\n      window.${name} = ${name}\n      window._bokeh_on_load()\n      `\n      document.head.appendChild(element);\n    }\n    if (!js_urls.length && !js_modules.length) {\n      on_load()\n    }\n  };\n\n  function inject_raw_css(css) {\n    const element = document.createElement(\"style\");\n    element.appendChild(document.createTextNode(css));\n    document.body.appendChild(element);\n  }\n\n  var js_urls = [\"https://cdn.bokeh.org/bokeh/release/bokeh-3.4.1.min.js\", \"https://cdn.bokeh.org/bokeh/release/bokeh-gl-3.4.1.min.js\", \"https://cdn.bokeh.org/bokeh/release/bokeh-widgets-3.4.1.min.js\", \"https://cdn.bokeh.org/bokeh/release/bokeh-tables-3.4.1.min.js\", \"https://cdn.holoviz.org/panel/1.4.4/dist/panel.min.js\"];\n  var js_modules = [];\n  var js_exports = {};\n  var css_urls = [];\n  var inline_js = [    function(Bokeh) {\n      Bokeh.set_log_level(\"info\");\n    },\nfunction(Bokeh) {} // ensure no trailing comma for IE\n  ];\n\n  function run_inline_js() {\n    if ((root.Bokeh !== undefined) || (force === true)) {\n      for (var i = 0; i < inline_js.length; i++) {\n\ttry {\n          inline_js[i].call(root, root.Bokeh);\n\t} catch(e) {\n\t  if (!reloading) {\n\t    throw e;\n\t  }\n\t}\n      }\n      // Cache old bokeh versions\n      if (Bokeh != undefined && !reloading) {\n\tvar NewBokeh = root.Bokeh;\n\tif (Bokeh.versions === undefined) {\n\t  Bokeh.versions = new Map();\n\t}\n\tif (NewBokeh.version !== Bokeh.version) {\n\t  Bokeh.versions.set(NewBokeh.version, NewBokeh)\n\t}\n\troot.Bokeh = Bokeh;\n      }} else if (Date.now() < root._bokeh_timeout) {\n      setTimeout(run_inline_js, 100);\n    } else if (!root._bokeh_failed_load) {\n      console.log(\"Bokeh: BokehJS failed to load within specified timeout.\");\n      root._bokeh_failed_load = true;\n    }\n    root._bokeh_is_initializing = false\n  }\n\n  function load_or_wait() {\n    // Implement a backoff loop that tries to ensure we do not load multiple\n    // versions of Bokeh and its dependencies at the same time.\n    // In recent versions we use the root._bokeh_is_initializing flag\n    // to determine whether there is an ongoing attempt to initialize\n    // bokeh, however for backward compatibility we also try to ensure\n    // that we do not start loading a newer (Panel>=1.0 and Bokeh>3) version\n    // before older versions are fully initialized.\n    if (root._bokeh_is_initializing && Date.now() > root._bokeh_timeout) {\n      root._bokeh_is_initializing = false;\n      root._bokeh_onload_callbacks = undefined;\n      console.log(\"Bokeh: BokehJS was loaded multiple times but one version failed to initialize.\");\n      load_or_wait();\n    } else if (root._bokeh_is_initializing || (typeof root._bokeh_is_initializing === \"undefined\" && root._bokeh_onload_callbacks !== undefined)) {\n      setTimeout(load_or_wait, 100);\n    } else {\n      root._bokeh_is_initializing = true\n      root._bokeh_onload_callbacks = []\n      var bokeh_loaded = Bokeh != null && (Bokeh.version === py_version || (Bokeh.versions !== undefined && Bokeh.versions.has(py_version)));\n      if (!reloading && !bokeh_loaded) {\n\troot.Bokeh = undefined;\n      }\n      load_libs(css_urls, js_urls, js_modules, js_exports, function() {\n\tconsole.debug(\"Bokeh: BokehJS plotting callback run at\", now());\n\trun_inline_js();\n      });\n    }\n  }\n  // Give older versions of the autoload script a head-start to ensure\n  // they initialize before we start loading newer version.\n  setTimeout(load_or_wait, 100)\n}(window));",
      "application/vnd.holoviews_load.v0+json": ""
     },
     "metadata": {},
     "output_type": "display_data"
    },
    {
     "data": {
      "application/javascript": "\nif ((window.PyViz === undefined) || (window.PyViz instanceof HTMLElement)) {\n  window.PyViz = {comms: {}, comm_status:{}, kernels:{}, receivers: {}, plot_index: []}\n}\n\n\n    function JupyterCommManager() {\n    }\n\n    JupyterCommManager.prototype.register_target = function(plot_id, comm_id, msg_handler) {\n      if (window.comm_manager || ((window.Jupyter !== undefined) && (Jupyter.notebook.kernel != null))) {\n        var comm_manager = window.comm_manager || Jupyter.notebook.kernel.comm_manager;\n        comm_manager.register_target(comm_id, function(comm) {\n          comm.on_msg(msg_handler);\n        });\n      } else if ((plot_id in window.PyViz.kernels) && (window.PyViz.kernels[plot_id])) {\n        window.PyViz.kernels[plot_id].registerCommTarget(comm_id, function(comm) {\n          comm.onMsg = msg_handler;\n        });\n      } else if (typeof google != 'undefined' && google.colab.kernel != null) {\n        google.colab.kernel.comms.registerTarget(comm_id, (comm) => {\n          var messages = comm.messages[Symbol.asyncIterator]();\n          function processIteratorResult(result) {\n            var message = result.value;\n            console.log(message)\n            var content = {data: message.data, comm_id};\n            var buffers = []\n            for (var buffer of message.buffers || []) {\n              buffers.push(new DataView(buffer))\n            }\n            var metadata = message.metadata || {};\n            var msg = {content, buffers, metadata}\n            msg_handler(msg);\n            return messages.next().then(processIteratorResult);\n          }\n          return messages.next().then(processIteratorResult);\n        })\n      }\n    }\n\n    JupyterCommManager.prototype.get_client_comm = function(plot_id, comm_id, msg_handler) {\n      if (comm_id in window.PyViz.comms) {\n        return window.PyViz.comms[comm_id];\n      } else if (window.comm_manager || ((window.Jupyter !== undefined) && (Jupyter.notebook.kernel != null))) {\n        var comm_manager = window.comm_manager || Jupyter.notebook.kernel.comm_manager;\n        var comm = comm_manager.new_comm(comm_id, {}, {}, {}, comm_id);\n        if (msg_handler) {\n          comm.on_msg(msg_handler);\n        }\n      } else if ((plot_id in window.PyViz.kernels) && (window.PyViz.kernels[plot_id])) {\n        var comm = window.PyViz.kernels[plot_id].connectToComm(comm_id);\n        comm.open();\n        if (msg_handler) {\n          comm.onMsg = msg_handler;\n        }\n      } else if (typeof google != 'undefined' && google.colab.kernel != null) {\n        var comm_promise = google.colab.kernel.comms.open(comm_id)\n        comm_promise.then((comm) => {\n          window.PyViz.comms[comm_id] = comm;\n          if (msg_handler) {\n            var messages = comm.messages[Symbol.asyncIterator]();\n            function processIteratorResult(result) {\n              var message = result.value;\n              var content = {data: message.data};\n              var metadata = message.metadata || {comm_id};\n              var msg = {content, metadata}\n              msg_handler(msg);\n              return messages.next().then(processIteratorResult);\n            }\n            return messages.next().then(processIteratorResult);\n          }\n        }) \n        var sendClosure = (data, metadata, buffers, disposeOnDone) => {\n          return comm_promise.then((comm) => {\n            comm.send(data, metadata, buffers, disposeOnDone);\n          });\n        };\n        var comm = {\n          send: sendClosure\n        };\n      }\n      window.PyViz.comms[comm_id] = comm;\n      return comm;\n    }\n    window.PyViz.comm_manager = new JupyterCommManager();\n    \n\n\nvar JS_MIME_TYPE = 'application/javascript';\nvar HTML_MIME_TYPE = 'text/html';\nvar EXEC_MIME_TYPE = 'application/vnd.holoviews_exec.v0+json';\nvar CLASS_NAME = 'output';\n\n/**\n * Render data to the DOM node\n */\nfunction render(props, node) {\n  var div = document.createElement(\"div\");\n  var script = document.createElement(\"script\");\n  node.appendChild(div);\n  node.appendChild(script);\n}\n\n/**\n * Handle when a new output is added\n */\nfunction handle_add_output(event, handle) {\n  var output_area = handle.output_area;\n  var output = handle.output;\n  if ((output.data == undefined) || (!output.data.hasOwnProperty(EXEC_MIME_TYPE))) {\n    return\n  }\n  var id = output.metadata[EXEC_MIME_TYPE][\"id\"];\n  var toinsert = output_area.element.find(\".\" + CLASS_NAME.split(' ')[0]);\n  if (id !== undefined) {\n    var nchildren = toinsert.length;\n    var html_node = toinsert[nchildren-1].children[0];\n    html_node.innerHTML = output.data[HTML_MIME_TYPE];\n    var scripts = [];\n    var nodelist = html_node.querySelectorAll(\"script\");\n    for (var i in nodelist) {\n      if (nodelist.hasOwnProperty(i)) {\n        scripts.push(nodelist[i])\n      }\n    }\n\n    scripts.forEach( function (oldScript) {\n      var newScript = document.createElement(\"script\");\n      var attrs = [];\n      var nodemap = oldScript.attributes;\n      for (var j in nodemap) {\n        if (nodemap.hasOwnProperty(j)) {\n          attrs.push(nodemap[j])\n        }\n      }\n      attrs.forEach(function(attr) { newScript.setAttribute(attr.name, attr.value) });\n      newScript.appendChild(document.createTextNode(oldScript.innerHTML));\n      oldScript.parentNode.replaceChild(newScript, oldScript);\n    });\n    if (JS_MIME_TYPE in output.data) {\n      toinsert[nchildren-1].children[1].textContent = output.data[JS_MIME_TYPE];\n    }\n    output_area._hv_plot_id = id;\n    if ((window.Bokeh !== undefined) && (id in Bokeh.index)) {\n      window.PyViz.plot_index[id] = Bokeh.index[id];\n    } else {\n      window.PyViz.plot_index[id] = null;\n    }\n  } else if (output.metadata[EXEC_MIME_TYPE][\"server_id\"] !== undefined) {\n    var bk_div = document.createElement(\"div\");\n    bk_div.innerHTML = output.data[HTML_MIME_TYPE];\n    var script_attrs = bk_div.children[0].attributes;\n    for (var i = 0; i < script_attrs.length; i++) {\n      toinsert[toinsert.length - 1].childNodes[1].setAttribute(script_attrs[i].name, script_attrs[i].value);\n    }\n    // store reference to server id on output_area\n    output_area._bokeh_server_id = output.metadata[EXEC_MIME_TYPE][\"server_id\"];\n  }\n}\n\n/**\n * Handle when an output is cleared or removed\n */\nfunction handle_clear_output(event, handle) {\n  var id = handle.cell.output_area._hv_plot_id;\n  var server_id = handle.cell.output_area._bokeh_server_id;\n  if (((id === undefined) || !(id in PyViz.plot_index)) && (server_id !== undefined)) { return; }\n  var comm = window.PyViz.comm_manager.get_client_comm(\"hv-extension-comm\", \"hv-extension-comm\", function () {});\n  if (server_id !== null) {\n    comm.send({event_type: 'server_delete', 'id': server_id});\n    return;\n  } else if (comm !== null) {\n    comm.send({event_type: 'delete', 'id': id});\n  }\n  delete PyViz.plot_index[id];\n  if ((window.Bokeh !== undefined) & (id in window.Bokeh.index)) {\n    var doc = window.Bokeh.index[id].model.document\n    doc.clear();\n    const i = window.Bokeh.documents.indexOf(doc);\n    if (i > -1) {\n      window.Bokeh.documents.splice(i, 1);\n    }\n  }\n}\n\n/**\n * Handle kernel restart event\n */\nfunction handle_kernel_cleanup(event, handle) {\n  delete PyViz.comms[\"hv-extension-comm\"];\n  window.PyViz.plot_index = {}\n}\n\n/**\n * Handle update_display_data messages\n */\nfunction handle_update_output(event, handle) {\n  handle_clear_output(event, {cell: {output_area: handle.output_area}})\n  handle_add_output(event, handle)\n}\n\nfunction register_renderer(events, OutputArea) {\n  function append_mime(data, metadata, element) {\n    // create a DOM node to render to\n    var toinsert = this.create_output_subarea(\n    metadata,\n    CLASS_NAME,\n    EXEC_MIME_TYPE\n    );\n    this.keyboard_manager.register_events(toinsert);\n    // Render to node\n    var props = {data: data, metadata: metadata[EXEC_MIME_TYPE]};\n    render(props, toinsert[0]);\n    element.append(toinsert);\n    return toinsert\n  }\n\n  events.on('output_added.OutputArea', handle_add_output);\n  events.on('output_updated.OutputArea', handle_update_output);\n  events.on('clear_output.CodeCell', handle_clear_output);\n  events.on('delete.Cell', handle_clear_output);\n  events.on('kernel_ready.Kernel', handle_kernel_cleanup);\n\n  OutputArea.prototype.register_mime_type(EXEC_MIME_TYPE, append_mime, {\n    safe: true,\n    index: 0\n  });\n}\n\nif (window.Jupyter !== undefined) {\n  try {\n    var events = require('base/js/events');\n    var OutputArea = require('notebook/js/outputarea').OutputArea;\n    if (OutputArea.prototype.mime_types().indexOf(EXEC_MIME_TYPE) == -1) {\n      register_renderer(events, OutputArea);\n    }\n  } catch(err) {\n  }\n}\n",
      "application/vnd.holoviews_load.v0+json": ""
     },
     "metadata": {},
     "output_type": "display_data"
    },
    {
     "data": {
      "text/html": [
       "<style>*[data-root-id],\n",
       "*[data-root-id] > * {\n",
       "  box-sizing: border-box;\n",
       "  font-family: var(--jp-ui-font-family);\n",
       "  font-size: var(--jp-ui-font-size1);\n",
       "  color: var(--vscode-editor-foreground, var(--jp-ui-font-color1));\n",
       "}\n",
       "\n",
       "/* Override VSCode background color */\n",
       ".cell-output-ipywidget-background:has(\n",
       "    > .cell-output-ipywidget-background > .lm-Widget > *[data-root-id]\n",
       "  ),\n",
       ".cell-output-ipywidget-background:has(> .lm-Widget > *[data-root-id]) {\n",
       "  background-color: transparent !important;\n",
       "}\n",
       "</style>"
      ]
     },
     "metadata": {},
     "output_type": "display_data"
    },
    {
     "data": {
      "application/vnd.holoviews_exec.v0+json": "",
      "text/html": [
       "<div id='p1002'>\n",
       "  <div id=\"ac7d0177-1d37-405f-93b7-59c0074f909e\" data-root-id=\"p1002\" style=\"display: contents;\"></div>\n",
       "</div>\n",
       "<script type=\"application/javascript\">(function(root) {\n",
       "  var docs_json = {\"6fb265bc-564e-49ff-9512-08465f963ca9\":{\"version\":\"3.4.1\",\"title\":\"Bokeh Application\",\"roots\":[{\"type\":\"object\",\"name\":\"panel.models.browser.BrowserInfo\",\"id\":\"p1002\"},{\"type\":\"object\",\"name\":\"panel.models.comm_manager.CommManager\",\"id\":\"p1003\",\"attributes\":{\"plot_id\":\"p1002\",\"comm_id\":\"a618e1f48c234b6b84f1dbc8a328f5d4\",\"client_comm_id\":\"5f73a82c130c4e08a7a89f023e15ee5e\"}}],\"defs\":[{\"type\":\"model\",\"name\":\"ReactiveHTML1\"},{\"type\":\"model\",\"name\":\"FlexBox1\",\"properties\":[{\"name\":\"align_content\",\"kind\":\"Any\",\"default\":\"flex-start\"},{\"name\":\"align_items\",\"kind\":\"Any\",\"default\":\"flex-start\"},{\"name\":\"flex_direction\",\"kind\":\"Any\",\"default\":\"row\"},{\"name\":\"flex_wrap\",\"kind\":\"Any\",\"default\":\"wrap\"},{\"name\":\"gap\",\"kind\":\"Any\",\"default\":\"\"},{\"name\":\"justify_content\",\"kind\":\"Any\",\"default\":\"flex-start\"}]},{\"type\":\"model\",\"name\":\"FloatPanel1\",\"properties\":[{\"name\":\"config\",\"kind\":\"Any\",\"default\":{\"type\":\"map\"}},{\"name\":\"contained\",\"kind\":\"Any\",\"default\":true},{\"name\":\"position\",\"kind\":\"Any\",\"default\":\"right-top\"},{\"name\":\"offsetx\",\"kind\":\"Any\",\"default\":null},{\"name\":\"offsety\",\"kind\":\"Any\",\"default\":null},{\"name\":\"theme\",\"kind\":\"Any\",\"default\":\"primary\"},{\"name\":\"status\",\"kind\":\"Any\",\"default\":\"normalized\"}]},{\"type\":\"model\",\"name\":\"GridStack1\",\"properties\":[{\"name\":\"mode\",\"kind\":\"Any\",\"default\":\"warn\"},{\"name\":\"ncols\",\"kind\":\"Any\",\"default\":null},{\"name\":\"nrows\",\"kind\":\"Any\",\"default\":null},{\"name\":\"allow_resize\",\"kind\":\"Any\",\"default\":true},{\"name\":\"allow_drag\",\"kind\":\"Any\",\"default\":true},{\"name\":\"state\",\"kind\":\"Any\",\"default\":[]}]},{\"type\":\"model\",\"name\":\"drag1\",\"properties\":[{\"name\":\"slider_width\",\"kind\":\"Any\",\"default\":5},{\"name\":\"slider_color\",\"kind\":\"Any\",\"default\":\"black\"},{\"name\":\"value\",\"kind\":\"Any\",\"default\":50}]},{\"type\":\"model\",\"name\":\"click1\",\"properties\":[{\"name\":\"terminal_output\",\"kind\":\"Any\",\"default\":\"\"},{\"name\":\"debug_name\",\"kind\":\"Any\",\"default\":\"\"},{\"name\":\"clears\",\"kind\":\"Any\",\"default\":0}]},{\"type\":\"model\",\"name\":\"FastWrapper1\",\"properties\":[{\"name\":\"object\",\"kind\":\"Any\",\"default\":null},{\"name\":\"style\",\"kind\":\"Any\",\"default\":null}]},{\"type\":\"model\",\"name\":\"NotificationAreaBase1\",\"properties\":[{\"name\":\"js_events\",\"kind\":\"Any\",\"default\":{\"type\":\"map\"}},{\"name\":\"position\",\"kind\":\"Any\",\"default\":\"bottom-right\"},{\"name\":\"_clear\",\"kind\":\"Any\",\"default\":0}]},{\"type\":\"model\",\"name\":\"NotificationArea1\",\"properties\":[{\"name\":\"js_events\",\"kind\":\"Any\",\"default\":{\"type\":\"map\"}},{\"name\":\"notifications\",\"kind\":\"Any\",\"default\":[]},{\"name\":\"position\",\"kind\":\"Any\",\"default\":\"bottom-right\"},{\"name\":\"_clear\",\"kind\":\"Any\",\"default\":0},{\"name\":\"types\",\"kind\":\"Any\",\"default\":[{\"type\":\"map\",\"entries\":[[\"type\",\"warning\"],[\"background\",\"#ffc107\"],[\"icon\",{\"type\":\"map\",\"entries\":[[\"className\",\"fas fa-exclamation-triangle\"],[\"tagName\",\"i\"],[\"color\",\"white\"]]}]]},{\"type\":\"map\",\"entries\":[[\"type\",\"info\"],[\"background\",\"#007bff\"],[\"icon\",{\"type\":\"map\",\"entries\":[[\"className\",\"fas fa-info-circle\"],[\"tagName\",\"i\"],[\"color\",\"white\"]]}]]}]}]},{\"type\":\"model\",\"name\":\"Notification\",\"properties\":[{\"name\":\"background\",\"kind\":\"Any\",\"default\":null},{\"name\":\"duration\",\"kind\":\"Any\",\"default\":3000},{\"name\":\"icon\",\"kind\":\"Any\",\"default\":null},{\"name\":\"message\",\"kind\":\"Any\",\"default\":\"\"},{\"name\":\"notification_type\",\"kind\":\"Any\",\"default\":null},{\"name\":\"_destroyed\",\"kind\":\"Any\",\"default\":false}]},{\"type\":\"model\",\"name\":\"TemplateActions1\",\"properties\":[{\"name\":\"open_modal\",\"kind\":\"Any\",\"default\":0},{\"name\":\"close_modal\",\"kind\":\"Any\",\"default\":0}]},{\"type\":\"model\",\"name\":\"BootstrapTemplateActions1\",\"properties\":[{\"name\":\"open_modal\",\"kind\":\"Any\",\"default\":0},{\"name\":\"close_modal\",\"kind\":\"Any\",\"default\":0}]},{\"type\":\"model\",\"name\":\"TemplateEditor1\",\"properties\":[{\"name\":\"layout\",\"kind\":\"Any\",\"default\":[]}]},{\"type\":\"model\",\"name\":\"MaterialTemplateActions1\",\"properties\":[{\"name\":\"open_modal\",\"kind\":\"Any\",\"default\":0},{\"name\":\"close_modal\",\"kind\":\"Any\",\"default\":0}]},{\"type\":\"model\",\"name\":\"copy_to_clipboard1\",\"properties\":[{\"name\":\"fill\",\"kind\":\"Any\",\"default\":\"none\"},{\"name\":\"value\",\"kind\":\"Any\",\"default\":null}]}]}};\n",
       "  var render_items = [{\"docid\":\"6fb265bc-564e-49ff-9512-08465f963ca9\",\"roots\":{\"p1002\":\"ac7d0177-1d37-405f-93b7-59c0074f909e\"},\"root_ids\":[\"p1002\"]}];\n",
       "  var docs = Object.values(docs_json)\n",
       "  if (!docs) {\n",
       "    return\n",
       "  }\n",
       "  const py_version = docs[0].version.replace('rc', '-rc.').replace('.dev', '-dev.')\n",
       "  async function embed_document(root) {\n",
       "    var Bokeh = get_bokeh(root)\n",
       "    await Bokeh.embed.embed_items_notebook(docs_json, render_items);\n",
       "    for (const render_item of render_items) {\n",
       "      for (const root_id of render_item.root_ids) {\n",
       "\tconst id_el = document.getElementById(root_id)\n",
       "\tif (id_el.children.length && id_el.children[0].hasAttribute('data-root-id')) {\n",
       "\t  const root_el = id_el.children[0]\n",
       "\t  root_el.id = root_el.id + '-rendered'\n",
       "\t  for (const child of root_el.children) {\n",
       "            // Ensure JupyterLab does not capture keyboard shortcuts\n",
       "            // see: https://jupyterlab.readthedocs.io/en/4.1.x/extension/notebook.html#keyboard-interaction-model\n",
       "\t    child.setAttribute('data-lm-suppress-shortcuts', 'true')\n",
       "\t  }\n",
       "\t}\n",
       "      }\n",
       "    }\n",
       "  }\n",
       "  function get_bokeh(root) {\n",
       "    if (root.Bokeh === undefined) {\n",
       "      return null\n",
       "    } else if (root.Bokeh.version !== py_version) {\n",
       "      if (root.Bokeh.versions === undefined || !root.Bokeh.versions.has(py_version)) {\n",
       "\treturn null\n",
       "      }\n",
       "      return root.Bokeh.versions.get(py_version);\n",
       "    } else if (root.Bokeh.version === py_version) {\n",
       "      return root.Bokeh\n",
       "    }\n",
       "    return null\n",
       "  }\n",
       "  function is_loaded(root) {\n",
       "    var Bokeh = get_bokeh(root)\n",
       "    return (Bokeh != null && Bokeh.Panel !== undefined)\n",
       "  }\n",
       "  if (is_loaded(root)) {\n",
       "    embed_document(root);\n",
       "  } else {\n",
       "    var attempts = 0;\n",
       "    var timer = setInterval(function(root) {\n",
       "      if (is_loaded(root)) {\n",
       "        clearInterval(timer);\n",
       "        embed_document(root);\n",
       "      } else if (document.readyState == \"complete\") {\n",
       "        attempts++;\n",
       "        if (attempts > 200) {\n",
       "          clearInterval(timer);\n",
       "\t  var Bokeh = get_bokeh(root)\n",
       "\t  if (Bokeh == null || Bokeh.Panel == null) {\n",
       "            console.warn(\"Panel: ERROR: Unable to run Panel code because Bokeh or Panel library is missing\");\n",
       "\t  } else {\n",
       "\t    console.warn(\"Panel: WARNING: Attempting to render but not all required libraries could be resolved.\")\n",
       "\t    embed_document(root)\n",
       "\t  }\n",
       "        }\n",
       "      }\n",
       "    }, 25, root)\n",
       "  }\n",
       "})(window);</script>"
      ]
     },
     "metadata": {
      "application/vnd.holoviews_exec.v0+json": {
       "id": "p1002"
      }
     },
     "output_type": "display_data"
    },
    {
     "data": {
      "text/html": [
       "\n",
       "<div class=\"logo-block\">\n",
       "<img src='data:image/png;base64,iVBORw0KGgoAAAANSUhEUgAAAEAAAABACAYAAACqaXHeAAAABHNCSVQICAgIfAhkiAAAAAlwSFlz\n",
       "AAAB+wAAAfsBxc2miwAAABl0RVh0U29mdHdhcmUAd3d3Lmlua3NjYXBlLm9yZ5vuPBoAAA6zSURB\n",
       "VHic7ZtpeFRVmsf/5966taWqUlUJ2UioBBJiIBAwCZtog9IOgjqACsogKtqirT2ttt069nQ/zDzt\n",
       "tI4+CrJIREFaFgWhBXpUNhHZQoKBkIUASchWla1S+3ar7r1nPkDaCAnZKoQP/D7mnPOe9/xy76n3\n",
       "nFSAW9ziFoPFNED2LLK5wcyBDObkb8ZkxuaoSYlI6ZcOKq1eWFdedqNzGHQBk9RMEwFAASkk0Xw3\n",
       "ETacDNi2vtvc7L0ROdw0AjoSotQVkKSvHQz/wRO1lScGModBFbDMaNRN1A4tUBCS3lk7BWhQkgpD\n",
       "lG4852/+7DWr1R3uHAZVQDsbh6ZPN7CyxUrCzJMRouusj0ipRwD2uKm0Zn5d2dFwzX1TCGhnmdGo\n",
       "G62Nna+isiUqhkzuKrkQaJlPEv5mFl2fvGg2t/VnzkEV8F5ioioOEWkLG86fvbpthynjdhXYZziQ\n",
       "x1hC9J2NFyi8vCTt91Fh04KGip0AaG9zuCk2wQCVyoNU3Hjezee9bq92duzzTmxsRJoy+jEZZZYo\n",
       "GTKJ6SJngdJqAfRzpze0+jHreUtPc7gpBLQnIYK6BYp/uGhw9YK688eu7v95ysgshcg9qSLMo3JC\n",
       "4jqLKQFBgdKDPoQ+Pltb8dUyQLpeDjeVgI6EgLIQFT5tEl3rn2losHVsexbZ3EyT9wE1uGdkIPcy\n",
       "BGxn8QUq1QrA5nqW5i2tLqvrrM9NK6AdkVIvL9E9bZL/oyfMVd/jqvc8LylzRBKDJSzIExwhQzuL\n",
       "QYGQj4rHfFTc8mUdu3E7yoLtbTe9gI4EqVgVkug2i5+uXGo919ixbRog+3fTbQ8qJe4ZOYNfMoTI\n",
       "OoshUNosgO60AisX15aeI2PSIp5KiFLI9ubb1vV3Qb2ltwLakUCDAkWX7/nHKRmmGIl9VgYsUhJm\n",
       "2NXjKYADtM1ygne9QQDIXlk49FBstMKx66D1v4+XuQr7vqTe0VcBHQlRWiOCbmmSYe2SqtL6q5rJ\n",
       "zsTb7lKx3FKOYC4DoqyS/B5bvLPxvD9Qtf6saxYLQGJErmDOdOMr/zo96km1nElr8bmPOBwI9COv\n",
       "HnFPRIwmkSOv9kcAS4heRsidOkpeWBgZM+UBrTFAXNYL5Vf2ii9c1trNzpYdaoVil3WIc+wdk+gQ\n",
       "noie3ecCcxt9ITcLAPWt/laGEO/9U6PmzZkenTtsSMQ8uYywJVW+grCstAvCIaAdArAsIWkRDDs/\n",
       "KzLm2YcjY1Lv0UdW73HabE9n6V66cxSzfEmuJssTpKGVp+0vHq73FwL46eOjpMpbRAnNmJFrGJNu\n",
       "Ukf9Yrz+3rghiumCKNXXWPhLYcjxGsIpoCMsIRoFITkW8AuyM8jC1+/QLx4bozCEJIq38+1rtpR6\n",
       "V/yzb8eBlRb3fo5l783N0CWolAzJHaVNzkrTzlEp2bQ2q3TC5gn6wpnoQAmwSiGh2GitnTmVMc5O\n",
       "UyfKWUKCIsU7+fZDKwqdT6DDpvkzAX4/+AMFjk0tDp5GRXLpQ2MUmhgDp5gxQT8+Y7hyPsMi8uxF\n",
       "71H0oebujHALECjFKaW9Lm68n18wXp2kVzIcABytD5iXFzg+WVXkegpAsOOYziqo0OkK76GyquC3\n",
       "ltZAzMhhqlSNmmWTE5T6e3IN05ITFLM4GdN0vtZ3ob8Jh1NAKXFbm5PtLU/eqTSlGjkNAJjdgn/N\n",
       "aedXa0tdi7+t9G0FIF49rtMSEgAs1kDLkTPO7ebm4IUWeyh1bKomXqlgMG6kJmHcSM0clYLJ8XtR\n",
       "1GTnbV3F6I5wCGikAb402npp1h1s7LQUZZSMIfALFOuL3UUrfnS8+rez7v9qcold5tilgHbO1fjK\n",
       "9ubb17u9oshxzMiUBKXWqJNxd+fqb0tLVs4lILFnK71H0Ind7uiPgACVcFJlrb0tV6DzxqqTIhUM\n",
       "CwDf1/rrVhTa33/3pGPxJYdQ2l2cbgVcQSosdx8uqnDtbGjh9SlDVSMNWhlnilfqZk42Th2ZpLpf\n",
       "xrHec5e815zrr0dfBZSwzkZfqsv+1FS1KUknUwPARVvItfKUY+cn57yP7qv07UE3p8B2uhUwLk09\n",
       "e0SCOrK+hbdYHYLjRIl71wWzv9jpEoeOHhGRrJAzyEyNiJuUqX0g2sBN5kGK6y2Blp5M3lsB9Qh4\n",
       "y2Ja6x6+i0ucmKgwMATwhSjdUu49tKrQ/pvN5d53ml2CGwCmJipmKjgmyuaXzNeL2a0AkQ01Th5j\n",
       "2DktO3Jyk8f9vcOBQHV94OK+fPumJmvQHxJoWkaKWq9Vs+yUsbq0zGT1I4RgeH2b5wef7+c7bl8F\n",
       "eKgoHVVZa8ZPEORzR6sT1BzDUAD/d9F78e2Tzv99v8D+fLVTqAKAsbGamKey1Mt9Ann4eH3gTXTz\n",
       "idWtAJ8PQWOk7NzSeQn/OTHDuEikVF1R4z8BQCy+6D1aWRfY0tTGG2OM8rRoPaeIj5ZHzJxszElN\n",
       "VM8K8JS5WOfv8mzRnQAKoEhmt8gyPM4lU9SmBK1MCQBnW4KONT86v1hZ1PbwSXPw4JWussVjtH9Y\n",
       "NCoiL9UoH/6PSu8jFrfY2t36erQHXLIEakMi1SydmzB31h3GGXFDFNPaK8Rme9B79Ixrd0WN+1ij\n",
       "NRQ/doRmuFLBkHSTOm5GruG+pFjFdAmorG4IXH1Qua6ASniclfFtDYt+oUjKipPrCQB7QBQ2lrgP\n",
       "fFzm+9XWUtcqJ3/5vDLDpJ79XHZk3u8nGZ42qlj1+ydtbxysCezrydp6ugmipNJ7WBPB5tydY0jP\n",
       "HaVNzs3QzeE4ZpTbI+ZbnSFPbVOw9vsfnVvqWnirPyCNGD08IlqtYkh2hjZ5dErEQzoNm+6ykyOt\n",
       "Lt5/PQEuSRRKo22VkydK+vvS1XEKlhCJAnsqvcVvH7f/ZU2R67eXbMEGAMiIV5oWZWiWvz5Fv2xG\n",
       "sjqNJQRvn3Rs2lji/lNP19VjAQDgD7FHhujZB9OGqYxRkZxixgRDVlqS6uEOFaJUVu0rPFzctrnF\n",
       "JqijImVp8dEKVWyUXDk92zAuMZ6bFwpBU1HrOw6AdhQgUooChb0+ItMbWJitSo5Ws3IAOGEOtL53\n",
       "0vHZih9sC4vtofZ7Qu6523V/fmGcds1TY3V36pUsBwAbSlxnVh2xLfAD/IAIMDf7XYIkNmXfpp2l\n",
       "18rkAJAy9HKFaIr/qULkeQQKy9zf1JgDB2uaeFNGijo5QsUyacNUUTOnGO42xSnv4oOwpDi1zYkc\n",
       "efUc3I5Gk6PhyTuVKaOGyLUAYPGIoY9Pu/atL/L92+4q9wbflRJ2Trpm/jPjdBtfnqB/dIThcl8A\n",
       "KG7hbRuKnb8qsQsVvVlTrwQAQMUlf3kwJI24Z4JhPMtcfng5GcH49GsrxJpGvvHIaeem2ma+KSjQ\n",
       "lIwUdYyCY8j4dE1KzijNnIP2llF2wcXNnsoapw9XxsgYAl6k+KzUXbi2yP3KR2ecf6z3BFsBICdW\n",
       "nvnIaG3eHybqX7vbpEqUMT+9OL4Qpe8VON7dXuFd39v19FoAABRVePbGGuXTszO0P7tu6lghUonE\n",
       "llRdrhArLvmKdh9u29jcFiRRkfLUxBiFNiqSU9icoZQHo5mYBI1MBgBH6wMNb+U7Pnw337H4gi1Y\n",
       "ciWs+uks3Z9fztUvfzxTm9Ne8XXkvQLHNytOOZeiD4e0PgkAIAYCYknKUNUDSXEKzdWNpnil7r4p\n",
       "xqkjTarZMtk/K8TQ6Qve78qqvXurGwIJqcOUKfUWHsm8KGvxSP68YudXq4pcj39X49uOK2X142O0\n",
       "Tz5/u/7TVybqH0rSya6ZBwD21/gubbrgWdDgEOx9WUhfBaC2ibcEBYm7a7x+ukrBMNcEZggyR0TE\n",
       "T8zUPjikQ4VosQZbTpS4vqizBKvqmvjsqnpfzaZyx9JPiz1/bfGKdgD45XB1zoIMzYbfTdS/NClB\n",
       "Gct0USiY3YL/g0LHy/uq/Ef6uo5+n0R/vyhp17Klpge763f8rMu6YU/zrn2nml+2WtH+Z+5IAAFc\n",
       "2bUTdTDOSNa9+cQY7YLsOIXhevEkCvzph7a8laecz/Un/z4/Ae04XeL3UQb57IwU9ZDr9UuKVajv\n",
       "nxp1+1UVIo/LjztZkKH59fO3G/JemqCfmaCRqbqbd90ZZ8FfjtkfAyD0J/9+C2h1hDwsSxvGjNDc\n",
       "b4zk5NfrSwiQblLHzZhg+Jf4aPlUwpDqkQqa9nimbt1/TDH8OitGMaQnj+RJS6B1fbF7SY1TqO5v\n",
       "/v0WAADl1f7zokgS7s7VT2DZ7pegUjBM7mjtiDZbcN4j0YrHH0rXpCtY0qPX0cVL0rv5jv/ZXend\n",
       "0u/EESYBAFBU4T4Qa5TflZOhTe7pmKpaP8kCVUVw1+yhXfJWvn1P3hnXi33JsTN6PnP3hHZ8Z3/h\n",
       "aLHzmkNPuPj7Bc/F/Q38CwjTpSwQXgE4Vmwry9tpfq/ZFgqFMy4AVDtCvi8rvMvOmv0N4YwbVgEA\n",
       "sPM72/KVnzfspmH7HQGCRLG2yL1+z8XwvPcdCbsAANh+xPzstgMtxeGKt+6MK3/tacfvwhWvIwMi\n",
       "oKEBtm0H7W+UVfkc/Y1V0BhoPlDr/w1w/eu1vjIgAgDg22OtX6/eYfnEz/focrZTHAFR+PSs56/7\n",
       "q32nwpjazxgwAQCwcU/T62t3WL7r6/jVRa6/byp1rei+Z98ZUAEAhEPHPc8fKnTU9nbgtnOe8h0l\n",
       "9hcGIqmODLQAHCy2Xti6v/XNRivf43f4fFvIteu854+VHnR7q9tfBlwAAGz+pnndB9vM26UebAe8\n",
       "SLHujPOTPVW+rwY+sxskAAC2HrA8t2Vvc7ffP1r9o+vwR2dcr92InIAbKKC1FZ5tB1tf+/G8p8sv\n",
       "N/9Q5zd/XR34LYCwV5JdccMEAMDBk45DH243r/X4xGvqxFa/GNpS7n6rwOwNWwHVE26oAADYurf1\n",
       "zx/utOzt+DMKYM0p17YtZZ5VNzqfsB2HewG1WXE8PoZ7gOclbTIvynZf9JV+fqZtfgs/8F/Nu5rB\n",
       "EIBmJ+8QRMmpU7EzGRsf2FzuePqYRbzh/zE26EwdrT10f6r6o8HOYzCJB9Dpff8tbnGLG8L/A/WE\n",
       "roTBs2RqAAAAAElFTkSuQmCC'\n",
       "     style='height:25px; border-radius:12px; display: inline-block; float: left; vertical-align: middle'></img>\n",
       "\n",
       "\n",
       "  <img src='data:image/png;base64,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'\n",
       "       style='height:15px; border-radius:12px; display: inline-block; float: left'></img>\n",
       "  \n",
       "\n",
       "\n",
       "\n",
       "\n",
       "</div>\n"
      ]
     },
     "metadata": {},
     "output_type": "display_data"
    }
   ],
   "source": [
    "import numpy as np\n",
    "from numba import jit #関数の高速化のライブラリ\n",
    "# 図化用のライブラリ matplotlibでも良い\n",
    "import holoviews as hv\n",
    "hv.extension('bokeh')"
   ]
  },
  {
   "cell_type": "markdown",
   "id": "0995d575",
   "metadata": {},
   "source": [
    "## 不等流計算"
   ]
  },
  {
   "cell_type": "code",
   "execution_count": 2,
   "id": "d6458b67",
   "metadata": {},
   "outputs": [],
   "source": [
    "@jit(nopython=True, parallel=False) # 高速化：デバッグ時は使わない方が良い\n",
    "def nonuniformflow(q, hDB, zb, dx, manning, g=float(9.8)):\n",
    "    h = np.zeros_like(zb) #水深の配列\n",
    "    h[0] = hDB #下流端条件\n",
    "\n",
    "    for i in range(1,len(h)):\n",
    "    # newton法による反復計算\n",
    "        # h[i] = h[i-1] + zb[i-1] - zb[i]#収束計算の初期値：一つ下流側の断面の水深\n",
    "        # f = 1.0 #仮値\n",
    "        # dfdh = 1.0 #仮値\n",
    "        # while np.abs(f/dfdh) > 10**(-8): # 反復計算の収束条件\n",
    "        #     f = q**2/2.0/g/h[i]**2 + h[i] + zb[i] \\\n",
    "        #       -(q**2/2.0/g/h[i-1]**2 + h[i-1] + zb[i-1]) \\\n",
    "        #       - 0.5*(q**2*manning**2/h[i]**(10/3) + q**2*manning**2/h[i-1]**(10/3))*dx\n",
    "        #     dfdh = -q**2/g/h[i]**3 + 1 + 5/3*q**2*manning**2/h[i]**(13/3)*dx\n",
    "        #     h[i] -= f/dfdh\n",
    "\n",
    "    # 二分法による反復計算 : hcから徐々に上げていく\n",
    "        hc = (q**2/g)**(1/3) # 限界水深 \n",
    "        hp = hc\n",
    "        E1 = q**2/2.0/g/hp**2 + hp + zb[i]\n",
    "        E2 = + (q**2/2.0/g/h[i-1]**2 + h[i-1] + zb[i-1]) \\\n",
    "              + 0.5*(q**2*manning**2/hp**(10/3) + q**2*manning**2/h[i-1]**(10/3))*dx\n",
    "\n",
    "        if E2 >= E1 : #常流時のみ計算, 射流時は限界水深に置き換え\n",
    "        # 収束計算の初期値は限界水深+hmin:0.0001m\n",
    "            hp += 0.0001\n",
    "            dht = 0.1\n",
    "            for _ in range(1000):\n",
    "                E1 = q**2/2.0/g/hp**2 + hp + zb[i]\n",
    "                E2 = + (q**2/2.0/g/h[i-1]**2 + h[i-1] + zb[i-1]) \\\n",
    "                      + 0.5*(q**2*manning**2/hp**(10/3) + q**2*manning**2/h[i-1]**(10/3))*dx\n",
    "            \n",
    "                if np.abs(E1 - E2) < 10**(-8): \n",
    "                    break\n",
    "                elif E1 > E2 :\n",
    "                    dht *= float(0.5)\n",
    "                    hp -= dht\n",
    "                else:\n",
    "                    hp += dht\n",
    "            else:\n",
    "                print('error : max iteration - nonuniform flow sect No.', i, 'err=', np.abs(E1 - E2))\n",
    "\n",
    "        h[i] = hp\n",
    "        # print(h[i])\n",
    "    return h"
   ]
  },
  {
   "cell_type": "markdown",
   "id": "2134a707",
   "metadata": {},
   "source": [
    "## 流砂量の計算"
   ]
  },
  {
   "cell_type": "code",
   "execution_count": 3,
   "id": "a3fca1ef",
   "metadata": {},
   "outputs": [],
   "source": [
    "@jit(nopython=True, parallel=False) # 高速化：デバッグ時は使わない方が良い\n",
    "def calqb(h, q, manning, dm, tauc,g=float(9.8),rhosw=float(1.65)):\n",
    "    qb = np.zeros_like(h)\n",
    "    for i in range(len(h)):\n",
    "        hp = h[i]\n",
    "        us = np.sqrt(g)*manning*q/hp**(7/6) # 摩擦速度\n",
    "        taus = us**2/rhosw/g/dm # 無次元掃流力\n",
    "\n",
    "        if taus <= tauc : # 移動限界の判定\n",
    "            qb[i] = 0.0\n",
    "        else:\n",
    "        # 有効掃流力：面倒なのであまり気にしない。\n",
    "            Ar = 8.5\n",
    "            kappa = 0.4\n",
    "            if np.log(hp/dm/(1.0+2.0*taus)) < 1.0:\n",
    "                phi = Ar\n",
    "            else:\n",
    "                phi = (np.log(hp/dm/(1.0+2.0*taus))-1.0)/kappa + Ar\n",
    "\n",
    "            U = q/hp\n",
    "            use = U/phi\n",
    "            tauet = use**2/rhosw/g/dm\n",
    "            taue = tauet if tauet < taus else taus\n",
    "\n",
    "        # Ashida-Michiue Eq. \n",
    "            qb[i] = np.sqrt(rhosw*g*dm**3)*17.0*taue**1.5*(1.0-tauc/taus)*(1.0-np.sqrt(tauc/taus))\n",
    "    return qb"
   ]
  },
  {
   "cell_type": "markdown",
   "id": "00dea556",
   "metadata": {},
   "source": [
    "## 河床の連続式の計算"
   ]
  },
  {
   "cell_type": "code",
   "execution_count": 4,
   "id": "0f5c7a25",
   "metadata": {},
   "outputs": [],
   "source": [
    "@jit(nopython=True, parallel=False) # 高速化：デバッグ時は使わない方が良い\n",
    "def calzb(zb, qbhfp, dx, dt, porosity=0.4):\n",
    "    # 河床の連続式を計算\n",
    "    dzb = np.zeros(len(zb)) \n",
    "    for i in range(len(zb)):\n",
    "        dzb[i] = - dt / (1.0 - porosity) * ( qbhfp[i+1] - qbhfp[i] )/dx\n",
    "\n",
    "    zb += dzb #zbの更新\n",
    "    return zb"
   ]
  },
  {
   "cell_type": "markdown",
   "id": "1da17390",
   "metadata": {},
   "source": [
    "## main"
   ]
  },
  {
   "cell_type": "markdown",
   "id": "df32f4bd",
   "metadata": {},
   "source": [
    "### 計算条件の設定"
   ]
  },
  {
   "cell_type": "code",
   "execution_count": 5,
   "id": "e0332f2f",
   "metadata": {},
   "outputs": [],
   "source": [
    "q = 5.0 #単位幅流量[m^2/s]\n",
    "manning = 0.02 #マニングの粗度係数\n",
    "dm = 5/1000 #粒径[m]o\n",
    "dx = 100.0 #空間刻み[m] \n",
    "dt = 10.0 #時間刻み[s]\n",
    "\n",
    "# 河床高の設定\n",
    "ib = 1.0/700.0\n",
    "L = np.arange(0,10000.01,dx) #追加距離の配列\n",
    "zbr = L*ib #河床高の配列\n",
    "zb  = zbr[::-1]"
   ]
  },
  {
   "cell_type": "markdown",
   "id": "07459075",
   "metadata": {},
   "source": [
    "### 水理量のチェック"
   ]
  },
  {
   "cell_type": "code",
   "execution_count": 6,
   "id": "5dfe5c83",
   "metadata": {},
   "outputs": [
    {
     "name": "stdout",
     "output_type": "stream",
     "text": [
      "下流端条件- 水深： 1.792789962520997 Froude数: 0.6653694374950128 無次元掃流力: 0.3104398203499562\n"
     ]
    }
   ],
   "source": [
    "h0 = (q**2*manning**2/ib)**0.3 #等流水深\n",
    "hc = (q**2/9.8)**(1/3) # 限界水深 \n",
    "fr = q/h0/np.sqrt(9.8*h0)\n",
    "taus = h0*ib/1.65/dm\n",
    "print('下流端条件-','水深：',h0, 'Froude数:', fr, '無次元掃流力:', taus)"
   ]
  },
  {
   "cell_type": "markdown",
   "id": "d4f66e92",
   "metadata": {},
   "source": [
    "### 初期河床高を設定"
   ]
  },
  {
   "cell_type": "code",
   "execution_count": 7,
   "id": "18ed4aa7",
   "metadata": {},
   "outputs": [
    {
     "data": {},
     "metadata": {},
     "output_type": "display_data"
    },
    {
     "data": {
      "application/vnd.holoviews_exec.v0+json": "",
      "text/html": [
       "<div id='p1066'>\n",
       "  <div id=\"bc192421-0749-4f2c-bcf0-e7c7005db538\" data-root-id=\"p1066\" style=\"display: contents;\"></div>\n",
       "</div>\n",
       "<script type=\"application/javascript\">(function(root) {\n",
       "  var docs_json = {\"ec018ad4-aad4-47b3-b529-0022651f2098\":{\"version\":\"3.4.1\",\"title\":\"Bokeh Application\",\"roots\":[{\"type\":\"object\",\"name\":\"Row\",\"id\":\"p1066\",\"attributes\":{\"name\":\"Row00907\",\"tags\":[\"embedded\"],\"stylesheets\":[\"\\n:host(.pn-loading):before, .pn-loading:before {\\n  background-color: #c3c3c3;\\n  mask-size: auto calc(min(50%, 400px));\\n  -webkit-mask-size: auto calc(min(50%, 400px));\\n}\",{\"type\":\"object\",\"name\":\"ImportedStyleSheet\",\"id\":\"p1069\",\"attributes\":{\"url\":\"https://cdn.holoviz.org/panel/1.4.4/dist/css/loading.css\"}},{\"type\":\"object\",\"name\":\"ImportedStyleSheet\",\"id\":\"p1124\",\"attributes\":{\"url\":\"https://cdn.holoviz.org/panel/1.4.4/dist/css/listpanel.css\"}},{\"type\":\"object\",\"name\":\"ImportedStyleSheet\",\"id\":\"p1067\",\"attributes\":{\"url\":\"https://cdn.holoviz.org/panel/1.4.4/dist/bundled/theme/default.css\"}},{\"type\":\"object\",\"name\":\"ImportedStyleSheet\",\"id\":\"p1068\",\"attributes\":{\"url\":\"https://cdn.holoviz.org/panel/1.4.4/dist/bundled/theme/native.css\"}}],\"min_width\":600,\"margin\":0,\"sizing_mode\":\"stretch_width\",\"align\":\"start\",\"children\":[{\"type\":\"object\",\"name\":\"Spacer\",\"id\":\"p1070\",\"attributes\":{\"name\":\"HSpacer00912\",\"stylesheets\":[\"\\n:host(.pn-loading):before, .pn-loading:before {\\n  background-color: #c3c3c3;\\n  mask-size: auto calc(min(50%, 400px));\\n  -webkit-mask-size: auto calc(min(50%, 400px));\\n}\",{\"id\":\"p1069\"},{\"id\":\"p1067\"},{\"id\":\"p1068\"}],\"margin\":0,\"sizing_mode\":\"stretch_width\",\"align\":\"start\"}},{\"type\":\"object\",\"name\":\"Figure\",\"id\":\"p1077\",\"attributes\":{\"height\":400,\"margin\":[5,10],\"sizing_mode\":\"fixed\",\"align\":\"start\",\"x_range\":{\"type\":\"object\",\"name\":\"Range1d\",\"id\":\"p1071\",\"attributes\":{\"tags\":[[[\"x\",\"x\",null]],[]],\"end\":10000.0,\"reset_start\":0.0,\"reset_end\":10000.0}},\"y_range\":{\"type\":\"object\",\"name\":\"Range1d\",\"id\":\"p1072\",\"attributes\":{\"tags\":[[[\"y\",\"y\",null]],{\"type\":\"map\",\"entries\":[[\"invert_yaxis\",false],[\"autorange\",false]]}],\"start\":-1.4285714285714288,\"end\":15.714285714285715,\"reset_start\":-1.4285714285714288,\"reset_end\":15.714285714285715}},\"x_scale\":{\"type\":\"object\",\"name\":\"LinearScale\",\"id\":\"p1087\"},\"y_scale\":{\"type\":\"object\",\"name\":\"LinearScale\",\"id\":\"p1088\"},\"title\":{\"type\":\"object\",\"name\":\"Title\",\"id\":\"p1080\",\"attributes\":{\"text\":\"Initial bed elevation\",\"text_color\":\"black\",\"text_font_size\":\"12pt\"}},\"renderers\":[{\"type\":\"object\",\"name\":\"GlyphRenderer\",\"id\":\"p1117\",\"attributes\":{\"data_source\":{\"type\":\"object\",\"name\":\"ColumnDataSource\",\"id\":\"p1108\",\"attributes\":{\"selected\":{\"type\":\"object\",\"name\":\"Selection\",\"id\":\"p1109\",\"attributes\":{\"indices\":[],\"line_indices\":[]}},\"selection_policy\":{\"type\":\"object\",\"name\":\"UnionRenderers\",\"id\":\"p1110\"},\"data\":{\"type\":\"map\",\"entries\":[[\"x\",{\"type\":\"ndarray\",\"array\":{\"type\":\"bytes\",\"data\":\"AAAAAAAAAAAAAAAAAABZQAAAAAAAAGlAAAAAAADAckAAAAAAAAB5QAAAAAAAQH9AAAAAAADAgkAAAAAAAOCFQAAAAAAAAIlAAAAAAAAgjEAAAAAAAECPQAAAAAAAMJFAAAAAAADAkkAAAAAAAFCUQAAAAAAA4JVAAAAAAABwl0AAAAAAAACZQAAAAAAAkJpAAAAAAAAgnEAAAAAAALCdQAAAAAAAQJ9AAAAAAABooEAAAAAAADChQAAAAAAA+KFAAAAAAADAokAAAAAAAIijQAAAAAAAUKRAAAAAAAAYpUAAAAAAAOClQAAAAAAAqKZAAAAAAABwp0AAAAAAADioQAAAAAAAAKlAAAAAAADIqUAAAAAAAJCqQAAAAAAAWKtAAAAAAAAgrEAAAAAAAOisQAAAAAAAsK1AAAAAAAB4rkAAAAAAAECvQAAAAAAABLBAAAAAAABosEAAAAAAAMywQAAAAAAAMLFAAAAAAACUsUAAAAAAAPixQAAAAAAAXLJAAAAAAADAskAAAAAAACSzQAAAAAAAiLNAAAAAAADss0AAAAAAAFC0QAAAAAAAtLRAAAAAAAAYtUAAAAAAAHy1QAAAAAAA4LVAAAAAAABEtkAAAAAAAKi2QAAAAAAADLdAAAAAAABwt0AAAAAAANS3QAAAAAAAOLhAAAAAAACcuEAAAAAAAAC5QAAAAAAAZLlAAAAAAADIuUAAAAAAACy6QAAAAAAAkLpAAAAAAAD0ukAAAAAAAFi7QAAAAAAAvLtAAAAAAAAgvEAAAAAAAIS8QAAAAAAA6LxAAAAAAABMvUAAAAAAALC9QAAAAAAAFL5AAAAAAAB4vkAAAAAAANy+QAAAAAAAQL9AAAAAAACkv0AAAAAAAATAQAAAAAAANsBAAAAAAABowEAAAAAAAJrAQAAAAAAAzMBAAAAAAAD+wEAAAAAAADDBQAAAAAAAYsFAAAAAAACUwUAAAAAAAMbBQAAAAAAA+MFAAAAAAAAqwkAAAAAAAFzCQAAAAAAAjsJAAAAAAADAwkAAAAAAAPLCQAAAAAAAJMNAAAAAAABWw0AAAAAAAIjDQA==\"},\"shape\":[101],\"dtype\":\"float64\",\"order\":\"little\"}],[\"y\",{\"type\":\"ndarray\",\"array\":{\"type\":\"bytes\",\"data\":\"AAAAAAAAAACSJEmSJEnCP5IkSZIkSdI/27Zt27Zt2z+SJEmSJEniP7dt27Zt2+Y/27Zt27Zt6z8AAAAAAADwP5IkSZIkSfI/JUmSJEmS9D+3bdu2bdv2P0mSJEmSJPk/27Zt27Zt+z9u27Zt27b9PwAAAAAAAABASZIkSZIkAUCSJEmSJEkCQNu2bdu2bQNAJUmSJEmSBEBu27Zt27YFQLdt27Zt2wZAAAAAAAAACEBJkiRJkiQJQJIkSZIkSQpA27Zt27ZtC0AlSZIkSZIMQG7btm3btg1At23btm3bDkAAAAAAAAAQQCVJkiRJkhBASZIkSZIkEUBu27Zt27YRQJIkSZIkSRJAt23btm3bEkDbtm3btm0TQAAAAAAAABRAJUmSJEmSFEBJkiRJkiQVQG7btm3bthVAkiRJkiRJFkC3bdu2bdsWQNu2bdu2bRdAAAAAAAAAGEAlSZIkSZIYQEmSJEmSJBlAbtu2bdu2GUCSJEmSJEkaQLdt27Zt2xpA27Zt27ZtG0AAAAAAAAAcQCVJkiRJkhxASZIkSZIkHUBu27Zt27YdQJIkSZIkSR5At23btm3bHkDbtm3btm0fQAAAAAAAACBAkiRJkiRJIEAlSZIkSZIgQLdt27Zt2yBASZIkSZIkIUDbtm3btm0hQG7btm3btiFAAAAAAAAAIkCSJEmSJEkiQCVJkiRJkiJAt23btm3bIkBJkiRJkiQjQNu2bdu2bSNAbtu2bdu2I0AAAAAAAAAkQJIkSZIkSSRAJUmSJEmSJEC3bdu2bdskQEmSJEmSJCVA27Zt27ZtJUBu27Zt27YlQAAAAAAAACZAkiRJkiRJJkAlSZIkSZImQLdt27Zt2yZASZIkSZIkJ0Dbtm3btm0nQG7btm3btidAAAAAAAAAKECSJEmSJEkoQCVJkiRJkihAt23btm3bKEBJkiRJkiQpQNu2bdu2bSlAbtu2bdu2KUAAAAAAAAAqQJIkSZIkSSpAJUmSJEmSKkC3bdu2bdsqQEmSJEmSJCtA27Zt27ZtK0Bu27Zt27YrQAAAAAAAACxAkiRJkiRJLEAlSZIkSZIsQA==\"},\"shape\":[101],\"dtype\":\"float64\",\"order\":\"little\"}]]}}},\"view\":{\"type\":\"object\",\"name\":\"CDSView\",\"id\":\"p1118\",\"attributes\":{\"filter\":{\"type\":\"object\",\"name\":\"AllIndices\",\"id\":\"p1119\"}}},\"glyph\":{\"type\":\"object\",\"name\":\"Line\",\"id\":\"p1114\",\"attributes\":{\"tags\":[\"apply_ranges\"],\"x\":{\"type\":\"field\",\"field\":\"x\"},\"y\":{\"type\":\"field\",\"field\":\"y\"},\"line_color\":\"#000000\",\"line_width\":2}},\"selection_glyph\":{\"type\":\"object\",\"name\":\"Line\",\"id\":\"p1120\",\"attributes\":{\"tags\":[\"apply_ranges\"],\"x\":{\"type\":\"field\",\"field\":\"x\"},\"y\":{\"type\":\"field\",\"field\":\"y\"},\"line_color\":\"#000000\",\"line_width\":2}},\"nonselection_glyph\":{\"type\":\"object\",\"name\":\"Line\",\"id\":\"p1115\",\"attributes\":{\"tags\":[\"apply_ranges\"],\"x\":{\"type\":\"field\",\"field\":\"x\"},\"y\":{\"type\":\"field\",\"field\":\"y\"},\"line_color\":\"#000000\",\"line_alpha\":0.1,\"line_width\":2}},\"muted_glyph\":{\"type\":\"object\",\"name\":\"Line\",\"id\":\"p1116\",\"attributes\":{\"tags\":[\"apply_ranges\"],\"x\":{\"type\":\"field\",\"field\":\"x\"},\"y\":{\"type\":\"field\",\"field\":\"y\"},\"line_color\":\"#000000\",\"line_alpha\":0.2,\"line_width\":2}}}}],\"toolbar\":{\"type\":\"object\",\"name\":\"Toolbar\",\"id\":\"p1086\",\"attributes\":{\"tools\":[{\"type\":\"object\",\"name\":\"WheelZoomTool\",\"id\":\"p1076\",\"attributes\":{\"tags\":[\"hv_created\"],\"renderers\":\"auto\",\"zoom_together\":\"none\"}},{\"type\":\"object\",\"name\":\"SaveTool\",\"id\":\"p1099\"},{\"type\":\"object\",\"name\":\"PanTool\",\"id\":\"p1100\"},{\"type\":\"object\",\"name\":\"BoxZoomTool\",\"id\":\"p1101\",\"attributes\":{\"overlay\":{\"type\":\"object\",\"name\":\"BoxAnnotation\",\"id\":\"p1102\",\"attributes\":{\"syncable\":false,\"level\":\"overlay\",\"visible\":false,\"left\":{\"type\":\"number\",\"value\":\"nan\"},\"right\":{\"type\":\"number\",\"value\":\"nan\"},\"top\":{\"type\":\"number\",\"value\":\"nan\"},\"bottom\":{\"type\":\"number\",\"value\":\"nan\"},\"left_units\":\"canvas\",\"right_units\":\"canvas\",\"top_units\":\"canvas\",\"bottom_units\":\"canvas\",\"line_color\":\"black\",\"line_alpha\":1.0,\"line_width\":2,\"line_dash\":[4,4],\"fill_color\":\"lightgrey\",\"fill_alpha\":0.5}}}},{\"type\":\"object\",\"name\":\"ResetTool\",\"id\":\"p1107\"}],\"active_drag\":{\"id\":\"p1100\"},\"active_scroll\":{\"id\":\"p1076\"}}},\"left\":[{\"type\":\"object\",\"name\":\"LinearAxis\",\"id\":\"p1094\",\"attributes\":{\"ticker\":{\"type\":\"object\",\"name\":\"BasicTicker\",\"id\":\"p1095\",\"attributes\":{\"mantissas\":[1,2,5]}},\"formatter\":{\"type\":\"object\",\"name\":\"BasicTickFormatter\",\"id\":\"p1096\"},\"axis_label\":\"Elevation[m]\",\"major_label_policy\":{\"type\":\"object\",\"name\":\"AllLabels\",\"id\":\"p1097\"}}}],\"below\":[{\"type\":\"object\",\"name\":\"LinearAxis\",\"id\":\"p1089\",\"attributes\":{\"ticker\":{\"type\":\"object\",\"name\":\"BasicTicker\",\"id\":\"p1090\",\"attributes\":{\"mantissas\":[1,2,5]}},\"formatter\":{\"type\":\"object\",\"name\":\"BasicTickFormatter\",\"id\":\"p1091\"},\"axis_label\":\"Distance[m]\",\"major_label_policy\":{\"type\":\"object\",\"name\":\"AllLabels\",\"id\":\"p1092\"}}}],\"center\":[{\"type\":\"object\",\"name\":\"Grid\",\"id\":\"p1093\",\"attributes\":{\"axis\":{\"id\":\"p1089\"},\"ticker\":{\"id\":\"p1090\"}}},{\"type\":\"object\",\"name\":\"Grid\",\"id\":\"p1098\",\"attributes\":{\"dimension\":1,\"axis\":{\"id\":\"p1094\"},\"ticker\":{\"id\":\"p1095\"}}}],\"min_border_top\":10,\"min_border_bottom\":10,\"min_border_left\":10,\"min_border_right\":10,\"output_backend\":\"webgl\"}},{\"type\":\"object\",\"name\":\"Spacer\",\"id\":\"p1122\",\"attributes\":{\"name\":\"HSpacer00913\",\"stylesheets\":[\"\\n:host(.pn-loading):before, .pn-loading:before {\\n  background-color: #c3c3c3;\\n  mask-size: auto calc(min(50%, 400px));\\n  -webkit-mask-size: auto calc(min(50%, 400px));\\n}\",{\"id\":\"p1069\"},{\"id\":\"p1067\"},{\"id\":\"p1068\"}],\"margin\":0,\"sizing_mode\":\"stretch_width\",\"align\":\"start\"}}]}}],\"defs\":[{\"type\":\"model\",\"name\":\"ReactiveHTML1\"},{\"type\":\"model\",\"name\":\"FlexBox1\",\"properties\":[{\"name\":\"align_content\",\"kind\":\"Any\",\"default\":\"flex-start\"},{\"name\":\"align_items\",\"kind\":\"Any\",\"default\":\"flex-start\"},{\"name\":\"flex_direction\",\"kind\":\"Any\",\"default\":\"row\"},{\"name\":\"flex_wrap\",\"kind\":\"Any\",\"default\":\"wrap\"},{\"name\":\"gap\",\"kind\":\"Any\",\"default\":\"\"},{\"name\":\"justify_content\",\"kind\":\"Any\",\"default\":\"flex-start\"}]},{\"type\":\"model\",\"name\":\"FloatPanel1\",\"properties\":[{\"name\":\"config\",\"kind\":\"Any\",\"default\":{\"type\":\"map\"}},{\"name\":\"contained\",\"kind\":\"Any\",\"default\":true},{\"name\":\"position\",\"kind\":\"Any\",\"default\":\"right-top\"},{\"name\":\"offsetx\",\"kind\":\"Any\",\"default\":null},{\"name\":\"offsety\",\"kind\":\"Any\",\"default\":null},{\"name\":\"theme\",\"kind\":\"Any\",\"default\":\"primary\"},{\"name\":\"status\",\"kind\":\"Any\",\"default\":\"normalized\"}]},{\"type\":\"model\",\"name\":\"GridStack1\",\"properties\":[{\"name\":\"mode\",\"kind\":\"Any\",\"default\":\"warn\"},{\"name\":\"ncols\",\"kind\":\"Any\",\"default\":null},{\"name\":\"nrows\",\"kind\":\"Any\",\"default\":null},{\"name\":\"allow_resize\",\"kind\":\"Any\",\"default\":true},{\"name\":\"allow_drag\",\"kind\":\"Any\",\"default\":true},{\"name\":\"state\",\"kind\":\"Any\",\"default\":[]}]},{\"type\":\"model\",\"name\":\"drag1\",\"properties\":[{\"name\":\"slider_width\",\"kind\":\"Any\",\"default\":5},{\"name\":\"slider_color\",\"kind\":\"Any\",\"default\":\"black\"},{\"name\":\"value\",\"kind\":\"Any\",\"default\":50}]},{\"type\":\"model\",\"name\":\"click1\",\"properties\":[{\"name\":\"terminal_output\",\"kind\":\"Any\",\"default\":\"\"},{\"name\":\"debug_name\",\"kind\":\"Any\",\"default\":\"\"},{\"name\":\"clears\",\"kind\":\"Any\",\"default\":0}]},{\"type\":\"model\",\"name\":\"FastWrapper1\",\"properties\":[{\"name\":\"object\",\"kind\":\"Any\",\"default\":null},{\"name\":\"style\",\"kind\":\"Any\",\"default\":null}]},{\"type\":\"model\",\"name\":\"NotificationAreaBase1\",\"properties\":[{\"name\":\"js_events\",\"kind\":\"Any\",\"default\":{\"type\":\"map\"}},{\"name\":\"position\",\"kind\":\"Any\",\"default\":\"bottom-right\"},{\"name\":\"_clear\",\"kind\":\"Any\",\"default\":0}]},{\"type\":\"model\",\"name\":\"NotificationArea1\",\"properties\":[{\"name\":\"js_events\",\"kind\":\"Any\",\"default\":{\"type\":\"map\"}},{\"name\":\"notifications\",\"kind\":\"Any\",\"default\":[]},{\"name\":\"position\",\"kind\":\"Any\",\"default\":\"bottom-right\"},{\"name\":\"_clear\",\"kind\":\"Any\",\"default\":0},{\"name\":\"types\",\"kind\":\"Any\",\"default\":[{\"type\":\"map\",\"entries\":[[\"type\",\"warning\"],[\"background\",\"#ffc107\"],[\"icon\",{\"type\":\"map\",\"entries\":[[\"className\",\"fas fa-exclamation-triangle\"],[\"tagName\",\"i\"],[\"color\",\"white\"]]}]]},{\"type\":\"map\",\"entries\":[[\"type\",\"info\"],[\"background\",\"#007bff\"],[\"icon\",{\"type\":\"map\",\"entries\":[[\"className\",\"fas fa-info-circle\"],[\"tagName\",\"i\"],[\"color\",\"white\"]]}]]}]}]},{\"type\":\"model\",\"name\":\"Notification\",\"properties\":[{\"name\":\"background\",\"kind\":\"Any\",\"default\":null},{\"name\":\"duration\",\"kind\":\"Any\",\"default\":3000},{\"name\":\"icon\",\"kind\":\"Any\",\"default\":null},{\"name\":\"message\",\"kind\":\"Any\",\"default\":\"\"},{\"name\":\"notification_type\",\"kind\":\"Any\",\"default\":null},{\"name\":\"_destroyed\",\"kind\":\"Any\",\"default\":false}]},{\"type\":\"model\",\"name\":\"TemplateActions1\",\"properties\":[{\"name\":\"open_modal\",\"kind\":\"Any\",\"default\":0},{\"name\":\"close_modal\",\"kind\":\"Any\",\"default\":0}]},{\"type\":\"model\",\"name\":\"BootstrapTemplateActions1\",\"properties\":[{\"name\":\"open_modal\",\"kind\":\"Any\",\"default\":0},{\"name\":\"close_modal\",\"kind\":\"Any\",\"default\":0}]},{\"type\":\"model\",\"name\":\"TemplateEditor1\",\"properties\":[{\"name\":\"layout\",\"kind\":\"Any\",\"default\":[]}]},{\"type\":\"model\",\"name\":\"MaterialTemplateActions1\",\"properties\":[{\"name\":\"open_modal\",\"kind\":\"Any\",\"default\":0},{\"name\":\"close_modal\",\"kind\":\"Any\",\"default\":0}]},{\"type\":\"model\",\"name\":\"copy_to_clipboard1\",\"properties\":[{\"name\":\"fill\",\"kind\":\"Any\",\"default\":\"none\"},{\"name\":\"value\",\"kind\":\"Any\",\"default\":null}]}]}};\n",
       "  var render_items = [{\"docid\":\"ec018ad4-aad4-47b3-b529-0022651f2098\",\"roots\":{\"p1066\":\"bc192421-0749-4f2c-bcf0-e7c7005db538\"},\"root_ids\":[\"p1066\"]}];\n",
       "  var docs = Object.values(docs_json)\n",
       "  if (!docs) {\n",
       "    return\n",
       "  }\n",
       "  const py_version = docs[0].version.replace('rc', '-rc.').replace('.dev', '-dev.')\n",
       "  async function embed_document(root) {\n",
       "    var Bokeh = get_bokeh(root)\n",
       "    await Bokeh.embed.embed_items_notebook(docs_json, render_items);\n",
       "    for (const render_item of render_items) {\n",
       "      for (const root_id of render_item.root_ids) {\n",
       "\tconst id_el = document.getElementById(root_id)\n",
       "\tif (id_el.children.length && id_el.children[0].hasAttribute('data-root-id')) {\n",
       "\t  const root_el = id_el.children[0]\n",
       "\t  root_el.id = root_el.id + '-rendered'\n",
       "\t  for (const child of root_el.children) {\n",
       "            // Ensure JupyterLab does not capture keyboard shortcuts\n",
       "            // see: https://jupyterlab.readthedocs.io/en/4.1.x/extension/notebook.html#keyboard-interaction-model\n",
       "\t    child.setAttribute('data-lm-suppress-shortcuts', 'true')\n",
       "\t  }\n",
       "\t}\n",
       "      }\n",
       "    }\n",
       "  }\n",
       "  function get_bokeh(root) {\n",
       "    if (root.Bokeh === undefined) {\n",
       "      return null\n",
       "    } else if (root.Bokeh.version !== py_version) {\n",
       "      if (root.Bokeh.versions === undefined || !root.Bokeh.versions.has(py_version)) {\n",
       "\treturn null\n",
       "      }\n",
       "      return root.Bokeh.versions.get(py_version);\n",
       "    } else if (root.Bokeh.version === py_version) {\n",
       "      return root.Bokeh\n",
       "    }\n",
       "    return null\n",
       "  }\n",
       "  function is_loaded(root) {\n",
       "    var Bokeh = get_bokeh(root)\n",
       "    return (Bokeh != null && Bokeh.Panel !== undefined)\n",
       "  }\n",
       "  if (is_loaded(root)) {\n",
       "    embed_document(root);\n",
       "  } else {\n",
       "    var attempts = 0;\n",
       "    var timer = setInterval(function(root) {\n",
       "      if (is_loaded(root)) {\n",
       "        clearInterval(timer);\n",
       "        embed_document(root);\n",
       "      } else if (document.readyState == \"complete\") {\n",
       "        attempts++;\n",
       "        if (attempts > 200) {\n",
       "          clearInterval(timer);\n",
       "\t  var Bokeh = get_bokeh(root)\n",
       "\t  if (Bokeh == null || Bokeh.Panel == null) {\n",
       "            console.warn(\"Panel: ERROR: Unable to run Panel code because Bokeh or Panel library is missing\");\n",
       "\t  } else {\n",
       "\t    console.warn(\"Panel: WARNING: Attempting to render but not all required libraries could be resolved.\")\n",
       "\t    embed_document(root)\n",
       "\t  }\n",
       "        }\n",
       "      }\n",
       "    }, 25, root)\n",
       "  }\n",
       "})(window);</script>"
      ],
      "text/plain": [
       ":Curve   [x]   (y)"
      ]
     },
     "execution_count": 7,
     "metadata": {
      "application/vnd.holoviews_exec.v0+json": {
       "id": "p1066"
      }
     },
     "output_type": "execute_result"
    }
   ],
   "source": [
    "g = hv.Curve((L, zb[::-1]), label='zb').options(\n",
    "    show_grid=True, color='k',xlabel='Distance[m]',ylabel='Elevation[m]'\n",
    "    , width=600, height=400, title='Initial bed elevation')\n",
    "hv.save(g, 'zb.html') #初期河床高の図化\n",
    "g"
   ]
  },
  {
   "cell_type": "markdown",
   "id": "b3c6ca75",
   "metadata": {},
   "source": [
    "### 河床変動計算"
   ]
  },
  {
   "cell_type": "code",
   "execution_count": 8,
   "id": "22628e21",
   "metadata": {},
   "outputs": [
    {
     "name": "stdout",
     "output_type": "stream",
     "text": [
      "CPU times: total: 34.4 s\n",
      "Wall time: 1min 38s\n"
     ]
    }
   ],
   "source": [
    "%time\n",
    "istep = int(40*24.0*3600.0/dt) #計算時間：ステップ数\n",
    "# istep = 1000\n",
    "\n",
    "itime = [ int(thr*3600/dt) for thr in [0, 5*24, 10*24, 20*24, 30*24, 40*24] ]\n",
    "iexport = iter(itime)\n",
    "iex = next(iexport, None) #初期値\n",
    "\n",
    "hout, zbout = [], []\n",
    "for itr in range(istep):\n",
    "    # hDB = h0 #下流端の水深\n",
    "    # 変更箇所\n",
    "    hDB = float(12)  #下流端の水深\n",
    "    zbr = zb[::-1] #不等流計算用に逆順にする\n",
    "    hr = nonuniformflow(q, hDB, zbr, dx, manning) # 不等流計算\n",
    "\n",
    "    h = hr[::-1] #不等流計算結果が逆順になっているので元に戻す\n",
    "    if itr==iex: \n",
    "        hout.append(h.copy())\n",
    "        zbout.append(zb.copy())\n",
    "        iex = next(iexport, None) #初期値\n",
    "\n",
    "    # 流砂量の計算 \n",
    "    # 岩垣の式等による無次元限界掃流力の計算が必要ですが、砂礫の計算のため0.05でO.K.\n",
    "    qb = calqb(h, q, manning, dm, tauc=0.05)\n",
    "\n",
    "    # 河床高の計算\n",
    "    # ハーフセルの値を設定 : スタッガードスキーム\n",
    "    # 配列のインデックスは、i-1/2⇒i,i+1/2⇒i+1と定義する\n",
    "    qbhf = np.zeros(len(h)+1)\n",
    "    qbhf[1:] = qb[:] #風上化（一次元の場合、逆流は考えないとするとiの値を⇒i+1/2に代入する）\n",
    "    qb[-1] = float(0.0) #下流端境界条件：流出\n",
    "    qbhf[0] = qb[0] #上流端境界条件平衡給砂\n",
    "    zb = calzb(zb,qbhf,dx, dt) # 河床高の更新\n",
    "\n",
    "hout.append(h.copy())\n",
    "zbout.append(zb.copy())"
   ]
  },
  {
   "cell_type": "markdown",
   "id": "36ea7cec",
   "metadata": {},
   "source": [
    "## 図化"
   ]
  },
  {
   "cell_type": "code",
   "execution_count": 9,
   "id": "7625aaec",
   "metadata": {},
   "outputs": [],
   "source": [
    "from holoviews.plotting.util import process_cmap\n",
    "cmap_list = process_cmap(\"turbo\")\n",
    "cmap_list2 = [cmap_list[int(ii)] for ii in np.linspace(0, 255, num=6) ]"
   ]
  },
  {
   "cell_type": "code",
   "execution_count": 10,
   "id": "c0cdb51d",
   "metadata": {},
   "outputs": [
    {
     "data": {},
     "metadata": {},
     "output_type": "display_data"
    },
    {
     "data": {
      "application/vnd.holoviews_exec.v0+json": "",
      "text/html": [
       "<div id='p1128'>\n",
       "  <div id=\"d8217c41-d3ca-4f62-9ba1-f4f265621389\" data-root-id=\"p1128\" style=\"display: contents;\"></div>\n",
       "</div>\n",
       "<script type=\"application/javascript\">(function(root) {\n",
       "  var docs_json = {\"c20ea933-9bd3-4f9e-89d1-84ada92f70c9\":{\"version\":\"3.4.1\",\"title\":\"Bokeh Application\",\"roots\":[{\"type\":\"object\",\"name\":\"Row\",\"id\":\"p1128\",\"attributes\":{\"name\":\"Row01365\",\"tags\":[\"embedded\"],\"stylesheets\":[\"\\n:host(.pn-loading):before, .pn-loading:before {\\n  background-color: #c3c3c3;\\n  mask-size: auto calc(min(50%, 400px));\\n  -webkit-mask-size: auto calc(min(50%, 400px));\\n}\",{\"type\":\"object\",\"name\":\"ImportedStyleSheet\",\"id\":\"p1131\",\"attributes\":{\"url\":\"https://cdn.holoviz.org/panel/1.4.4/dist/css/loading.css\"}},{\"type\":\"object\",\"name\":\"ImportedStyleSheet\",\"id\":\"p1364\",\"attributes\":{\"url\":\"https://cdn.holoviz.org/panel/1.4.4/dist/css/listpanel.css\"}},{\"type\":\"object\",\"name\":\"ImportedStyleSheet\",\"id\":\"p1129\",\"attributes\":{\"url\":\"https://cdn.holoviz.org/panel/1.4.4/dist/bundled/theme/default.css\"}},{\"type\":\"object\",\"name\":\"ImportedStyleSheet\",\"id\":\"p1130\",\"attributes\":{\"url\":\"https://cdn.holoviz.org/panel/1.4.4/dist/bundled/theme/native.css\"}}],\"min_width\":800,\"margin\":0,\"sizing_mode\":\"stretch_width\",\"align\":\"start\",\"children\":[{\"type\":\"object\",\"name\":\"Spacer\",\"id\":\"p1132\",\"attributes\":{\"name\":\"HSpacer01372\",\"stylesheets\":[\"\\n:host(.pn-loading):before, .pn-loading:before {\\n  background-color: #c3c3c3;\\n  mask-size: auto calc(min(50%, 400px));\\n  -webkit-mask-size: auto calc(min(50%, 400px));\\n}\",{\"id\":\"p1131\"},{\"id\":\"p1129\"},{\"id\":\"p1130\"}],\"margin\":0,\"sizing_mode\":\"stretch_width\",\"align\":\"start\"}},{\"type\":\"object\",\"name\":\"Figure\",\"id\":\"p1161\",\"attributes\":{\"width\":800,\"margin\":[5,10],\"sizing_mode\":\"fixed\",\"align\":\"start\",\"x_range\":{\"type\":\"object\",\"name\":\"Range1d\",\"id\":\"p1133\",\"attributes\":{\"tags\":[[[\"x\",\"x\",null]],[]],\"end\":10000.0,\"reset_start\":0.0,\"reset_end\":10000.0}},\"y_range\":{\"type\":\"object\",\"name\":\"Range1d\",\"id\":\"p1134\",\"attributes\":{\"tags\":[[[\"y\",\"y\",null]],{\"type\":\"map\",\"entries\":[[\"invert_yaxis\",false],[\"autorange\",false]]}],\"start\":-1.6289779437301324,\"end\":17.918757381031455,\"reset_start\":-1.6289779437301324,\"reset_end\":17.918757381031455}},\"x_scale\":{\"type\":\"object\",\"name\":\"LinearScale\",\"id\":\"p1171\"},\"y_scale\":{\"type\":\"object\",\"name\":\"LinearScale\",\"id\":\"p1172\"},\"title\":{\"type\":\"object\",\"name\":\"Title\",\"id\":\"p1164\",\"attributes\":{\"text\":\"bed elevation\",\"text_color\":\"black\",\"text_font_size\":\"12pt\"}},\"renderers\":[{\"type\":\"object\",\"name\":\"GlyphRenderer\",\"id\":\"p1201\",\"attributes\":{\"name\":\"\\u6c34\\u4f4d:0\\u65e5\\u5f8c\",\"data_source\":{\"type\":\"object\",\"name\":\"ColumnDataSource\",\"id\":\"p1192\",\"attributes\":{\"selected\":{\"type\":\"object\",\"name\":\"Selection\",\"id\":\"p1193\",\"attributes\":{\"indices\":[],\"line_indices\":[]}},\"selection_policy\":{\"type\":\"object\",\"name\":\"UnionRenderers\",\"id\":\"p1194\"},\"data\":{\"type\":\"map\",\"entries\":[[\"x\",{\"type\":\"ndarray\",\"array\":{\"type\":\"bytes\",\"data\":\"AAAAAAAAAAAAAAAAAABZQAAAAAAAAGlAAAAAAADAckAAAAAAAAB5QAAAAAAAQH9AAAAAAADAgkAAAAAAAOCFQAAAAAAAAIlAAAAAAAAgjEAAAAAAAECPQAAAAAAAMJFAAAAAAADAkkAAAAAAAFCUQAAAAAAA4JVAAAAAAABwl0AAAAAAAACZQAAAAAAAkJpAAAAAAAAgnEAAAAAAALCdQAAAAAAAQJ9AAAAAAABooEAAAAAAADChQAAAAAAA+KFAAAAAAADAokAAAAAAAIijQAAAAAAAUKRAAAAAAAAYpUAAAAAAAOClQAAAAAAAqKZAAAAAAABwp0AAAAAAADioQAAAAAAAAKlAAAAAAADIqUAAAAAAAJCqQAAAAAAAWKtAAAAAAAAgrEAAAAAAAOisQAAAAAAAsK1AAAAAAAB4rkAAAAAAAECvQAAAAAAABLBAAAAAAABosEAAAAAAAMywQAAAAAAAMLFAAAAAAACUsUAAAAAAAPixQAAAAAAAXLJAAAAAAADAskAAAAAAACSzQAAAAAAAiLNAAAAAAADss0AAAAAAAFC0QAAAAAAAtLRAAAAAAAAYtUAAAAAAAHy1QAAAAAAA4LVAAAAAAABEtkAAAAAAAKi2QAAAAAAADLdAAAAAAABwt0AAAAAAANS3QAAAAAAAOLhAAAAAAACcuEAAAAAAAAC5QAAAAAAAZLlAAAAAAADIuUAAAAAAACy6QAAAAAAAkLpAAAAAAAD0ukAAAAAAAFi7QAAAAAAAvLtAAAAAAAAgvEAAAAAAAIS8QAAAAAAA6LxAAAAAAABMvUAAAAAAALC9QAAAAAAAFL5AAAAAAAB4vkAAAAAAANy+QAAAAAAAQL9AAAAAAACkv0AAAAAAAATAQAAAAAAANsBAAAAAAABowEAAAAAAAJrAQAAAAAAAzMBAAAAAAAD+wEAAAAAAADDBQAAAAAAAYsFAAAAAAACUwUAAAAAAAMbBQAAAAAAA+MFAAAAAAAAqwkAAAAAAAFzCQAAAAAAAjsJAAAAAAADAwkAAAAAAAPLCQAAAAAAAJMNAAAAAAABWw0AAAAAAAIjDQA==\"},\"shape\":[101],\"dtype\":\"float64\",\"order\":\"little\"}],[\"y\",{\"type\":\"ndarray\",\"array\":{\"type\":\"bytes\",\"data\":\"AAAAAAAAKEBb+7yrBQAoQCJTObELAChAGt7oFRIAKEB4z/7gGAAoQKSN4RggAChAoBiRxScAKED9CafuLwAoQPaUVp04AChAvOzS2kEAKEBPERyxSwAoQOA1ZStWAChAclquVWEAKEDUS8Q8bQAoQGVwDe95AChALMiJfIcAKEAkUzn1lQAoQLd3gmulAChA4zVl87UAKEAO9EejxwAoQHDlXZLaAChAZ3AN2+4AKEDGYSOaBAEoQMDs0u4bAShAuHeC+zQBKEB/z/7mTwEoQBL0R9tsAShA2EvEBowBKEBqcA2drQEoQJYu8NbRAShAW4Zs9PgBKEC6d4I7IwIoQBppmPpQAihAelquiYICKEA/sipLuAIoQAYKp6zyAihA/pRWKTIDKEBdhmxMdwMoQLx3grPCAyhA6DVlDxUEKECvjeEobwQoQKgYkeXRBChA1NZzST4FKECaLvB+tQUoQJK5n9s4BihAWBEc6ckGKEC4AjJsagcoQH1arnEcCChAEH/3W+IIKEDW1nPxvgkoQJwu8HK1CihAlLmfs8kLKEDBd4I1AA0oQLoCMlJeDihAso3haOoPKECsGJEZrBEoQD492o+sEyhABJVW4/YVKEDK7NKOmBgoQFwRHA2iGyhAugIynicfKEAZ9EdHQiMoQEWyKh0RKChACwqn6LotKEBp+7w/cDQoQMns0ihuPChAKN7oTQFGKECHz/6wiVEoQEwne4p+XyhArBiRbXFwKECko0DqDoUoQAKVVo0ZnihA/B8G7lq8KEDBd4IXh+AoQFOcy5kTCylAf1quCQ48KUASf/d/B3MpQNfWcx0mrylAnC7whlfvKUAvUzlRijIqQMF3gpPVdypAU5zLiYe+KkAY9EdnIgYrQEWyKotRTitApKNA4t2WK0AClVZVpN8rQMns0tKOKCxAWxEcmY9xLEC6AjIgnrosQOXAFCC1Ay1A30vEWNFMLUA9PdrH8JUtQDbIiTAS3y1AL1M50TQoLkBaERwxWHEuQCBpmAZ8ui5Af1quJaADL0DfS8RwxEwvQHBwDdfolS9Az2EjTg3fL0DL3M/nGBQwQA==\"},\"shape\":[101],\"dtype\":\"float64\",\"order\":\"little\"}]]}}},\"view\":{\"type\":\"object\",\"name\":\"CDSView\",\"id\":\"p1202\",\"attributes\":{\"filter\":{\"type\":\"object\",\"name\":\"AllIndices\",\"id\":\"p1203\"}}},\"glyph\":{\"type\":\"object\",\"name\":\"Line\",\"id\":\"p1198\",\"attributes\":{\"tags\":[\"apply_ranges\"],\"x\":{\"type\":\"field\",\"field\":\"x\"},\"y\":{\"type\":\"field\",\"field\":\"y\"},\"line_color\":\"#30123b\",\"line_width\":2}},\"selection_glyph\":{\"type\":\"object\",\"name\":\"Line\",\"id\":\"p1206\",\"attributes\":{\"tags\":[\"apply_ranges\"],\"x\":{\"type\":\"field\",\"field\":\"x\"},\"y\":{\"type\":\"field\",\"field\":\"y\"},\"line_color\":\"#30123b\",\"line_width\":2}},\"nonselection_glyph\":{\"type\":\"object\",\"name\":\"Line\",\"id\":\"p1199\",\"attributes\":{\"tags\":[\"apply_ranges\"],\"x\":{\"type\":\"field\",\"field\":\"x\"},\"y\":{\"type\":\"field\",\"field\":\"y\"},\"line_color\":\"#30123b\",\"line_alpha\":0.1,\"line_width\":2}},\"muted_glyph\":{\"type\":\"object\",\"name\":\"Line\",\"id\":\"p1200\",\"attributes\":{\"tags\":[\"apply_ranges\"],\"x\":{\"type\":\"field\",\"field\":\"x\"},\"y\":{\"type\":\"field\",\"field\":\"y\"},\"line_color\":\"#30123b\",\"line_alpha\":0.2,\"line_width\":2}}}},{\"type\":\"object\",\"name\":\"GlyphRenderer\",\"id\":\"p1216\",\"attributes\":{\"name\":\"\\u6c34\\u4f4d:5\\u65e5\\u5f8c\",\"data_source\":{\"type\":\"object\",\"name\":\"ColumnDataSource\",\"id\":\"p1207\",\"attributes\":{\"selected\":{\"type\":\"object\",\"name\":\"Selection\",\"id\":\"p1208\",\"attributes\":{\"indices\":[],\"line_indices\":[]}},\"selection_policy\":{\"type\":\"object\",\"name\":\"UnionRenderers\",\"id\":\"p1209\"},\"data\":{\"type\":\"map\",\"entries\":[[\"x\",{\"type\":\"ndarray\",\"array\":{\"type\":\"bytes\",\"data\":\"AAAAAAAAAAAAAAAAAABZQAAAAAAAAGlAAAAAAADAckAAAAAAAAB5QAAAAAAAQH9AAAAAAADAgkAAAAAAAOCFQAAAAAAAAIlAAAAAAAAgjEAAAAAAAECPQAAAAAAAMJFAAAAAAADAkkAAAAAAAFCUQAAAAAAA4JVAAAAAAABwl0AAAAAAAACZQAAAAAAAkJpAAAAAAAAgnEAAAAAAALCdQAAAAAAAQJ9AAAAAAABooEAAAAAAADChQAAAAAAA+KFAAAAAAADAokAAAAAAAIijQAAAAAAAUKRAAAAAAAAYpUAAAAAAAOClQAAAAAAAqKZAAAAAAABwp0AAAAAAADioQAAAAAAAAKlAAAAAAADIqUAAAAAAAJCqQAAAAAAAWKtAAAAAAAAgrEAAAAAAAOisQAAAAAAAsK1AAAAAAAB4rkAAAAAAAECvQAAAAAAABLBAAAAAAABosEAAAAAAAMywQAAAAAAAMLFAAAAAAACUsUAAAAAAAPixQAAAAAAAXLJAAAAAAADAskAAAAAAACSzQAAAAAAAiLNAAAAAAADss0AAAAAAAFC0QAAAAAAAtLRAAAAAAAAYtUAAAAAAAHy1QAAAAAAA4LVAAAAAAABEtkAAAAAAAKi2QAAAAAAADLdAAAAAAABwt0AAAAAAANS3QAAAAAAAOLhAAAAAAACcuEAAAAAAAAC5QAAAAAAAZLlAAAAAAADIuUAAAAAAACy6QAAAAAAAkLpAAAAAAAD0ukAAAAAAAFi7QAAAAAAAvLtAAAAAAAAgvEAAAAAAAIS8QAAAAAAA6LxAAAAAAABMvUAAAAAAALC9QAAAAAAAFL5AAAAAAAB4vkAAAAAAANy+QAAAAAAAQL9AAAAAAACkv0AAAAAAAATAQAAAAAAANsBAAAAAAABowEAAAAAAAJrAQAAAAAAAzMBAAAAAAAD+wEAAAAAAADDBQAAAAAAAYsFAAAAAAACUwUAAAAAAAMbBQAAAAAAA+MFAAAAAAAAqwkAAAAAAAFzCQAAAAAAAjsJAAAAAAADAwkAAAAAAAPLCQAAAAAAAJMNAAAAAAABWw0AAAAAAAIjDQA==\"},\"shape\":[101],\"dtype\":\"float64\",\"order\":\"little\"}],[\"y\",{\"type\":\"ndarray\",\"array\":{\"type\":\"bytes\",\"data\":\"AAAAAAAAKEBb+7yrBQAoQCJTObELAChAGt7oFRIAKEB4z/7gGAAoQKSN4RggAChAoBiRxScAKED9CafuLwAoQPaUVp04AChAvOzS2kEAKEBPERyxSwAoQOA1ZStWAChAclquVWEAKEDUS8Q8bQAoQGVwDe95AChALMiJfIcAKEAkUzn1lQAoQLd3gmulAChA4zVl87UAKEAO9EejxwAoQHDlXZLaAChAZ3AN2+4AKEDGYSOaBAEoQMDs0u4bAShAuHeC+zQBKEB/z/7mTwEoQBL0R9tsAShA2EvEBowBKEBqcA2drQEoQJYu8NbRAShAW4Zs9PgBKEC6d4I7IwIoQBppmPpQAihAelquiYICKEA/sipLuAIoQAYKp6zyAihA/pRWKTIDKEBdhmxMdwMoQLx3grPCAyhA6DVlDxUEKECvjeEobwQoQKgYkeXRBChA1NZzST4FKECaLvB+tQUoQJK5n9s4BihAWBEc6ckGKEC4AjJsagcoQH1arnEcCChAEH/3W+IIKEDW1nPxvgkoQJwu8HK1CihAlLmfs8kLKEDBd4I1AA0oQLoCMlJeDihAso3haOoPKECsGJEZrBEoQFntANSrEyhA6h6sqc0VKEBstUfMGhgoQLOomNmjGihAUEi25TYdKEDAX9Ls4B0oQKb3KjpnFChAOw/4iOcLKEDQKaI06SEoQOUH7LBIRChA9FV0MsZpKEA8OK8CMZEoQFLYDx5XuihANOodRSPlKEAUE8KdhREpQK3phVNwPylAi9FonNZuKUAfOWo6rJ8pQCEYyTTl0SlAYGYBqnUFKkCsucO2UToqQBGuJWNtcCpA0eUTm7ynKkA/Cd0qM+AqQCiOcsDEGStA92/E7WRUK0ATJvosB5ArQAGYleWezCtAuvgWdR8KLEDUnpgyfEgsQPeohHWohyxAgA/ZnZfHLEChay8WPQgtQCKQ91iMSS1Atusu9XiLLUBURYeO9s0tQFh99uH4EC5APVlNxHNULkD88XchW5guQGQgBP6i3C5AzWqacT8hL0Du8numJGYvQMbsatVGqy9A/hMMQ5rwL0DL3M+dCRswQA==\"},\"shape\":[101],\"dtype\":\"float64\",\"order\":\"little\"}]]}}},\"view\":{\"type\":\"object\",\"name\":\"CDSView\",\"id\":\"p1217\",\"attributes\":{\"filter\":{\"type\":\"object\",\"name\":\"AllIndices\",\"id\":\"p1218\"}}},\"glyph\":{\"type\":\"object\",\"name\":\"Line\",\"id\":\"p1213\",\"attributes\":{\"tags\":[\"apply_ranges\"],\"x\":{\"type\":\"field\",\"field\":\"x\"},\"y\":{\"type\":\"field\",\"field\":\"y\"},\"line_color\":\"#3e9bfe\",\"line_width\":2}},\"selection_glyph\":{\"type\":\"object\",\"name\":\"Line\",\"id\":\"p1220\",\"attributes\":{\"tags\":[\"apply_ranges\"],\"x\":{\"type\":\"field\",\"field\":\"x\"},\"y\":{\"type\":\"field\",\"field\":\"y\"},\"line_color\":\"#3e9bfe\",\"line_width\":2}},\"nonselection_glyph\":{\"type\":\"object\",\"name\":\"Line\",\"id\":\"p1214\",\"attributes\":{\"tags\":[\"apply_ranges\"],\"x\":{\"type\":\"field\",\"field\":\"x\"},\"y\":{\"type\":\"field\",\"field\":\"y\"},\"line_color\":\"#3e9bfe\",\"line_alpha\":0.1,\"line_width\":2}},\"muted_glyph\":{\"type\":\"object\",\"name\":\"Line\",\"id\":\"p1215\",\"attributes\":{\"tags\":[\"apply_ranges\"],\"x\":{\"type\":\"field\",\"field\":\"x\"},\"y\":{\"type\":\"field\",\"field\":\"y\"},\"line_color\":\"#3e9bfe\",\"line_alpha\":0.2,\"line_width\":2}}}},{\"type\":\"object\",\"name\":\"GlyphRenderer\",\"id\":\"p1230\",\"attributes\":{\"name\":\"\\u6c34\\u4f4d:10\\u65e5\\u5f8c\",\"data_source\":{\"type\":\"object\",\"name\":\"ColumnDataSource\",\"id\":\"p1221\",\"attributes\":{\"selected\":{\"type\":\"object\",\"name\":\"Selection\",\"id\":\"p1222\",\"attributes\":{\"indices\":[],\"line_indices\":[]}},\"selection_policy\":{\"type\":\"object\",\"name\":\"UnionRenderers\",\"id\":\"p1223\"},\"data\":{\"type\":\"map\",\"entries\":[[\"x\",{\"type\":\"ndarray\",\"array\":{\"type\":\"bytes\",\"data\":\"AAAAAAAAAAAAAAAAAABZQAAAAAAAAGlAAAAAAADAckAAAAAAAAB5QAAAAAAAQH9AAAAAAADAgkAAAAAAAOCFQAAAAAAAAIlAAAAAAAAgjEAAAAAAAECPQAAAAAAAMJFAAAAAAADAkkAAAAAAAFCUQAAAAAAA4JVAAAAAAABwl0AAAAAAAACZQAAAAAAAkJpAAAAAAAAgnEAAAAAAALCdQAAAAAAAQJ9AAAAAAABooEAAAAAAADChQAAAAAAA+KFAAAAAAADAokAAAAAAAIijQAAAAAAAUKRAAAAAAAAYpUAAAAAAAOClQAAAAAAAqKZAAAAAAABwp0AAAAAAADioQAAAAAAAAKlAAAAAAADIqUAAAAAAAJCqQAAAAAAAWKtAAAAAAAAgrEAAAAAAAOisQAAAAAAAsK1AAAAAAAB4rkAAAAAAAECvQAAAAAAABLBAAAAAAABosEAAAAAAAMywQAAAAAAAMLFAAAAAAACUsUAAAAAAAPixQAAAAAAAXLJAAAAAAADAskAAAAAAACSzQAAAAAAAiLNAAAAAAADss0AAAAAAAFC0QAAAAAAAtLRAAAAAAAAYtUAAAAAAAHy1QAAAAAAA4LVAAAAAAABEtkAAAAAAAKi2QAAAAAAADLdAAAAAAABwt0AAAAAAANS3QAAAAAAAOLhAAAAAAACcuEAAAAAAAAC5QAAAAAAAZLlAAAAAAADIuUAAAAAAACy6QAAAAAAAkLpAAAAAAAD0ukAAAAAAAFi7QAAAAAAAvLtAAAAAAAAgvEAAAAAAAIS8QAAAAAAA6LxAAAAAAABMvUAAAAAAALC9QAAAAAAAFL5AAAAAAAB4vkAAAAAAANy+QAAAAAAAQL9AAAAAAACkv0AAAAAAAATAQAAAAAAANsBAAAAAAABowEAAAAAAAJrAQAAAAAAAzMBAAAAAAAD+wEAAAAAAADDBQAAAAAAAYsFAAAAAAACUwUAAAAAAAMbBQAAAAAAA+MFAAAAAAAAqwkAAAAAAAFzCQAAAAAAAjsJAAAAAAADAwkAAAAAAAPLCQAAAAAAAJMNAAAAAAABWw0AAAAAAAIjDQA==\"},\"shape\":[101],\"dtype\":\"float64\",\"order\":\"little\"}],[\"y\",{\"type\":\"ndarray\",\"array\":{\"type\":\"bytes\",\"data\":\"AAAAAAAAKEBb+7yrBQAoQCJTObELAChAGt7oFRIAKEB4z/7gGAAoQKSN4RggAChAoBiRxScAKED9CafuLwAoQPaUVp04AChAvOzS2kEAKEBPERyxSwAoQOA1ZStWAChAclquVWEAKEDUS8Q8bQAoQGVwDe95AChALMiJfIcAKEAkUzn1lQAoQLd3gmulAChA4zVl87UAKEAO9EejxwAoQHDlXZLaAChAZ3AN2+4AKEDGYSOaBAEoQMDs0u4bAShAuHeC+zQBKEB/z/7mTwEoQBL0R9tsAShA2EvEBowBKEBqcA2drQEoQJYu8NbRAShAW4Zs9PgBKEC6d4I7IwIoQBppmPpQAihAelquiYICKEA/sipLuAIoQAYKp6zyAihA/pRWKTIDKEBdhmxMdwMoQLx3grPCAyhA6DVlDxUEKECvjeEobwQoQKgYkeXRBChA1NZzST4FKECaLvB+tQUoQJK5n9s4BihAWBEc6ckGKEC4AjJsagcoQH1arnEcCChAEH/3W+IIKEDW1nPxvgkoQJwu8HK1CihAlLmfs8kLKEDBd4I1AA0oQLoCMlJeDihAso3haOoPKECsGJEZrBEoQOfQCVeqEyhAztaDsm8VKEBAxMmQxg8oQALSgGsz6idAALrdZI3zJ0D+JC4LuBUoQJ59efLKOShABcuFgCFfKEC6GZ/YsIUoQHMEPjByrShAZmRPfF/WKEDux9IUcwApQCI3S4WnKylAKkTQaPdXKUDfueVVXYUpQFg7Y8rTsylAyiggJFXjKUBoneGU2xMqQGUJKR5hRSpABi0qjd93KkCN0F94UKsqQCKsxTyt3ypAMQqw/O4UK0Bo7vyhDksrQGr03NsEgitAOgsRIcq5K0CeyhixVvIrQOytNJWiKyxA3DfMoqVlLEBcofN8V6AsQDPVeZev2yxAN4KTNqUXLUAgXMN1L1QtQIabeEdFkS1AMuaXeN3OLUDZGrCx7gwuQMGtDXxvSy5AKgqqQ1aKLkAKFudZmckuQJQgSPguCS9AHAoGRA1JL0DTIa5RKokvQMN7LCd8yS9AlUn7XvwEMEAxQzYESyUwQA==\"},\"shape\":[101],\"dtype\":\"float64\",\"order\":\"little\"}]]}}},\"view\":{\"type\":\"object\",\"name\":\"CDSView\",\"id\":\"p1231\",\"attributes\":{\"filter\":{\"type\":\"object\",\"name\":\"AllIndices\",\"id\":\"p1232\"}}},\"glyph\":{\"type\":\"object\",\"name\":\"Line\",\"id\":\"p1227\",\"attributes\":{\"tags\":[\"apply_ranges\"],\"x\":{\"type\":\"field\",\"field\":\"x\"},\"y\":{\"type\":\"field\",\"field\":\"y\"},\"line_color\":\"#46f783\",\"line_width\":2}},\"selection_glyph\":{\"type\":\"object\",\"name\":\"Line\",\"id\":\"p1234\",\"attributes\":{\"tags\":[\"apply_ranges\"],\"x\":{\"type\":\"field\",\"field\":\"x\"},\"y\":{\"type\":\"field\",\"field\":\"y\"},\"line_color\":\"#46f783\",\"line_width\":2}},\"nonselection_glyph\":{\"type\":\"object\",\"name\":\"Line\",\"id\":\"p1228\",\"attributes\":{\"tags\":[\"apply_ranges\"],\"x\":{\"type\":\"field\",\"field\":\"x\"},\"y\":{\"type\":\"field\",\"field\":\"y\"},\"line_color\":\"#46f783\",\"line_alpha\":0.1,\"line_width\":2}},\"muted_glyph\":{\"type\":\"object\",\"name\":\"Line\",\"id\":\"p1229\",\"attributes\":{\"tags\":[\"apply_ranges\"],\"x\":{\"type\":\"field\",\"field\":\"x\"},\"y\":{\"type\":\"field\",\"field\":\"y\"},\"line_color\":\"#46f783\",\"line_alpha\":0.2,\"line_width\":2}}}},{\"type\":\"object\",\"name\":\"GlyphRenderer\",\"id\":\"p1244\",\"attributes\":{\"name\":\"\\u6c34\\u4f4d:20\\u65e5\\u5f8c\",\"data_source\":{\"type\":\"object\",\"name\":\"ColumnDataSource\",\"id\":\"p1235\",\"attributes\":{\"selected\":{\"type\":\"object\",\"name\":\"Selection\",\"id\":\"p1236\",\"attributes\":{\"indices\":[],\"line_indices\":[]}},\"selection_policy\":{\"type\":\"object\",\"name\":\"UnionRenderers\",\"id\":\"p1237\"},\"data\":{\"type\":\"map\",\"entries\":[[\"x\",{\"type\":\"ndarray\",\"array\":{\"type\":\"bytes\",\"data\":\"AAAAAAAAAAAAAAAAAABZQAAAAAAAAGlAAAAAAADAckAAAAAAAAB5QAAAAAAAQH9AAAAAAADAgkAAAAAAAOCFQAAAAAAAAIlAAAAAAAAgjEAAAAAAAECPQAAAAAAAMJFAAAAAAADAkkAAAAAAAFCUQAAAAAAA4JVAAAAAAABwl0AAAAAAAACZQAAAAAAAkJpAAAAAAAAgnEAAAAAAALCdQAAAAAAAQJ9AAAAAAABooEAAAAAAADChQAAAAAAA+KFAAAAAAADAokAAAAAAAIijQAAAAAAAUKRAAAAAAAAYpUAAAAAAAOClQAAAAAAAqKZAAAAAAABwp0AAAAAAADioQAAAAAAAAKlAAAAAAADIqUAAAAAAAJCqQAAAAAAAWKtAAAAAAAAgrEAAAAAAAOisQAAAAAAAsK1AAAAAAAB4rkAAAAAAAECvQAAAAAAABLBAAAAAAABosEAAAAAAAMywQAAAAAAAMLFAAAAAAACUsUAAAAAAAPixQAAAAAAAXLJAAAAAAADAskAAAAAAACSzQAAAAAAAiLNAAAAAAADss0AAAAAAAFC0QAAAAAAAtLRAAAAAAAAYtUAAAAAAAHy1QAAAAAAA4LVAAAAAAABEtkAAAAAAAKi2QAAAAAAADLdAAAAAAABwt0AAAAAAANS3QAAAAAAAOLhAAAAAAACcuEAAAAAAAAC5QAAAAAAAZLlAAAAAAADIuUAAAAAAACy6QAAAAAAAkLpAAAAAAAD0ukAAAAAAAFi7QAAAAAAAvLtAAAAAAAAgvEAAAAAAAIS8QAAAAAAA6LxAAAAAAABMvUAAAAAAALC9QAAAAAAAFL5AAAAAAAB4vkAAAAAAANy+QAAAAAAAQL9AAAAAAACkv0AAAAAAAATAQAAAAAAANsBAAAAAAABowEAAAAAAAJrAQAAAAAAAzMBAAAAAAAD+wEAAAAAAADDBQAAAAAAAYsFAAAAAAACUwUAAAAAAAMbBQAAAAAAA+MFAAAAAAAAqwkAAAAAAAFzCQAAAAAAAjsJAAAAAAADAwkAAAAAAAPLCQAAAAAAAJMNAAAAAAABWw0AAAAAAAIjDQA==\"},\"shape\":[101],\"dtype\":\"float64\",\"order\":\"little\"}],[\"y\",{\"type\":\"ndarray\",\"array\":{\"type\":\"bytes\",\"data\":\"AAAAAAAAKEBb+7yrBQAoQCJTObELAChAGt7oFRIAKEB4z/7gGAAoQKSN4RggAChAoBiRxScAKED9CafuLwAoQPaUVp04AChAvOzS2kEAKEBPERyxSwAoQOA1ZStWAChAclquVWEAKEDUS8Q8bQAoQGVwDe95AChALMiJfIcAKEAkUzn1lQAoQLd3gmulAChA4zVl87UAKEAO9EejxwAoQHDlXZLaAChAZ3AN2+4AKEDGYSOaBAEoQMDs0u4bAShAuHeC+zQBKEB/z/7mTwEoQBL0R9tsAShA2EvEBowBKEBqcA2drQEoQJYu8NbRAShAW4Zs9PgBKEC6d4I7IwIoQBppmPpQAihAelquiYICKEA/sipLuAIoQAYKp6zyAihA/pRWKTIDKEBdhmxMdwMoQLx3grPCAyhA6DVlDxUEKECvjeEobwQoQKgYkeXRBChA1NZzST4FKECaLvB+tQUoQJK5n9s4BihAWBEc6ckGKEC4AjJsagcoQH1arnEcCChAEH/3W+IIKEDW1nPxvgkoQJwu8HK1CihAlLmfs8kLKEDBd4I1AA0oQBm77c8MDihA2UPX9AjyJ0ADSTH3YconQDzYZF2A7CdAzfTmmFQQKECgntbB8zQoQD1XbsRbWihABbop6IqAKECokK5uf6coQEM06Ik3zyhATCy2VbH3KECt4CXT6iApQDQ+0eDhSilAt5KUOZR1KUDMxwdx/6ApQLX9QfAgzSlA4SKA9fX5KUDCzg6ReycqQMaLE6auVSpAOpwx64uEKkCO0drnD7QqQDacMPc25CpA1WkVRv0UK0AOewjWXkYrQFhi0XxXeCtAQZr+5OKqK0D4g6eR/N0rQMgrz9ufESxAmls19sdFLEDxa97ub3osQCcN+66SryxAxCcj/irlLEDGf2OCMxstQGcnjcOmUS1AhDyXKn+ILUAl2zsEt78tQKDmPoVI9y1AWXMoyS0vLkApU0DUYGcuQJkCKZfbny5AEtP58JfYLkB5Zu+ujxEvQEJVZo+8Si9A7u96RhiEL0CxlFJ8nL0vQBBKD9FC9y9A7EKXb4IYMEAxQzYebjUwQA==\"},\"shape\":[101],\"dtype\":\"float64\",\"order\":\"little\"}]]}}},\"view\":{\"type\":\"object\",\"name\":\"CDSView\",\"id\":\"p1245\",\"attributes\":{\"filter\":{\"type\":\"object\",\"name\":\"AllIndices\",\"id\":\"p1246\"}}},\"glyph\":{\"type\":\"object\",\"name\":\"Line\",\"id\":\"p1241\",\"attributes\":{\"tags\":[\"apply_ranges\"],\"x\":{\"type\":\"field\",\"field\":\"x\"},\"y\":{\"type\":\"field\",\"field\":\"y\"},\"line_color\":\"#e1dc37\",\"line_width\":2}},\"selection_glyph\":{\"type\":\"object\",\"name\":\"Line\",\"id\":\"p1248\",\"attributes\":{\"tags\":[\"apply_ranges\"],\"x\":{\"type\":\"field\",\"field\":\"x\"},\"y\":{\"type\":\"field\",\"field\":\"y\"},\"line_color\":\"#e1dc37\",\"line_width\":2}},\"nonselection_glyph\":{\"type\":\"object\",\"name\":\"Line\",\"id\":\"p1242\",\"attributes\":{\"tags\":[\"apply_ranges\"],\"x\":{\"type\":\"field\",\"field\":\"x\"},\"y\":{\"type\":\"field\",\"field\":\"y\"},\"line_color\":\"#e1dc37\",\"line_alpha\":0.1,\"line_width\":2}},\"muted_glyph\":{\"type\":\"object\",\"name\":\"Line\",\"id\":\"p1243\",\"attributes\":{\"tags\":[\"apply_ranges\"],\"x\":{\"type\":\"field\",\"field\":\"x\"},\"y\":{\"type\":\"field\",\"field\":\"y\"},\"line_color\":\"#e1dc37\",\"line_alpha\":0.2,\"line_width\":2}}}},{\"type\":\"object\",\"name\":\"GlyphRenderer\",\"id\":\"p1258\",\"attributes\":{\"name\":\"\\u6c34\\u4f4d:30\\u65e5\\u5f8c\",\"data_source\":{\"type\":\"object\",\"name\":\"ColumnDataSource\",\"id\":\"p1249\",\"attributes\":{\"selected\":{\"type\":\"object\",\"name\":\"Selection\",\"id\":\"p1250\",\"attributes\":{\"indices\":[],\"line_indices\":[]}},\"selection_policy\":{\"type\":\"object\",\"name\":\"UnionRenderers\",\"id\":\"p1251\"},\"data\":{\"type\":\"map\",\"entries\":[[\"x\",{\"type\":\"ndarray\",\"array\":{\"type\":\"bytes\",\"data\":\"AAAAAAAAAAAAAAAAAABZQAAAAAAAAGlAAAAAAADAckAAAAAAAAB5QAAAAAAAQH9AAAAAAADAgkAAAAAAAOCFQAAAAAAAAIlAAAAAAAAgjEAAAAAAAECPQAAAAAAAMJFAAAAAAADAkkAAAAAAAFCUQAAAAAAA4JVAAAAAAABwl0AAAAAAAACZQAAAAAAAkJpAAAAAAAAgnEAAAAAAALCdQAAAAAAAQJ9AAAAAAABooEAAAAAAADChQAAAAAAA+KFAAAAAAADAokAAAAAAAIijQAAAAAAAUKRAAAAAAAAYpUAAAAAAAOClQAAAAAAAqKZAAAAAAABwp0AAAAAAADioQAAAAAAAAKlAAAAAAADIqUAAAAAAAJCqQAAAAAAAWKtAAAAAAAAgrEAAAAAAAOisQAAAAAAAsK1AAAAAAAB4rkAAAAAAAECvQAAAAAAABLBAAAAAAABosEAAAAAAAMywQAAAAAAAMLFAAAAAAACUsUAAAAAAAPixQAAAAAAAXLJAAAAAAADAskAAAAAAACSzQAAAAAAAiLNAAAAAAADss0AAAAAAAFC0QAAAAAAAtLRAAAAAAAAYtUAAAAAAAHy1QAAAAAAA4LVAAAAAAABEtkAAAAAAAKi2QAAAAAAADLdAAAAAAABwt0AAAAAAANS3QAAAAAAAOLhAAAAAAACcuEAAAAAAAAC5QAAAAAAAZLlAAAAAAADIuUAAAAAAACy6QAAAAAAAkLpAAAAAAAD0ukAAAAAAAFi7QAAAAAAAvLtAAAAAAAAgvEAAAAAAAIS8QAAAAAAA6LxAAAAAAABMvUAAAAAAALC9QAAAAAAAFL5AAAAAAAB4vkAAAAAAANy+QAAAAAAAQL9AAAAAAACkv0AAAAAAAATAQAAAAAAANsBAAAAAAABowEAAAAAAAJrAQAAAAAAAzMBAAAAAAAD+wEAAAAAAADDBQAAAAAAAYsFAAAAAAACUwUAAAAAAAMbBQAAAAAAA+MFAAAAAAAAqwkAAAAAAAFzCQAAAAAAAjsJAAAAAAADAwkAAAAAAAPLCQAAAAAAAJMNAAAAAAABWw0AAAAAAAIjDQA==\"},\"shape\":[101],\"dtype\":\"float64\",\"order\":\"little\"}],[\"y\",{\"type\":\"ndarray\",\"array\":{\"type\":\"bytes\",\"data\":\"AAAAAAAAKEBb+7yrBQAoQCJTObELAChAGt7oFRIAKEB4z/7gGAAoQKSN4RggAChAoBiRxScAKED9CafuLwAoQPaUVp04AChAvOzS2kEAKEBPERyxSwAoQOA1ZStWAChAclquVWEAKEDUS8Q8bQAoQGVwDe95AChALMiJfIcAKEAkUzn1lQAoQLd3gmulAChA4zVl87UAKEAO9EejxwAoQHDlXZLaAChAZ3AN2+4AKEDGYSOaBAEoQMDs0u4bAShAuHeC+zQBKEB/z/7mTwEoQBL0R9tsAShA2EvEBowBKEBqcA2drQEoQJYu8NbRAShAW4Zs9PgBKEC6d4I7IwIoQBppmPpQAihAelquiYICKEA/sipLuAIoQAYKp6zyAihA/pRWKTIDKEBdhmxMdwMoQLx3grPCAyhA6DVlDxUEKECvjeEobwQoQKgYkeXRBChA1NZzST4FKECaLvB+tQUoQJK5n9s4BihAWBEc6ckGKEC4AjJsagcoQH1arnEcCChAEH/3W+IIKEDW1nPxvgkoQDZjg+WKCChA5hM4LZnMJ0C8JKjm8MwnQEbGmRav7ydAPidTNBYTKEA+JRf6HzcoQO56Dc/KWyhAkhqGChWBKEA2b/vu/KYoQNRQuauAzShA1jyFXJ70KEC1BxUJVBwpQJ4GQqSfRClA4kzvC39tKUAkf5gJ8JYpQKoeC1LwwClA924VhX3rKUAMYS0tlRYqQOdEGb80QipAH7GcmVluKkDuc8gGAZsqQFS7DTooyCpAJgDaUMz1KkAZoh9T6iMrQGOWYDJ/UitAJ6VRyoeBK0A3+O3fALErQIgKzCPn4CtAhDGuLzcRLEAQ/6CJ7UEsQPx5e6IGcyxAtPXh1X6kLEA4llduUtYsQK7SmaB9CC1AkRZVkfw6LUAZySFSy20tQLmm8eTloC1AokGqOkjULUAiKKI27gcuQHj9g6zTOy5A2tXZY/RvLkBk1WQYTKQuQBm/g3rW2C5ABzGeL48NL0BKJJ7WcUIvQHulXgR6dy9AyKIHSaOsL0Djjucu6eEvQPfC5J2jCzBADCeEeVwmMEBkdmnrHEEwQA==\"},\"shape\":[101],\"dtype\":\"float64\",\"order\":\"little\"}]]}}},\"view\":{\"type\":\"object\",\"name\":\"CDSView\",\"id\":\"p1259\",\"attributes\":{\"filter\":{\"type\":\"object\",\"name\":\"AllIndices\",\"id\":\"p1260\"}}},\"glyph\":{\"type\":\"object\",\"name\":\"Line\",\"id\":\"p1255\",\"attributes\":{\"tags\":[\"apply_ranges\"],\"x\":{\"type\":\"field\",\"field\":\"x\"},\"y\":{\"type\":\"field\",\"field\":\"y\"},\"line_color\":\"#ef5a11\",\"line_width\":2}},\"selection_glyph\":{\"type\":\"object\",\"name\":\"Line\",\"id\":\"p1262\",\"attributes\":{\"tags\":[\"apply_ranges\"],\"x\":{\"type\":\"field\",\"field\":\"x\"},\"y\":{\"type\":\"field\",\"field\":\"y\"},\"line_color\":\"#ef5a11\",\"line_width\":2}},\"nonselection_glyph\":{\"type\":\"object\",\"name\":\"Line\",\"id\":\"p1256\",\"attributes\":{\"tags\":[\"apply_ranges\"],\"x\":{\"type\":\"field\",\"field\":\"x\"},\"y\":{\"type\":\"field\",\"field\":\"y\"},\"line_color\":\"#ef5a11\",\"line_alpha\":0.1,\"line_width\":2}},\"muted_glyph\":{\"type\":\"object\",\"name\":\"Line\",\"id\":\"p1257\",\"attributes\":{\"tags\":[\"apply_ranges\"],\"x\":{\"type\":\"field\",\"field\":\"x\"},\"y\":{\"type\":\"field\",\"field\":\"y\"},\"line_color\":\"#ef5a11\",\"line_alpha\":0.2,\"line_width\":2}}}},{\"type\":\"object\",\"name\":\"GlyphRenderer\",\"id\":\"p1272\",\"attributes\":{\"name\":\"\\u6c34\\u4f4d:40\\u65e5\\u5f8c\",\"data_source\":{\"type\":\"object\",\"name\":\"ColumnDataSource\",\"id\":\"p1263\",\"attributes\":{\"selected\":{\"type\":\"object\",\"name\":\"Selection\",\"id\":\"p1264\",\"attributes\":{\"indices\":[],\"line_indices\":[]}},\"selection_policy\":{\"type\":\"object\",\"name\":\"UnionRenderers\",\"id\":\"p1265\"},\"data\":{\"type\":\"map\",\"entries\":[[\"x\",{\"type\":\"ndarray\",\"array\":{\"type\":\"bytes\",\"data\":\"AAAAAAAAAAAAAAAAAABZQAAAAAAAAGlAAAAAAADAckAAAAAAAAB5QAAAAAAAQH9AAAAAAADAgkAAAAAAAOCFQAAAAAAAAIlAAAAAAAAgjEAAAAAAAECPQAAAAAAAMJFAAAAAAADAkkAAAAAAAFCUQAAAAAAA4JVAAAAAAABwl0AAAAAAAACZQAAAAAAAkJpAAAAAAAAgnEAAAAAAALCdQAAAAAAAQJ9AAAAAAABooEAAAAAAADChQAAAAAAA+KFAAAAAAADAokAAAAAAAIijQAAAAAAAUKRAAAAAAAAYpUAAAAAAAOClQAAAAAAAqKZAAAAAAABwp0AAAAAAADioQAAAAAAAAKlAAAAAAADIqUAAAAAAAJCqQAAAAAAAWKtAAAAAAAAgrEAAAAAAAOisQAAAAAAAsK1AAAAAAAB4rkAAAAAAAECvQAAAAAAABLBAAAAAAABosEAAAAAAAMywQAAAAAAAMLFAAAAAAACUsUAAAAAAAPixQAAAAAAAXLJAAAAAAADAskAAAAAAACSzQAAAAAAAiLNAAAAAAADss0AAAAAAAFC0QAAAAAAAtLRAAAAAAAAYtUAAAAAAAHy1QAAAAAAA4LVAAAAAAABEtkAAAAAAAKi2QAAAAAAADLdAAAAAAABwt0AAAAAAANS3QAAAAAAAOLhAAAAAAACcuEAAAAAAAAC5QAAAAAAAZLlAAAAAAADIuUAAAAAAACy6QAAAAAAAkLpAAAAAAAD0ukAAAAAAAFi7QAAAAAAAvLtAAAAAAAAgvEAAAAAAAIS8QAAAAAAA6LxAAAAAAABMvUAAAAAAALC9QAAAAAAAFL5AAAAAAAB4vkAAAAAAANy+QAAAAAAAQL9AAAAAAACkv0AAAAAAAATAQAAAAAAANsBAAAAAAABowEAAAAAAAJrAQAAAAAAAzMBAAAAAAAD+wEAAAAAAADDBQAAAAAAAYsFAAAAAAACUwUAAAAAAAMbBQAAAAAAA+MFAAAAAAAAqwkAAAAAAAFzCQAAAAAAAjsJAAAAAAADAwkAAAAAAAPLCQAAAAAAAJMNAAAAAAABWw0AAAAAAAIjDQA==\"},\"shape\":[101],\"dtype\":\"float64\",\"order\":\"little\"}],[\"y\",{\"type\":\"ndarray\",\"array\":{\"type\":\"bytes\",\"data\":\"AAAAAAAAKEBb+7yrBQAoQCJTObELAChAGt7oFRIAKEB4z/7gGAAoQKSN4RggAChAoBiRxScAKED9CafuLwAoQPaUVp04AChAvOzS2kEAKEBPERyxSwAoQOA1ZStWAChAclquVWEAKEDUS8Q8bQAoQGVwDe95AChALMiJfIcAKEAkUzn1lQAoQLd3gmulAChA4zVl87UAKEAO9EejxwAoQHDlXZLaAChAZ3AN2+4AKEDGYSOaBAEoQMDs0u4bAShAuHeC+zQBKEB/z/7mTwEoQBL0R9tsAShA2EvEBowBKEBqcA2drQEoQJYu8NbRAShAW4Zs9PgBKEC6d4I7IwIoQBppmPpQAihAelquiYICKEA/sipLuAIoQAYKp6zyAihA/pRWKTIDKEBdhmxMdwMoQLx3grPCAyhA6DVlDxUEKECvjeEobwQoQKgYkeXRBChA1NZzST4FKECaLvB+tQUoQJK5n9s4BihAWBEc6ckGKEC4AjJsagcoQFq68bz4ByhAGkMe2bvjJ0Aix83HtLknQI+BkwNi3CdARvk7apj/J0Bh2zMuSCMoQAwe5AZxRyhAnubxlBJsKECislNeLJEoQH4E7s+9tihA+KMnOsbcKEC9lUvSRAMpQCu5WLE4KilAeMFj1KBRKUDWHukcfHkpQNKTfU/JoSlAVDaiFYfKKUDedTv9s/MpQETrMHtOHSpAgFRF6VRHKkDDcfKHxXEqQAhvfH+enCpAJ7s54N3HKkBGEOiigfMqQPxg0KmHHytALOckwe1LK0DFms+hsXgrQM0bpO7QpStA+kBEN0nTK0Dg05D4FwEsQAZ9LJ06LyxAuh2bf65dLED+42TocIwsQG4lQxB/uyxAo/qzINbqLEAmZSo2cxotQJpBVF5TSi1AbL9FmnN6LUBs7Y/d0KotQELi6BJo2y1APT0IGDYMLkAvKFzCNz0uQO7nhdxpbi5AZZd3KcmfLkDzAS1lUtEuQJ4X0UMCAy9AxhuGctU0L0CBw16byGYvQNN/X2HYmC9AoaiPZAHLL0AsEQdCQP0vQHa9A8rIFzBAklF1+fgwMEAxQzb8LkowQA==\"},\"shape\":[101],\"dtype\":\"float64\",\"order\":\"little\"}]]}}},\"view\":{\"type\":\"object\",\"name\":\"CDSView\",\"id\":\"p1273\",\"attributes\":{\"filter\":{\"type\":\"object\",\"name\":\"AllIndices\",\"id\":\"p1274\"}}},\"glyph\":{\"type\":\"object\",\"name\":\"Line\",\"id\":\"p1269\",\"attributes\":{\"tags\":[\"apply_ranges\"],\"x\":{\"type\":\"field\",\"field\":\"x\"},\"y\":{\"type\":\"field\",\"field\":\"y\"},\"line_color\":\"#7a0402\",\"line_width\":2}},\"selection_glyph\":{\"type\":\"object\",\"name\":\"Line\",\"id\":\"p1276\",\"attributes\":{\"tags\":[\"apply_ranges\"],\"x\":{\"type\":\"field\",\"field\":\"x\"},\"y\":{\"type\":\"field\",\"field\":\"y\"},\"line_color\":\"#7a0402\",\"line_width\":2}},\"nonselection_glyph\":{\"type\":\"object\",\"name\":\"Line\",\"id\":\"p1270\",\"attributes\":{\"tags\":[\"apply_ranges\"],\"x\":{\"type\":\"field\",\"field\":\"x\"},\"y\":{\"type\":\"field\",\"field\":\"y\"},\"line_color\":\"#7a0402\",\"line_alpha\":0.1,\"line_width\":2}},\"muted_glyph\":{\"type\":\"object\",\"name\":\"Line\",\"id\":\"p1271\",\"attributes\":{\"tags\":[\"apply_ranges\"],\"x\":{\"type\":\"field\",\"field\":\"x\"},\"y\":{\"type\":\"field\",\"field\":\"y\"},\"line_color\":\"#7a0402\",\"line_alpha\":0.2,\"line_width\":2}}}},{\"type\":\"object\",\"name\":\"GlyphRenderer\",\"id\":\"p1286\",\"attributes\":{\"name\":\"\\u6cb3\\u5e8a\\u9ad8:0\\u65e5\\u5f8c\",\"data_source\":{\"type\":\"object\",\"name\":\"ColumnDataSource\",\"id\":\"p1277\",\"attributes\":{\"selected\":{\"type\":\"object\",\"name\":\"Selection\",\"id\":\"p1278\",\"attributes\":{\"indices\":[],\"line_indices\":[]}},\"selection_policy\":{\"type\":\"object\",\"name\":\"UnionRenderers\",\"id\":\"p1279\"},\"data\":{\"type\":\"map\",\"entries\":[[\"x\",{\"type\":\"ndarray\",\"array\":{\"type\":\"bytes\",\"data\":\"AAAAAAAAAAAAAAAAAABZQAAAAAAAAGlAAAAAAADAckAAAAAAAAB5QAAAAAAAQH9AAAAAAADAgkAAAAAAAOCFQAAAAAAAAIlAAAAAAAAgjEAAAAAAAECPQAAAAAAAMJFAAAAAAADAkkAAAAAAAFCUQAAAAAAA4JVAAAAAAABwl0AAAAAAAACZQAAAAAAAkJpAAAAAAAAgnEAAAAAAALCdQAAAAAAAQJ9AAAAAAABooEAAAAAAADChQAAAAAAA+KFAAAAAAADAokAAAAAAAIijQAAAAAAAUKRAAAAAAAAYpUAAAAAAAOClQAAAAAAAqKZAAAAAAABwp0AAAAAAADioQAAAAAAAAKlAAAAAAADIqUAAAAAAAJCqQAAAAAAAWKtAAAAAAAAgrEAAAAAAAOisQAAAAAAAsK1AAAAAAAB4rkAAAAAAAECvQAAAAAAABLBAAAAAAABosEAAAAAAAMywQAAAAAAAMLFAAAAAAACUsUAAAAAAAPixQAAAAAAAXLJAAAAAAADAskAAAAAAACSzQAAAAAAAiLNAAAAAAADss0AAAAAAAFC0QAAAAAAAtLRAAAAAAAAYtUAAAAAAAHy1QAAAAAAA4LVAAAAAAABEtkAAAAAAAKi2QAAAAAAADLdAAAAAAABwt0AAAAAAANS3QAAAAAAAOLhAAAAAAACcuEAAAAAAAAC5QAAAAAAAZLlAAAAAAADIuUAAAAAAACy6QAAAAAAAkLpAAAAAAAD0ukAAAAAAAFi7QAAAAAAAvLtAAAAAAAAgvEAAAAAAAIS8QAAAAAAA6LxAAAAAAABMvUAAAAAAALC9QAAAAAAAFL5AAAAAAAB4vkAAAAAAANy+QAAAAAAAQL9AAAAAAACkv0AAAAAAAATAQAAAAAAANsBAAAAAAABowEAAAAAAAJrAQAAAAAAAzMBAAAAAAAD+wEAAAAAAADDBQAAAAAAAYsFAAAAAAACUwUAAAAAAAMbBQAAAAAAA+MFAAAAAAAAqwkAAAAAAAFzCQAAAAAAAjsJAAAAAAADAwkAAAAAAAPLCQAAAAAAAJMNAAAAAAABWw0AAAAAAAIjDQA==\"},\"shape\":[101],\"dtype\":\"float64\",\"order\":\"little\"}],[\"y\",{\"type\":\"ndarray\",\"array\":{\"type\":\"bytes\",\"data\":\"AAAAAAAAAACSJEmSJEnCP5IkSZIkSdI/27Zt27Zt2z+SJEmSJEniP7dt27Zt2+Y/27Zt27Zt6z8AAAAAAADwP5IkSZIkSfI/JUmSJEmS9D+3bdu2bdv2P0mSJEmSJPk/27Zt27Zt+z9u27Zt27b9PwAAAAAAAABASZIkSZIkAUCSJEmSJEkCQNu2bdu2bQNAJUmSJEmSBEBu27Zt27YFQLdt27Zt2wZAAAAAAAAACEBJkiRJkiQJQJIkSZIkSQpA27Zt27ZtC0AlSZIkSZIMQG7btm3btg1At23btm3bDkAAAAAAAAAQQCVJkiRJkhBASZIkSZIkEUBu27Zt27YRQJIkSZIkSRJAt23btm3bEkDbtm3btm0TQAAAAAAAABRAJUmSJEmSFEBJkiRJkiQVQG7btm3bthVAkiRJkiRJFkC3bdu2bdsWQNu2bdu2bRdAAAAAAAAAGEAlSZIkSZIYQEmSJEmSJBlAbtu2bdu2GUCSJEmSJEkaQLdt27Zt2xpA27Zt27ZtG0AAAAAAAAAcQCVJkiRJkhxASZIkSZIkHUBu27Zt27YdQJIkSZIkSR5At23btm3bHkDbtm3btm0fQAAAAAAAACBAkiRJkiRJIEAlSZIkSZIgQLdt27Zt2yBASZIkSZIkIUDbtm3btm0hQG7btm3btiFAAAAAAAAAIkCSJEmSJEkiQCVJkiRJkiJAt23btm3bIkBJkiRJkiQjQNu2bdu2bSNAbtu2bdu2I0AAAAAAAAAkQJIkSZIkSSRAJUmSJEmSJEC3bdu2bdskQEmSJEmSJCVA27Zt27ZtJUBu27Zt27YlQAAAAAAAACZAkiRJkiRJJkAlSZIkSZImQLdt27Zt2yZASZIkSZIkJ0Dbtm3btm0nQG7btm3btidAAAAAAAAAKECSJEmSJEkoQCVJkiRJkihAt23btm3bKEBJkiRJkiQpQNu2bdu2bSlAbtu2bdu2KUAAAAAAAAAqQJIkSZIkSSpAJUmSJEmSKkC3bdu2bdsqQEmSJEmSJCtA27Zt27ZtK0Bu27Zt27YrQAAAAAAAACxAkiRJkiRJLEAlSZIkSZIsQA==\"},\"shape\":[101],\"dtype\":\"float64\",\"order\":\"little\"}]]}}},\"view\":{\"type\":\"object\",\"name\":\"CDSView\",\"id\":\"p1287\",\"attributes\":{\"filter\":{\"type\":\"object\",\"name\":\"AllIndices\",\"id\":\"p1288\"}}},\"glyph\":{\"type\":\"object\",\"name\":\"Line\",\"id\":\"p1283\",\"attributes\":{\"tags\":[\"apply_ranges\"],\"x\":{\"type\":\"field\",\"field\":\"x\"},\"y\":{\"type\":\"field\",\"field\":\"y\"},\"line_color\":\"#30123b\",\"line_width\":2,\"line_dash\":[6]}},\"selection_glyph\":{\"type\":\"object\",\"name\":\"Line\",\"id\":\"p1290\",\"attributes\":{\"tags\":[\"apply_ranges\"],\"x\":{\"type\":\"field\",\"field\":\"x\"},\"y\":{\"type\":\"field\",\"field\":\"y\"},\"line_color\":\"#30123b\",\"line_width\":2,\"line_dash\":[6]}},\"nonselection_glyph\":{\"type\":\"object\",\"name\":\"Line\",\"id\":\"p1284\",\"attributes\":{\"tags\":[\"apply_ranges\"],\"x\":{\"type\":\"field\",\"field\":\"x\"},\"y\":{\"type\":\"field\",\"field\":\"y\"},\"line_color\":\"#30123b\",\"line_alpha\":0.1,\"line_width\":2,\"line_dash\":[6]}},\"muted_glyph\":{\"type\":\"object\",\"name\":\"Line\",\"id\":\"p1285\",\"attributes\":{\"tags\":[\"apply_ranges\"],\"x\":{\"type\":\"field\",\"field\":\"x\"},\"y\":{\"type\":\"field\",\"field\":\"y\"},\"line_color\":\"#30123b\",\"line_alpha\":0.2,\"line_width\":2,\"line_dash\":[6]}}}},{\"type\":\"object\",\"name\":\"GlyphRenderer\",\"id\":\"p1300\",\"attributes\":{\"name\":\"\\u6cb3\\u5e8a\\u9ad8:5\\u65e5\\u5f8c\",\"data_source\":{\"type\":\"object\",\"name\":\"ColumnDataSource\",\"id\":\"p1291\",\"attributes\":{\"selected\":{\"type\":\"object\",\"name\":\"Selection\",\"id\":\"p1292\",\"attributes\":{\"indices\":[],\"line_indices\":[]}},\"selection_policy\":{\"type\":\"object\",\"name\":\"UnionRenderers\",\"id\":\"p1293\"},\"data\":{\"type\":\"map\",\"entries\":[[\"x\",{\"type\":\"ndarray\",\"array\":{\"type\":\"bytes\",\"data\":\"AAAAAAAAAAAAAAAAAABZQAAAAAAAAGlAAAAAAADAckAAAAAAAAB5QAAAAAAAQH9AAAAAAADAgkAAAAAAAOCFQAAAAAAAAIlAAAAAAAAgjEAAAAAAAECPQAAAAAAAMJFAAAAAAADAkkAAAAAAAFCUQAAAAAAA4JVAAAAAAABwl0AAAAAAAACZQAAAAAAAkJpAAAAAAAAgnEAAAAAAALCdQAAAAAAAQJ9AAAAAAABooEAAAAAAADChQAAAAAAA+KFAAAAAAADAokAAAAAAAIijQAAAAAAAUKRAAAAAAAAYpUAAAAAAAOClQAAAAAAAqKZAAAAAAABwp0AAAAAAADioQAAAAAAAAKlAAAAAAADIqUAAAAAAAJCqQAAAAAAAWKtAAAAAAAAgrEAAAAAAAOisQAAAAAAAsK1AAAAAAAB4rkAAAAAAAECvQAAAAAAABLBAAAAAAABosEAAAAAAAMywQAAAAAAAMLFAAAAAAACUsUAAAAAAAPixQAAAAAAAXLJAAAAAAADAskAAAAAAACSzQAAAAAAAiLNAAAAAAADss0AAAAAAAFC0QAAAAAAAtLRAAAAAAAAYtUAAAAAAAHy1QAAAAAAA4LVAAAAAAABEtkAAAAAAAKi2QAAAAAAADLdAAAAAAABwt0AAAAAAANS3QAAAAAAAOLhAAAAAAACcuEAAAAAAAAC5QAAAAAAAZLlAAAAAAADIuUAAAAAAACy6QAAAAAAAkLpAAAAAAAD0ukAAAAAAAFi7QAAAAAAAvLtAAAAAAAAgvEAAAAAAAIS8QAAAAAAA6LxAAAAAAABMvUAAAAAAALC9QAAAAAAAFL5AAAAAAAB4vkAAAAAAANy+QAAAAAAAQL9AAAAAAACkv0AAAAAAAATAQAAAAAAANsBAAAAAAABowEAAAAAAAJrAQAAAAAAAzMBAAAAAAAD+wEAAAAAAADDBQAAAAAAAYsFAAAAAAACUwUAAAAAAAMbBQAAAAAAA+MFAAAAAAAAqwkAAAAAAAFzCQAAAAAAAjsJAAAAAAADAwkAAAAAAAPLCQAAAAAAAJMNAAAAAAABWw0AAAAAAAIjDQA==\"},\"shape\":[101],\"dtype\":\"float64\",\"order\":\"little\"}],[\"y\",{\"type\":\"ndarray\",\"array\":{\"type\":\"bytes\",\"data\":\"AAAAAAAAAACSJEmSJEnCP5IkSZIkSdI/27Zt27Zt2z+SJEmSJEniP7dt27Zt2+Y/27Zt27Zt6z8AAAAAAADwP5IkSZIkSfI/JUmSJEmS9D+3bdu2bdv2P0mSJEmSJPk/27Zt27Zt+z9u27Zt27b9PwAAAAAAAABASZIkSZIkAUCSJEmSJEkCQNu2bdu2bQNAJUmSJEmSBEBu27Zt27YFQLdt27Zt2wZAAAAAAAAACEBJkiRJkiQJQJIkSZIkSQpA27Zt27ZtC0AlSZIkSZIMQG7btm3btg1At23btm3bDkAAAAAAAAAQQCVJkiRJkhBASZIkSZIkEUBu27Zt27YRQJIkSZIkSRJAt23btm3bEkDbtm3btm0TQAAAAAAAABRAJUmSJEmSFEBJkiRJkiQVQG7btm3bthVAkiRJkiRJFkC3bdu2bdsWQNu2bdu2bRdAAAAAAAAAGEAlSZIkSZIYQEmSJEmSJBlAbtu2bdu2GUCSJEmSJEkaQLdt27Zt2xpA27Zt27ZtG0AAAAAAAAAcQCVJkiRJkhxASZIkSZIkHUBu27Zt27YdQJIkSZIkSR5At23btm3bHkDbtm3btm0fQIEWjWIUACBAeK6eTi1NIECU3tPeJZ4gQNvRJCCp8iBArKR1ZyFPIUDoiF5vws4hQGi6UDTqsSJA/dEdGWF1I0D4Ui5TwcQjQA4xeF/q+SNAULIzQPgsJED/+tTycmAkQK40z+erlCRAKuB23LjJJECjorQapP8kQNYSEvZyNiVAGmFbmSduJUCuyFznwaYlQH10iAJA4CVA7/Xzpp4aJkCirxxq2VUmQAekfurqkSZALULT9MzOJkA1/zWieAwnQLcdZXHmSidAIJlQXA6KJ0Bvgrnq58knQJAniEJqCihASogJNoxLKEAw+1dQRI0oQCDSEOCIzyhAqThlAFASKUDKlLugj1UpQH7stoo9mSlAEkjuZk/dKUCwoUbAuiEqQBtAHAZ1ZipAzOg/jXOrKkAlGwSQq/AqQFoWXS0SNitAKcdZZ5x7K0AXHAghP8ErQO8V9xvvBixAJz2Y9aBMLEAlSZIkSZIsQA==\"},\"shape\":[101],\"dtype\":\"float64\",\"order\":\"little\"}]]}}},\"view\":{\"type\":\"object\",\"name\":\"CDSView\",\"id\":\"p1301\",\"attributes\":{\"filter\":{\"type\":\"object\",\"name\":\"AllIndices\",\"id\":\"p1302\"}}},\"glyph\":{\"type\":\"object\",\"name\":\"Line\",\"id\":\"p1297\",\"attributes\":{\"tags\":[\"apply_ranges\"],\"x\":{\"type\":\"field\",\"field\":\"x\"},\"y\":{\"type\":\"field\",\"field\":\"y\"},\"line_color\":\"#3e9bfe\",\"line_width\":2,\"line_dash\":[6]}},\"selection_glyph\":{\"type\":\"object\",\"name\":\"Line\",\"id\":\"p1304\",\"attributes\":{\"tags\":[\"apply_ranges\"],\"x\":{\"type\":\"field\",\"field\":\"x\"},\"y\":{\"type\":\"field\",\"field\":\"y\"},\"line_color\":\"#3e9bfe\",\"line_width\":2,\"line_dash\":[6]}},\"nonselection_glyph\":{\"type\":\"object\",\"name\":\"Line\",\"id\":\"p1298\",\"attributes\":{\"tags\":[\"apply_ranges\"],\"x\":{\"type\":\"field\",\"field\":\"x\"},\"y\":{\"type\":\"field\",\"field\":\"y\"},\"line_color\":\"#3e9bfe\",\"line_alpha\":0.1,\"line_width\":2,\"line_dash\":[6]}},\"muted_glyph\":{\"type\":\"object\",\"name\":\"Line\",\"id\":\"p1299\",\"attributes\":{\"tags\":[\"apply_ranges\"],\"x\":{\"type\":\"field\",\"field\":\"x\"},\"y\":{\"type\":\"field\",\"field\":\"y\"},\"line_color\":\"#3e9bfe\",\"line_alpha\":0.2,\"line_width\":2,\"line_dash\":[6]}}}},{\"type\":\"object\",\"name\":\"GlyphRenderer\",\"id\":\"p1314\",\"attributes\":{\"name\":\"\\u6cb3\\u5e8a\\u9ad8:10\\u65e5\\u5f8c\",\"data_source\":{\"type\":\"object\",\"name\":\"ColumnDataSource\",\"id\":\"p1305\",\"attributes\":{\"selected\":{\"type\":\"object\",\"name\":\"Selection\",\"id\":\"p1306\",\"attributes\":{\"indices\":[],\"line_indices\":[]}},\"selection_policy\":{\"type\":\"object\",\"name\":\"UnionRenderers\",\"id\":\"p1307\"},\"data\":{\"type\":\"map\",\"entries\":[[\"x\",{\"type\":\"ndarray\",\"array\":{\"type\":\"bytes\",\"data\":\"AAAAAAAAAAAAAAAAAABZQAAAAAAAAGlAAAAAAADAckAAAAAAAAB5QAAAAAAAQH9AAAAAAADAgkAAAAAAAOCFQAAAAAAAAIlAAAAAAAAgjEAAAAAAAECPQAAAAAAAMJFAAAAAAADAkkAAAAAAAFCUQAAAAAAA4JVAAAAAAABwl0AAAAAAAACZQAAAAAAAkJpAAAAAAAAgnEAAAAAAALCdQAAAAAAAQJ9AAAAAAABooEAAAAAAADChQAAAAAAA+KFAAAAAAADAokAAAAAAAIijQAAAAAAAUKRAAAAAAAAYpUAAAAAAAOClQAAAAAAAqKZAAAAAAABwp0AAAAAAADioQAAAAAAAAKlAAAAAAADIqUAAAAAAAJCqQAAAAAAAWKtAAAAAAAAgrEAAAAAAAOisQAAAAAAAsK1AAAAAAAB4rkAAAAAAAECvQAAAAAAABLBAAAAAAABosEAAAAAAAMywQAAAAAAAMLFAAAAAAACUsUAAAAAAAPixQAAAAAAAXLJAAAAAAADAskAAAAAAACSzQAAAAAAAiLNAAAAAAADss0AAAAAAAFC0QAAAAAAAtLRAAAAAAAAYtUAAAAAAAHy1QAAAAAAA4LVAAAAAAABEtkAAAAAAAKi2QAAAAAAADLdAAAAAAABwt0AAAAAAANS3QAAAAAAAOLhAAAAAAACcuEAAAAAAAAC5QAAAAAAAZLlAAAAAAADIuUAAAAAAACy6QAAAAAAAkLpAAAAAAAD0ukAAAAAAAFi7QAAAAAAAvLtAAAAAAAAgvEAAAAAAAIS8QAAAAAAA6LxAAAAAAABMvUAAAAAAALC9QAAAAAAAFL5AAAAAAAB4vkAAAAAAANy+QAAAAAAAQL9AAAAAAACkv0AAAAAAAATAQAAAAAAANsBAAAAAAABowEAAAAAAAJrAQAAAAAAAzMBAAAAAAAD+wEAAAAAAADDBQAAAAAAAYsFAAAAAAACUwUAAAAAAAMbBQAAAAAAA+MFAAAAAAAAqwkAAAAAAAFzCQAAAAAAAjsJAAAAAAADAwkAAAAAAAPLCQAAAAAAAJMNAAAAAAABWw0AAAAAAAIjDQA==\"},\"shape\":[101],\"dtype\":\"float64\",\"order\":\"little\"}],[\"y\",{\"type\":\"ndarray\",\"array\":{\"type\":\"bytes\",\"data\":\"AAAAAAAAAACSJEmSJEnCP5IkSZIkSdI/27Zt27Zt2z+SJEmSJEniP7dt27Zt2+Y/27Zt27Zt6z8AAAAAAADwP5IkSZIkSfI/JUmSJEmS9D+3bdu2bdv2P0mSJEmSJPk/27Zt27Zt+z9u27Zt27b9PwAAAAAAAABASZIkSZIkAUCSJEmSJEkCQNu2bdu2bQNAJUmSJEmSBEBu27Zt27YFQLdt27Zt2wZAAAAAAAAACEBJkiRJkiQJQJIkSZIkSQpA27Zt27ZtC0AlSZIkSZIMQG7btm3btg1At23btm3bDkAAAAAAAAAQQCVJkiRJkhBASZIkSZIkEUBu27Zt27YRQJIkSZIkSRJAt23btm3bEkDbtm3btm0TQAAAAAAAABRAJUmSJEmSFEBJkiRJkiQVQG7btm3bthVAkiRJkiRJFkC3bdu2bdsWQNu2bdu2bRdAAAAAAAAAGEAlSZIkSZIYQEmSJEmSJBlAbtu2bdu2GUCSJEmSJEkaQLdt27Zt2xpA27Zt27ZtG0AAAAAAAAAcQCVJkiRJkhxASZIkSZIkHUBu27Zt27YdQJIkSZIkSR5At23btm3bHkDbtm3btm0fQA/6laU9ACBAXGZ2S0ZWIECcIInSBEAhQMSUpi8IFCNA9a828KuJI0CNtCBo3rgjQGFAnzoy5yNAYSdF8igWJEBJqZFR0kUkQGn6lnc0diRA9vNBTVOnJEDkvSs0MdkkQOX5cF3PCyVAudPCAS4/JUA7FqWHTHMlQBv+iJ4pqCVA81GsUsPdJUBekzocFxQmQPSYG+shSyZA/CKDMOCCJkC2+evmTbsmQOVu65hm9CZAWjM8ZyUuJ0ArsSIOhWgnQJMdaep/oydAyZoD/g/fJ0CUwHH0LhsoQEgK9CbWVyhAOJSLoP6UKEDrMOYhodIoQI8xOSW2EClALXjs4TVPKUBJhU9QGI4pQOL3Ny1VzSlAwXWK/eMMKkCc3dURvEwqQB0KzYnUjCpA7czPVyTNKkAzP3NEog0rQPB8B/JETitA38wr4AKPK0Avfm1v0s8rQB/Y6+SpECxA7VUcbn9RLEAlSZIkSZIsQA==\"},\"shape\":[101],\"dtype\":\"float64\",\"order\":\"little\"}]]}}},\"view\":{\"type\":\"object\",\"name\":\"CDSView\",\"id\":\"p1315\",\"attributes\":{\"filter\":{\"type\":\"object\",\"name\":\"AllIndices\",\"id\":\"p1316\"}}},\"glyph\":{\"type\":\"object\",\"name\":\"Line\",\"id\":\"p1311\",\"attributes\":{\"tags\":[\"apply_ranges\"],\"x\":{\"type\":\"field\",\"field\":\"x\"},\"y\":{\"type\":\"field\",\"field\":\"y\"},\"line_color\":\"#46f783\",\"line_width\":2,\"line_dash\":[6]}},\"selection_glyph\":{\"type\":\"object\",\"name\":\"Line\",\"id\":\"p1318\",\"attributes\":{\"tags\":[\"apply_ranges\"],\"x\":{\"type\":\"field\",\"field\":\"x\"},\"y\":{\"type\":\"field\",\"field\":\"y\"},\"line_color\":\"#46f783\",\"line_width\":2,\"line_dash\":[6]}},\"nonselection_glyph\":{\"type\":\"object\",\"name\":\"Line\",\"id\":\"p1312\",\"attributes\":{\"tags\":[\"apply_ranges\"],\"x\":{\"type\":\"field\",\"field\":\"x\"},\"y\":{\"type\":\"field\",\"field\":\"y\"},\"line_color\":\"#46f783\",\"line_alpha\":0.1,\"line_width\":2,\"line_dash\":[6]}},\"muted_glyph\":{\"type\":\"object\",\"name\":\"Line\",\"id\":\"p1313\",\"attributes\":{\"tags\":[\"apply_ranges\"],\"x\":{\"type\":\"field\",\"field\":\"x\"},\"y\":{\"type\":\"field\",\"field\":\"y\"},\"line_color\":\"#46f783\",\"line_alpha\":0.2,\"line_width\":2,\"line_dash\":[6]}}}},{\"type\":\"object\",\"name\":\"GlyphRenderer\",\"id\":\"p1328\",\"attributes\":{\"name\":\"\\u6cb3\\u5e8a\\u9ad8:20\\u65e5\\u5f8c\",\"data_source\":{\"type\":\"object\",\"name\":\"ColumnDataSource\",\"id\":\"p1319\",\"attributes\":{\"selected\":{\"type\":\"object\",\"name\":\"Selection\",\"id\":\"p1320\",\"attributes\":{\"indices\":[],\"line_indices\":[]}},\"selection_policy\":{\"type\":\"object\",\"name\":\"UnionRenderers\",\"id\":\"p1321\"},\"data\":{\"type\":\"map\",\"entries\":[[\"x\",{\"type\":\"ndarray\",\"array\":{\"type\":\"bytes\",\"data\":\"AAAAAAAAAAAAAAAAAABZQAAAAAAAAGlAAAAAAADAckAAAAAAAAB5QAAAAAAAQH9AAAAAAADAgkAAAAAAAOCFQAAAAAAAAIlAAAAAAAAgjEAAAAAAAECPQAAAAAAAMJFAAAAAAADAkkAAAAAAAFCUQAAAAAAA4JVAAAAAAABwl0AAAAAAAACZQAAAAAAAkJpAAAAAAAAgnEAAAAAAALCdQAAAAAAAQJ9AAAAAAABooEAAAAAAADChQAAAAAAA+KFAAAAAAADAokAAAAAAAIijQAAAAAAAUKRAAAAAAAAYpUAAAAAAAOClQAAAAAAAqKZAAAAAAABwp0AAAAAAADioQAAAAAAAAKlAAAAAAADIqUAAAAAAAJCqQAAAAAAAWKtAAAAAAAAgrEAAAAAAAOisQAAAAAAAsK1AAAAAAAB4rkAAAAAAAECvQAAAAAAABLBAAAAAAABosEAAAAAAAMywQAAAAAAAMLFAAAAAAACUsUAAAAAAAPixQAAAAAAAXLJAAAAAAADAskAAAAAAACSzQAAAAAAAiLNAAAAAAADss0AAAAAAAFC0QAAAAAAAtLRAAAAAAAAYtUAAAAAAAHy1QAAAAAAA4LVAAAAAAABEtkAAAAAAAKi2QAAAAAAADLdAAAAAAABwt0AAAAAAANS3QAAAAAAAOLhAAAAAAACcuEAAAAAAAAC5QAAAAAAAZLlAAAAAAADIuUAAAAAAACy6QAAAAAAAkLpAAAAAAAD0ukAAAAAAAFi7QAAAAAAAvLtAAAAAAAAgvEAAAAAAAIS8QAAAAAAA6LxAAAAAAABMvUAAAAAAALC9QAAAAAAAFL5AAAAAAAB4vkAAAAAAANy+QAAAAAAAQL9AAAAAAACkv0AAAAAAAATAQAAAAAAANsBAAAAAAABowEAAAAAAAJrAQAAAAAAAzMBAAAAAAAD+wEAAAAAAADDBQAAAAAAAYsFAAAAAAACUwUAAAAAAAMbBQAAAAAAA+MFAAAAAAAAqwkAAAAAAAFzCQAAAAAAAjsJAAAAAAADAwkAAAAAAAPLCQAAAAAAAJMNAAAAAAABWw0AAAAAAAIjDQA==\"},\"shape\":[101],\"dtype\":\"float64\",\"order\":\"little\"}],[\"y\",{\"type\":\"ndarray\",\"array\":{\"type\":\"bytes\",\"data\":\"AAAAAAAAAACSJEmSJEnCP5IkSZIkSdI/27Zt27Zt2z+SJEmSJEniP7dt27Zt2+Y/27Zt27Zt6z8AAAAAAADwP5IkSZIkSfI/JUmSJEmS9D+3bdu2bdv2P0mSJEmSJPk/27Zt27Zt+z9u27Zt27b9PwAAAAAAAABASZIkSZIkAUCSJEmSJEkCQNu2bdu2bQNAJUmSJEmSBEBu27Zt27YFQLdt27Zt2wZAAAAAAAAACEBJkiRJkiQJQJIkSZIkSQpA27Zt27ZtC0AlSZIkSZIMQG7btm3btg1At23btm3bDkAAAAAAAAAQQCVJkiRJkhBASZIkSZIkEUBu27Zt27YRQJIkSZIkSRJAt23btm3bEkDbtm3btm0TQAAAAAAAABRAJUmSJEmSFEBJkiRJkiQVQG7btm3bthVAkiRJkiRJFkC3bdu2bdsWQNu2bdu2bRdAAAAAAAAAGEAlSZIkSZIYQEmSJEmSJBlAbtu2bdu2GUCSJEmSJEkaQLdt27Zt2xpA27Zt27ZtG0AAAAAAAAAcQCVJkiRJkhxASZIkSZIkHUBu27Zt27YdQB9ijSaUYB5AaNPJYfDLIUBfpfCEA1sjQMtnV+ZuhyNAKVGmDieyI0CVlC8pbd0jQDNNxxNDCSRALuO1bqk1JEA4IKF3oGIkQJ+QpxMokCRA27uo1j++JEAJPeUI5+wkQF1nXascHCVAE+9Te99LJUCOii31LXwlQN4mzlYGrSVApOWloWbeJUC4xGecTBAmQO+0n9S1QiZAySskoJ91JkC3+mYeB6kmQF/FvDnp3CZA/pKhqEIRJ0CeCvvuD0YnQIGLXV9NeydAN5BXHPewJ0C7Rs0ZCecnQPFUWx5/HShAw4TBxFRUKEAalWp9hYsoQLec7Y8MwyhA7VCvHOX6KECJQokeCjMpQPa2f2x2aylAE8yJuySkKUDonWGgD90pQGOpZJExFipAT2mB6IRPKkC44jLlA4kqQI/4ga6owipA1ZUfVW38KkCij3vVSzYrQGt+8hk+cCtAFxkH/T2qK0CniqtLReQrQDlzm8dNHixAAa+6KVFYLEAlSZIkSZIsQA==\"},\"shape\":[101],\"dtype\":\"float64\",\"order\":\"little\"}]]}}},\"view\":{\"type\":\"object\",\"name\":\"CDSView\",\"id\":\"p1329\",\"attributes\":{\"filter\":{\"type\":\"object\",\"name\":\"AllIndices\",\"id\":\"p1330\"}}},\"glyph\":{\"type\":\"object\",\"name\":\"Line\",\"id\":\"p1325\",\"attributes\":{\"tags\":[\"apply_ranges\"],\"x\":{\"type\":\"field\",\"field\":\"x\"},\"y\":{\"type\":\"field\",\"field\":\"y\"},\"line_color\":\"#e1dc37\",\"line_width\":2,\"line_dash\":[6]}},\"selection_glyph\":{\"type\":\"object\",\"name\":\"Line\",\"id\":\"p1332\",\"attributes\":{\"tags\":[\"apply_ranges\"],\"x\":{\"type\":\"field\",\"field\":\"x\"},\"y\":{\"type\":\"field\",\"field\":\"y\"},\"line_color\":\"#e1dc37\",\"line_width\":2,\"line_dash\":[6]}},\"nonselection_glyph\":{\"type\":\"object\",\"name\":\"Line\",\"id\":\"p1326\",\"attributes\":{\"tags\":[\"apply_ranges\"],\"x\":{\"type\":\"field\",\"field\":\"x\"},\"y\":{\"type\":\"field\",\"field\":\"y\"},\"line_color\":\"#e1dc37\",\"line_alpha\":0.1,\"line_width\":2,\"line_dash\":[6]}},\"muted_glyph\":{\"type\":\"object\",\"name\":\"Line\",\"id\":\"p1327\",\"attributes\":{\"tags\":[\"apply_ranges\"],\"x\":{\"type\":\"field\",\"field\":\"x\"},\"y\":{\"type\":\"field\",\"field\":\"y\"},\"line_color\":\"#e1dc37\",\"line_alpha\":0.2,\"line_width\":2,\"line_dash\":[6]}}}},{\"type\":\"object\",\"name\":\"GlyphRenderer\",\"id\":\"p1342\",\"attributes\":{\"name\":\"\\u6cb3\\u5e8a\\u9ad8:30\\u65e5\\u5f8c\",\"data_source\":{\"type\":\"object\",\"name\":\"ColumnDataSource\",\"id\":\"p1333\",\"attributes\":{\"selected\":{\"type\":\"object\",\"name\":\"Selection\",\"id\":\"p1334\",\"attributes\":{\"indices\":[],\"line_indices\":[]}},\"selection_policy\":{\"type\":\"object\",\"name\":\"UnionRenderers\",\"id\":\"p1335\"},\"data\":{\"type\":\"map\",\"entries\":[[\"x\",{\"type\":\"ndarray\",\"array\":{\"type\":\"bytes\",\"data\":\"AAAAAAAAAAAAAAAAAABZQAAAAAAAAGlAAAAAAADAckAAAAAAAAB5QAAAAAAAQH9AAAAAAADAgkAAAAAAAOCFQAAAAAAAAIlAAAAAAAAgjEAAAAAAAECPQAAAAAAAMJFAAAAAAADAkkAAAAAAAFCUQAAAAAAA4JVAAAAAAABwl0AAAAAAAACZQAAAAAAAkJpAAAAAAAAgnEAAAAAAALCdQAAAAAAAQJ9AAAAAAABooEAAAAAAADChQAAAAAAA+KFAAAAAAADAokAAAAAAAIijQAAAAAAAUKRAAAAAAAAYpUAAAAAAAOClQAAAAAAAqKZAAAAAAABwp0AAAAAAADioQAAAAAAAAKlAAAAAAADIqUAAAAAAAJCqQAAAAAAAWKtAAAAAAAAgrEAAAAAAAOisQAAAAAAAsK1AAAAAAAB4rkAAAAAAAECvQAAAAAAABLBAAAAAAABosEAAAAAAAMywQAAAAAAAMLFAAAAAAACUsUAAAAAAAPixQAAAAAAAXLJAAAAAAADAskAAAAAAACSzQAAAAAAAiLNAAAAAAADss0AAAAAAAFC0QAAAAAAAtLRAAAAAAAAYtUAAAAAAAHy1QAAAAAAA4LVAAAAAAABEtkAAAAAAAKi2QAAAAAAADLdAAAAAAABwt0AAAAAAANS3QAAAAAAAOLhAAAAAAACcuEAAAAAAAAC5QAAAAAAAZLlAAAAAAADIuUAAAAAAACy6QAAAAAAAkLpAAAAAAAD0ukAAAAAAAFi7QAAAAAAAvLtAAAAAAAAgvEAAAAAAAIS8QAAAAAAA6LxAAAAAAABMvUAAAAAAALC9QAAAAAAAFL5AAAAAAAB4vkAAAAAAANy+QAAAAAAAQL9AAAAAAACkv0AAAAAAAATAQAAAAAAANsBAAAAAAABowEAAAAAAAJrAQAAAAAAAzMBAAAAAAAD+wEAAAAAAADDBQAAAAAAAYsFAAAAAAACUwUAAAAAAAMbBQAAAAAAA+MFAAAAAAAAqwkAAAAAAAFzCQAAAAAAAjsJAAAAAAADAwkAAAAAAAPLCQAAAAAAAJMNAAAAAAABWw0AAAAAAAIjDQA==\"},\"shape\":[101],\"dtype\":\"float64\",\"order\":\"little\"}],[\"y\",{\"type\":\"ndarray\",\"array\":{\"type\":\"bytes\",\"data\":\"AAAAAAAAAACSJEmSJEnCP5IkSZIkSdI/27Zt27Zt2z+SJEmSJEniP7dt27Zt2+Y/27Zt27Zt6z8AAAAAAADwP5IkSZIkSfI/JUmSJEmS9D+3bdu2bdv2P0mSJEmSJPk/27Zt27Zt+z9u27Zt27b9PwAAAAAAAABASZIkSZIkAUCSJEmSJEkCQNu2bdu2bQNAJUmSJEmSBEBu27Zt27YFQLdt27Zt2wZAAAAAAAAACEBJkiRJkiQJQJIkSZIkSQpA27Zt27ZtC0AlSZIkSZIMQG7btm3btg1At23btm3bDkAAAAAAAAAQQCVJkiRJkhBASZIkSZIkEUBu27Zt27YRQJIkSZIkSRJAt23btm3bEkDbtm3btm0TQAAAAAAAABRAJUmSJEmSFEBJkiRJkiQVQG7btm3bthVAkiRJkiRJFkC3bdu2bdsWQNu2bdu2bRdAAAAAAAAAGEAlSZIkSZIYQEmSJEmSJBlAbtu2bdu2GUCSJEmSJEkaQLdt27Zt2xpA27Zt27ZtG0AAAAAAAAAcQFmyuKmbVx1AqNZdPZHDIkBMtJrDyFsjQNZVjLtyhCNAAOp4MIatI0A0G3D9DtcjQLE9M+sMASRAVN2rln8rJEDG/u1zZlYkQJcT38/AgSRAZcx30Y2tJEARZNR6zNkkQPpiAap7BiVAPqmuGZozJUDmQb5hJmElQAd7yvcejyVAIJihL4K9JUA1irk7TuwlQBBupS2BGyZArkCP9hhLJkB9A7tnE3smQONKADNuqyZATylm6ybcJkBCy6sFOw0nQIy/7NinPidAtjREn2pwJ0BgIXp2gKInQBiavmDm1CdA4I1tRZkHKEDTwcbxlTooQPFv1BnZbShAqus6WV+hKECU8hY0JdUoQKTI8hcnCSlAhwyuXGE9KUAPv3pF0HEpQEg25AFwpilAZATQrjzbKUCyt5RXMhAqQKEmEPdMRSpAaWXMeIh6KkDAMSS64K8qQKhOdotR5SpAY41dsdYaK0BAGvfla1ArQNcBHtoMhitAJP/GNrW7K0DZhECeYPErQEriiK0KJyxAQneU/a5cLEAlSZIkSZIsQA==\"},\"shape\":[101],\"dtype\":\"float64\",\"order\":\"little\"}]]}}},\"view\":{\"type\":\"object\",\"name\":\"CDSView\",\"id\":\"p1343\",\"attributes\":{\"filter\":{\"type\":\"object\",\"name\":\"AllIndices\",\"id\":\"p1344\"}}},\"glyph\":{\"type\":\"object\",\"name\":\"Line\",\"id\":\"p1339\",\"attributes\":{\"tags\":[\"apply_ranges\"],\"x\":{\"type\":\"field\",\"field\":\"x\"},\"y\":{\"type\":\"field\",\"field\":\"y\"},\"line_color\":\"#ef5a11\",\"line_width\":2,\"line_dash\":[6]}},\"selection_glyph\":{\"type\":\"object\",\"name\":\"Line\",\"id\":\"p1346\",\"attributes\":{\"tags\":[\"apply_ranges\"],\"x\":{\"type\":\"field\",\"field\":\"x\"},\"y\":{\"type\":\"field\",\"field\":\"y\"},\"line_color\":\"#ef5a11\",\"line_width\":2,\"line_dash\":[6]}},\"nonselection_glyph\":{\"type\":\"object\",\"name\":\"Line\",\"id\":\"p1340\",\"attributes\":{\"tags\":[\"apply_ranges\"],\"x\":{\"type\":\"field\",\"field\":\"x\"},\"y\":{\"type\":\"field\",\"field\":\"y\"},\"line_color\":\"#ef5a11\",\"line_alpha\":0.1,\"line_width\":2,\"line_dash\":[6]}},\"muted_glyph\":{\"type\":\"object\",\"name\":\"Line\",\"id\":\"p1341\",\"attributes\":{\"tags\":[\"apply_ranges\"],\"x\":{\"type\":\"field\",\"field\":\"x\"},\"y\":{\"type\":\"field\",\"field\":\"y\"},\"line_color\":\"#ef5a11\",\"line_alpha\":0.2,\"line_width\":2,\"line_dash\":[6]}}}},{\"type\":\"object\",\"name\":\"GlyphRenderer\",\"id\":\"p1356\",\"attributes\":{\"name\":\"\\u6cb3\\u5e8a\\u9ad8:40\\u65e5\\u5f8c\",\"data_source\":{\"type\":\"object\",\"name\":\"ColumnDataSource\",\"id\":\"p1347\",\"attributes\":{\"selected\":{\"type\":\"object\",\"name\":\"Selection\",\"id\":\"p1348\",\"attributes\":{\"indices\":[],\"line_indices\":[]}},\"selection_policy\":{\"type\":\"object\",\"name\":\"UnionRenderers\",\"id\":\"p1349\"},\"data\":{\"type\":\"map\",\"entries\":[[\"x\",{\"type\":\"ndarray\",\"array\":{\"type\":\"bytes\",\"data\":\"AAAAAAAAAAAAAAAAAABZQAAAAAAAAGlAAAAAAADAckAAAAAAAAB5QAAAAAAAQH9AAAAAAADAgkAAAAAAAOCFQAAAAAAAAIlAAAAAAAAgjEAAAAAAAECPQAAAAAAAMJFAAAAAAADAkkAAAAAAAFCUQAAAAAAA4JVAAAAAAABwl0AAAAAAAACZQAAAAAAAkJpAAAAAAAAgnEAAAAAAALCdQAAAAAAAQJ9AAAAAAABooEAAAAAAADChQAAAAAAA+KFAAAAAAADAokAAAAAAAIijQAAAAAAAUKRAAAAAAAAYpUAAAAAAAOClQAAAAAAAqKZAAAAAAABwp0AAAAAAADioQAAAAAAAAKlAAAAAAADIqUAAAAAAAJCqQAAAAAAAWKtAAAAAAAAgrEAAAAAAAOisQAAAAAAAsK1AAAAAAAB4rkAAAAAAAECvQAAAAAAABLBAAAAAAABosEAAAAAAAMywQAAAAAAAMLFAAAAAAACUsUAAAAAAAPixQAAAAAAAXLJAAAAAAADAskAAAAAAACSzQAAAAAAAiLNAAAAAAADss0AAAAAAAFC0QAAAAAAAtLRAAAAAAAAYtUAAAAAAAHy1QAAAAAAA4LVAAAAAAABEtkAAAAAAAKi2QAAAAAAADLdAAAAAAABwt0AAAAAAANS3QAAAAAAAOLhAAAAAAACcuEAAAAAAAAC5QAAAAAAAZLlAAAAAAADIuUAAAAAAACy6QAAAAAAAkLpAAAAAAAD0ukAAAAAAAFi7QAAAAAAAvLtAAAAAAAAgvEAAAAAAAIS8QAAAAAAA6LxAAAAAAABMvUAAAAAAALC9QAAAAAAAFL5AAAAAAAB4vkAAAAAAANy+QAAAAAAAQL9AAAAAAACkv0AAAAAAAATAQAAAAAAANsBAAAAAAABowEAAAAAAAJrAQAAAAAAAzMBAAAAAAAD+wEAAAAAAADDBQAAAAAAAYsFAAAAAAACUwUAAAAAAAMbBQAAAAAAA+MFAAAAAAAAqwkAAAAAAAFzCQAAAAAAAjsJAAAAAAADAwkAAAAAAAPLCQAAAAAAAJMNAAAAAAABWw0AAAAAAAIjDQA==\"},\"shape\":[101],\"dtype\":\"float64\",\"order\":\"little\"}],[\"y\",{\"type\":\"ndarray\",\"array\":{\"type\":\"bytes\",\"data\":\"AAAAAAAAAACSJEmSJEnCP5IkSZIkSdI/27Zt27Zt2z+SJEmSJEniP7dt27Zt2+Y/27Zt27Zt6z8AAAAAAADwP5IkSZIkSfI/JUmSJEmS9D+3bdu2bdv2P0mSJEmSJPk/27Zt27Zt+z9u27Zt27b9PwAAAAAAAABASZIkSZIkAUCSJEmSJEkCQNu2bdu2bQNAJUmSJEmSBEBu27Zt27YFQLdt27Zt2wZAAAAAAAAACEBJkiRJkiQJQJIkSZIkSQpA27Zt27ZtC0AlSZIkSZIMQG7btm3btg1At23btm3bDkAAAAAAAAAQQCVJkiRJkhBASZIkSZIkEUBu27Zt27YRQJIkSZIkSRJAt23btm3bEkDbtm3btm0TQAAAAAAAABRAJUmSJEmSFEBJkiRJkiQVQG7btm3bthVAkiRJkiRJFkC3bdu2bdsWQNu2bdu2bRdAAAAAAAAAGEAlSZIkSZIYQEmSJEmSJBlAbtu2bdu2GUCSJEmSJEkaQDz6LooC7RpAdZ/dFgidIUB+I42JrkUjQIV37EIIbSNAolX7B56UI0BX0Yz9lrwjQM7gCbPy5CNAlNxKnLANJEAxQkYT0DYkQA2U4FhQYCRA7pmAlTCKJECzi6TZb7QkQLtISx4N3yRACFFWRQcKJUBlrtsZXTUlQGIjcFANYSVAsJJhhxaNJUA60vpGd7klQG0UvQEu5iVAdUqeFDkTJkC5Z0vHlkAmQJj+bkxFbiZAgxf5wUKcJkBvOXQxjcomQCWKXJAi+SZAIt19wAAoJ0Duw1uQJVcnQFyrlruOhidAvQNq6zm2J0AJ/Ry3JOYnQPxyhaRMFihASq2NKK9GKED02b2nSXcoQJdOz3YZqChAzCNA2xvZKECCwekLTgopQJA3rTGtOylAyBsFaDZtKUAusLW95p4pQGsLdTW70ClAZmaUxrACKkAlHrVdxDQqQH13eN3yZipAwfM2HzmZKkAcK7nzk8sqQGHa9iMA/ipAvBHfcXowK0DdHx6Z/2IrQPyo60+MlStAl57oRx3IK0C7oPkur/orQK89LbA+LSxAgP+pdMhfLEAlSZIkSZIsQA==\"},\"shape\":[101],\"dtype\":\"float64\",\"order\":\"little\"}]]}}},\"view\":{\"type\":\"object\",\"name\":\"CDSView\",\"id\":\"p1357\",\"attributes\":{\"filter\":{\"type\":\"object\",\"name\":\"AllIndices\",\"id\":\"p1358\"}}},\"glyph\":{\"type\":\"object\",\"name\":\"Line\",\"id\":\"p1353\",\"attributes\":{\"tags\":[\"apply_ranges\"],\"x\":{\"type\":\"field\",\"field\":\"x\"},\"y\":{\"type\":\"field\",\"field\":\"y\"},\"line_color\":\"#7a0402\",\"line_width\":2,\"line_dash\":[6]}},\"selection_glyph\":{\"type\":\"object\",\"name\":\"Line\",\"id\":\"p1360\",\"attributes\":{\"tags\":[\"apply_ranges\"],\"x\":{\"type\":\"field\",\"field\":\"x\"},\"y\":{\"type\":\"field\",\"field\":\"y\"},\"line_color\":\"#7a0402\",\"line_width\":2,\"line_dash\":[6]}},\"nonselection_glyph\":{\"type\":\"object\",\"name\":\"Line\",\"id\":\"p1354\",\"attributes\":{\"tags\":[\"apply_ranges\"],\"x\":{\"type\":\"field\",\"field\":\"x\"},\"y\":{\"type\":\"field\",\"field\":\"y\"},\"line_color\":\"#7a0402\",\"line_alpha\":0.1,\"line_width\":2,\"line_dash\":[6]}},\"muted_glyph\":{\"type\":\"object\",\"name\":\"Line\",\"id\":\"p1355\",\"attributes\":{\"tags\":[\"apply_ranges\"],\"x\":{\"type\":\"field\",\"field\":\"x\"},\"y\":{\"type\":\"field\",\"field\":\"y\"},\"line_color\":\"#7a0402\",\"line_alpha\":0.2,\"line_width\":2,\"line_dash\":[6]}}}}],\"toolbar\":{\"type\":\"object\",\"name\":\"Toolbar\",\"id\":\"p1170\",\"attributes\":{\"tools\":[{\"type\":\"object\",\"name\":\"WheelZoomTool\",\"id\":\"p1138\",\"attributes\":{\"tags\":[\"hv_created\"],\"renderers\":\"auto\",\"zoom_together\":\"none\"}},{\"type\":\"object\",\"name\":\"SaveTool\",\"id\":\"p1183\"},{\"type\":\"object\",\"name\":\"PanTool\",\"id\":\"p1184\"},{\"type\":\"object\",\"name\":\"BoxZoomTool\",\"id\":\"p1185\",\"attributes\":{\"overlay\":{\"type\":\"object\",\"name\":\"BoxAnnotation\",\"id\":\"p1186\",\"attributes\":{\"syncable\":false,\"level\":\"overlay\",\"visible\":false,\"left\":{\"type\":\"number\",\"value\":\"nan\"},\"right\":{\"type\":\"number\",\"value\":\"nan\"},\"top\":{\"type\":\"number\",\"value\":\"nan\"},\"bottom\":{\"type\":\"number\",\"value\":\"nan\"},\"left_units\":\"canvas\",\"right_units\":\"canvas\",\"top_units\":\"canvas\",\"bottom_units\":\"canvas\",\"line_color\":\"black\",\"line_alpha\":1.0,\"line_width\":2,\"line_dash\":[4,4],\"fill_color\":\"lightgrey\",\"fill_alpha\":0.5}}}},{\"type\":\"object\",\"name\":\"ResetTool\",\"id\":\"p1191\"}],\"active_drag\":{\"id\":\"p1184\"},\"active_scroll\":{\"id\":\"p1138\"}}},\"left\":[{\"type\":\"object\",\"name\":\"LinearAxis\",\"id\":\"p1178\",\"attributes\":{\"ticker\":{\"type\":\"object\",\"name\":\"BasicTicker\",\"id\":\"p1179\",\"attributes\":{\"mantissas\":[1,2,5]}},\"formatter\":{\"type\":\"object\",\"name\":\"BasicTickFormatter\",\"id\":\"p1180\"},\"axis_label\":\"Elevation[m]\",\"major_label_policy\":{\"type\":\"object\",\"name\":\"AllLabels\",\"id\":\"p1181\"}}}],\"right\":[{\"type\":\"object\",\"name\":\"Legend\",\"id\":\"p1204\",\"attributes\":{\"location\":[0,0],\"click_policy\":\"mute\",\"items\":[{\"type\":\"object\",\"name\":\"LegendItem\",\"id\":\"p1205\",\"attributes\":{\"label\":{\"type\":\"value\",\"value\":\"\\u6c34\\u4f4d:0\\u65e5\\u5f8c\"},\"renderers\":[{\"id\":\"p1201\"}]}},{\"type\":\"object\",\"name\":\"LegendItem\",\"id\":\"p1219\",\"attributes\":{\"label\":{\"type\":\"value\",\"value\":\"\\u6c34\\u4f4d:5\\u65e5\\u5f8c\"},\"renderers\":[{\"id\":\"p1216\"}]}},{\"type\":\"object\",\"name\":\"LegendItem\",\"id\":\"p1233\",\"attributes\":{\"label\":{\"type\":\"value\",\"value\":\"\\u6c34\\u4f4d:10\\u65e5\\u5f8c\"},\"renderers\":[{\"id\":\"p1230\"}]}},{\"type\":\"object\",\"name\":\"LegendItem\",\"id\":\"p1247\",\"attributes\":{\"label\":{\"type\":\"value\",\"value\":\"\\u6c34\\u4f4d:20\\u65e5\\u5f8c\"},\"renderers\":[{\"id\":\"p1244\"}]}},{\"type\":\"object\",\"name\":\"LegendItem\",\"id\":\"p1261\",\"attributes\":{\"label\":{\"type\":\"value\",\"value\":\"\\u6c34\\u4f4d:30\\u65e5\\u5f8c\"},\"renderers\":[{\"id\":\"p1258\"}]}},{\"type\":\"object\",\"name\":\"LegendItem\",\"id\":\"p1275\",\"attributes\":{\"label\":{\"type\":\"value\",\"value\":\"\\u6c34\\u4f4d:40\\u65e5\\u5f8c\"},\"renderers\":[{\"id\":\"p1272\"}]}},{\"type\":\"object\",\"name\":\"LegendItem\",\"id\":\"p1289\",\"attributes\":{\"label\":{\"type\":\"value\",\"value\":\"\\u6cb3\\u5e8a\\u9ad8:0\\u65e5\\u5f8c\"},\"renderers\":[{\"id\":\"p1286\"}]}},{\"type\":\"object\",\"name\":\"LegendItem\",\"id\":\"p1303\",\"attributes\":{\"label\":{\"type\":\"value\",\"value\":\"\\u6cb3\\u5e8a\\u9ad8:5\\u65e5\\u5f8c\"},\"renderers\":[{\"id\":\"p1300\"}]}},{\"type\":\"object\",\"name\":\"LegendItem\",\"id\":\"p1317\",\"attributes\":{\"label\":{\"type\":\"value\",\"value\":\"\\u6cb3\\u5e8a\\u9ad8:10\\u65e5\\u5f8c\"},\"renderers\":[{\"id\":\"p1314\"}]}},{\"type\":\"object\",\"name\":\"LegendItem\",\"id\":\"p1331\",\"attributes\":{\"label\":{\"type\":\"value\",\"value\":\"\\u6cb3\\u5e8a\\u9ad8:20\\u65e5\\u5f8c\"},\"renderers\":[{\"id\":\"p1328\"}]}},{\"type\":\"object\",\"name\":\"LegendItem\",\"id\":\"p1345\",\"attributes\":{\"label\":{\"type\":\"value\",\"value\":\"\\u6cb3\\u5e8a\\u9ad8:30\\u65e5\\u5f8c\"},\"renderers\":[{\"id\":\"p1342\"}]}},{\"type\":\"object\",\"name\":\"LegendItem\",\"id\":\"p1359\",\"attributes\":{\"label\":{\"type\":\"value\",\"value\":\"\\u6cb3\\u5e8a\\u9ad8:40\\u65e5\\u5f8c\"},\"renderers\":[{\"id\":\"p1356\"}]}}]}}],\"below\":[{\"type\":\"object\",\"name\":\"LinearAxis\",\"id\":\"p1173\",\"attributes\":{\"ticker\":{\"type\":\"object\",\"name\":\"BasicTicker\",\"id\":\"p1174\",\"attributes\":{\"mantissas\":[1,2,5]}},\"formatter\":{\"type\":\"object\",\"name\":\"BasicTickFormatter\",\"id\":\"p1175\"},\"axis_label\":\"Distance[m]\",\"major_label_policy\":{\"type\":\"object\",\"name\":\"AllLabels\",\"id\":\"p1176\"}}}],\"center\":[{\"type\":\"object\",\"name\":\"Grid\",\"id\":\"p1177\",\"attributes\":{\"axis\":{\"id\":\"p1173\"},\"ticker\":{\"id\":\"p1174\"}}},{\"type\":\"object\",\"name\":\"Grid\",\"id\":\"p1182\",\"attributes\":{\"dimension\":1,\"axis\":{\"id\":\"p1178\"},\"ticker\":{\"id\":\"p1179\"}}}],\"min_border_top\":10,\"min_border_bottom\":10,\"min_border_left\":10,\"min_border_right\":10,\"output_backend\":\"webgl\"}},{\"type\":\"object\",\"name\":\"Spacer\",\"id\":\"p1362\",\"attributes\":{\"name\":\"HSpacer01373\",\"stylesheets\":[\"\\n:host(.pn-loading):before, .pn-loading:before {\\n  background-color: #c3c3c3;\\n  mask-size: auto calc(min(50%, 400px));\\n  -webkit-mask-size: auto calc(min(50%, 400px));\\n}\",{\"id\":\"p1131\"},{\"id\":\"p1129\"},{\"id\":\"p1130\"}],\"margin\":0,\"sizing_mode\":\"stretch_width\",\"align\":\"start\"}}]}}],\"defs\":[{\"type\":\"model\",\"name\":\"ReactiveHTML1\"},{\"type\":\"model\",\"name\":\"FlexBox1\",\"properties\":[{\"name\":\"align_content\",\"kind\":\"Any\",\"default\":\"flex-start\"},{\"name\":\"align_items\",\"kind\":\"Any\",\"default\":\"flex-start\"},{\"name\":\"flex_direction\",\"kind\":\"Any\",\"default\":\"row\"},{\"name\":\"flex_wrap\",\"kind\":\"Any\",\"default\":\"wrap\"},{\"name\":\"gap\",\"kind\":\"Any\",\"default\":\"\"},{\"name\":\"justify_content\",\"kind\":\"Any\",\"default\":\"flex-start\"}]},{\"type\":\"model\",\"name\":\"FloatPanel1\",\"properties\":[{\"name\":\"config\",\"kind\":\"Any\",\"default\":{\"type\":\"map\"}},{\"name\":\"contained\",\"kind\":\"Any\",\"default\":true},{\"name\":\"position\",\"kind\":\"Any\",\"default\":\"right-top\"},{\"name\":\"offsetx\",\"kind\":\"Any\",\"default\":null},{\"name\":\"offsety\",\"kind\":\"Any\",\"default\":null},{\"name\":\"theme\",\"kind\":\"Any\",\"default\":\"primary\"},{\"name\":\"status\",\"kind\":\"Any\",\"default\":\"normalized\"}]},{\"type\":\"model\",\"name\":\"GridStack1\",\"properties\":[{\"name\":\"mode\",\"kind\":\"Any\",\"default\":\"warn\"},{\"name\":\"ncols\",\"kind\":\"Any\",\"default\":null},{\"name\":\"nrows\",\"kind\":\"Any\",\"default\":null},{\"name\":\"allow_resize\",\"kind\":\"Any\",\"default\":true},{\"name\":\"allow_drag\",\"kind\":\"Any\",\"default\":true},{\"name\":\"state\",\"kind\":\"Any\",\"default\":[]}]},{\"type\":\"model\",\"name\":\"drag1\",\"properties\":[{\"name\":\"slider_width\",\"kind\":\"Any\",\"default\":5},{\"name\":\"slider_color\",\"kind\":\"Any\",\"default\":\"black\"},{\"name\":\"value\",\"kind\":\"Any\",\"default\":50}]},{\"type\":\"model\",\"name\":\"click1\",\"properties\":[{\"name\":\"terminal_output\",\"kind\":\"Any\",\"default\":\"\"},{\"name\":\"debug_name\",\"kind\":\"Any\",\"default\":\"\"},{\"name\":\"clears\",\"kind\":\"Any\",\"default\":0}]},{\"type\":\"model\",\"name\":\"FastWrapper1\",\"properties\":[{\"name\":\"object\",\"kind\":\"Any\",\"default\":null},{\"name\":\"style\",\"kind\":\"Any\",\"default\":null}]},{\"type\":\"model\",\"name\":\"NotificationAreaBase1\",\"properties\":[{\"name\":\"js_events\",\"kind\":\"Any\",\"default\":{\"type\":\"map\"}},{\"name\":\"position\",\"kind\":\"Any\",\"default\":\"bottom-right\"},{\"name\":\"_clear\",\"kind\":\"Any\",\"default\":0}]},{\"type\":\"model\",\"name\":\"NotificationArea1\",\"properties\":[{\"name\":\"js_events\",\"kind\":\"Any\",\"default\":{\"type\":\"map\"}},{\"name\":\"notifications\",\"kind\":\"Any\",\"default\":[]},{\"name\":\"position\",\"kind\":\"Any\",\"default\":\"bottom-right\"},{\"name\":\"_clear\",\"kind\":\"Any\",\"default\":0},{\"name\":\"types\",\"kind\":\"Any\",\"default\":[{\"type\":\"map\",\"entries\":[[\"type\",\"warning\"],[\"background\",\"#ffc107\"],[\"icon\",{\"type\":\"map\",\"entries\":[[\"className\",\"fas fa-exclamation-triangle\"],[\"tagName\",\"i\"],[\"color\",\"white\"]]}]]},{\"type\":\"map\",\"entries\":[[\"type\",\"info\"],[\"background\",\"#007bff\"],[\"icon\",{\"type\":\"map\",\"entries\":[[\"className\",\"fas fa-info-circle\"],[\"tagName\",\"i\"],[\"color\",\"white\"]]}]]}]}]},{\"type\":\"model\",\"name\":\"Notification\",\"properties\":[{\"name\":\"background\",\"kind\":\"Any\",\"default\":null},{\"name\":\"duration\",\"kind\":\"Any\",\"default\":3000},{\"name\":\"icon\",\"kind\":\"Any\",\"default\":null},{\"name\":\"message\",\"kind\":\"Any\",\"default\":\"\"},{\"name\":\"notification_type\",\"kind\":\"Any\",\"default\":null},{\"name\":\"_destroyed\",\"kind\":\"Any\",\"default\":false}]},{\"type\":\"model\",\"name\":\"TemplateActions1\",\"properties\":[{\"name\":\"open_modal\",\"kind\":\"Any\",\"default\":0},{\"name\":\"close_modal\",\"kind\":\"Any\",\"default\":0}]},{\"type\":\"model\",\"name\":\"BootstrapTemplateActions1\",\"properties\":[{\"name\":\"open_modal\",\"kind\":\"Any\",\"default\":0},{\"name\":\"close_modal\",\"kind\":\"Any\",\"default\":0}]},{\"type\":\"model\",\"name\":\"TemplateEditor1\",\"properties\":[{\"name\":\"layout\",\"kind\":\"Any\",\"default\":[]}]},{\"type\":\"model\",\"name\":\"MaterialTemplateActions1\",\"properties\":[{\"name\":\"open_modal\",\"kind\":\"Any\",\"default\":0},{\"name\":\"close_modal\",\"kind\":\"Any\",\"default\":0}]},{\"type\":\"model\",\"name\":\"copy_to_clipboard1\",\"properties\":[{\"name\":\"fill\",\"kind\":\"Any\",\"default\":\"none\"},{\"name\":\"value\",\"kind\":\"Any\",\"default\":null}]}]}};\n",
       "  var render_items = [{\"docid\":\"c20ea933-9bd3-4f9e-89d1-84ada92f70c9\",\"roots\":{\"p1128\":\"d8217c41-d3ca-4f62-9ba1-f4f265621389\"},\"root_ids\":[\"p1128\"]}];\n",
       "  var docs = Object.values(docs_json)\n",
       "  if (!docs) {\n",
       "    return\n",
       "  }\n",
       "  const py_version = docs[0].version.replace('rc', '-rc.').replace('.dev', '-dev.')\n",
       "  async function embed_document(root) {\n",
       "    var Bokeh = get_bokeh(root)\n",
       "    await Bokeh.embed.embed_items_notebook(docs_json, render_items);\n",
       "    for (const render_item of render_items) {\n",
       "      for (const root_id of render_item.root_ids) {\n",
       "\tconst id_el = document.getElementById(root_id)\n",
       "\tif (id_el.children.length && id_el.children[0].hasAttribute('data-root-id')) {\n",
       "\t  const root_el = id_el.children[0]\n",
       "\t  root_el.id = root_el.id + '-rendered'\n",
       "\t  for (const child of root_el.children) {\n",
       "            // Ensure JupyterLab does not capture keyboard shortcuts\n",
       "            // see: https://jupyterlab.readthedocs.io/en/4.1.x/extension/notebook.html#keyboard-interaction-model\n",
       "\t    child.setAttribute('data-lm-suppress-shortcuts', 'true')\n",
       "\t  }\n",
       "\t}\n",
       "      }\n",
       "    }\n",
       "  }\n",
       "  function get_bokeh(root) {\n",
       "    if (root.Bokeh === undefined) {\n",
       "      return null\n",
       "    } else if (root.Bokeh.version !== py_version) {\n",
       "      if (root.Bokeh.versions === undefined || !root.Bokeh.versions.has(py_version)) {\n",
       "\treturn null\n",
       "      }\n",
       "      return root.Bokeh.versions.get(py_version);\n",
       "    } else if (root.Bokeh.version === py_version) {\n",
       "      return root.Bokeh\n",
       "    }\n",
       "    return null\n",
       "  }\n",
       "  function is_loaded(root) {\n",
       "    var Bokeh = get_bokeh(root)\n",
       "    return (Bokeh != null && Bokeh.Panel !== undefined)\n",
       "  }\n",
       "  if (is_loaded(root)) {\n",
       "    embed_document(root);\n",
       "  } else {\n",
       "    var attempts = 0;\n",
       "    var timer = setInterval(function(root) {\n",
       "      if (is_loaded(root)) {\n",
       "        clearInterval(timer);\n",
       "        embed_document(root);\n",
       "      } else if (document.readyState == \"complete\") {\n",
       "        attempts++;\n",
       "        if (attempts > 200) {\n",
       "          clearInterval(timer);\n",
       "\t  var Bokeh = get_bokeh(root)\n",
       "\t  if (Bokeh == null || Bokeh.Panel == null) {\n",
       "            console.warn(\"Panel: ERROR: Unable to run Panel code because Bokeh or Panel library is missing\");\n",
       "\t  } else {\n",
       "\t    console.warn(\"Panel: WARNING: Attempting to render but not all required libraries could be resolved.\")\n",
       "\t    embed_document(root)\n",
       "\t  }\n",
       "        }\n",
       "      }\n",
       "    }, 25, root)\n",
       "  }\n",
       "})(window);</script>"
      ],
      "text/plain": [
       ":Overlay\n",
       "   .Curve.水位_colon_0日後   :Curve   [x]   (y)\n",
       "   .Curve.水位_colon_5日後   :Curve   [x]   (y)\n",
       "   .Curve.水位_colon_10日後  :Curve   [x]   (y)\n",
       "   .Curve.水位_colon_20日後  :Curve   [x]   (y)\n",
       "   .Curve.水位_colon_30日後  :Curve   [x]   (y)\n",
       "   .Curve.水位_colon_40日後  :Curve   [x]   (y)\n",
       "   .Curve.河床高_colon_0日後  :Curve   [x]   (y)\n",
       "   .Curve.河床高_colon_5日後  :Curve   [x]   (y)\n",
       "   .Curve.河床高_colon_10日後 :Curve   [x]   (y)\n",
       "   .Curve.河床高_colon_20日後 :Curve   [x]   (y)\n",
       "   .Curve.河床高_colon_30日後 :Curve   [x]   (y)\n",
       "   .Curve.河床高_colon_40日後 :Curve   [x]   (y)"
      ]
     },
     "execution_count": 10,
     "metadata": {
      "application/vnd.holoviews_exec.v0+json": {
       "id": "p1128"
      }
     },
     "output_type": "execute_result"
    }
   ],
   "source": [
    "\n",
    "lfig = []\n",
    "for i in range(len(hout)):\n",
    "    h = hout[i]\n",
    "    z = zbout[i]\n",
    "    g11 = hv.Curve((L, z[::-1]+h[::-1]), label=f'水位:{str(int(itime[i]*dt/3600/24))}日後').options(\n",
    "        color=cmap_list2[i])\n",
    "    lfig.append(g11)\n",
    "\n",
    "for i, z in enumerate(zbout):\n",
    "    g12 = hv.Curve((L, z[::-1]), label=f'河床高:{str(int(itime[i]*dt/3600/24))}日後').options(\n",
    "        color=cmap_list2[i], line_dash='dashed')\n",
    "    lfig.append(g12)\n",
    "\n",
    "g = hv.Overlay(lfig)\n",
    "g.options(show_grid=True,xlabel='Distance[m]',ylabel='Elevation[m]'\n",
    "    , width=800, height=600, title='bed elevation', legend_position='right')"
   ]
  }
 ],
 "metadata": {
  "kernelspec": {
   "display_name": "py312",
   "language": "python",
   "name": "python3"
  },
  "language_info": {
   "codemirror_mode": {
    "name": "ipython",
    "version": 3
   },
   "file_extension": ".py",
   "mimetype": "text/x-python",
   "name": "python",
   "nbconvert_exporter": "python",
   "pygments_lexer": "ipython3",
   "version": "3.12.3"
  }
 },
 "nbformat": 4,
 "nbformat_minor": 5
}
