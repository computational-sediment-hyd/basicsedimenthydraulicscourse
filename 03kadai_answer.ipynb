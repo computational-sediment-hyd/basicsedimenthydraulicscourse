{
 "cells": [
  {
   "cell_type": "markdown",
   "id": "3c7d572e",
   "metadata": {},
   "source": [
    "1. ダム堆砂の計算\n",
    "単位幅流量：5.0 $\\mathrm{m^2/s}$、マニングの粗度係数：0.02、河床勾配：1/700、延長10kmの水路において、下流端の***水位***を12mとして以下について検討せよ。\n",
    "\n",
    "   3. 上記2ケースおよび課題2の掃流砂の河床変動との比較を行い、堆砂形状の差について考察せよ。"
   ]
  },
  {
   "cell_type": "markdown",
   "id": "e2c406b6",
   "metadata": {},
   "source": [
    "A.掃流砂5mm、B.浮遊砂0.1mm、C.浮遊砂0.02mmの3ケースの計算結果を以下に列挙する。\n",
    "\n",
    " - 掃流砂Aと比べて浮遊砂B,Cの方が堆積速度が大きい。\n",
    " - 浮遊砂B,Cを比較すると、Cは流速低減域でもほとんど沈降しないため、下流端付近まで土砂が移動し、河床勾配に平行に堆積が進行する。\n",
    " - 掃流砂A、浮遊砂Bを比較すると、堆積形状の下流付近はAの方が急勾配となっている。"
   ]
  },
  {
   "cell_type": "markdown",
   "id": "3766f7a3",
   "metadata": {},
   "source": [
    "### A. 掃流砂:5mm"
   ]
  },
  {
   "cell_type": "markdown",
   "id": "ace33fdd",
   "metadata": {},
   "source": [
    "<div style=\"width:600px;height:450px;\">\n",
    "<div style=\"width:840px;\">\n",
    "<iframe src=\"https://computational-sediment-hyd.github.io/basicsedimenthydraulicscourse/dam_bedload5mm.html\"\n",
    "frameborder=\"0\" width=\"840\" height=\"630\" style=\"transform:scale(0.70); transform-origin: left top;\">\n",
    "</iframe></div></div>"
   ]
  },
  {
   "cell_type": "markdown",
   "id": "81ded66c",
   "metadata": {},
   "source": [
    "### B. 浮遊砂:0.1mm"
   ]
  },
  {
   "cell_type": "markdown",
   "id": "17f6f78f",
   "metadata": {},
   "source": [
    "<div style=\"width:600px;height:450px;\">\n",
    "<div style=\"width:840px;\">\n",
    "<iframe src=\"https://computational-sediment-hyd.github.io/basicsedimenthydraulicscourse/dam_suspendedload0.1mm.html\"\n",
    "frameborder=\"0\" width=\"840\" height=\"630\" style=\"transform:scale(0.70); transform-origin: left top;\">\n",
    "</iframe></div></div>"
   ]
  },
  {
   "cell_type": "markdown",
   "id": "55058b89",
   "metadata": {},
   "source": [
    "### C. 浮遊砂:0.02mm"
   ]
  },
  {
   "cell_type": "markdown",
   "id": "3694ca96",
   "metadata": {},
   "source": [
    "<div style=\"width:600px;height:450px;\">\n",
    "<div style=\"width:840px;\">\n",
    "<iframe src=\"https://computational-sediment-hyd.github.io/basicsedimenthydraulicscourse/dam_suspendedload0.02mm.html\"\n",
    "frameborder=\"0\" width=\"840\" height=\"630\" style=\"transform:scale(0.70); transform-origin: left top;\">\n",
    "</iframe></div></div>"
   ]
  }
 ],
 "metadata": {
  "kernelspec": {
   "display_name": "py312",
   "language": "python",
   "name": "python3"
  },
  "language_info": {
   "codemirror_mode": {
    "name": "ipython",
    "version": 3
   },
   "file_extension": ".py",
   "mimetype": "text/x-python",
   "name": "python",
   "nbconvert_exporter": "python",
   "pygments_lexer": "ipython3",
   "version": "3.12.3"
  }
 },
 "nbformat": 4,
 "nbformat_minor": 5
}
